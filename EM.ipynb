{
 "cells": [
  {
   "cell_type": "code",
   "execution_count": 1,
   "metadata": {
    "collapsed": true
   },
   "outputs": [],
   "source": [
    "# Ensure we inline plots\n",
    "%matplotlib inline\n",
    "\n",
    "# Imports\n",
    "import pandas\n",
    "import numpy as np \n",
    "import matplotlib.pyplot as plt\n",
    "import matplotlib.image as mpimg\n",
    "from scipy.misc import *\n",
    "from scipy.sparse import *\n",
    "import itertools"
   ]
  },
  {
   "cell_type": "markdown",
   "metadata": {},
   "source": [
    "## Data"
   ]
  },
  {
   "cell_type": "code",
   "execution_count": 2,
   "metadata": {
    "collapsed": false
   },
   "outputs": [],
   "source": [
    "# http://www.gbif.org/occurrence/search?TAXON_KEY=359&YEAR=2014#\n",
    "# This is data for all Mammals in 2014 across the whole planet\n",
    "#data = pandas.read_csv('Data/Mammalia_2014.csv', sep='\\t')\n",
    "\n",
    "# http://www.gbif.org/occurrence/search?TAXON_KEY=212&TAXON_KEY=8407975&TAXON_KEY=358&TAXON_KEY=359&COUNTRY=US&YEAR=2015#\n",
    "# This is data for all Mammals, Reptiles, Amphibians, and Birds for the US in the year 2015\n",
    "data = pandas.read_csv('Data/US_MAAR_2015.csv', sep='\\t')"
   ]
  },
  {
   "cell_type": "code",
   "execution_count": 3,
   "metadata": {
    "collapsed": false
   },
   "outputs": [
    {
     "data": {
      "text/html": [
       "<div>\n",
       "<table border=\"1\" class=\"dataframe\">\n",
       "  <thead>\n",
       "    <tr style=\"text-align: right;\">\n",
       "      <th></th>\n",
       "      <th>gbifid</th>\n",
       "      <th>datasetkey</th>\n",
       "      <th>occurrenceid</th>\n",
       "      <th>kingdom</th>\n",
       "      <th>phylum</th>\n",
       "      <th>class</th>\n",
       "      <th>order</th>\n",
       "      <th>family</th>\n",
       "      <th>genus</th>\n",
       "      <th>species</th>\n",
       "      <th>...</th>\n",
       "      <th>recordnumber</th>\n",
       "      <th>identifiedby</th>\n",
       "      <th>rights</th>\n",
       "      <th>rightsholder</th>\n",
       "      <th>recordedby</th>\n",
       "      <th>typestatus</th>\n",
       "      <th>establishmentmeans</th>\n",
       "      <th>lastinterpreted</th>\n",
       "      <th>mediatype</th>\n",
       "      <th>issue</th>\n",
       "    </tr>\n",
       "  </thead>\n",
       "  <tbody>\n",
       "    <tr>\n",
       "      <th>0</th>\n",
       "      <td>1088897477</td>\n",
       "      <td>50c9509d-22c7-4a22-a47d-8c48425ef4a7</td>\n",
       "      <td>http://www.inaturalist.org/observations/1179388</td>\n",
       "      <td>Animalia</td>\n",
       "      <td>Chordata</td>\n",
       "      <td>Aves</td>\n",
       "      <td>Charadriiformes</td>\n",
       "      <td>Laridae</td>\n",
       "      <td>Larus</td>\n",
       "      <td>Larus occidentalis</td>\n",
       "      <td>...</td>\n",
       "      <td>NaN</td>\n",
       "      <td>NaN</td>\n",
       "      <td>© asemerdj some rights reserved</td>\n",
       "      <td>asemerdj</td>\n",
       "      <td>asemerdj</td>\n",
       "      <td>NaN</td>\n",
       "      <td>NaN</td>\n",
       "      <td>2016-04-16T13:44Z</td>\n",
       "      <td>NaN</td>\n",
       "      <td>COORDINATE_ROUNDED;GEODETIC_DATUM_ASSUMED_WGS84</td>\n",
       "    </tr>\n",
       "    <tr>\n",
       "      <th>1</th>\n",
       "      <td>1088897966</td>\n",
       "      <td>50c9509d-22c7-4a22-a47d-8c48425ef4a7</td>\n",
       "      <td>http://www.inaturalist.org/observations/1202967</td>\n",
       "      <td>Animalia</td>\n",
       "      <td>Chordata</td>\n",
       "      <td>Aves</td>\n",
       "      <td>Accipitriformes</td>\n",
       "      <td>Accipitridae</td>\n",
       "      <td>Accipiter</td>\n",
       "      <td>Accipiter cooperii</td>\n",
       "      <td>...</td>\n",
       "      <td>NaN</td>\n",
       "      <td>NaN</td>\n",
       "      <td>© Judith Lopez Sikora some rights reserved</td>\n",
       "      <td>Judith Lopez Sikora</td>\n",
       "      <td>Judith Lopez Sikora</td>\n",
       "      <td>NaN</td>\n",
       "      <td>NaN</td>\n",
       "      <td>2016-04-16T09:52Z</td>\n",
       "      <td>STILLIMAGE</td>\n",
       "      <td>COORDINATE_ROUNDED;GEODETIC_DATUM_ASSUMED_WGS84</td>\n",
       "    </tr>\n",
       "    <tr>\n",
       "      <th>2</th>\n",
       "      <td>1088898290</td>\n",
       "      <td>50c9509d-22c7-4a22-a47d-8c48425ef4a7</td>\n",
       "      <td>http://www.inaturalist.org/observations/1219316</td>\n",
       "      <td>Animalia</td>\n",
       "      <td>Chordata</td>\n",
       "      <td>Aves</td>\n",
       "      <td>Anseriformes</td>\n",
       "      <td>Anatidae</td>\n",
       "      <td>Anas</td>\n",
       "      <td>Anas platyrhynchos</td>\n",
       "      <td>...</td>\n",
       "      <td>NaN</td>\n",
       "      <td>NaN</td>\n",
       "      <td>© hummer56 some rights reserved</td>\n",
       "      <td>hummer56</td>\n",
       "      <td>hummer56</td>\n",
       "      <td>NaN</td>\n",
       "      <td>NaN</td>\n",
       "      <td>2016-04-16T10:55Z</td>\n",
       "      <td>STILLIMAGE</td>\n",
       "      <td>COORDINATE_ROUNDED;GEODETIC_DATUM_ASSUMED_WGS84</td>\n",
       "    </tr>\n",
       "    <tr>\n",
       "      <th>3</th>\n",
       "      <td>1088898553</td>\n",
       "      <td>50c9509d-22c7-4a22-a47d-8c48425ef4a7</td>\n",
       "      <td>http://www.inaturalist.org/observations/1230163</td>\n",
       "      <td>Animalia</td>\n",
       "      <td>Chordata</td>\n",
       "      <td>Mammalia</td>\n",
       "      <td>Rodentia</td>\n",
       "      <td>Sciuridae</td>\n",
       "      <td>Sciurus</td>\n",
       "      <td>Sciurus carolinensis</td>\n",
       "      <td>...</td>\n",
       "      <td>NaN</td>\n",
       "      <td>NaN</td>\n",
       "      <td>by Scott Loarie no rights reserved</td>\n",
       "      <td>Scott Loarie</td>\n",
       "      <td>Scott Loarie</td>\n",
       "      <td>NaN</td>\n",
       "      <td>NaN</td>\n",
       "      <td>2016-04-17T11:45Z</td>\n",
       "      <td>NaN</td>\n",
       "      <td>COORDINATE_ROUNDED;GEODETIC_DATUM_ASSUMED_WGS84</td>\n",
       "    </tr>\n",
       "    <tr>\n",
       "      <th>4</th>\n",
       "      <td>1088898658</td>\n",
       "      <td>50c9509d-22c7-4a22-a47d-8c48425ef4a7</td>\n",
       "      <td>http://www.inaturalist.org/observations/1232050</td>\n",
       "      <td>Animalia</td>\n",
       "      <td>Chordata</td>\n",
       "      <td>Reptilia</td>\n",
       "      <td>Squamata</td>\n",
       "      <td>Phrynosomatidae</td>\n",
       "      <td>Sceloporus</td>\n",
       "      <td>Sceloporus olivaceus</td>\n",
       "      <td>...</td>\n",
       "      <td>NaN</td>\n",
       "      <td>NaN</td>\n",
       "      <td>© kg9239 some rights reserved</td>\n",
       "      <td>kg9239</td>\n",
       "      <td>kg9239</td>\n",
       "      <td>NaN</td>\n",
       "      <td>NaN</td>\n",
       "      <td>2016-04-17T11:55Z</td>\n",
       "      <td>STILLIMAGE</td>\n",
       "      <td>COORDINATE_ROUNDED;GEODETIC_DATUM_ASSUMED_WGS84</td>\n",
       "    </tr>\n",
       "  </tbody>\n",
       "</table>\n",
       "<p>5 rows × 44 columns</p>\n",
       "</div>"
      ],
      "text/plain": [
       "       gbifid                            datasetkey  \\\n",
       "0  1088897477  50c9509d-22c7-4a22-a47d-8c48425ef4a7   \n",
       "1  1088897966  50c9509d-22c7-4a22-a47d-8c48425ef4a7   \n",
       "2  1088898290  50c9509d-22c7-4a22-a47d-8c48425ef4a7   \n",
       "3  1088898553  50c9509d-22c7-4a22-a47d-8c48425ef4a7   \n",
       "4  1088898658  50c9509d-22c7-4a22-a47d-8c48425ef4a7   \n",
       "\n",
       "                                      occurrenceid   kingdom    phylum  \\\n",
       "0  http://www.inaturalist.org/observations/1179388  Animalia  Chordata   \n",
       "1  http://www.inaturalist.org/observations/1202967  Animalia  Chordata   \n",
       "2  http://www.inaturalist.org/observations/1219316  Animalia  Chordata   \n",
       "3  http://www.inaturalist.org/observations/1230163  Animalia  Chordata   \n",
       "4  http://www.inaturalist.org/observations/1232050  Animalia  Chordata   \n",
       "\n",
       "      class            order           family       genus  \\\n",
       "0      Aves  Charadriiformes          Laridae       Larus   \n",
       "1      Aves  Accipitriformes     Accipitridae   Accipiter   \n",
       "2      Aves     Anseriformes         Anatidae        Anas   \n",
       "3  Mammalia         Rodentia        Sciuridae     Sciurus   \n",
       "4  Reptilia         Squamata  Phrynosomatidae  Sceloporus   \n",
       "\n",
       "                species                       ...                         \\\n",
       "0    Larus occidentalis                       ...                          \n",
       "1    Accipiter cooperii                       ...                          \n",
       "2    Anas platyrhynchos                       ...                          \n",
       "3  Sciurus carolinensis                       ...                          \n",
       "4  Sceloporus olivaceus                       ...                          \n",
       "\n",
       "  recordnumber identifiedby                                      rights  \\\n",
       "0          NaN          NaN             © asemerdj some rights reserved   \n",
       "1          NaN          NaN  © Judith Lopez Sikora some rights reserved   \n",
       "2          NaN          NaN             © hummer56 some rights reserved   \n",
       "3          NaN          NaN          by Scott Loarie no rights reserved   \n",
       "4          NaN          NaN               © kg9239 some rights reserved   \n",
       "\n",
       "          rightsholder           recordedby typestatus  establishmentmeans  \\\n",
       "0             asemerdj             asemerdj        NaN                 NaN   \n",
       "1  Judith Lopez Sikora  Judith Lopez Sikora        NaN                 NaN   \n",
       "2             hummer56             hummer56        NaN                 NaN   \n",
       "3         Scott Loarie         Scott Loarie        NaN                 NaN   \n",
       "4               kg9239               kg9239        NaN                 NaN   \n",
       "\n",
       "     lastinterpreted   mediatype  \\\n",
       "0  2016-04-16T13:44Z         NaN   \n",
       "1  2016-04-16T09:52Z  STILLIMAGE   \n",
       "2  2016-04-16T10:55Z  STILLIMAGE   \n",
       "3  2016-04-17T11:45Z         NaN   \n",
       "4  2016-04-17T11:55Z  STILLIMAGE   \n",
       "\n",
       "                                             issue  \n",
       "0  COORDINATE_ROUNDED;GEODETIC_DATUM_ASSUMED_WGS84  \n",
       "1  COORDINATE_ROUNDED;GEODETIC_DATUM_ASSUMED_WGS84  \n",
       "2  COORDINATE_ROUNDED;GEODETIC_DATUM_ASSUMED_WGS84  \n",
       "3  COORDINATE_ROUNDED;GEODETIC_DATUM_ASSUMED_WGS84  \n",
       "4  COORDINATE_ROUNDED;GEODETIC_DATUM_ASSUMED_WGS84  \n",
       "\n",
       "[5 rows x 44 columns]"
      ]
     },
     "execution_count": 3,
     "metadata": {},
     "output_type": "execute_result"
    }
   ],
   "source": [
    "# Let's examine the data to ensure we've imported it correctly\n",
    "data.head()"
   ]
  },
  {
   "cell_type": "code",
   "execution_count": 4,
   "metadata": {
    "collapsed": false
   },
   "outputs": [
    {
     "data": {
      "text/html": [
       "<div>\n",
       "<table border=\"1\" class=\"dataframe\">\n",
       "  <thead>\n",
       "    <tr style=\"text-align: right;\">\n",
       "      <th></th>\n",
       "      <th>species</th>\n",
       "      <th>decimallatitude</th>\n",
       "      <th>decimallongitude</th>\n",
       "    </tr>\n",
       "  </thead>\n",
       "  <tbody>\n",
       "    <tr>\n",
       "      <th>0</th>\n",
       "      <td>Larus occidentalis</td>\n",
       "      <td>33.09001</td>\n",
       "      <td>-117.29457</td>\n",
       "    </tr>\n",
       "    <tr>\n",
       "      <th>1</th>\n",
       "      <td>Accipiter cooperii</td>\n",
       "      <td>32.88612</td>\n",
       "      <td>-97.28197</td>\n",
       "    </tr>\n",
       "    <tr>\n",
       "      <th>2</th>\n",
       "      <td>Anas platyrhynchos</td>\n",
       "      <td>37.25697</td>\n",
       "      <td>-115.15350</td>\n",
       "    </tr>\n",
       "    <tr>\n",
       "      <th>3</th>\n",
       "      <td>Sciurus carolinensis</td>\n",
       "      <td>37.32783</td>\n",
       "      <td>-121.89144</td>\n",
       "    </tr>\n",
       "    <tr>\n",
       "      <th>4</th>\n",
       "      <td>Sceloporus olivaceus</td>\n",
       "      <td>32.54739</td>\n",
       "      <td>-98.77572</td>\n",
       "    </tr>\n",
       "  </tbody>\n",
       "</table>\n",
       "</div>"
      ],
      "text/plain": [
       "                species  decimallatitude  decimallongitude\n",
       "0    Larus occidentalis         33.09001        -117.29457\n",
       "1    Accipiter cooperii         32.88612         -97.28197\n",
       "2    Anas platyrhynchos         37.25697        -115.15350\n",
       "3  Sciurus carolinensis         37.32783        -121.89144\n",
       "4  Sceloporus olivaceus         32.54739         -98.77572"
      ]
     },
     "execution_count": 4,
     "metadata": {},
     "output_type": "execute_result"
    }
   ],
   "source": [
    "# Create a subset data frame that just contains the columns that we need\n",
    "species_lat_longs = data[['species','decimallatitude','decimallongitude']]\n",
    "\n",
    "# Drop all NaNs\n",
    "species_lat_longs = species_lat_longs.dropna()\n",
    "\n",
    "# Examine the head of the data frame\n",
    "species_lat_longs.head()"
   ]
  },
  {
   "cell_type": "code",
   "execution_count": 5,
   "metadata": {
    "collapsed": false
   },
   "outputs": [
    {
     "name": "stdout",
     "output_type": "stream",
     "text": [
      "Found 1300 unique species in the dataset\n"
     ]
    }
   ],
   "source": [
    "species_array = species_lat_longs.species.unique()\n",
    "print \"Found %d unique species in the dataset\" % len(species_array)"
   ]
  },
  {
   "cell_type": "code",
   "execution_count": 6,
   "metadata": {
    "collapsed": false
   },
   "outputs": [],
   "source": [
    "# Create a species dictionary to lookup a species id by name\n",
    "species_dictionary = {}\n",
    "# Create a species lookup dictionary to lookup a species name by id\n",
    "species_lookup_dict = {}\n",
    "for i, s in enumerate(species_array):\n",
    "    species_dictionary[s] = i\n",
    "    species_lookup_dict[i] = s"
   ]
  },
  {
   "cell_type": "code",
   "execution_count": 7,
   "metadata": {
    "collapsed": false
   },
   "outputs": [],
   "source": [
    "# Create the 10.0 x 10.0 lat-long grid squares\n",
    "# Changing the size of the lat-long grid squares will have a large effect on the results\n",
    "lats = np.arange(-90, 91, 3)\n",
    "longs = np.arange(-180, 181, 3)"
   ]
  },
  {
   "cell_type": "code",
   "execution_count": 8,
   "metadata": {
    "collapsed": false
   },
   "outputs": [],
   "source": [
    "# Generate the grid\n",
    "grids = list(itertools.product(lats, longs))"
   ]
  },
  {
   "cell_type": "code",
   "execution_count": 9,
   "metadata": {
    "collapsed": false
   },
   "outputs": [
    {
     "name": "stdout",
     "output_type": "stream",
     "text": [
      "Using these lat-long settings, there are 7381 grid squares\n"
     ]
    }
   ],
   "source": [
    "num_grids = len(grids)\n",
    "print \"Using these lat-long settings, there are %d grid squares\" % num_grids"
   ]
  },
  {
   "cell_type": "code",
   "execution_count": 10,
   "metadata": {
    "collapsed": false
   },
   "outputs": [],
   "source": [
    "# Generate the grid indexes\n",
    "lat_ids = np.digitize(lats, lats)\n",
    "long_ids = np.digitize(longs, longs)\n",
    "\n",
    "grid_ids = list(itertools.product(lat_ids, long_ids))"
   ]
  },
  {
   "cell_type": "code",
   "execution_count": 11,
   "metadata": {
    "collapsed": true
   },
   "outputs": [],
   "source": [
    "def get_grid_id_from_lat_long(a_lat, a_long):\n",
    "    a_lat_id = np.digitize(a_lat, lats).item(0)\n",
    "    a_long_id = np.digitize(a_long, longs).item(0)\n",
    "    return grid_ids.index((a_lat_id, a_long_id))"
   ]
  },
  {
   "cell_type": "code",
   "execution_count": 12,
   "metadata": {
    "collapsed": false
   },
   "outputs": [],
   "source": [
    "grid_counts = np.zeros(len(grid_ids))\n",
    "species_counts = np.zeros(len(species_array))\n",
    "\n",
    "grid_species_count_dict = {}\n",
    "\n",
    "# Build up the grid species count dictionary\n",
    "for i in range(0, len(species_lat_longs)):\n",
    "    # Get the species id\n",
    "    species_id = species_dictionary[species_lat_longs.iloc[i,0]]\n",
    "    # Get the grid id\n",
    "    grid_id = get_grid_id_from_lat_long(species_lat_longs.iloc[i,1], species_lat_longs.iloc[i,2])\n",
    "\n",
    "    # Add one to the number of observations in this grid square\n",
    "    grid_counts[grid_id] += 1\n",
    "    # Add one to the number of observations of this species\n",
    "    species_counts[species_id] += 1\n",
    "    \n",
    "    if grid_id not in grid_species_count_dict:\n",
    "        grid_species_count_dict[grid_id] = {}\n",
    "    if species_id not in grid_species_count_dict[grid_id]:\n",
    "        grid_species_count_dict[grid_id][species_id] = 0\n",
    "    \n",
    "    grid_species_count_dict[grid_id][species_id] += 1"
   ]
  },
  {
   "cell_type": "code",
   "execution_count": 16,
   "metadata": {
    "collapsed": false
   },
   "outputs": [
    {
     "data": {
      "image/png": "[encoded data removed]",
      "text/plain": [
       "<matplotlib.figure.Figure at 0x10b6b8450>"
      ]
     },
     "metadata": {},
     "output_type": "display_data"
    }
   ],
   "source": [
    "# EDA\n",
    "\n",
    "# The number of species we want to plot\n",
    "top_num = 10\n",
    "\n",
    "# Let's take a moment to examine the breakdown of species\n",
    "top_species_ids = (-species_counts).argsort()[:top_num]\n",
    "top_species_counts = species_counts[top_species_ids]\n",
    "top_species_names = [species_lookup_dict[i] for i in top_species_ids]\n",
    "\n",
    "plt.figure(num=None, figsize=(8, 5), dpi=80, facecolor='w', edgecolor='k')\n",
    "plt.barh(range(0,top_num), top_species_counts, tick_label=top_species_names)\n",
    "plt.gca().invert_yaxis()\n",
    "plt.xlabel(\"Species Observations\")\n",
    "plt.title(\"Top %d Species Observation Counts\" % top_num)\n",
    "plt.show()"
   ]
  },
  {
   "cell_type": "markdown",
   "metadata": {},
   "source": [
    "As can be seen from these observations, the data in gbif.org is heavily skewed to species of scientific interest, rather than representing true population ratios.  For example, Sceloporus occidentalis (Western Fence Lizard) is the top observed species, while species such as squirrels, rabbits and sparrows are much further down.  Large birds (such as Egrets, Herons and Hawks) also appear to have a disproportionate influence on the data."
   ]
  },
  {
   "cell_type": "code",
   "execution_count": 14,
   "metadata": {
    "collapsed": false
   },
   "outputs": [],
   "source": [
    "# Convert the grid species count dictionary to an array of arrays\n",
    "\n",
    "# We want this to be in the following format:\n",
    "#    [[    1  4720     1], [    1  9775     4], [    1 19996     1]...]\n",
    "# Where each entry is an array of three elements, the first corresponding to the grid square id, \n",
    "# the second corresponding to the species id, and the third to the number of times that species\n",
    "# was observed in this particular grid square\n",
    "grid_species_counts = []\n",
    "\n",
    "for grid_id in grid_species_count_dict.keys():\n",
    "    for species_id in grid_species_count_dict[grid_id].keys():\n",
    "        grid_species_counts.append([grid_id, species_id, grid_species_count_dict[grid_id][species_id]])"
   ]
  },
  {
   "cell_type": "markdown",
   "metadata": {},
   "source": [
    "# EM"
   ]
  },
  {
   "cell_type": "code",
   "execution_count": 15,
   "metadata": {
    "collapsed": false
   },
   "outputs": [],
   "source": [
    "class LDA(object):\n",
    "\n",
    "    # Initializes with the number of topics\n",
    "    def __init__(self, species_lookup_dict, data, num_topics):\n",
    "        self.num_topics = num_topics\n",
    "        self.species_lookup_dict = species_lookup_dict\n",
    "        self.num_species = len(species_lookup_dict)\n",
    "        \n",
    "        counts = np.reshape(data[:,2], len(data)).tolist()[0]\n",
    "        grid_ids = np.reshape(data[:,0], len(data)).tolist()[0]\n",
    "        species_ids = np.reshape(data[:,1], len(data)).tolist()[0]\n",
    "                             \n",
    "        # Setup the species count matrix to keep track of which species have appeared \n",
    "        # in a particular lat-long grid square\n",
    "        W = csr_matrix((counts,(grid_ids, species_ids)),shape=(num_grids, self.num_species))\n",
    "\n",
    "        # Store the total number of observations in each lat-long grid square\n",
    "        N = csr_matrix.sum(W, axis=1).reshape([num_grids,1])\n",
    "            \n",
    "        self.W = W\n",
    "        self.N = N\n",
    "\n",
    "        # Run EM\n",
    "        self.run_EM()\n",
    "\n",
    "    def run_EM(self):\n",
    "        # Initialize our beliefs for theta and beta\n",
    "\n",
    "        # Theta will be generated from a uniform initial distribution\n",
    "        theta = np.random.rand(self.num_topics)\n",
    "        # Normalize theta\n",
    "        theta = theta / np.sum(theta)\n",
    "        theta = theta.reshape([self.num_topics, 1])\n",
    "\n",
    "        # Beta will be generated from a uniform normalized by column (species)\n",
    "        beta = np.random.rand(self.num_topics, self.num_species)\n",
    "        # Normalize Beta\n",
    "        beta_row_sums = beta.sum(axis=1)\n",
    "        beta = beta / beta_row_sums[:, np.newaxis]\n",
    "        beta = beta\n",
    "        self.lls = []\n",
    "        \n",
    "        self.smoothing = .0000001\n",
    "        \n",
    "        i = 0\n",
    "        # While the algorithm hasn't converged, run EM\n",
    "        while True:\n",
    "            print \"Iteration %d\" % i\n",
    "            i += 1\n",
    "            \n",
    "            # Run the E and M steps\n",
    "            Q = self.E_step(beta, theta)\n",
    "            beta, theta = self.M_step(Q)\n",
    "            \n",
    "            # Calculate the log-likelihood\n",
    "            ll = np.multiply(Q, np.add(np.log(theta.T+self.smoothing), self.W.dot(np.log(beta.T+self.smoothing))).T)\n",
    "            ll = np.sum(ll)\n",
    "            self.lls.append(ll)\n",
    "            self.Q = Q\n",
    "            self.beta = beta\n",
    "            self.theta = theta\n",
    "            \n",
    "            if i > 1:\n",
    "                if np.abs(self.lls[-1] - self.lls[-2]) < .1:\n",
    "                    print \"Converged!\"\n",
    "                    break\n",
    "\n",
    "        # Print the topics for this iteration\n",
    "        self.print_topics(10, beta)\n",
    "                    \n",
    "        self.plot_ll()\n",
    "\n",
    "    # This should run the E step of the EM algorithm\n",
    "    def E_step(self, beta, theta):\n",
    "        # Create the new expectation matrix Q (grid squares by topic probabilities)\n",
    "        Q = np.add(np.log(theta.T+self.smoothing), self.W.dot(np.log(beta.T+self.smoothing))).T\n",
    "        Q = np.subtract(Q, logsumexp(Q, axis=0))\n",
    "        # Exponentiate to move back to regular space\n",
    "        Q = np.exp(Q)\n",
    "        return Q\n",
    "        \n",
    "    # This should run the M step of the EM algorithm\n",
    "    def M_step(self, Q):\n",
    "        # Maximize Theta\n",
    "        theta = np.mean(Q, axis=1)\n",
    "        theta = theta.reshape([self.num_topics, 1])\n",
    "        self.theta = theta\n",
    "        \n",
    "        # Maximize Beta\n",
    "        beta = (self.W.T.dot(Q.T)).T/np.dot(Q, self.N)\n",
    "        self.beta = beta\n",
    "        return beta, theta\n",
    "\n",
    "    # This should print the top species per topic\n",
    "    def print_topics(self, num_species, beta):\n",
    "        print \"Top Species Per Topic\"\n",
    "        for k in range(self.num_topics):\n",
    "            a = np.array(beta[k])[0]\n",
    "            ind = np.argsort(a)[-num_species:]\n",
    "            species = []\n",
    "            for an_ind in ind:\n",
    "                species.append(self.species_lookup_dict[an_ind])\n",
    "            print \"Topic \", k, \" species: \", species\n",
    "            \n",
    "    def get_top_species_in_topic(self, num_species, species_name):\n",
    "\n",
    "        species_id = species_dictionary[species_name]\n",
    "        \n",
    "        # For this species, find the topic with the highest probability \n",
    "        # of this species occuring\n",
    "        topic_id = np.argmax(self.beta[:,species_id])\n",
    "        \n",
    "        a = np.array(self.beta[topic_id])[0]\n",
    "        ind = np.argsort(a)[-num_species:]\n",
    "        species = []\n",
    "        for an_ind in ind:\n",
    "            species.append(self.species_lookup_dict[an_ind])\n",
    "        return species\n",
    "            \n",
    "    def plot_ll(self):\n",
    "        plt.plot(range(len(self.lls)), self.lls)\n",
    "        plt.title(\"Log Likelihood per Iteration with %d topics\" % self.num_topics)\n",
    "        plt.xlabel(\"EM Iteration\")\n",
    "        plt.ylabel(\"Log Likelihood\")\n",
    "        #plt.savefig('ll_%d_topics.png' % self.num_topics)\n",
    "        plt.show()"
   ]
  },
  {
   "cell_type": "code",
   "execution_count": 16,
   "metadata": {
    "collapsed": false
   },
   "outputs": [
    {
     "name": "stdout",
     "output_type": "stream",
     "text": [
      "Iteration 0\n",
      "Iteration 1\n",
      "Iteration 2\n",
      "Iteration 3\n",
      "Iteration 4\n",
      "Iteration 5\n",
      "Iteration 6\n",
      "Iteration 7\n",
      "Iteration 8\n",
      "Iteration 9\n",
      "Iteration 10\n",
      "Iteration 11\n",
      "Iteration 12\n",
      "Iteration 13\n",
      "Iteration 14\n",
      "Iteration 15\n",
      "Iteration 16\n",
      "Iteration 17\n",
      "Iteration 18\n",
      "Iteration 19\n",
      "Iteration 20\n",
      "Iteration 21\n",
      "Iteration 22\n",
      "Iteration 23\n",
      "Iteration 24\n",
      "Iteration 25\n",
      "Iteration 26\n",
      "Iteration 27\n",
      "Iteration 28\n",
      "Iteration 29\n",
      "Iteration 30\n",
      "Iteration 31\n",
      "Iteration 32\n",
      "Iteration 33\n",
      "Iteration 34\n",
      "Iteration 35\n",
      "Iteration 36\n",
      "Converged!\n",
      "Top Species Per Topic\n",
      "Topic  0  species:  ['Passerella iliaca', 'Phoebastria nigripes', 'Alces americanus', 'Lemmus trimucronatus', 'Ovis canadensis', 'Cinclus mexicanus', 'Zonotrichia leucophrys', 'Tamiasciurus hudsonicus', 'Myodes rutilus', 'Microtus oeconomus']\n",
      "Topic  1  species:  ['Sciurus carolinensis', 'Buteo lineatus', 'Gallinula galeata', 'Ardea herodias', 'Ardea alba', 'Anhinga anhinga', 'Butorides virescens', 'Anolis carolinensis', 'Eudocimus albus', 'Alligator mississippiensis']\n",
      "Topic  2  species:  ['Mimus polyglottos', 'Zenaida macroura', 'Sialia sialis', 'Anas platyrhynchos', 'Melanerpes carolinus', 'Terrapene carolina', 'Odocoileus virginianus', 'Sciurus carolinensis', 'Turdus migratorius', 'Cardinalis cardinalis']\n",
      "Topic  3  species:  ['Sigmodon hispidus', 'Fratercula arctica', 'Turdus migratorius', 'Quiscalus mexicanus', 'Onychomys leucogaster', 'Chaetodipus hispidus', 'Neotoma micropus', 'Anas platyrhynchos', 'Phrynosoma cornutum', 'Dipodomys ordii']\n",
      "Topic  4  species:  ['Quiscalus quiscula', 'Neotoma mexicana', 'Streptopelia decaocto', 'Zenaida macroura', 'Haemorhous mexicanus', 'Passer domesticus', 'Turdus migratorius', 'Peromyscus maniculatus', 'Sciurus niger', 'Sylvilagus audubonii']\n",
      "Topic  5  species:  ['Dumetella carolinensis', 'Geothlypis trichas', 'Melospiza melodia', 'Sciurus carolinensis', 'Odocoileus virginianus', 'Branta canadensis', 'Cardinalis cardinalis', 'Turdus migratorius', 'Anas platyrhynchos', 'Crotalus atrox']\n",
      "Topic  6  species:  ['Agelaius phoeniceus', 'Buteo jamaicensis', 'Meleagris gallopavo', 'Ardea herodias', 'Odocoileus virginianus', 'Melospiza melodia', 'Turdus migratorius', 'Poecile atricapillus', 'Anas platyrhynchos', 'Branta canadensis']\n",
      "Topic  7  species:  ['Anas platyrhynchos', 'Zenaida macroura', 'Crotalus oreganus', 'Sayornis nigricans', 'Haemorhous mexicanus', 'Pituophis catenifer', 'Elgaria multicarinata', 'Uta stansburiana', 'Sciurus niger', 'Sceloporus occidentalis']\n",
      "Topic  8  species:  ['Cynomys ludovicianus', 'Buteo swainsoni', 'Pica hudsonia', 'Falco sparverius', 'Ovis canadensis', 'Antilocapra americana', 'Buteo jamaicensis', 'Meleagris gallopavo', 'Odocoileus hemionus', 'Acanthis hornemanni']\n",
      "Topic  9  species:  ['Pantherophis bairdi', 'Odocoileus virginianus', 'Salvadora grahamiae', 'Myodes rutilus', 'Coluber flagellum', 'Crotalus atrox', 'Thamnophis marcianus', 'Sorex cinereus', 'Phrynosoma cornutum', 'Gopherus berlandieri']\n",
      "Topic  10  species:  ['Terrapene carolina', 'Setophaga coronata', 'Branta canadensis', 'Turdus migratorius', 'Anas platyrhynchos', 'Anolis carolinensis', 'Pandion haliaetus', 'Ardea alba', 'Cardinalis cardinalis', 'Ardea herodias']\n",
      "Topic  11  species:  ['Procyon lotor', 'Canis latrans', 'Ursus americanus', 'Nasua narica', 'Peromyscus leucopus', 'Urocyon cinereoargenteus', 'Heloderma suspectum', 'Lynx rufus', 'Neotoma albigula', 'Peromyscus eremicus']\n",
      "Topic  12  species:  ['Turdus migratorius', 'Callipepla gambelii', 'Buteo swainsoni', 'Streptopelia decaocto', 'Bubo virginianus', 'Zenaida macroura', 'Columba livia', 'Passer domesticus', 'Buteo jamaicensis', 'Sylvilagus audubonii']\n",
      "Topic  13  species:  ['Branta sandvicensis', 'Spizella passerina', 'Turdus migratorius', 'Sialia sialis', 'Thamnophis ordinoides', 'Sciurus carolinensis', 'Phoca vitulina', 'Gavia immer', 'Terrapene carolina', 'Haliaeetus leucocephalus']\n",
      "Topic  14  species:  ['Picoides pubescens', 'Anas platyrhynchos', 'Melospiza melodia', 'Spinus tristis', 'Thamnophis sirtalis', 'Chrysemys picta', 'Branta canadensis', 'Ardea herodias', 'Odocoileus virginianus', 'Agelaius phoeniceus']\n",
      "Topic  15  species:  ['Aspidoscelis tigris', 'Cyanocitta stelleri', 'Junco hyemalis', 'Fulica americana', 'Corvus corax', 'Zonotrichia leucophrys', 'Peromyscus maniculatus', 'Odocoileus hemionus', 'Buteo jamaicensis', 'Uta stansburiana']\n",
      "Topic  16  species:  ['Odocoileus hemionus', 'Aphelocoma californica', 'Zonotrichia leucophrys', 'Ardea alba', 'Egretta thula', 'Ardea herodias', 'Sayornis nigricans', 'Buteo jamaicensis', 'Anas platyrhynchos', 'Sceloporus occidentalis']\n",
      "Topic  17  species:  ['Melanerpes carolinus', 'Egretta caerulea', 'Nyctanassa violacea', 'Arenaria interpres', 'Pandion haliaetus', 'Egretta thula', 'Alligator mississippiensis', 'Fregata magnificens', 'Eudocimus albus', 'Leucophaeus atricilla']\n",
      "Topic  18  species:  ['Rissa tridactyla', 'Sicalis flaveola', 'Xanthocephalus xanthocephalus', 'Branta sandvicensis', 'Ochotona princeps', 'Phelsuma laticauda', 'Lophura leucomelanos', 'Microtus oeconomus', 'Myodes rutilus', 'Vulpes lagopus']\n",
      "Topic  19  species:  ['Procyon lotor', 'Buteo jamaicensis', 'Ardea alba', 'Setophaga coronata', 'Ardea herodias', 'Sciurus niger', 'Anas platyrhynchos', 'Mimus polyglottos', 'Anolis carolinensis', 'Cardinalis cardinalis']\n"
     ]
    },
    {
     "data": {
      "image/png": "[encoded data removed]",
      "text/plain": [
       "<matplotlib.figure.Figure at 0x10594bb10>"
      ]
     },
     "metadata": {},
     "output_type": "display_data"
    }
   ],
   "source": [
    "EMClassifier = LDA(species_lookup_dict=species_lookup_dict, data=np.matrix(grid_species_counts), num_topics=20)"
   ]
  },
  {
   "cell_type": "markdown",
   "metadata": {},
   "source": [
    "# Results"
   ]
  },
  {
   "cell_type": "code",
   "execution_count": 17,
   "metadata": {
    "collapsed": false
   },
   "outputs": [
    {
     "name": "stdout",
     "output_type": "stream",
     "text": [
      "Observed deer 1285 times\n",
      "The observed deer in the US came from 7 unique species:\n",
      "['Cervus elaphus' 'Odocoileus virginianus' 'Odocoileus hemionus'\n",
      " 'Alces americanus' 'Rangifer tarandus' 'Axis axis' 'Cervus nippon']\n"
     ]
    }
   ],
   "source": [
    "# Now let's gather the names of all of the deer species\n",
    "deer_observations = data[data['family'] == 'Cervidae']\n",
    "print \"Observed deer %d times\" % len(deer_observations)\n",
    "deer_species = deer_observations['species'].dropna().unique()\n",
    "print \"The observed deer in the US came from %d unique species:\" % len(deer_species)\n",
    "print deer_species"
   ]
  },
  {
   "cell_type": "code",
   "execution_count": null,
   "metadata": {
    "collapsed": true
   },
   "outputs": [],
   "source": []
  },
  {
   "cell_type": "code",
   "execution_count": 18,
   "metadata": {
    "collapsed": false
   },
   "outputs": [
    {
     "name": "stdout",
     "output_type": "stream",
     "text": [
      "---------------------\n",
      "Deer Species: Cervus elaphus\n",
      "Most likely to co-occur:\n",
      "['Quiscalus quiscula', 'Neotoma mexicana', 'Streptopelia decaocto', 'Zenaida macroura', 'Haemorhous mexicanus', 'Passer domesticus', 'Turdus migratorius', 'Peromyscus maniculatus', 'Sciurus niger', 'Sylvilagus audubonii']\n",
      "---------------------\n",
      "Deer Species: Odocoileus virginianus\n",
      "Most likely to co-occur:\n",
      "['Picoides pubescens', 'Anas platyrhynchos', 'Melospiza melodia', 'Spinus tristis', 'Thamnophis sirtalis', 'Chrysemys picta', 'Branta canadensis', 'Ardea herodias', 'Odocoileus virginianus', 'Agelaius phoeniceus']\n",
      "---------------------\n",
      "Deer Species: Odocoileus hemionus\n",
      "Most likely to co-occur:\n",
      "['Cynomys ludovicianus', 'Buteo swainsoni', 'Pica hudsonia', 'Falco sparverius', 'Ovis canadensis', 'Antilocapra americana', 'Buteo jamaicensis', 'Meleagris gallopavo', 'Odocoileus hemionus', 'Acanthis hornemanni']\n",
      "---------------------\n",
      "Deer Species: Alces americanus\n",
      "Most likely to co-occur:\n",
      "['Passerella iliaca', 'Phoebastria nigripes', 'Alces americanus', 'Lemmus trimucronatus', 'Ovis canadensis', 'Cinclus mexicanus', 'Zonotrichia leucophrys', 'Tamiasciurus hudsonicus', 'Myodes rutilus', 'Microtus oeconomus']\n",
      "---------------------\n",
      "Deer Species: Rangifer tarandus\n",
      "Most likely to co-occur:\n",
      "['Rissa tridactyla', 'Sicalis flaveola', 'Xanthocephalus xanthocephalus', 'Branta sandvicensis', 'Ochotona princeps', 'Phelsuma laticauda', 'Lophura leucomelanos', 'Microtus oeconomus', 'Myodes rutilus', 'Vulpes lagopus']\n",
      "---------------------\n",
      "Deer Species: Axis axis\n",
      "Most likely to co-occur:\n",
      "['Procyon lotor', 'Buteo jamaicensis', 'Ardea alba', 'Setophaga coronata', 'Ardea herodias', 'Sciurus niger', 'Anas platyrhynchos', 'Mimus polyglottos', 'Anolis carolinensis', 'Cardinalis cardinalis']\n",
      "---------------------\n",
      "Deer Species: Cervus nippon\n",
      "Most likely to co-occur:\n",
      "['Terrapene carolina', 'Setophaga coronata', 'Branta canadensis', 'Turdus migratorius', 'Anas platyrhynchos', 'Anolis carolinensis', 'Pandion haliaetus', 'Ardea alba', 'Cardinalis cardinalis', 'Ardea herodias']\n"
     ]
    }
   ],
   "source": [
    "# Let's find the clusters that these deer belong to with the highest probability and \n",
    "# look at the other species that are clustered with them\n",
    "\n",
    "# Loop over each deer species\n",
    "for i in range(len(deer_species)):\n",
    "    deer_species_name = deer_species[i]\n",
    "    print \"---------------------\"\n",
    "    print \"Deer Species: %s\" % deer_species_name\n",
    "    print \"Most likely to co-occur:\"\n",
    "    print EMClassifier.get_top_species_in_topic(10, deer_species_name)"
   ]
  },
  {
   "cell_type": "code",
   "execution_count": null,
   "metadata": {
    "collapsed": true
   },
   "outputs": [],
   "source": []
  },
  {
   "cell_type": "code",
   "execution_count": null,
   "metadata": {
    "collapsed": true
   },
   "outputs": [],
   "source": []
  }
 ],
 "metadata": {
  "kernelspec": {
   "display_name": "Python 2",
   "language": "python",
   "name": "python2"
  },
  "language_info": {
   "codemirror_mode": {
    "name": "ipython",
    "version": 2
   },
   "file_extension": ".py",
   "mimetype": "text/x-python",
   "name": "python",
   "nbconvert_exporter": "python",
   "pygments_lexer": "ipython2",
   "version": "2.7.11"
  }
 },
 "nbformat": 4,
 "nbformat_minor": 0
}

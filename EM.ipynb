{
 "cells": [
  {
   "cell_type": "code",
   "execution_count": 203,
   "metadata": {
    "collapsed": true
   },
   "outputs": [],
   "source": [
    "%matplotlib inline\n",
    "\n",
    "# Imports\n",
    "import pandas\n",
    "import numpy as np \n",
    "import matplotlib.pyplot as plt\n",
    "import matplotlib.image as mpimg\n",
    "from scipy.misc import *\n",
    "from scipy.sparse import *\n",
    "import itertools"
   ]
  },
  {
   "cell_type": "markdown",
   "metadata": {},
   "source": [
    "## Data"
   ]
  },
  {
   "cell_type": "code",
   "execution_count": 4,
   "metadata": {
    "collapsed": false
   },
   "outputs": [],
   "source": [
    "# http://www.gbif.org/occurrence/search?TAXON_KEY=359&YEAR=2014#\n",
    "# This is data for all Mammals in 2014 across the whole planet\n",
    "mammals = pandas.read_csv('Data/Mammalia_2014.csv', sep='\\t')"
   ]
  },
  {
   "cell_type": "code",
   "execution_count": 33,
   "metadata": {
    "collapsed": false
   },
   "outputs": [
    {
     "data": {
      "text/html": [
       "<div>\n",
       "<table border=\"1\" class=\"dataframe\">\n",
       "  <thead>\n",
       "    <tr style=\"text-align: right;\">\n",
       "      <th></th>\n",
       "      <th>species</th>\n",
       "      <th>decimallatitude</th>\n",
       "      <th>decimallongitude</th>\n",
       "    </tr>\n",
       "  </thead>\n",
       "  <tbody>\n",
       "    <tr>\n",
       "      <th>1</th>\n",
       "      <td>Papio anubis</td>\n",
       "      <td>10.9333</td>\n",
       "      <td>1.1166</td>\n",
       "    </tr>\n",
       "    <tr>\n",
       "      <th>3</th>\n",
       "      <td>Vulpes pallida</td>\n",
       "      <td>10.9333</td>\n",
       "      <td>1.1166</td>\n",
       "    </tr>\n",
       "    <tr>\n",
       "      <th>4</th>\n",
       "      <td>Crocuta crocuta</td>\n",
       "      <td>12.0000</td>\n",
       "      <td>2.5833</td>\n",
       "    </tr>\n",
       "    <tr>\n",
       "      <th>5</th>\n",
       "      <td>Aonyx capensis</td>\n",
       "      <td>6.4833</td>\n",
       "      <td>2.5333</td>\n",
       "    </tr>\n",
       "    <tr>\n",
       "      <th>6</th>\n",
       "      <td>Papio anubis</td>\n",
       "      <td>9.0166</td>\n",
       "      <td>1.6666</td>\n",
       "    </tr>\n",
       "  </tbody>\n",
       "</table>\n",
       "</div>"
      ],
      "text/plain": [
       "           species  decimallatitude  decimallongitude\n",
       "1     Papio anubis          10.9333            1.1166\n",
       "3   Vulpes pallida          10.9333            1.1166\n",
       "4  Crocuta crocuta          12.0000            2.5833\n",
       "5   Aonyx capensis           6.4833            2.5333\n",
       "6     Papio anubis           9.0166            1.6666"
      ]
     },
     "execution_count": 33,
     "metadata": {},
     "output_type": "execute_result"
    }
   ],
   "source": [
    "# Create a subset data frame that just contains the columns that we need\n",
    "species_lat_longs = mammals[['species','decimallatitude','decimallongitude']]\n",
    "\n",
    "# Drop all NaNs\n",
    "species_lat_longs = species_lat_longs.dropna()\n",
    "\n",
    "# Examine the head of the data frame\n",
    "species_lat_longs.head()"
   ]
  },
  {
   "cell_type": "code",
   "execution_count": 119,
   "metadata": {
    "collapsed": false
   },
   "outputs": [
    {
     "name": "stdout",
     "output_type": "stream",
     "text": [
      "Found 1068 unique species in the dataset\n"
     ]
    }
   ],
   "source": [
    "species_array = species_lat_longs.species.unique()\n",
    "print \"Found %d unique species in the dataset\" % len(species_array)"
   ]
  },
  {
   "cell_type": "code",
   "execution_count": 196,
   "metadata": {
    "collapsed": false
   },
   "outputs": [],
   "source": [
    "# Create a species dictionary to lookup a species id by name\n",
    "species_dictionary = {}\n",
    "# Create a species lookup dictionary to lookup a species name by id\n",
    "species_lookup_dict = {}\n",
    "for i, s in enumerate(species_array):\n",
    "    species_dictionary[s] = i\n",
    "    species_lookup_dict[i] = s"
   ]
  },
  {
   "cell_type": "code",
   "execution_count": 207,
   "metadata": {
    "collapsed": false
   },
   "outputs": [],
   "source": [
    "# Create the 10.0 x 10.0 lat-long grid squares\n",
    "# Changing the size of the lat-long grid squares will have a large effect on the results\n",
    "lats = np.arange(-90, 100, 5)\n",
    "longs = np.arange(-180, 190, 5)"
   ]
  },
  {
   "cell_type": "code",
   "execution_count": 208,
   "metadata": {
    "collapsed": false
   },
   "outputs": [],
   "source": [
    "# Generate the grid\n",
    "grids = list(itertools.product(lats, longs))"
   ]
  },
  {
   "cell_type": "code",
   "execution_count": 209,
   "metadata": {
    "collapsed": false
   },
   "outputs": [
    {
     "name": "stdout",
     "output_type": "stream",
     "text": [
      "Using these lat-long settings, there are 2812 grid squares\n"
     ]
    }
   ],
   "source": [
    "num_grids = len(grids)\n",
    "print \"Using these lat-long settings, there are %d grid squares\" % num_grids"
   ]
  },
  {
   "cell_type": "code",
   "execution_count": 210,
   "metadata": {
    "collapsed": false
   },
   "outputs": [],
   "source": [
    "# Generate the grid indexes\n",
    "lat_ids = np.digitize(lats, lats)\n",
    "long_ids = np.digitize(longs, longs)\n",
    "\n",
    "grid_ids = list(itertools.product(lat_ids, long_ids))"
   ]
  },
  {
   "cell_type": "code",
   "execution_count": 211,
   "metadata": {
    "collapsed": true
   },
   "outputs": [],
   "source": [
    "def get_grid_id_from_lat_long(a_lat, a_long):\n",
    "    a_lat_id = np.digitize(a_lat, lats).item(0)\n",
    "    a_long_id = np.digitize(a_long, longs).item(0)\n",
    "    return grid_ids.index((a_lat_id, a_long_id))"
   ]
  },
  {
   "cell_type": "code",
   "execution_count": 212,
   "metadata": {
    "collapsed": false
   },
   "outputs": [],
   "source": [
    "grid_counts = np.zeros(len(grid_ids))\n",
    "species_counts = np.zeros(len(species_array))\n",
    "\n",
    "grid_species_count_dict = {}\n",
    "\n",
    "# Build up the grid species count dictionary\n",
    "for i in range(0, len(species_lat_longs)):\n",
    "    # Get the species id\n",
    "    species_id = species_dictionary[species_lat_longs.iloc[i,0]]\n",
    "    # Get the grid id\n",
    "    grid_id = get_grid_id_from_lat_long(species_lat_longs.iloc[i,1], species_lat_longs.iloc[i,2])\n",
    "\n",
    "    # Add one to the number of observations in this grid square\n",
    "    grid_counts[grid_id] += 1\n",
    "    # Add one to the number of observations of this species\n",
    "    species_counts[species_id] += 1\n",
    "    \n",
    "    if grid_id not in grid_species_count_dict:\n",
    "        grid_species_count_dict[grid_id] = {}\n",
    "    if species_id not in grid_species_count_dict[grid_id]:\n",
    "        grid_species_count_dict[grid_id][species_id] = 0\n",
    "    \n",
    "    grid_species_count_dict[grid_id][species_id] += 1"
   ]
  },
  {
   "cell_type": "code",
   "execution_count": 245,
   "metadata": {
    "collapsed": false
   },
   "outputs": [
    {
     "data": {
      "image/png": "[encoded data removed]",
      "text/plain": [
       "<matplotlib.figure.Figure at 0x11a198690>"
      ]
     },
     "metadata": {},
     "output_type": "display_data"
    }
   ],
   "source": [
    "# EDA\n",
    "\n",
    "# The number of species we want to plot\n",
    "top_num = 30\n",
    "\n",
    "# Let's take a moment to examine the breakdown of species\n",
    "top_species_ids = (-species_counts).argsort()[:top_num]\n",
    "top_species_counts = species_counts[top_species_ids]\n",
    "top_species_names = [species_lookup_dict[i] for i in top_species_ids]\n",
    "\n",
    "plt.figure(num=None, figsize=(10, 10), dpi=80, facecolor='w', edgecolor='k')\n",
    "plt.barh(range(0,top_num), top_species_counts, tick_label=top_species_names)\n",
    "plt.gca().invert_yaxis()\n",
    "plt.xlabel(\"Species Observations\")\n",
    "plt.title(\"Top %d Species Observation Counts\" % top_num)\n",
    "plt.show()"
   ]
  },
  {
   "cell_type": "markdown",
   "metadata": {},
   "source": [
    "As can be seen from these observations, the data in gbif.org is heavily skewed to species of scientific interest, rather than representing true population ratios.  For example, Gulo gulo, which is the scientific name for wolverines, is in the top 30 species in terms of observation counts, while its actual numbers in the wild, would place it much further down that list.  Bats also appear to have a disproportionate influence on the data, as several of the most observed mammals are bat species."
   ]
  },
  {
   "cell_type": "code",
   "execution_count": 213,
   "metadata": {
    "collapsed": false
   },
   "outputs": [],
   "source": [
    "# Convert the grid species count dictionary to an array of arrays\n",
    "\n",
    "# We want this to be in the following format:\n",
    "#    [[    1  4720     1], [    1  9775     4], [    1 19996     1]...]\n",
    "# Where each entry is an array of three elements, the first corresponding to the grid square id, \n",
    "# the second corresponding to the species id, and the third to the number of times that species\n",
    "# was observed in this particular grid square\n",
    "grid_species_counts = []\n",
    "\n",
    "for grid_id in grid_species_count_dict.keys():\n",
    "    for species_id in grid_species_count_dict[grid_id].keys():\n",
    "        grid_species_counts.append([grid_id, species_id, grid_species_count_dict[grid_id][species_id]])"
   ]
  },
  {
   "cell_type": "markdown",
   "metadata": {},
   "source": [
    "# EM"
   ]
  },
  {
   "cell_type": "code",
   "execution_count": 220,
   "metadata": {
    "collapsed": false
   },
   "outputs": [],
   "source": [
    "class LDA(object):\n",
    "\n",
    "    # Initializes with the number of topics\n",
    "    def __init__(self, species_lookup_dict, data, num_topics):\n",
    "        self.num_topics = num_topics\n",
    "        self.species_lookup_dict = species_lookup_dict\n",
    "        self.num_species = len(species_lookup_dict)\n",
    "        \n",
    "        counts = np.reshape(data[:,2], len(data)).tolist()[0]\n",
    "        doc_ids = np.reshape(data[:,0], len(data)).tolist()[0]\n",
    "        species_ids = np.reshape(data[:,1], len(data)).tolist()[0]\n",
    "                             \n",
    "        # Setup the word count matrix to keep track of which words appeared in a particular document\n",
    "        W = csr_matrix((counts,(doc_ids, species_ids)),shape=(num_grids, self.num_species))\n",
    "\n",
    "        # Store the total number of observations in each grid square\n",
    "        N = csr_matrix.sum(W, axis=1).reshape([num_grids,1])\n",
    "            \n",
    "        self.W = W\n",
    "        self.N = N\n",
    "\n",
    "        # Run EM\n",
    "        self.run_EM()\n",
    "\n",
    "    def run_EM(self):\n",
    "        # Initialize our beliefs for theta and beta\n",
    "\n",
    "        # Theta will be generated from a uniform initial distribution\n",
    "        theta = np.random.rand(self.num_topics)\n",
    "        # Normalize theta\n",
    "        theta = theta / np.sum(theta)\n",
    "        theta = theta.reshape([self.num_topics, 1])\n",
    "\n",
    "        # Beta will be generated from a uniform normalized by column (species)\n",
    "        beta = np.random.rand(self.num_topics, self.num_species)\n",
    "        # Normalize Beta\n",
    "        beta_row_sums = beta.sum(axis=1)\n",
    "        beta = beta / beta_row_sums[:, np.newaxis]\n",
    "        beta = beta\n",
    "        self.lls = []\n",
    "        \n",
    "        self.smoothing = .0000001\n",
    "        \n",
    "        i = 0\n",
    "        # While the algorithm hasn't converged, run EM\n",
    "        while True:\n",
    "            print \"Iteration %d\" % i\n",
    "            i += 1\n",
    "            \n",
    "            # Run the E and M steps\n",
    "            Q = self.E_step(beta, theta)\n",
    "            beta, theta = self.M_step(Q)\n",
    "            \n",
    "            # Calculate the log-likelihood\n",
    "            ll = np.multiply(Q, np.add(np.log(theta.T+self.smoothing), self.W.dot(np.log(beta.T+self.smoothing))).T)\n",
    "            ll = np.sum(ll)\n",
    "            self.lls.append(ll)\n",
    "            #print \"Log Likelihood\", ll\n",
    "            self.Q = Q\n",
    "            self.beta = beta\n",
    "            self.theta = theta\n",
    "            \n",
    "            if i > 1:\n",
    "                if np.abs(self.lls[-1] - self.lls[-2]) < .1:\n",
    "                    print \"Converged!\"\n",
    "                    break\n",
    "\n",
    "        # Print the topics for this iteration\n",
    "        self.print_topics(10, beta, theta)\n",
    "                    \n",
    "        self.plot_ll()\n",
    "\n",
    "    # This should run the E step of the EM algorithm\n",
    "    def E_step(self, beta, theta):\n",
    "        # Create the new expectation matrix Q (grid squares by topic probabilities)\n",
    "        Q = np.add(np.log(theta.T+self.smoothing), self.W.dot(np.log(beta.T+self.smoothing))).T\n",
    "        Q = np.subtract(Q, logsumexp(Q, axis=0))\n",
    "        # Exponentiate to move back to regular space\n",
    "        Q = np.exp(Q)\n",
    "        return Q\n",
    "        \n",
    "    # This should run the M step of the EM algorithm\n",
    "    def M_step(self, Q):\n",
    "        # Maximize Theta\n",
    "        theta = np.mean(Q, axis=1)\n",
    "        theta = theta.reshape([self.num_topics, 1])\n",
    "        self.theta = theta\n",
    "        \n",
    "        # Maximize Beta\n",
    "        beta = (self.W.T.dot(Q.T)).T/np.dot(Q, self.N)\n",
    "        self.beta = beta\n",
    "        return beta, theta\n",
    "\n",
    "    # This should print the top species per topic\n",
    "    def print_topics(self, num_species, beta, theta):\n",
    "        print \"Top Species Per Topic\"\n",
    "        for k in range(self.num_topics):\n",
    "            a = np.array(beta[k])[0]\n",
    "            ind = np.argsort(a)[-num_species:]\n",
    "            species = []\n",
    "            for an_ind in ind:\n",
    "                species.append(self.species_lookup_dict[an_ind])\n",
    "            print \"Topic \", k, \" species: \", species\n",
    "            \n",
    "    def plot_ll(self):\n",
    "        plt.plot(range(len(self.lls)), self.lls)\n",
    "        plt.title(\"Log Likelihood per Iteration with %d topics\" % self.num_topics)\n",
    "        plt.xlabel(\"EM Iteration\")\n",
    "        plt.ylabel(\"Log Likelihood\")\n",
    "        #plt.savefig('ll_%d_topics.png' % self.num_topics)\n",
    "        plt.show()"
   ]
  },
  {
   "cell_type": "code",
   "execution_count": 221,
   "metadata": {
    "collapsed": false
   },
   "outputs": [
    {
     "name": "stdout",
     "output_type": "stream",
     "text": [
      "Iteration 0\n",
      "Iteration 1\n",
      "Iteration 2\n",
      "Iteration 3\n",
      "Iteration 4\n",
      "Iteration 5\n",
      "Iteration 6\n",
      "Iteration 7\n",
      "Iteration 8\n",
      "Iteration 9\n",
      "Iteration 10\n",
      "Iteration 11\n",
      "Iteration 12\n",
      "Iteration 13\n",
      "Iteration 14\n",
      "Iteration 15\n",
      "Iteration 16\n",
      "Iteration 17\n",
      "Iteration 18\n",
      "Iteration 19\n",
      "Iteration 20\n",
      "Iteration 21\n",
      "Iteration 22\n",
      "Iteration 23\n",
      "Iteration 24\n",
      "Iteration 25\n",
      "Iteration 26\n",
      "Iteration 27\n",
      "Iteration 28\n",
      "Iteration 29\n",
      "Iteration 30\n",
      "Iteration 31\n",
      "Iteration 32\n",
      "Iteration 33\n",
      "Iteration 34\n",
      "Iteration 35\n",
      "Iteration 36\n",
      "Iteration 37\n",
      "Iteration 38\n",
      "Iteration 39\n",
      "Iteration 40\n",
      "Iteration 41\n",
      "Iteration 42\n",
      "Iteration 43\n",
      "Iteration 44\n",
      "Iteration 45\n",
      "Iteration 46\n",
      "Iteration 47\n",
      "Iteration 48\n",
      "Iteration 49\n",
      "Iteration 50\n",
      "Iteration 51\n",
      "Iteration 52\n",
      "Iteration 53\n",
      "Iteration 54\n",
      "Iteration 55\n",
      "Iteration 56\n",
      "Iteration 57\n",
      "Iteration 58\n",
      "Iteration 59\n",
      "Iteration 60\n",
      "Iteration 61\n",
      "Iteration 62\n",
      "Iteration 63\n",
      "Iteration 64\n",
      "Iteration 65\n",
      "Iteration 66\n",
      "Iteration 67\n",
      "Iteration 68\n",
      "Iteration 69\n",
      "Converged!\n",
      "Top Species Per Topic\n",
      "Topic  0  species:  ['Felis catus', 'Vulpes vulpes', 'Alces alces', 'Lynx lynx', 'Capreolus capreolus', 'Ursus arctos', 'Gulo gulo', 'Lutra lutra', 'Canis lupus', 'Sciurus vulgaris']\n",
      "Topic  1  species:  ['Ursus americanus', 'Sciurus colliaei', 'Urocitellus parryii', 'Lepus americanus', 'Microtus oeconomus', 'Alces americanus', 'Odocoileus virginianus', 'Sorex cinereus', 'Tamiasciurus hudsonicus', 'Myodes rutilus']\n",
      "Topic  2  species:  ['Mus setulosus', 'Mastomys natalensis', 'Marmota caligata', 'Thryonomys swinderianus', 'Cricetomys gambianus', 'Taphozous mauritianus', 'Gerbilliscus guineae', 'Haplonycteris fischeri', 'Lemniscomys striatus', 'Rousettus amplexicaudatus']\n",
      "Topic  3  species:  ['Petauroides volans', 'Oryctolagus cuniculus', 'Wallabia bicolor', 'Petaurus australis', 'Vulpes vulpes', 'Petaurus breviceps', 'Trichosurus vulpecula', 'Capra nubiana', 'Antechinus stuartii', 'Phascolarctos cinereus']\n",
      "Topic  4  species:  ['Histriophoca fasciata', 'Trichechus manatus', 'Saimiri cassiquiarensis', 'Sciurus carolinensis', 'Macropus fuliginosus', 'Procyon lotor', 'Odobenus rosmarus', 'Erignathus barbatus', 'Pusa hispida', 'Phoca largha']\n",
      "Topic  5  species:  ['Ningaui yvonneae', 'Giraffa camelopardalis', 'Gulo gulo', 'Loxodonta africana', 'Tamiasciurus hudsonicus', 'Panthera leo', 'Peromyscus maniculatus', 'Sorex cinereus', 'Myodes rutilus', 'Urocitellus parryii']\n",
      "Topic  6  species:  ['Pipistrellus pygmaeus', 'Phocoena phocoena', 'Phoca vitulina', 'Erinaceus europaeus', 'Lepus europaeus', 'Alces alces', 'Vulpes vulpes', 'Lutra lutra', 'Sciurus vulgaris', 'Capreolus capreolus']\n",
      "Topic  7  species:  ['Phacochoerus africanus', 'Oryctolagus cuniculus', 'Cerdocyon thous', 'Mirounga leonina', 'Ceratotherium simum', 'Hippopotamus amphibius', 'Epomophorus gambianus', 'Felis catus', 'Tadarida teniotis', 'Eidolon helvum']\n",
      "Topic  8  species:  ['Sorex cinereus', 'Globicephala melas', 'Balaenoptera physalus', 'Tamiasciurus hudsonicus', 'Tursiops truncatus', 'Phocoena phocoena', 'Megaptera novaeangliae', 'Neovison vison', 'Balaenoptera acutorostrata', 'Delphinus delphis']\n",
      "Topic  9  species:  ['Oryctolagus cuniculus', 'Capra hircus', 'Antilocapra americana', 'Macaca fascicularis', 'Bos taurus', 'Ondatra zibethicus', 'Sciurus niger', 'Ovis canadensis', 'Cynomys ludovicianus', 'Sylvilagus audubonii']\n",
      "Topic  10  species:  ['Rhinolophus hipposideros', 'Vulpes vulpes', 'Delphinus delphis', 'Meles meles', 'Phocoena phocoena', 'Lutra lutra', 'Nyctalus leisleri', 'Pipistrellus pygmaeus', 'Pipistrellus pipistrellus', 'Myotis daubentonii']\n",
      "Topic  11  species:  ['Cervus elaphus', 'Callospermophilus lateralis', 'Sorex tundrensis', 'Microtus oeconomus', 'Sciurus niger', 'Peromyscus maniculatus', 'Sylvilagus audubonii', 'Myotis lucifugus', 'Sorex cinereus', 'Myodes rutilus']\n",
      "Topic  12  species:  ['Canis latrans', 'Lemniscomys striatus', 'Blarina brevicauda', 'Sciurus carolinensis', 'Otospermophilus beecheyi', 'Phoca vitulina', 'Enhydra lutris', 'Zalophus californianus', 'Sciurus niger', 'Odocoileus hemionus']\n",
      "Topic  13  species:  ['Canis lupus', 'Sorex cinereus', 'Lepus americanus', 'Tamiasciurus hudsonicus', 'Zapus hudsonius', 'Blarina brevicauda', 'Tamias striatus', 'Microtus pennsylvanicus', 'Peromyscus maniculatus', 'Myodes gapperi']\n",
      "Topic  14  species:  ['Sylvilagus floridanus', 'Myotis lucifugus', 'Sus scrofa', 'Felis silvestris', 'Hystrix indica', 'Odocoileus virginianus', 'Sciurus carolinensis', 'Vulpes vulpes', 'Canis aureus', 'Gazella gazella']\n",
      "Topic  15  species:  ['Canis latrans', 'Zalophus wollebaeki', 'Otospermophilus variegatus', 'Ursus americanus', 'Homo sapiens', 'Antilocapra americana', 'Marmota caligata', 'Phoca vitulina', 'Odocoileus hemionus', 'Ovis canadensis']\n",
      "Topic  16  species:  ['Cervus elaphus', 'Lepus timidus', 'Vulpes vulpes', 'Alces alces', 'Lutra lutra', 'Capreolus capreolus', 'Ovibos moschatus', 'Sciurus vulgaris', 'Lynx lynx', 'Gulo gulo']\n",
      "Topic  17  species:  ['Sciurus variegatoides', 'Cebus capucinus', 'Ateles geoffroyi', 'Alouatta palliata', 'Otospermophilus variegatus', 'Didelphis virginiana', 'Odocoileus virginianus', 'Romerolagus diazi', 'Nasua narica', 'Sciurus aureogaster']\n",
      "Topic  18  species:  ['Mephitis mephitis', 'Erinaceus europaeus', 'Dasypus novemcinctus', 'Lynx rufus', 'Canis latrans', 'Chaetodipus hispidus', 'Procyon lotor', 'Sciurus niger', 'Peromyscus leucopus', 'Odocoileus virginianus']\n",
      "Topic  19  species:  ['Talpa europaea', 'Myocastor coypus', 'Sus scrofa', 'Pipistrellus pipistrellus', 'Castor fiber', 'Oryctolagus cuniculus', 'Vulpes vulpes', 'Sciurus vulgaris', 'Lepus europaeus', 'Capreolus capreolus']\n"
     ]
    },
    {
     "data": {
      "image/png": "[encoded data removed]",
      "text/plain": [
       "<matplotlib.figure.Figure at 0x10f8fc210>"
      ]
     },
     "metadata": {},
     "output_type": "display_data"
    }
   ],
   "source": [
    "LDAClassifier = LDA(species_lookup_dict=species_lookup_dict, data=np.matrix(grid_species_counts), num_topics=20)"
   ]
  },
  {
   "cell_type": "markdown",
   "metadata": {},
   "source": [
    "# Results"
   ]
  },
  {
   "cell_type": "code",
   "execution_count": null,
   "metadata": {
    "collapsed": true
   },
   "outputs": [],
   "source": []
  }
 ],
 "metadata": {
  "kernelspec": {
   "display_name": "Python 2",
   "language": "python",
   "name": "python2"
  },
  "language_info": {
   "codemirror_mode": {
    "name": "ipython",
    "version": 2
   },
   "file_extension": ".py",
   "mimetype": "text/x-python",
   "name": "python",
   "nbconvert_exporter": "python",
   "pygments_lexer": "ipython2",
   "version": "2.7.11"
  }
 },
 "nbformat": 4,
 "nbformat_minor": 0
}

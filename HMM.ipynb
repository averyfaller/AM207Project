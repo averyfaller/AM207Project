{
 "cells": [
  {
   "cell_type": "markdown",
   "metadata": {},
   "source": [
    "## Hidden Markov Model\n",
    "In this section of our project we are trying to estimate the number of animal of a certain specie basing ourselves on observations of this specie. We are specifically focusing on deer but if the method reveals to be efficient, we can generalize our results to any specie.\n",
    "\n",
    "It is important to note that by looking at counts from different years, we found that there are more data points as years go on. We have theorized that this may be due to scientists using the gbif website to record more as they may have found this site to be more useful, and also due to the fact that it has become much more easier in the past ten years to record data that it was in the nineties."
   ]
  },
  {
   "cell_type": "code",
   "execution_count": 515,
   "metadata": {
    "collapsed": true
   },
   "outputs": [],
   "source": [
    "%matplotlib inline\n",
    "\n",
    "# Imports\n",
    "import pandas as pd\n",
    "import numpy as np \n",
    "import matplotlib.pyplot as plt\n",
    "import matplotlib.image as mpimg\n",
    "from scipy.misc import *\n",
    "from scipy.sparse import *\n",
    "import itertools"
   ]
  },
  {
   "cell_type": "code",
   "execution_count": 517,
   "metadata": {
    "collapsed": false
   },
   "outputs": [],
   "source": [
    "# http://www.gbif.org/occurrence/search?TAXON_KEY=359&YEAR=2014#\n",
    "# This is data for all Mammals in 2014 across the whole planet\n",
    "mammals = pandas.read_csv('/Users/macuser/Desktop/Mammalia_US_to2015.csv', sep='\\t', usecols=['year','species'], nrows=500000)\n"
   ]
  },
  {
   "cell_type": "code",
   "execution_count": 518,
   "metadata": {
    "collapsed": false
   },
   "outputs": [
    {
     "data": {
      "text/html": [
       "<div>\n",
       "<table border=\"1\" class=\"dataframe\">\n",
       "  <thead>\n",
       "    <tr style=\"text-align: right;\">\n",
       "      <th></th>\n",
       "      <th>species</th>\n",
       "      <th>year</th>\n",
       "    </tr>\n",
       "  </thead>\n",
       "  <tbody>\n",
       "    <tr>\n",
       "      <th>0</th>\n",
       "      <td>Procyon lotor</td>\n",
       "      <td>2014</td>\n",
       "    </tr>\n",
       "    <tr>\n",
       "      <th>1</th>\n",
       "      <td>Zalophus californianus</td>\n",
       "      <td>2014</td>\n",
       "    </tr>\n",
       "    <tr>\n",
       "      <th>2</th>\n",
       "      <td>Vulpes vulpes</td>\n",
       "      <td>2014</td>\n",
       "    </tr>\n",
       "    <tr>\n",
       "      <th>3</th>\n",
       "      <td>Odocoileus hemionus</td>\n",
       "      <td>2014</td>\n",
       "    </tr>\n",
       "    <tr>\n",
       "      <th>4</th>\n",
       "      <td>Lepus californicus</td>\n",
       "      <td>2014</td>\n",
       "    </tr>\n",
       "  </tbody>\n",
       "</table>\n",
       "</div>"
      ],
      "text/plain": [
       "                  species  year\n",
       "0           Procyon lotor  2014\n",
       "1  Zalophus californianus  2014\n",
       "2           Vulpes vulpes  2014\n",
       "3     Odocoileus hemionus  2014\n",
       "4      Lepus californicus  2014"
      ]
     },
     "execution_count": 518,
     "metadata": {},
     "output_type": "execute_result"
    }
   ],
   "source": [
    "mammals.head()"
   ]
  },
  {
   "cell_type": "code",
   "execution_count": 521,
   "metadata": {
    "collapsed": false
   },
   "outputs": [
    {
     "data": {
      "text/plain": [
       "array(['gbifid', 'datasetkey', 'occurrenceid', 'kingdom', 'phylum',\n",
       "       'class', 'order', 'family', 'genus', 'species',\n",
       "       'infraspecificepithet', 'taxonrank', 'scientificname',\n",
       "       'countrycode', 'locality', 'publishingorgkey', 'decimallatitude',\n",
       "       'decimallongitude', 'coordinateuncertaintyinmeters',\n",
       "       'coordinateprecision', 'elevation', 'elevationaccuracy', 'depth',\n",
       "       'depthaccuracy', 'eventdate', 'day', 'month', 'year', 'taxonkey',\n",
       "       'specieskey', 'basisofrecord', 'institutioncode', 'collectioncode',\n",
       "       'catalognumber', 'recordnumber', 'identifiedby', 'rights',\n",
       "       'rightsholder', 'recordedby', 'typestatus', 'establishmentmeans',\n",
       "       'lastinterpreted', 'mediatype', 'issue'], dtype=object)"
      ]
     },
     "execution_count": 521,
     "metadata": {},
     "output_type": "execute_result"
    }
   ],
   "source": [
    "deer=pd.read_csv('/Users/macuser/Desktop/Jupyter/AM207/AM207Project/Data/Deer_2015.csv', sep='\\t')\n",
    "deer.columns.values"
   ]
  },
  {
   "cell_type": "code",
   "execution_count": 522,
   "metadata": {
    "collapsed": false
   },
   "outputs": [],
   "source": [
    "# Create a subset data frame that just contains the columns that we need\n",
    "occurences_mammals = mammals['year'].value_counts()\n",
    "occurences = deer[deer.year>=1991]\n",
    "occurences_deer=occurences['year'].value_counts()\n"
   ]
  },
  {
   "cell_type": "code",
   "execution_count": 523,
   "metadata": {
    "collapsed": false
   },
   "outputs": [
    {
     "name": "stdout",
     "output_type": "stream",
     "text": [
      "2015    1285\n",
      "2014     985\n",
      "2013     786\n",
      "2012     543\n",
      "2003     337\n",
      "2011     289\n",
      "1999     264\n",
      "2009     251\n",
      "2010     237\n",
      "1995     227\n",
      "1998     217\n",
      "1991     198\n",
      "2007     173\n",
      "1992     168\n",
      "2006     167\n",
      "2004     121\n",
      "1994     119\n",
      "1996     104\n",
      "2002      98\n",
      "2001      87\n",
      "2008      84\n",
      "2000      71\n",
      "1993      70\n",
      "1997      61\n",
      "2005      54\n",
      "dtype: int64\n"
     ]
    }
   ],
   "source": [
    "print occurences_deer"
   ]
  },
  {
   "cell_type": "code",
   "execution_count": 524,
   "metadata": {
    "collapsed": false
   },
   "outputs": [
    {
     "data": {
      "text/plain": [
       "array([ 0.86614173,  0.54165592,  0.24145424,  0.30242192,  0.73857166,\n",
       "        0.29956505,  0.25768841,  0.78492368,  1.08499096,  0.32609195,\n",
       "        0.38368247,  0.37480399,  1.55751722,  0.60755172,  0.33047736,\n",
       "        1.16750559,  1.37892555,  0.90177134,  2.17391304,  2.39393939,\n",
       "        2.46692275,  6.0166205 ,  7.25226056,  8.64110887])"
      ]
     },
     "execution_count": 524,
     "metadata": {},
     "output_type": "execute_result"
    }
   ],
   "source": [
    "deer_obs=[198.,168.,70.,119.,227.,104.,61.,217.,264.,71.,87.,98.,337.,121.,54.,167.,173.,84.,251.,237.,289.,543.,786.,\\\n",
    "          985.]\n",
    "mammal_obs=[22860,31016,28991,39349,30735, 34717,23672,27646,24332,21773,22675,26147,21637,19916,16340,14304,12546,\\\n",
    "           9315,11546,9900,11715,9025,10838,11399]\n",
    "\n",
    "# What percentages are the deer observations out of all mammals\n",
    "percentage=np.divide(deer_obs,mammal_obs)*100\n",
    "percentage\n"
   ]
  },
  {
   "cell_type": "markdown",
   "metadata": {},
   "source": [
    "As the number of deer observations increases in the past few years (since 2005, although the actual number of deer is decreasing) we normalize the data counts using the average number of mammals observation over the years.\n",
    "Indeed, we assume the number of observed mammal should be the same over the years and use that ratio (average observation of mammals divided by observations on that year) as a factor to normalize the observations of deer."
   ]
  },
  {
   "cell_type": "code",
   "execution_count": 525,
   "metadata": {
    "collapsed": false
   },
   "outputs": [
    {
     "data": {
      "text/plain": [
       "array([ 0.89748104,  0.66147848,  0.70768227,  0.52139614,  0.66752616,\n",
       "        0.59096168,  0.86669553,  0.74211158,  0.84318661,  0.94228708,\n",
       "        0.90480338,  0.78465662,  0.94820986,  1.03014745,  1.25559466,\n",
       "        1.43431325,  1.63529545,  2.20251387,  1.77692852,  2.07236532,\n",
       "        1.75129464,  2.27328717,  1.89300763,  1.79984355])"
      ]
     },
     "execution_count": 525,
     "metadata": {},
     "output_type": "execute_result"
    }
   ],
   "source": [
    "# Normalize by the relative number of observations\n",
    "average_norm=np.divide(float(np.sum(mammal_obs))/len(mammal_obs),mammal_obs)\n",
    "average_norm"
   ]
  },
  {
   "cell_type": "code",
   "execution_count": 526,
   "metadata": {
    "collapsed": false
   },
   "outputs": [
    {
     "data": {
      "text/plain": [
       "array([  177.70124672,   111.12838535,    49.53775884,    62.04614052,\n",
       "         151.52843935,    61.46001479,    52.86842754,   161.03821228,\n",
       "         222.60126582,    66.90238292,    78.71789416,    76.89634885,\n",
       "         319.54672167,   124.64784177,    67.80211138,   239.53031203,\n",
       "         282.90611217,   185.01116479,   446.00905797,   491.15058081,\n",
       "         506.12414995,  1234.39493075,  1487.9039952 ,  1772.84590023])"
      ]
     },
     "execution_count": 526,
     "metadata": {},
     "output_type": "execute_result"
    }
   ],
   "source": [
    "# Deer represent approximately in percentages 1.7121 % of the mammals observations\n",
    "norm_obs=np.multiply(average_norm,deer_obs)\n",
    "norm_obs"
   ]
  },
  {
   "cell_type": "code",
   "execution_count": 527,
   "metadata": {
    "collapsed": false
   },
   "outputs": [
    {
     "data": {
      "text/plain": [
       "array([ 1991.,  1992.,  1993.,  1994.,  1995.,  1996.,  1997.,  1998.,\n",
       "        1999.,  2000.,  2001.,  2002.,  2003.,  2004.,  2005.,  2006.,\n",
       "        2007.,  2008.,  2009.,  2010.,  2011.,  2012.,  2013.,  2014.])"
      ]
     },
     "execution_count": 527,
     "metadata": {},
     "output_type": "execute_result"
    }
   ],
   "source": [
    "years=np.linspace(1991,2014,24)\n",
    "years"
   ]
  },
  {
   "cell_type": "code",
   "execution_count": 528,
   "metadata": {
    "collapsed": true
   },
   "outputs": [],
   "source": [
    "## Actual estimated deer number US: http://www.deerfriendly.com/decline-of-deer-populations"
   ]
  },
  {
   "cell_type": "code",
   "execution_count": 529,
   "metadata": {
    "collapsed": false
   },
   "outputs": [],
   "source": [
    "# In Millions\n",
    "actual_deer=[35.5, 35.75, 36., 36.2, 36.5, 36.8, 37.1, 37.4, 37.7, 38.1, 37.85, 37.5, 37.1, 36.8, 36.4, 36.1, 35.75,\\\n",
    "             35.4, 35., 34.6, 34.2, 33.8, 33.5, 33.2]\n",
    "act_deer=np.multiply(actual_deer,10**6)"
   ]
  },
  {
   "cell_type": "code",
   "execution_count": 530,
   "metadata": {
    "collapsed": false
   },
   "outputs": [
    {
     "name": "stdout",
     "output_type": "stream",
     "text": [
      "[  5.00566892   3.1084863    1.37604886   1.71398178   4.15146409\n",
      "   1.6701091    1.425025     4.30583455   5.90454286   1.75596806\n",
      "   2.079733     2.0505693    8.61311918   3.38716961   1.86269537\n",
      "   6.6351887    7.91345768   5.22630409  12.74311594  14.19510349\n",
      "  14.79895175  36.52056008  44.41504463  53.3989729 ]\n"
     ]
    },
    {
     "data": {
      "text/plain": [
       "array([  1.,   4.,   7.,  10.,  13.,  16.,  37.,  46.,  55.])"
      ]
     },
     "execution_count": 530,
     "metadata": {},
     "output_type": "execute_result"
    }
   ],
   "source": [
    "ratio=np.divide(norm_obs,actual_deer)  \n",
    "# This has to be divided by 10^6 but for simplicity purposes, I will keep it this way\n",
    "print ratio\n",
    "discretized_r=np.linspace(1,55,19)\n",
    "\n",
    "discrete_ratio=np.zeros(len(actual_deer))\n",
    "for i in range(len(ratio)):\n",
    "    for j in range(len(discretized_r)-1):\n",
    "        if ratio[i]>discretized_r[j] and ratio[i]<discretized_r[j]+0.5:\n",
    "            discrete_ratio[i]=discretized_r[j]\n",
    "        elif ratio[i]<discretized_r[j+1] and ratio[i]>=discretized_r[j]+0.5:\n",
    "            discrete_ratio[i]=discretized_r[j+1]\n",
    "        elif ratio[i]==discretized_r[j]:\n",
    "            discrete_ratio[i]=discretized_r[j]\n",
    "discrete_ratio\n",
    "obs_len=len(np.unique(discrete_ratio))\n",
    "obs_states=(np.unique(discrete_ratio))\n",
    "obs_states"
   ]
  },
  {
   "cell_type": "code",
   "execution_count": 531,
   "metadata": {
    "collapsed": false
   },
   "outputs": [],
   "source": [
    "# For discretization\n",
    "discrete_states=np.linspace(30,40,41)\n",
    "\n",
    "discrete=np.zeros(len(actual_deer))\n",
    "for i in range(len(actual_deer)):\n",
    "    for j in range(len(discrete_states)-1):\n",
    "        if actual_deer[i]>discrete_states[j] and actual_deer[i]<discrete_states[j+1]:\n",
    "            discrete[i]=discrete_states[j+1]\n",
    "        elif actual_deer[i]==discrete_states[j]:\n",
    "            discrete[i]=discrete_states[j]\n",
    "    "
   ]
  },
  {
   "cell_type": "code",
   "execution_count": 279,
   "metadata": {
    "collapsed": true
   },
   "outputs": [],
   "source": [
    "## Deer number actual California (up to 2013 only) http://www.deerfriendly.com/deer/california"
   ]
  },
  {
   "cell_type": "code",
   "execution_count": 532,
   "metadata": {
    "collapsed": true
   },
   "outputs": [],
   "source": [
    "cali_estimated=[850000,800000,700000,670000,690000,580000,580000,580000,550000,500000,500000,680000,550000,500000,\\\n",
    "                     600000,405000,420000,500000,500000,490000,460000,480000,480000]"
   ]
  },
  {
   "cell_type": "code",
   "execution_count": 533,
   "metadata": {
    "collapsed": false
   },
   "outputs": [
    {
     "data": {
      "text/html": [
       "<div>\n",
       "<table border=\"1\" class=\"dataframe\">\n",
       "  <thead>\n",
       "    <tr style=\"text-align: right;\">\n",
       "      <th></th>\n",
       "      <th>Actual_deer (Mi)</th>\n",
       "      <th>Comparison_average</th>\n",
       "      <th>Deer_obs</th>\n",
       "      <th>Discrete Ratio</th>\n",
       "      <th>Discretized_actual</th>\n",
       "      <th>Mammals_obs</th>\n",
       "      <th>Normalized_obs</th>\n",
       "      <th>Percentage_deer</th>\n",
       "      <th>Ratio</th>\n",
       "      <th>years</th>\n",
       "    </tr>\n",
       "  </thead>\n",
       "  <tbody>\n",
       "    <tr>\n",
       "      <th>0</th>\n",
       "      <td>35.50</td>\n",
       "      <td>0.897481</td>\n",
       "      <td>198</td>\n",
       "      <td>7</td>\n",
       "      <td>35.50</td>\n",
       "      <td>22860</td>\n",
       "      <td>177.701247</td>\n",
       "      <td>0.866142</td>\n",
       "      <td>5.005669</td>\n",
       "      <td>1991</td>\n",
       "    </tr>\n",
       "    <tr>\n",
       "      <th>1</th>\n",
       "      <td>35.75</td>\n",
       "      <td>0.661478</td>\n",
       "      <td>168</td>\n",
       "      <td>4</td>\n",
       "      <td>35.75</td>\n",
       "      <td>31016</td>\n",
       "      <td>111.128385</td>\n",
       "      <td>0.541656</td>\n",
       "      <td>3.108486</td>\n",
       "      <td>1992</td>\n",
       "    </tr>\n",
       "    <tr>\n",
       "      <th>2</th>\n",
       "      <td>36.00</td>\n",
       "      <td>0.707682</td>\n",
       "      <td>70</td>\n",
       "      <td>1</td>\n",
       "      <td>36.00</td>\n",
       "      <td>28991</td>\n",
       "      <td>49.537759</td>\n",
       "      <td>0.241454</td>\n",
       "      <td>1.376049</td>\n",
       "      <td>1993</td>\n",
       "    </tr>\n",
       "    <tr>\n",
       "      <th>3</th>\n",
       "      <td>36.20</td>\n",
       "      <td>0.521396</td>\n",
       "      <td>119</td>\n",
       "      <td>4</td>\n",
       "      <td>36.25</td>\n",
       "      <td>39349</td>\n",
       "      <td>62.046141</td>\n",
       "      <td>0.302422</td>\n",
       "      <td>1.713982</td>\n",
       "      <td>1994</td>\n",
       "    </tr>\n",
       "    <tr>\n",
       "      <th>4</th>\n",
       "      <td>36.50</td>\n",
       "      <td>0.667526</td>\n",
       "      <td>227</td>\n",
       "      <td>4</td>\n",
       "      <td>36.50</td>\n",
       "      <td>30735</td>\n",
       "      <td>151.528439</td>\n",
       "      <td>0.738572</td>\n",
       "      <td>4.151464</td>\n",
       "      <td>1995</td>\n",
       "    </tr>\n",
       "    <tr>\n",
       "      <th>5</th>\n",
       "      <td>36.80</td>\n",
       "      <td>0.590962</td>\n",
       "      <td>104</td>\n",
       "      <td>4</td>\n",
       "      <td>37.00</td>\n",
       "      <td>34717</td>\n",
       "      <td>61.460015</td>\n",
       "      <td>0.299565</td>\n",
       "      <td>1.670109</td>\n",
       "      <td>1996</td>\n",
       "    </tr>\n",
       "    <tr>\n",
       "      <th>6</th>\n",
       "      <td>37.10</td>\n",
       "      <td>0.866696</td>\n",
       "      <td>61</td>\n",
       "      <td>1</td>\n",
       "      <td>37.25</td>\n",
       "      <td>23672</td>\n",
       "      <td>52.868428</td>\n",
       "      <td>0.257688</td>\n",
       "      <td>1.425025</td>\n",
       "      <td>1997</td>\n",
       "    </tr>\n",
       "    <tr>\n",
       "      <th>7</th>\n",
       "      <td>37.40</td>\n",
       "      <td>0.742112</td>\n",
       "      <td>217</td>\n",
       "      <td>4</td>\n",
       "      <td>37.50</td>\n",
       "      <td>27646</td>\n",
       "      <td>161.038212</td>\n",
       "      <td>0.784924</td>\n",
       "      <td>4.305835</td>\n",
       "      <td>1998</td>\n",
       "    </tr>\n",
       "    <tr>\n",
       "      <th>8</th>\n",
       "      <td>37.70</td>\n",
       "      <td>0.843187</td>\n",
       "      <td>264</td>\n",
       "      <td>7</td>\n",
       "      <td>37.75</td>\n",
       "      <td>24332</td>\n",
       "      <td>222.601266</td>\n",
       "      <td>1.084991</td>\n",
       "      <td>5.904543</td>\n",
       "      <td>1999</td>\n",
       "    </tr>\n",
       "    <tr>\n",
       "      <th>9</th>\n",
       "      <td>38.10</td>\n",
       "      <td>0.942287</td>\n",
       "      <td>71</td>\n",
       "      <td>4</td>\n",
       "      <td>38.25</td>\n",
       "      <td>21773</td>\n",
       "      <td>66.902383</td>\n",
       "      <td>0.326092</td>\n",
       "      <td>1.755968</td>\n",
       "      <td>2000</td>\n",
       "    </tr>\n",
       "    <tr>\n",
       "      <th>10</th>\n",
       "      <td>37.85</td>\n",
       "      <td>0.904803</td>\n",
       "      <td>87</td>\n",
       "      <td>4</td>\n",
       "      <td>38.00</td>\n",
       "      <td>22675</td>\n",
       "      <td>78.717894</td>\n",
       "      <td>0.383682</td>\n",
       "      <td>2.079733</td>\n",
       "      <td>2001</td>\n",
       "    </tr>\n",
       "    <tr>\n",
       "      <th>11</th>\n",
       "      <td>37.50</td>\n",
       "      <td>0.784657</td>\n",
       "      <td>98</td>\n",
       "      <td>4</td>\n",
       "      <td>37.50</td>\n",
       "      <td>26147</td>\n",
       "      <td>76.896349</td>\n",
       "      <td>0.374804</td>\n",
       "      <td>2.050569</td>\n",
       "      <td>2002</td>\n",
       "    </tr>\n",
       "    <tr>\n",
       "      <th>12</th>\n",
       "      <td>37.10</td>\n",
       "      <td>0.948210</td>\n",
       "      <td>337</td>\n",
       "      <td>10</td>\n",
       "      <td>37.25</td>\n",
       "      <td>21637</td>\n",
       "      <td>319.546722</td>\n",
       "      <td>1.557517</td>\n",
       "      <td>8.613119</td>\n",
       "      <td>2003</td>\n",
       "    </tr>\n",
       "    <tr>\n",
       "      <th>13</th>\n",
       "      <td>36.80</td>\n",
       "      <td>1.030147</td>\n",
       "      <td>121</td>\n",
       "      <td>4</td>\n",
       "      <td>37.00</td>\n",
       "      <td>19916</td>\n",
       "      <td>124.647842</td>\n",
       "      <td>0.607552</td>\n",
       "      <td>3.387170</td>\n",
       "      <td>2004</td>\n",
       "    </tr>\n",
       "    <tr>\n",
       "      <th>14</th>\n",
       "      <td>36.40</td>\n",
       "      <td>1.255595</td>\n",
       "      <td>54</td>\n",
       "      <td>4</td>\n",
       "      <td>36.50</td>\n",
       "      <td>16340</td>\n",
       "      <td>67.802111</td>\n",
       "      <td>0.330477</td>\n",
       "      <td>1.862695</td>\n",
       "      <td>2005</td>\n",
       "    </tr>\n",
       "    <tr>\n",
       "      <th>15</th>\n",
       "      <td>36.10</td>\n",
       "      <td>1.434313</td>\n",
       "      <td>167</td>\n",
       "      <td>7</td>\n",
       "      <td>36.25</td>\n",
       "      <td>14304</td>\n",
       "      <td>239.530312</td>\n",
       "      <td>1.167506</td>\n",
       "      <td>6.635189</td>\n",
       "      <td>2006</td>\n",
       "    </tr>\n",
       "    <tr>\n",
       "      <th>16</th>\n",
       "      <td>35.75</td>\n",
       "      <td>1.635295</td>\n",
       "      <td>173</td>\n",
       "      <td>10</td>\n",
       "      <td>35.75</td>\n",
       "      <td>12546</td>\n",
       "      <td>282.906112</td>\n",
       "      <td>1.378926</td>\n",
       "      <td>7.913458</td>\n",
       "      <td>2007</td>\n",
       "    </tr>\n",
       "    <tr>\n",
       "      <th>17</th>\n",
       "      <td>35.40</td>\n",
       "      <td>2.202514</td>\n",
       "      <td>84</td>\n",
       "      <td>7</td>\n",
       "      <td>35.50</td>\n",
       "      <td>9315</td>\n",
       "      <td>185.011165</td>\n",
       "      <td>0.901771</td>\n",
       "      <td>5.226304</td>\n",
       "      <td>2008</td>\n",
       "    </tr>\n",
       "    <tr>\n",
       "      <th>18</th>\n",
       "      <td>35.00</td>\n",
       "      <td>1.776929</td>\n",
       "      <td>251</td>\n",
       "      <td>13</td>\n",
       "      <td>35.00</td>\n",
       "      <td>11546</td>\n",
       "      <td>446.009058</td>\n",
       "      <td>2.173913</td>\n",
       "      <td>12.743116</td>\n",
       "      <td>2009</td>\n",
       "    </tr>\n",
       "    <tr>\n",
       "      <th>19</th>\n",
       "      <td>34.60</td>\n",
       "      <td>2.072365</td>\n",
       "      <td>237</td>\n",
       "      <td>16</td>\n",
       "      <td>34.75</td>\n",
       "      <td>9900</td>\n",
       "      <td>491.150581</td>\n",
       "      <td>2.393939</td>\n",
       "      <td>14.195103</td>\n",
       "      <td>2010</td>\n",
       "    </tr>\n",
       "    <tr>\n",
       "      <th>20</th>\n",
       "      <td>34.20</td>\n",
       "      <td>1.751295</td>\n",
       "      <td>289</td>\n",
       "      <td>16</td>\n",
       "      <td>34.25</td>\n",
       "      <td>11715</td>\n",
       "      <td>506.124150</td>\n",
       "      <td>2.466923</td>\n",
       "      <td>14.798952</td>\n",
       "      <td>2011</td>\n",
       "    </tr>\n",
       "    <tr>\n",
       "      <th>21</th>\n",
       "      <td>33.80</td>\n",
       "      <td>2.273287</td>\n",
       "      <td>543</td>\n",
       "      <td>37</td>\n",
       "      <td>34.00</td>\n",
       "      <td>9025</td>\n",
       "      <td>1234.394931</td>\n",
       "      <td>6.016620</td>\n",
       "      <td>36.520560</td>\n",
       "      <td>2012</td>\n",
       "    </tr>\n",
       "    <tr>\n",
       "      <th>22</th>\n",
       "      <td>33.50</td>\n",
       "      <td>1.893008</td>\n",
       "      <td>786</td>\n",
       "      <td>46</td>\n",
       "      <td>33.50</td>\n",
       "      <td>10838</td>\n",
       "      <td>1487.903995</td>\n",
       "      <td>7.252261</td>\n",
       "      <td>44.415045</td>\n",
       "      <td>2013</td>\n",
       "    </tr>\n",
       "    <tr>\n",
       "      <th>23</th>\n",
       "      <td>33.20</td>\n",
       "      <td>1.799844</td>\n",
       "      <td>985</td>\n",
       "      <td>55</td>\n",
       "      <td>33.25</td>\n",
       "      <td>11399</td>\n",
       "      <td>1772.845900</td>\n",
       "      <td>8.641109</td>\n",
       "      <td>53.398973</td>\n",
       "      <td>2014</td>\n",
       "    </tr>\n",
       "  </tbody>\n",
       "</table>\n",
       "</div>"
      ],
      "text/plain": [
       "    Actual_deer (Mi)  Comparison_average  Deer_obs  Discrete Ratio  \\\n",
       "0              35.50            0.897481       198               7   \n",
       "1              35.75            0.661478       168               4   \n",
       "2              36.00            0.707682        70               1   \n",
       "3              36.20            0.521396       119               4   \n",
       "4              36.50            0.667526       227               4   \n",
       "5              36.80            0.590962       104               4   \n",
       "6              37.10            0.866696        61               1   \n",
       "7              37.40            0.742112       217               4   \n",
       "8              37.70            0.843187       264               7   \n",
       "9              38.10            0.942287        71               4   \n",
       "10             37.85            0.904803        87               4   \n",
       "11             37.50            0.784657        98               4   \n",
       "12             37.10            0.948210       337              10   \n",
       "13             36.80            1.030147       121               4   \n",
       "14             36.40            1.255595        54               4   \n",
       "15             36.10            1.434313       167               7   \n",
       "16             35.75            1.635295       173              10   \n",
       "17             35.40            2.202514        84               7   \n",
       "18             35.00            1.776929       251              13   \n",
       "19             34.60            2.072365       237              16   \n",
       "20             34.20            1.751295       289              16   \n",
       "21             33.80            2.273287       543              37   \n",
       "22             33.50            1.893008       786              46   \n",
       "23             33.20            1.799844       985              55   \n",
       "\n",
       "    Discretized_actual  Mammals_obs  Normalized_obs  Percentage_deer  \\\n",
       "0                35.50        22860      177.701247         0.866142   \n",
       "1                35.75        31016      111.128385         0.541656   \n",
       "2                36.00        28991       49.537759         0.241454   \n",
       "3                36.25        39349       62.046141         0.302422   \n",
       "4                36.50        30735      151.528439         0.738572   \n",
       "5                37.00        34717       61.460015         0.299565   \n",
       "6                37.25        23672       52.868428         0.257688   \n",
       "7                37.50        27646      161.038212         0.784924   \n",
       "8                37.75        24332      222.601266         1.084991   \n",
       "9                38.25        21773       66.902383         0.326092   \n",
       "10               38.00        22675       78.717894         0.383682   \n",
       "11               37.50        26147       76.896349         0.374804   \n",
       "12               37.25        21637      319.546722         1.557517   \n",
       "13               37.00        19916      124.647842         0.607552   \n",
       "14               36.50        16340       67.802111         0.330477   \n",
       "15               36.25        14304      239.530312         1.167506   \n",
       "16               35.75        12546      282.906112         1.378926   \n",
       "17               35.50         9315      185.011165         0.901771   \n",
       "18               35.00        11546      446.009058         2.173913   \n",
       "19               34.75         9900      491.150581         2.393939   \n",
       "20               34.25        11715      506.124150         2.466923   \n",
       "21               34.00         9025     1234.394931         6.016620   \n",
       "22               33.50        10838     1487.903995         7.252261   \n",
       "23               33.25        11399     1772.845900         8.641109   \n",
       "\n",
       "        Ratio  years  \n",
       "0    5.005669   1991  \n",
       "1    3.108486   1992  \n",
       "2    1.376049   1993  \n",
       "3    1.713982   1994  \n",
       "4    4.151464   1995  \n",
       "5    1.670109   1996  \n",
       "6    1.425025   1997  \n",
       "7    4.305835   1998  \n",
       "8    5.904543   1999  \n",
       "9    1.755968   2000  \n",
       "10   2.079733   2001  \n",
       "11   2.050569   2002  \n",
       "12   8.613119   2003  \n",
       "13   3.387170   2004  \n",
       "14   1.862695   2005  \n",
       "15   6.635189   2006  \n",
       "16   7.913458   2007  \n",
       "17   5.226304   2008  \n",
       "18  12.743116   2009  \n",
       "19  14.195103   2010  \n",
       "20  14.798952   2011  \n",
       "21  36.520560   2012  \n",
       "22  44.415045   2013  \n",
       "23  53.398973   2014  "
      ]
     },
     "execution_count": 533,
     "metadata": {},
     "output_type": "execute_result"
    }
   ],
   "source": [
    "# Create a Dataframe with all the data\n",
    "data_dict={\"years\": years, \"Mammals_obs\":mammal_obs, \"Deer_obs\":deer_obs, \"Percentage_deer\":percentage, \\\n",
    "           \"Comparison_average\":average_norm, \"Actual_deer (Mi)\": actual_deer, \"Discretized_actual\": discrete, \\\n",
    "          \"Normalized_obs\":norm_obs, \"Ratio\":ratio, \"Discrete Ratio\": discrete_ratio}\n",
    "Data_summary=pd.DataFrame(data_dict)\n",
    "\n",
    "Data_summary"
   ]
  },
  {
   "cell_type": "markdown",
   "metadata": {},
   "source": [
    "### Transition Matrix\n",
    "We calculate the transition matrix by counting the occurences of going from hidden state i to hidden state j, and dividing the values of each row by the sum of the row: we check that the obtained probabilities on each row sum up to 1. "
   ]
  },
  {
   "cell_type": "code",
   "execution_count": 534,
   "metadata": {
    "collapsed": false
   },
   "outputs": [],
   "source": [
    "# For the transition matrix, we create a 41 by 41 matrix and calculate the probability of a certain current letter\n",
    "# knowing the previous letter. The rows of this matrix should sum up to 1 \n",
    "# The columns correspond to the current letter and the rows to the previous letter\n",
    "\n",
    "#Emission is probability from hidden to observed\n",
    "\n",
    "#Transition is from hidden to next hidden\n",
    "n=len(discrete_states)\n",
    "transition=np.zeros((n,n))\n",
    "# Add a pseudocount\n",
    "transition=transition+0.05\n",
    "\n",
    "for j in xrange(len(discrete)-1):\n",
    "    for i in xrange(len(discrete_states)):\n",
    "        if discrete[j+1]==discrete_states[i]:\n",
    "            for k in xrange(len(discrete_states)):\n",
    "                if discrete[j]==discrete_states[k]:\n",
    "                    transition[k,i]+=1"
   ]
  },
  {
   "cell_type": "code",
   "execution_count": 535,
   "metadata": {
    "collapsed": true
   },
   "outputs": [],
   "source": [
    "SUMS=np.zeros(n)\n",
    "for i in xrange(len(SUMS)):\n",
    "    SUMS[i]=np.sum(transition[i,:])\n",
    "    "
   ]
  },
  {
   "cell_type": "code",
   "execution_count": 536,
   "metadata": {
    "collapsed": false
   },
   "outputs": [],
   "source": [
    "transition_f=np.zeros((n,n))\n",
    "for i in xrange(len(SUMS)):\n",
    "    transition_f[i,:]=transition[i,:]/SUMS[i]"
   ]
  },
  {
   "cell_type": "code",
   "execution_count": 537,
   "metadata": {
    "collapsed": false
   },
   "outputs": [
    {
     "data": {
      "text/plain": [
       "array([ 1.,  1.,  1.,  1.,  1.,  1.,  1.,  1.,  1.,  1.,  1.,  1.,  1.,\n",
       "        1.,  1.,  1.,  1.,  1.,  1.,  1.,  1.,  1.,  1.,  1.,  1.,  1.,\n",
       "        1.,  1.,  1.,  1.,  1.,  1.,  1.,  1.,  1.,  1.,  1.,  1.,  1.,\n",
       "        1.,  1.])"
      ]
     },
     "execution_count": 537,
     "metadata": {},
     "output_type": "execute_result"
    }
   ],
   "source": [
    "# Check to verify my calculations, the sum of the rows should be zero\n",
    "SUM2=np.zeros(n)\n",
    "for i in xrange(len(SUM2)):\n",
    "    SUM2[i]=np.sum(transition_f[i,:])\n",
    "SUM2"
   ]
  },
  {
   "cell_type": "code",
   "execution_count": 538,
   "metadata": {
    "collapsed": false
   },
   "outputs": [],
   "source": [
    "# Emission probability\n",
    "emission=np.zeros((n,obs_len))\n",
    "# Add a pseudocount\n",
    "emission=emission+0.05\n",
    "for j in xrange(len(discrete_ratio)-1):\n",
    "    for i in xrange(obs_len):\n",
    "        if discrete_ratio[j]==obs_states[i]:\n",
    "            for k in xrange(len(discrete_states)):\n",
    "                if discrete[j]==discrete_states[k]:\n",
    "                    emission[k,i]+=1"
   ]
  },
  {
   "cell_type": "code",
   "execution_count": 539,
   "metadata": {
    "collapsed": false
   },
   "outputs": [],
   "source": [
    "SUMS=np.zeros(n)\n",
    "for i in xrange(len(SUMS)):\n",
    "    SUMS[i]=np.sum(emission[i,:])"
   ]
  },
  {
   "cell_type": "code",
   "execution_count": 540,
   "metadata": {
    "collapsed": false
   },
   "outputs": [],
   "source": [
    "emission_f=np.zeros((n,obs_len))\n",
    "for i in xrange(len(SUMS)):\n",
    "    emission_f[i,:]=emission[i,:]/SUMS[i]"
   ]
  },
  {
   "cell_type": "code",
   "execution_count": 541,
   "metadata": {
    "collapsed": false
   },
   "outputs": [
    {
     "data": {
      "text/plain": [
       "array([ 1.,  1.,  1.,  1.,  1.,  1.,  1.,  1.,  1.,  1.,  1.,  1.,  1.,\n",
       "        1.,  1.,  1.,  1.,  1.,  1.,  1.,  1.,  1.,  1.,  1.,  1.,  1.,\n",
       "        1.,  1.,  1.,  1.,  1.,  1.,  1.,  1.,  1.,  1.,  1.,  1.,  1.,\n",
       "        1.,  1.])"
      ]
     },
     "execution_count": 541,
     "metadata": {},
     "output_type": "execute_result"
    }
   ],
   "source": [
    "# Check to verify my calculations, the sum of the rows should be zero\n",
    "SUM2=np.zeros(n)\n",
    "for i in xrange(len(SUM2)):\n",
    "    SUM2[i]=np.sum(emission_f[i,:])\n",
    "SUM2"
   ]
  },
  {
   "cell_type": "code",
   "execution_count": 542,
   "metadata": {
    "collapsed": true
   },
   "outputs": [],
   "source": [
    "emission_log=np.log(emission_f)\n",
    "transition_log=np.log(transition_f)"
   ]
  },
  {
   "cell_type": "markdown",
   "metadata": {},
   "source": [
    "### Starting Probability"
   ]
  },
  {
   "cell_type": "code",
   "execution_count": 593,
   "metadata": {
    "collapsed": false
   },
   "outputs": [
    {
     "data": {
      "text/plain": [
       "(41,)"
      ]
     },
     "execution_count": 593,
     "metadata": {},
     "output_type": "execute_result"
    }
   ],
   "source": [
    "## Starting Probability\n",
    "itemindex= np.where(discrete_states==discrete[0])[0][0]\n",
    "\n",
    "starting_prob=np.zeros(n)\n",
    "starting_prob[itemindex]=1\n",
    "np.shape(starting_prob)"
   ]
  },
  {
   "cell_type": "code",
   "execution_count": 544,
   "metadata": {
    "collapsed": false
   },
   "outputs": [
    {
     "data": {
      "text/plain": [
       "array([  7.,   4.,   1.,   4.,   4.,   4.,   1.,   4.,   7.,   4.,   4.,\n",
       "         4.,  10.,   4.,   4.,   7.,  10.,   7.,  13.,  16.,  16.,  37.,\n",
       "        46.,  55.])"
      ]
     },
     "execution_count": 544,
     "metadata": {},
     "output_type": "execute_result"
    }
   ],
   "source": [
    "discrete_ratio"
   ]
  },
  {
   "cell_type": "code",
   "execution_count": 545,
   "metadata": {
    "collapsed": true
   },
   "outputs": [],
   "source": [
    "# The function takes as input the observed and hiddent states. \n",
    "# It takes the starting probability, the transition and emission matrix and the test data Y.\n",
    "\n",
    "# The function returns Z, which corresponds to the array of the indexes of the corrected letter (which we can \n",
    "# extract later from the state space)\n",
    "\n",
    "def viterbi(hidden, observed, starting_prob, Y, transition_log, emission_log):   \n",
    "    size_test=len(Y)\n",
    "    T1=np.zeros((len(hidden),size_test))\n",
    "    T2=np.zeros((len(hidden),size_test))\n",
    "    index= np.where(observed==Y[0])[0][0]\n",
    "    for i in xrange(len(hidden)):\n",
    "        T1[i,1]=np.log(starting_prob[i])+emission_log[i,index]\n",
    "    for i in range(1,len(Y)):\n",
    "        index= np.where(observed==Y[i])[0][0]\n",
    "        for j in xrange(len(hidden)):\n",
    "            list_val=T1[:,i-1]+transition_log[:,j]+emission_log[j,index]\n",
    "            T1[j,i]=np.max(list_val) \n",
    "            T2[j,i]=np.argmax(list_val) \n",
    "    Z=np.zeros(size_test)  \n",
    "    T_ind=size_test-1\n",
    "    Z[T_ind]=np.argmax(T1[:,T_ind])\n",
    "    \n",
    "    for i in range(T_ind, 1, -1):\n",
    "        Z[i-1]=T2[Z[i], i]\n",
    "    \n",
    "    return Z\n",
    "    "
   ]
  },
  {
   "cell_type": "code",
   "execution_count": 546,
   "metadata": {
    "collapsed": false
   },
   "outputs": [
    {
     "data": {
      "text/plain": [
       "array([  0.,  30.,  29.,  28.,  26.,  28.,  29.,  30.,  31.,  33.,  32.,\n",
       "        30.,  29.,  28.,  26.,  25.,  23.,  22.,  20.,  19.,  17.,  16.,\n",
       "        14.,  13.])"
      ]
     },
     "execution_count": 546,
     "metadata": {},
     "output_type": "execute_result"
    }
   ],
   "source": [
    "Z=viterbi(discrete_states,obs_states, starting_prob, discrete_ratio, transition_log, emission_log)\n",
    "Z"
   ]
  },
  {
   "cell_type": "code",
   "execution_count": 393,
   "metadata": {
    "collapsed": false
   },
   "outputs": [
    {
     "data": {
      "text/plain": [
       "<matplotlib.text.Text at 0x108998290>"
      ]
     },
     "execution_count": 393,
     "metadata": {},
     "output_type": "execute_result"
    },
    {
     "data": {
      "image/png": "[encoded data removed]",
      "text/plain": [
       "<matplotlib.figure.Figure at 0x121d95950>"
      ]
     },
     "metadata": {},
     "output_type": "display_data"
    }
   ],
   "source": [
    "plt.figure(figsize=(8,6))\n",
    "plt.plot(years,Z,label=\"Estimation\")\n",
    "plt.plot(years,actual_deer,label=\"Actual\")\n",
    "plt.legend()\n",
    "plt.xlabel(\"Years\")\n",
    "plt.ylabel(\"Number of dears in Millions\")"
   ]
  },
  {
   "cell_type": "markdown",
   "metadata": {},
   "source": [
    "We can see that even though the number of observations of deer increase since 2005, Viterbi algorithm manages to translate the decrease that occured in the actual values since 2000.  While it is not close to the actual values, it did capture their trend which is interesting\n",
    "\n",
    "Note: To explain the increase in number of deer counts, there could also be an increase in the number of deer studies. This raises the question as to whether this is reliable data. Sightings may also depend on where the scientists decided to look for these animals, as it is unlikely there are people sweeping the entirety of the US to look for deer. Much of the data probably depends on scientific study patterns and may not reflect actual deer population."
   ]
  },
  {
   "cell_type": "markdown",
   "metadata": {},
   "source": [
    "### Viterbi Second order"
   ]
  },
  {
   "cell_type": "code",
   "execution_count": 403,
   "metadata": {
    "collapsed": false
   },
   "outputs": [],
   "source": [
    "transition=np.zeros((n**2,n**2))\n",
    "transition=transition+0.05\n",
    "\n",
    "for j in xrange(len(discrete)-2):\n",
    "    # Find the index of data_correct[j],[j+1],[j+2]\n",
    "    for i in xrange(len(discrete_states)):\n",
    "        if discrete[j+1]==discrete_states[i]:\n",
    "            for m in xrange(len(discrete_states)):\n",
    "                if discrete[j+2]==discrete_states[m]:\n",
    "                    for k in xrange(len(discrete_states)):\n",
    "                        if discrete[j]==discrete_states[k]:\n",
    "                            transition[k*n+i,i*n+m]+=1"
   ]
  },
  {
   "cell_type": "code",
   "execution_count": 404,
   "metadata": {
    "collapsed": false
   },
   "outputs": [],
   "source": [
    "transition_f=transition/np.sum(transition, axis=1).reshape(n**2,1)"
   ]
  },
  {
   "cell_type": "code",
   "execution_count": 405,
   "metadata": {
    "collapsed": false
   },
   "outputs": [
    {
     "data": {
      "text/plain": [
       "array([ 1.,  1.,  1.,  1.,  1.,  1.,  1.,  1.,  1.,  1.,  1.,  1.,  1.,\n",
       "        1.,  1.,  1.,  1.,  1.,  1.])"
      ]
     },
     "execution_count": 405,
     "metadata": {},
     "output_type": "execute_result"
    }
   ],
   "source": [
    "SUMS=np.zeros(n**2)\n",
    "for i in xrange(len(SUMS)):\n",
    "    SUMS[i]=np.sum(transition_f[i,:])\n",
    "SUMS[1:20]"
   ]
  },
  {
   "cell_type": "code",
   "execution_count": 406,
   "metadata": {
    "collapsed": true
   },
   "outputs": [],
   "source": [
    "emission=np.zeros((n**2,obs_len))\n",
    "emission=emission+0.05\n",
    "\n",
    "for j in xrange(len(discrete_ratio)-2):\n",
    "    for i in xrange(obs_len):\n",
    "        if discrete_ratio[j+1]==obs_states[i]:\n",
    "            for m in xrange(obs_len):\n",
    "                if discrete[j]==discrete_states[m]:\n",
    "                    for k in xrange(len(discrete_states)):\n",
    "                        if discrete[j+1]==discrete_states[k]:\n",
    "                            emission[n*m+k,i]+=1\n",
    "                                    \n",
    "emission_f=emission/np.sum(emission, axis=1).reshape(n**2,1)"
   ]
  },
  {
   "cell_type": "code",
   "execution_count": 413,
   "metadata": {
    "collapsed": false
   },
   "outputs": [
    {
     "data": {
      "text/plain": [
       "array([ 1.,  1.,  1.,  1.,  1.,  1.,  1.,  1.,  1.,  1.,  1.,  1.,  1.,\n",
       "        1.,  1.,  1.,  1.,  1.,  1.])"
      ]
     },
     "execution_count": 413,
     "metadata": {},
     "output_type": "execute_result"
    }
   ],
   "source": [
    "SUMS=np.zeros(27**2)\n",
    "for i in xrange(len(SUMS)):\n",
    "    SUMS[i]=np.sum(emission_f[i,:])\n",
    "SUMS[1:20]"
   ]
  },
  {
   "cell_type": "code",
   "execution_count": 414,
   "metadata": {
    "collapsed": true
   },
   "outputs": [],
   "source": [
    "transition_log=np.log(transition_f)\n",
    "emission_log=np.log(emission_f)"
   ]
  },
  {
   "cell_type": "code",
   "execution_count": 415,
   "metadata": {
    "collapsed": false
   },
   "outputs": [
    {
     "name": "stdout",
     "output_type": "stream",
     "text": [
      "23\n"
     ]
    }
   ],
   "source": [
    "## Starting Probability\n",
    "itemindex= np.where(discrete_states==discrete[0])[0][0]\n",
    "itemindex2= np.where(discrete_states==discrete[1])[0][0]\n",
    "\n",
    "starting_prob=np.zeros(n*n)\n",
    "starting_prob[itemindex*n+itemindex2]=1"
   ]
  },
  {
   "cell_type": "code",
   "execution_count": 429,
   "metadata": {
    "collapsed": true
   },
   "outputs": [],
   "source": [
    "def viterbi2(hidden, observed, starting_prob, Y, transition_log, emission_log):   \n",
    "    size_test=len(Y)\n",
    "    length=np.shape(transition_log)[0]\n",
    "    T1=np.zeros((length,size_test))\n",
    "    T2=np.zeros((length,size_test))\n",
    "    ind1=np.where(observed==Y[0])[0][0]\n",
    "    for i in xrange(length):\n",
    "        T1[i,1]=np.log(starting_prob[i])+emission_log[i,ind1]\n",
    "    for i in range(1,len(Y)-1):\n",
    "        ind2= np.where(observed==Y[i])[0][0]\n",
    "        for j in xrange(length):\n",
    "            list_val=T1[:,i-1]+transition_log[:,j]+emission_log[j,ind2]\n",
    "            T1[j,i]=np.max(list_val) \n",
    "            T2[j,i]=np.argmax(list_val) \n",
    "    Z=np.zeros(size_test)  \n",
    "    T_ind=size_test-1\n",
    "    Z[T_ind]=np.argmax(T1[:,T_ind])\n",
    "    \n",
    "    for i in range(T_ind, 1, -1):\n",
    "        Z[i-1]=T2[Z[i], i]\n",
    "    \n",
    "    return Z"
   ]
  },
  {
   "cell_type": "code",
   "execution_count": 430,
   "metadata": {
    "collapsed": false
   },
   "outputs": [],
   "source": [
    "Z=viterbi2(discrete_states, obs_states, starting_prob, discrete_ratio, transition_log, emission_log)"
   ]
  },
  {
   "cell_type": "code",
   "execution_count": 431,
   "metadata": {
    "collapsed": false
   },
   "outputs": [
    {
     "data": {
      "text/plain": [
       "array([    0.,  1009.,  1051.,  1094.,  1177.,  1219.,  1261.,  1304.,\n",
       "        1385.,  1342.,  1259.,  1217.,  1174.,  1091.,  1048.,   965.,\n",
       "         922.,   839.,   796.,   713.,   670.,   587.,     0.,     0.])"
      ]
     },
     "execution_count": 431,
     "metadata": {},
     "output_type": "execute_result"
    }
   ],
   "source": [
    "Z"
   ]
  },
  {
   "cell_type": "markdown",
   "metadata": {},
   "source": [
    "This method does not seem to work properly. Need to rework it."
   ]
  },
  {
   "cell_type": "markdown",
   "metadata": {},
   "source": [
    "## Forward Backward Algorithm\n",
    "\n",
    "Now that we have looked at decoding a sequence over the years, we use the forward–backward algorithm to find the most likely discreteized state for any point in time, in our case any year.\n",
    "The algorithm involves three steps as detailed below:\n",
    "\n",
    "1. computing forward probabilities\n",
    "\n",
    "2. computing backward probabilities\n",
    "\n",
    "3. computing smoothed values."
   ]
  },
  {
   "cell_type": "code",
   "execution_count": 661,
   "metadata": {
    "collapsed": false
   },
   "outputs": [],
   "source": [
    "def fwd_bkw(y, states, starting_prob, transition, emission, obs_states):\n",
    "    L = len(y)\n",
    "    fwd = []\n",
    "    f_prev = {}\n",
    "    # forward part of the algorithm\n",
    "    for i in range(len(y)):\n",
    "        f_curr = {}\n",
    "        ind1=np.where(obs_states==y[i])[0][0] \n",
    "        for j in range(len(states)):\n",
    "            st=states[j]\n",
    "            if i == 0:\n",
    "                # base case for the forward part\n",
    "                prev_f_sum = starting_prob[j]\n",
    "            else:\n",
    "                prev_f_sum = sum(f_prev[states[k]]*transition[k,j] for k in range(len(states)))\n",
    " \n",
    "            f_curr[st] = emission[j,ind1] * prev_f_sum\n",
    " \n",
    "        fwd.append(f_curr)\n",
    "        f_prev = f_curr\n",
    " \n",
    "    bkw = []\n",
    "    b_prev = {}\n",
    "    # backward part of the algorithm\n",
    "    y2=np.append(y,None)\n",
    "    y2=np.delete(y2,[0])\n",
    "    y2=reversed(y2)\n",
    "    for i, y_val in enumerate(y2):\n",
    "        b_curr = {}\n",
    "        for j in range(len(states)):\n",
    "            st=states[j]\n",
    "            if i == 0:\n",
    "                # base case for backward part\n",
    "                b_curr[st] = 1.0\n",
    "            else:\n",
    "                ind2=np.where(obs_states==y_val)[0][0] \n",
    "                b_curr[st] = sum(transition[j,l]*emission[l,ind2]*b_prev[states[l]] for l in range(len(states)))\n",
    " \n",
    "        bkw.insert(0,b_curr)\n",
    "        b_prev = b_curr\n",
    "     \n",
    "    ind3=np.where(obs_states==y[0])[0][0] \n",
    "    p_bkw = sum(starting_prob[l] * emission[l,ind3] * b_curr[states[l]] for l in range(len(states)))\n",
    " \n",
    "    # merging the two parts\n",
    "    posterior = []\n",
    "    for i in range(L):\n",
    "        posterior.append({st: fwd[i][st]*bkw[i][st]/p_bkw for st in states})\n",
    " \n",
    "    return fwd, bkw, posterior"
   ]
  },
  {
   "cell_type": "code",
   "execution_count": 683,
   "metadata": {
    "collapsed": false
   },
   "outputs": [
    {
     "name": "stdout",
     "output_type": "stream",
     "text": [
      "24\n",
      "[{30.25: 0.0, 30.5: 0.0, 36.75: 0.0, 37.25: 0.0, 32.25: 0.0, 36.5: 0.0, 33.25: 0.0, 39.75: 0.0, 37.5: 0.0, 30.0: 0.0, 31.0: 0.0, 32.0: 0.0, 33.0: 0.0, 34.0: 0.0, 33.75: 0.0, 36.0: 0.0, 37.0: 0.0, 31.5: 0.0, 39.0: 0.0, 40.0: 0.0, 34.25: 0.0, 34.5: 0.0, 35.0: 0.0, 31.25: 0.0, 38.25: 0.0, 31.75: 0.0, 34.75: 0.0, 39.25: 0.0, 38.5: 0.0, 38.75: 0.0, 35.25: 0.0, 37.75: 0.0, 35.5: 1.0, 32.75: 0.0, 33.5: 0.0, 35.75: 0.0, 38.0: 0.0, 39.5: 0.0, 36.25: 0.0, 30.75: 0.0, 32.5: 0.0}, {30.25: 0.0029975632422003917, 30.5: 0.0029975632422003917, 36.75: 0.0029975632422003917, 37.25: 0.00032148136564997772, 32.25: 0.0029975632422003917, 36.5: 0.014166791411121897, 33.25: 0.0029975632422003917, 39.75: 0.0029975632422003917, 37.5: 0.063186359282828022, 30.0: 0.0029975632422003917, 31.0: 0.0029975632422003917, 32.0: 0.0029975632422003917, 33.0: 0.0029975632422003917, 34.0: 0.00068174358198450991, 33.75: 0.0029975632422003917, 36.0: 0.00070367465868451931, 37.0: 0.060975293101257419, 31.5: 0.0029975632422003917, 39.0: 0.0029975632422003917, 40.0: 0.0029975632422003917, 34.25: 0.00067549472872080853, 34.5: 0.0029975632422003917, 35.0: 0.014180150738301816, 31.25: 0.0029975632422003917, 38.25: 0.014995718827005549, 31.75: 0.0029975632422003917, 34.75: 0.00067525391977726803, 39.25: 0.0029975632422003917, 38.5: 0.0029975632422003917, 38.75: 0.0029975632422003917, 35.25: 0.0029975632422003917, 37.75: 0.00073699867380884584, 35.5: 0.00031148096243293515, 32.75: 0.0029975632422003917, 33.5: 0.00085622136476226878, 35.75: 0.73149557284868538, 38.0: 0.013644010982595652, 39.5: 0.0029975632422003917, 36.25: 0.0074546724973732258, 30.75: 0.0029975632422003917, 32.5: 0.0029975632422003917}, {30.25: 0.0052019635063501584, 30.5: 0.0052019635063501584, 36.75: 0.0052019635063501584, 37.25: 0.15145375587655768, 32.25: 0.0052019635063501584, 36.5: 0.0074023464799864609, 33.25: 0.0054329158850344476, 39.75: 0.0052019635063501584, 37.5: 0.001074874756440427, 30.0: 0.0052019635063501584, 31.0: 0.0052019635063501584, 32.0: 0.0052019635063501584, 33.0: 0.0052019635063501584, 34.0: 0.0011815086581762149, 33.75: 0.0052019635063501584, 36.0: 0.6717268548620644, 37.0: 0.0029519568735258323, 31.5: 0.0052019635063501584, 39.0: 0.0052019635063501584, 40.0: 0.0052019635063501584, 34.25: 0.001175843876795424, 34.5: 0.0052019635063501584, 35.0: 0.0011479228021225576, 31.25: 0.0052019635063501584, 38.25: 0.0026283253662987981, 31.75: 0.0052019635063501584, 34.75: 0.0021751662197304661, 39.25: 0.0052019635063501584, 38.5: 0.0052019635063501584, 38.75: 0.0052019635063501584, 35.25: 0.0052019635063501584, 37.75: 0.010957390082600377, 35.5: 0.0066096395460378482, 32.75: 0.0052019635063501584, 33.5: 0.0013285064693830907, 35.75: 0.00076319244234321706, 38.0: 0.0038654880148352375, 39.5: 0.0052019635063501584, 36.25: 0.0032771876356636445, 30.75: 0.0052019635063501584, 32.5: 0.0052019635063501584}, {30.25: 0.0034417987417907484, 30.5: 0.0034417987417907484, 36.75: 0.0034417987417907484, 37.25: 0.001080480713128894, 32.25: 0.0034417987417907484, 36.5: 0.049698132293297163, 33.25: 0.0036370401113560266, 39.75: 0.0034417987417907484, 37.5: 0.041089565969538652, 30.0: 0.0034417987417907484, 31.0: 0.0034417987417907484, 32.0: 0.0034417987417907484, 33.0: 0.0034417987417907484, 34.0: 0.00079317575012336752, 33.75: 0.0034417987417907484, 36.0: 0.0015841955521641851, 37.0: 0.18325253693986499, 31.5: 0.0034417987417907484, 39.0: 0.0034417987417907484, 40.0: 0.0034417987417907484, 34.25: 0.00082541412565287928, 34.5: 0.0034417987417907484, 35.0: 0.00092253262043622713, 31.25: 0.0034417987417907484, 38.25: 0.1003909198816655, 31.75: 0.0034417987417907484, 34.75: 0.0007880828223677883, 39.25: 0.0034417987417907484, 38.5: 0.0034417987417907484, 38.75: 0.0034417987417907484, 35.25: 0.0034417987417907484, 37.75: 0.0018612790064960563, 35.5: 0.0004712247646172422, 32.75: 0.0034417987417907484, 33.5: 0.00089870173137351732, 35.75: 0.0094061355928877991, 38.0: 0.027850624947946576, 39.5: 0.0034417987417907484, 36.25: 0.49284678737410542, 30.75: 0.0034417987417907484, 32.5: 0.0034417987417907484}, {30.25: 0.0027014649655939145, 30.5: 0.0027014649655939145, 36.75: 0.0027014649655939145, 37.25: 0.015348642275711635, 32.25: 0.0027014649655939145, 36.5: 0.5938225133926357, 33.25: 0.0028415076799576107, 39.75: 0.0027014649655939145, 37.5: 0.023128516955127604, 30.0: 0.0027014649655939145, 31.0: 0.0027014649655939145, 32.0: 0.0027014649655939145, 33.0: 0.0027014649655939145, 34.0: 0.00062487643866384625, 33.75: 0.0027014649655939145, 36.0: 0.0012532892490953818, 37.0: 0.039380897723478497, 31.5: 0.0027014649655939145, 39.0: 0.0027014649655939145, 40.0: 0.0027014649655939145, 34.25: 0.00061723099351404553, 34.5: 0.0027014649655939145, 35.0: 0.00059984729564289084, 31.25: 0.0027014649655939145, 38.25: 0.022703902163910512, 31.75: 0.0027014649655939145, 34.75: 0.0006221452809574865, 39.25: 0.0027014649655939145, 38.5: 0.0027014649655939145, 38.75: 0.0027014649655939145, 35.25: 0.0027014649655939145, 37.75: 0.0040839973401532092, 35.5: 0.00091372122031464689, 32.75: 0.0027014649655939145, 33.5: 0.00070035462162259588, 35.75: 0.037007498850544204, 38.0: 0.15791669589648946, 39.5: 0.0027014649655939145, 36.25: 0.033599203447926142, 30.75: 0.0027014649655939145, 32.5: 0.0027014649655939145}, {30.25: 0.0026363959325639091, 30.5: 0.0026363959325639091, 36.75: 0.0026363959325639091, 37.25: 0.001115207587324039, 32.25: 0.0026363959325639091, 36.5: 0.040871920146036765, 33.25: 0.0027440335762869239, 39.75: 0.0026363959325639091, 37.5: 0.2161007631521864, 30.0: 0.0026363959325639091, 31.0: 0.0026363959325639091, 32.0: 0.0026363959325639091, 33.0: 0.0026363959325639091, 34.0: 0.00062592144141019766, 33.75: 0.0026363959325639091, 36.0: 0.0021758123270425229, 37.0: 0.55075334070000281, 31.5: 0.0026363959325639091, 39.0: 0.0026363959325639091, 40.0: 0.0026363959325639091, 34.25: 0.00061930341875200028, 34.5: 0.0026363959325639091, 35.0: 0.00061069374260900721, 31.25: 0.0026363959325639091, 38.25: 0.020798051884741681, 31.75: 0.0026363959325639091, 34.75: 0.00061797458929877154, 39.25: 0.0026363959325639091, 38.5: 0.0026363959325639091, 38.75: 0.0026363959325639091, 35.25: 0.0026363959325639091, 37.75: 0.0015817628645303076, 35.5: 0.00093339238596963289, 32.75: 0.0026363959325639091, 33.5: 0.00078416657176153947, 35.75: 0.032014900741361048, 38.0: 0.022237065329098825, 39.5: 0.0026363959325639091, 36.25: 0.042142187160052719, 30.75: 0.0026363959325639091, 32.5: 0.0026363959325639091}, {30.25: 0.0053256215604604628, 30.5: 0.0053256215604604628, 36.75: 0.0053256215604604628, 37.25: 0.74699540460622482, 32.25: 0.0053256215604604628, 36.5: 0.011248333505528639, 33.25: 0.0055373530109410971, 39.75: 0.0053256215604604628, 37.5: 0.0013580860592979933, 30.0: 0.0053256215604604628, 31.0: 0.0053256215604604628, 32.0: 0.0053256215604604628, 33.0: 0.0053256215604604628, 34.0: 0.0012218787241209516, 33.75: 0.0053256215604604628, 36.0: 0.057508758907109415, 37.0: 0.00586436516260709, 31.5: 0.0053256215604604628, 39.0: 0.0053256215604604628, 40.0: 0.0053256215604604628, 34.25: 0.0012099815071343098, 34.5: 0.0053256215604604628, 35.0: 0.0012306391618335378, 31.25: 0.0053256215604604628, 38.25: 0.0023854999893200071, 31.75: 0.0053256215604604628, 34.75: 0.0012090148116891603, 39.25: 0.0053256215604604628, 38.5: 0.0053256215604604628, 38.75: 0.0053256215604604628, 35.25: 0.0053256215604604628, 37.75: 0.0067382760813483227, 35.5: 0.0017970264661348505, 32.75: 0.0053256215604604628, 33.5: 0.0014002921789482818, 35.75: 0.0020950696379490956, 38.0: 0.016499703640492837, 39.5: 0.0053256215604604628, 36.25: 0.007885399098266797, 30.75: 0.0053256215604604628, 32.5: 0.0053256215604604628}, {30.25: 0.0029618828892916424, 30.5: 0.0029618828892916424, 36.75: 0.0029618828892916424, 37.25: 0.0003736520015478418, 32.25: 0.0029618828892916424, 36.5: 0.044784257252602974, 33.25: 0.0032071291795547573, 39.75: 0.0029618828892916424, 37.5: 0.67981443338212311, 30.0: 0.0029618828892916424, 31.0: 0.0029618828892916424, 32.0: 0.0029618828892916424, 33.0: 0.0029618828892916424, 34.0: 0.00071905820513763145, 33.75: 0.0029618828892916424, 36.0: 0.0021784678359813114, 37.0: 0.11309058604833987, 31.5: 0.0029618828892916424, 39.0: 0.0029618828892916424, 40.0: 0.0029618828892916424, 34.25: 0.00071349396985497112, 34.5: 0.0029618828892916424, 35.0: 0.00069688090599493661, 31.25: 0.0029618828892916424, 38.25: 0.017926139506881406, 31.75: 0.0029618828892916424, 34.75: 0.00071425764754832512, 39.25: 0.0029618828892916424, 38.5: 0.0029618828892916424, 38.75: 0.0029618828892916424, 35.25: 0.0029618828892916424, 37.75: 0.00077398020928300636, 35.5: 0.0003412925662805326, 32.75: 0.0029618828892916424, 33.5: 0.00087378440888512493, 35.75: 0.019337124501054754, 38.0: 0.014564842233649049, 39.5: 0.0029618828892916424, 36.25: 0.028805430802279409, 30.75: 0.0029618828892916424, 32.5: 0.0029618828892916424}, {30.25: 0.0048547534420853656, 30.5: 0.0048547534420853656, 36.75: 0.0048547534420853656, 37.25: 0.029861679059999934, 32.25: 0.0048547534420853656, 36.5: 0.024778701071133571, 33.25: 0.0050595543534511069, 39.75: 0.0048547534420853656, 37.5: 0.00098513535182393093, 30.0: 0.0048547534420853656, 31.0: 0.0048547534420853656, 32.0: 0.0048547534420853656, 33.0: 0.0048547534420853656, 34.0: 0.0011002963761099218, 33.75: 0.0048547534420853656, 36.0: 0.0045272903746943231, 37.0: 0.0027691574938061877, 31.5: 0.0048547534420853656, 39.0: 0.0048547534420853656, 40.0: 0.0048547534420853656, 34.25: 0.0010951145987822121, 34.5: 0.0048547534420853656, 35.0: 0.0010711160158847432, 31.25: 0.0048547534420853656, 38.25: 0.0024557123450784138, 31.75: 0.0048547534420853656, 34.75: 0.0010938298252373441, 39.25: 0.0048547534420853656, 38.5: 0.0048547534420853656, 38.75: 0.0048547534420853656, 35.25: 0.0048547534420853656, 37.75: 0.70055597269275338, 35.5: 0.037237262093615102, 32.75: 0.0048547534420853656, 33.5: 0.001237156259701139, 35.75: 0.0012276474449815088, 38.0: 0.0037338343121790019, 39.5: 0.0048547534420853656, 36.25: 0.064696457720717943, 30.75: 0.0048547534420853656, 32.5: 0.0048547534420853656}, {30.25: 0.0027300563533187985, 30.5: 0.0027300563533187985, 36.75: 0.0027300563533187985, 37.25: 0.00088766851397170394, 32.25: 0.0027300563533187985, 36.5: 0.076121664493834063, 33.25: 0.0029118280774350375, 39.75: 0.0027300563533187985, 37.5: 0.019139273848649222, 30.0: 0.0027300563533187985, 31.0: 0.0027300563533187985, 32.0: 0.0027300563533187985, 33.0: 0.0027300563533187985, 34.0: 0.00063549683887767841, 33.75: 0.0027300563533187985, 36.0: 0.0011720968237304004, 37.0: 0.098233254782114809, 31.5: 0.0027300563533187985, 39.0: 0.0027300563533187985, 40.0: 0.0027300563533187985, 34.25: 0.00063216338265198143, 34.5: 0.0027300563533187985, 35.0: 0.0015806371747916098, 31.25: 0.0027300563533187985, 38.25: 0.64082352735790638, 31.75: 0.0027300563533187985, 34.75: 0.00063100941853368609, 39.25: 0.0027300563533187985, 38.5: 0.0027300563533187985, 38.75: 0.0027300563533187985, 35.25: 0.0027300563533187985, 37.75: 0.0015366229699091212, 35.5: 0.00038928767004409929, 32.75: 0.0027300563533187985, 33.5: 0.00071947383516136746, 35.75: 0.02244528502385228, 38.0: 0.022420815054537063, 39.5: 0.0027300563533187985, 36.25: 0.044198542254347079, 30.75: 0.0027300563533187985, 32.5: 0.0027300563533187985}, {30.25: 0.0025652001998348866, 30.5: 0.0025652001998348866, 36.75: 0.0025652001998348866, 37.25: 0.0085469543602757787, 32.25: 0.0025652001998348866, 36.5: 0.1822932469374107, 33.25: 0.002677288807546742, 39.75: 0.0025652001998348866, 37.5: 0.02041178579801314, 30.0: 0.0025652001998348866, 31.0: 0.0025652001998348866, 32.0: 0.0025652001998348866, 33.0: 0.0025652001998348866, 34.0: 0.00059271326637183987, 33.75: 0.0025652001998348866, 36.0: 0.002562661367907222, 37.0: 0.05185982312028381, 31.5: 0.0025652001998348866, 39.0: 0.0025652001998348866, 40.0: 0.0025652001998348866, 34.25: 0.0005846462827291956, 34.5: 0.0025652001998348866, 35.0: 0.00057083001295057804, 31.25: 0.0025652001998348866, 38.25: 0.022608495230711317, 31.75: 0.0025652001998348866, 34.75: 0.0006210977617013587, 39.25: 0.0025652001998348866, 38.5: 0.0025652001998348866, 38.75: 0.0025652001998348866, 35.25: 0.0025652001998348866, 37.75: 0.00227151544886237, 35.5: 0.00096412442671306474, 32.75: 0.0025652001998348866, 33.5: 0.00067140660739634648, 35.75: 0.0082899709370855695, 38.0: 0.59838834461009427, 39.5: 0.0025652001998348866, 36.25: 0.034520290227907875, 30.75: 0.0025652001998348866, 32.5: 0.0025652001998348866}, {30.25: 0.0027771764457703708, 30.5: 0.0027771764457703708, 36.75: 0.0027771764457703708, 37.25: 0.0012879158643536971, 32.25: 0.0027771764457703708, 36.5: 0.051433319327459884, 33.25: 0.0028901208072834726, 39.75: 0.0027771764457703708, 37.5: 0.57080341723313899, 30.0: 0.0027771764457703708, 31.0: 0.0027771764457703708, 32.0: 0.0027771764457703708, 33.0: 0.0027771764457703708, 34.0: 0.0006708679547559721, 33.75: 0.0027771764457703708, 36.0: 0.0010217057022882841, 37.0: 0.2054677664948702, 31.5: 0.0027771764457703708, 39.0: 0.0027771764457703708, 40.0: 0.0027771764457703708, 34.25: 0.00066434861788300099, 34.5: 0.0027771764457703708, 35.0: 0.00066367876171281393, 31.25: 0.0027771764457703708, 38.25: 0.015373013009887306, 31.75: 0.0027771764457703708, 34.75: 0.0006617444900506276, 39.25: 0.0027771764457703708, 38.5: 0.0027771764457703708, 38.75: 0.0027771764457703708, 35.25: 0.0027771764457703708, 37.75: 0.001807756985383417, 35.5: 0.00085072179410476104, 32.75: 0.0027771764457703708, 33.5: 0.00087648456551914504, 35.75: 0.016529238499802208, 38.0: 0.023639374880498644, 39.5: 0.0027771764457703708, 36.25: 0.038706290312517488, 30.75: 0.0027771764457703708, 32.5: 0.0027771764457703708}, {30.25: 0.0068027089653912099, 30.5: 0.0068027089653912099, 36.75: 0.0068027089653912099, 37.25: 0.70108201053764063, 32.25: 0.0068027089653912099, 36.5: 0.023070882548655813, 33.25: 0.0070763362835773898, 39.75: 0.0068027089653912099, 37.5: 0.0018669005355615956, 30.0: 0.0068027089653912099, 31.0: 0.0068027089653912099, 32.0: 0.0068027089653912099, 33.0: 0.0068027089653912099, 34.0: 0.0015482808711146932, 33.75: 0.0068027089653912099, 36.0: 0.011457408978215542, 37.0: 0.0066828952734947619, 31.5: 0.0068027089653912099, 39.0: 0.0068027089653912099, 40.0: 0.0068027089653912099, 34.25: 0.0015383238587893537, 34.5: 0.0068027089653912099, 35.0: 0.0015180598309819514, 31.25: 0.0068027089653912099, 38.25: 0.0050938942842237798, 31.75: 0.0068027089653912099, 34.75: 0.0015380763911145552, 39.25: 0.0068027089653912099, 38.5: 0.0068027089653912099, 38.75: 0.0068027089653912099, 35.25: 0.0068027089653912099, 37.75: 0.026221197246558154, 35.5: 0.0016631756615827933, 32.75: 0.0068027089653912099, 33.5: 0.0017588764541524712, 35.75: 0.032222192008793116, 38.0: 0.0047474801811028776, 39.5: 0.0068027089653912099, 36.25: 0.0076489938850504528, 30.75: 0.0068027089653912099, 32.5: 0.0068027089653912099}, {30.25: 0.0033664677857236764, 30.5: 0.0033664677857236764, 36.75: 0.0033664677857236764, 37.25: 0.0013888040499775119, 32.25: 0.0033664677857236764, 36.5: 0.03815610041050603, 33.25: 0.0036492742144995094, 39.75: 0.0033664677857236764, 37.5: 0.10894058113856649, 30.0: 0.0033664677857236764, 31.0: 0.0033664677857236764, 32.0: 0.0033664677857236764, 33.0: 0.0033664677857236764, 34.0: 0.00080400024663757042, 33.75: 0.0033664677857236764, 36.0: 0.002643554827796614, 37.0: 0.57178245117965054, 31.5: 0.0033664677857236764, 39.0: 0.0033664677857236764, 40.0: 0.0033664677857236764, 34.25: 0.00079855385316397786, 34.5: 0.0033664677857236764, 35.0: 0.00078217520667263113, 31.25: 0.0033664677857236764, 38.25: 0.046030067790345221, 31.75: 0.0033664677857236764, 34.75: 0.00079732879386529775, 39.25: 0.0033664677857236764, 38.5: 0.0033664677857236764, 38.75: 0.0033664677857236764, 35.25: 0.0033664677857236764, 37.75: 0.0015481541986424692, 35.5: 0.0042482736702068903, 32.75: 0.0033664677857236764, 33.5: 0.00092990081120120018, 35.75: 0.01002666362871938, 38.0: 0.043735872767155362, 39.5: 0.0033664677857236764, 36.25: 0.082943016355024338, 30.75: 0.0033664677857236764, 32.5: 0.0033664677857236764}, {30.25: 0.0040688106324409251, 30.5: 0.0040688106324409251, 36.75: 0.0040688106324409251, 37.25: 0.0048996135902929176, 32.25: 0.0040688106324409251, 36.5: 0.59120161718331421, 33.25: 0.0042374948762150333, 39.75: 0.0040688106324409251, 37.5: 0.060034921518902086, 30.0: 0.0040688106324409251, 31.0: 0.0040688106324409251, 32.0: 0.0040688106324409251, 33.0: 0.0040688106324409251, 34.0: 0.00093797002240776845, 33.75: 0.0040688106324409251, 36.0: 0.0065601087897634225, 37.0: 0.030940681808231354, 31.5: 0.0040688106324409251, 39.0: 0.0040688106324409251, 40.0: 0.0040688106324409251, 34.25: 0.00092734825435271374, 34.5: 0.0040688106324409251, 35.0: 0.00092931027382324189, 31.25: 0.0040688106324409251, 38.25: 0.019462021743730195, 31.75: 0.0040688106324409251, 34.75: 0.00092615823893716406, 39.25: 0.0040688106324409251, 38.5: 0.0040688106324409251, 38.75: 0.0040688106324409251, 35.25: 0.0040688106324409251, 37.75: 0.0058218843739499503, 35.5: 0.00057937643753977345, 32.75: 0.0040688106324409251, 33.5: 0.0010749661950450692, 35.75: 0.11575380504809889, 38.0: 0.041552196554613376, 39.5: 0.0040688106324409251, 36.25: 0.016509069912199519, 30.75: 0.0040688106324409251, 32.5: 0.0040688106324409251}, {30.25: 0.0040232579543551432, 30.5: 0.0040232579543551432, 36.75: 0.0040232579543551432, 37.25: 0.0017201435570871342, 32.25: 0.0040232579543551432, 36.5: 0.0013765090229148321, 33.25: 0.004214315171179173, 39.75: 0.0040232579543551432, 37.5: 0.0022947574064455553, 30.0: 0.0040232579543551432, 31.0: 0.0040232579543551432, 32.0: 0.0040232579543551432, 33.0: 0.0040232579543551432, 34.0: 0.00095898897531625097, 33.75: 0.0040232579543551432, 36.0: 0.0014262705187040956, 37.0: 0.004702021015122247, 31.5: 0.0040232579543551432, 39.0: 0.0040232579543551432, 40.0: 0.0040232579543551432, 34.25: 0.00094813992737483456, 34.5: 0.0040232579543551432, 35.0: 0.00093095025027603107, 31.25: 0.0040232579543551432, 38.25: 0.0011723902232030836, 31.75: 0.0040232579543551432, 34.75: 0.00094777041564359009, 39.25: 0.0040232579543551432, 38.5: 0.0040232579543551432, 38.75: 0.0040232579543551432, 35.25: 0.0040232579543551432, 37.75: 0.048990852429839582, 35.5: 0.26386100674718577, 32.75: 0.0040232579543551432, 33.5: 0.0011924642125770448, 35.75: 0.00080349663752322898, 38.0: 0.0017900422114195029, 39.5: 0.0040232579543551432, 36.25: 0.56611169037366382, 30.75: 0.0040232579543551432, 32.5: 0.0040232579543551432}, {30.25: 0.0043066920750673265, 30.5: 0.0043066920750673265, 36.75: 0.0043066920750673265, 37.25: 0.011624512500839864, 32.25: 0.0043066920750673265, 36.5: 0.0033711542046084113, 33.25: 0.0046200820519560837, 39.75: 0.0043066920750673265, 37.5: 0.0010382883974148084, 30.0: 0.0043066920750673265, 31.0: 0.0043066920750673265, 32.0: 0.0043066920750673265, 33.0: 0.0043066920750673265, 34.0: 0.0010186868655188445, 33.75: 0.0043066920750673265, 36.0: 0.0013821661416799779, 37.0: 0.00051617371943193306, 31.5: 0.0043066920750673265, 39.0: 0.0043066920750673265, 40.0: 0.0043066920750673265, 34.25: 0.0010110799303892489, 34.5: 0.0043066920750673265, 35.0: 0.0029068064477039209, 31.25: 0.0043066920750673265, 38.25: 0.0044812980515519163, 31.75: 0.0043066920750673265, 34.75: 0.0010095034361452507, 39.25: 0.0043066920750673265, 38.5: 0.0043066920750673265, 38.75: 0.0043066920750673265, 35.25: 0.0043066920750673265, 37.75: 0.0010412485072358898, 35.5: 0.0004546922167966931, 32.75: 0.0043066920750673265, 33.5: 0.0011781508271809093, 35.75: 0.85947428366610013, 38.0: 0.0010010954231127955, 39.5: 0.0043066920750673265, 36.25: 0.00051016781071644098, 30.75: 0.0043066920750673265, 32.5: 0.0043066920750673265}, {30.25: 0.0022341216897262934, 30.5: 0.0022341216897262934, 36.75: 0.0022341216897262934, 37.25: 0.00023874987192190711, 32.25: 0.0022341216897262934, 36.5: 0.00023820674455770672, 33.25: 0.0024485585163322096, 39.75: 0.0022341216897262934, 37.5: 0.00049156801864092144, 30.0: 0.0022341216897262934, 31.0: 0.0022341216897262934, 32.0: 0.0022341216897262934, 33.0: 0.0022341216897262934, 34.0: 0.00054075599013727498, 33.75: 0.0022341216897262934, 36.0: 0.0034972280689130257, 37.0: 0.00050696224036160498, 31.5: 0.0022341216897262934, 39.0: 0.0022341216897262934, 40.0: 0.0022341216897262934, 34.25: 0.00053657313808846312, 34.5: 0.0022341216897262934, 35.0: 0.00053367268483127286, 31.25: 0.0022341216897262934, 38.25: 0.0005371406408875947, 31.75: 0.0022341216897262934, 34.75: 0.00062454333023566854, 39.25: 0.0022341216897262934, 38.5: 0.0022341216897262934, 38.75: 0.0022341216897262934, 35.25: 0.0022341216897262934, 37.75: 0.010796662228604832, 35.5: 0.91781250108629175, 32.75: 0.0022341216897262934, 33.5: 0.00062773750862707217, 35.75: 0.00024311144764409839, 38.0: 0.00067977812066159077, 39.5: 0.0022341216897262934, 36.25: 0.006027329809830043, 30.75: 0.0022341216897262934, 32.5: 0.0022341216897262934}, {30.25: 0.0016430706810447284, 30.5: 0.0016430706810447284, 36.75: 0.0016430706810447284, 37.25: 0.00018074697885817252, 32.25: 0.0016430706810447284, 36.5: 0.00029876503058358524, 33.25: 0.0017600575345843319, 39.75: 0.0016430706810447284, 37.5: 0.00018435653990275634, 30.0: 0.0016430706810447284, 31.0: 0.0016430706810447284, 32.0: 0.0016430706810447284, 33.0: 0.0016430706810447284, 34.0: 0.00038933702214947921, 33.75: 0.0016430706810447284, 36.0: 0.00036151298300974753, 37.0: 0.00016978621926611493, 31.5: 0.0016430706810447284, 39.0: 0.0016430706810447284, 40.0: 0.0016430706810447284, 34.25: 0.0003902785316212701, 34.5: 0.0016430706810447284, 35.0: 0.95184709187268801, 31.25: 0.0016430706810447284, 38.25: 0.00087499480048189705, 31.75: 0.0016430706810447284, 34.75: 0.00075674386455344158, 39.25: 0.0016430706810447284, 38.5: 0.0016430706810447284, 38.75: 0.0016430706810447284, 35.25: 0.0016430706810447284, 37.75: 0.00038309328723976869, 35.5: 0.00017829269545702956, 32.75: 0.0016430706810447284, 33.5: 0.00045142030504729364, 35.75: 0.0017231295912917099, 38.0: 0.0003757152417504314, 39.5: 0.0016430706810447284, 36.25: 0.00024098115643928313, 30.75: 0.0016430706810447284, 32.5: 0.0016430706810447284}, {30.25: 0.001346400060192649, 30.5: 0.001346400060192649, 36.75: 0.001346400060192649, 37.25: 0.00013949123853961728, 32.25: 0.001346400060192649, 36.5: 0.00014064756131157885, 33.25: 0.0014306856732718809, 39.75: 0.001346400060192649, 37.5: 0.00014853446009487517, 30.0: 0.001346400060192649, 31.0: 0.001346400060192649, 32.0: 0.001346400060192649, 33.0: 0.001346400060192649, 34.0: 0.00032149262977333742, 33.75: 0.001346400060192649, 36.0: 0.00036729778088786787, 37.0: 0.00014212756251691163, 31.5: 0.001346400060192649, 39.0: 0.001346400060192649, 40.0: 0.001346400060192649, 34.25: 0.006654084809433059, 34.5: 0.001346400060192649, 35.0: 0.00065202505679553971, 31.25: 0.001346400060192649, 38.25: 0.00031540402215212197, 31.75: 0.001346400060192649, 34.75: 0.95589704777179874, 39.25: 0.001346400060192649, 38.5: 0.001346400060192649, 38.75: 0.001346400060192649, 35.25: 0.001346400060192649, 37.75: 0.00030633564055533921, 35.5: 0.00017346346083335452, 32.75: 0.001346400060192649, 33.5: 0.00037691415707696499, 35.75: 0.000144801758522461, 38.0: 0.00032969781581378415, 39.5: 0.001346400060192649, 36.25: 0.00014634715599734394, 30.75: 0.001346400060192649, 32.5: 0.001346400060192649}, {30.25: 0.0015693302196040475, 30.5: 0.0015693302196040475, 36.75: 0.0015693302196040475, 37.25: 0.00016570058654995798, 32.25: 0.0015693302196040475, 36.5: 0.00016534673103383974, 33.25: 0.0016478143055780816, 39.75: 0.0015693302196040475, 37.5: 0.0001783859188554956, 30.0: 0.0015693302196040475, 31.0: 0.0015693302196040475, 32.0: 0.0015693302196040475, 33.0: 0.0015693302196040475, 34.0: 0.00075800991061589218, 33.75: 0.0015693302196040475, 36.0: 0.00034868262181744238, 37.0: 0.00016513692514100346, 31.5: 0.0015693302196040475, 39.0: 0.0015693302196040475, 40.0: 0.0015693302196040475, 34.25: 0.94855793462122118, 34.5: 0.0015693302196040475, 35.0: 0.00036785914280098436, 31.25: 0.0015693302196040475, 38.25: 0.00037357071084501576, 31.75: 0.0015693302196040475, 34.75: 0.0078875983780433336, 39.25: 0.0015693302196040475, 38.5: 0.0015693302196040475, 38.75: 0.0015693302196040475, 35.25: 0.0015693302196040475, 37.75: 0.00036620654449538394, 35.5: 0.00016987456299349834, 32.75: 0.0015693302196040475, 33.5: 0.00047988256276659965, 35.75: 0.00017354049404672323, 38.0: 0.00035902862402091394, 39.5: 0.0015693302196040475, 36.25: 0.00017150208867550105, 30.75: 0.0015693302196040475, 32.5: 0.0015693302196040475}, {30.25: 0.0028711867760288379, 30.5: 0.0028711867760288379, 36.75: 0.0028711867760288379, 37.25: 0.00031642087778376075, 32.25: 0.0028711867760288379, 36.5: 0.00031517974291107983, 33.25: 0.0030073372173944042, 39.75: 0.0028711867760288379, 37.5: 0.00034506465543471097, 30.0: 0.0028711867760288379, 31.0: 0.0028711867760288379, 32.0: 0.0028711867760288379, 33.0: 0.0028711867760288379, 34.0: 0.91926123122881265, 33.75: 0.0028711867760288379, 36.0: 0.00065200816882094088, 37.0: 0.00031496384893016507, 31.5: 0.0028711867760288379, 39.0: 0.0028711867760288379, 40.0: 0.0028711867760288379, 34.25: 0.0013659937870289694, 34.5: 0.0028711867760288379, 35.0: 0.00069908396986096224, 31.25: 0.0028711867760288379, 38.25: 0.00071016489196008262, 31.75: 0.0028711867760288379, 34.75: 0.00071674878800850742, 39.25: 0.0028711867760288379, 38.5: 0.0028711867760288379, 38.75: 0.0028711867760288379, 35.25: 0.0028711867760288379, 37.75: 0.00069982248895193483, 35.5: 0.00033103373918985966, 32.75: 0.0028711867760288379, 33.5: 0.0010259205767147895, 35.75: 0.00033504456682518992, 38.0: 0.00067163077128193035, 39.5: 0.0028711867760288379, 36.25: 0.00032386805539588032, 30.75: 0.0028711867760288379, 32.5: 0.0028711867760288379}, {30.25: 0.0072762396331836066, 30.5: 0.0072762396331836066, 36.75: 0.0072762396331836066, 37.25: 0.00088464822434034408, 32.25: 0.0072762396331836066, 36.5: 0.00088462632759996561, 33.25: 0.0076478062521021439, 39.75: 0.0072762396331836066, 37.5: 0.00097038034436847651, 30.0: 0.0072762396331836066, 31.0: 0.0072762396331836066, 32.0: 0.0072762396331836066, 33.0: 0.0072762396331836066, 34.0: 0.0020133977847280483, 33.75: 0.0072762396331836066, 36.0: 0.0017466255963232101, 37.0: 0.00088420573974177608, 31.5: 0.0072762396331836066, 39.0: 0.0072762396331836066, 40.0: 0.0072762396331836066, 34.25: 0.0019318090672666788, 34.5: 0.0072762396331836066, 35.0: 0.0018809146107581752, 31.25: 0.0072762396331836066, 38.25: 0.0019296819888394647, 31.75: 0.0072762396331836066, 34.75: 0.0019295891813083412, 39.25: 0.0072762396331836066, 38.5: 0.0072762396331836066, 38.75: 0.0072762396331836066, 35.25: 0.0072762396331836066, 37.75: 0.0018827303939872022, 35.5: 0.00092600806710586056, 32.75: 0.0072762396331836066, 33.5: 0.79621272954517763, 35.75: 0.00094575671216147537, 38.0: 0.0017930961779481314, 39.5: 0.0072762396331836066, 36.25: 0.00090624278983471003, 30.75: 0.0072762396331836066, 32.5: 0.0072762396331836066}, {30.25: 0.023098134887510852, 30.5: 0.023098134887510852, 36.75: 0.023098134887510852, 37.25: 0.0044231824265059672, 32.25: 0.023098134887510852, 36.5: 0.004423077955275254, 33.25: 0.3475610157420147, 39.75: 0.023098134887510852, 37.5: 0.004532841871043386, 30.0: 0.023098134887510852, 31.0: 0.023098134887510852, 32.0: 0.023098134887510852, 33.0: 0.023098134887510852, 34.0: 0.0075081995364641397, 33.75: 0.023098134887510852, 36.0: 0.0073190626922127163, 37.0: 0.0044209425992492724, 31.5: 0.023098134887510852, 39.0: 0.023098134887510852, 40.0: 0.023098134887510852, 34.25: 0.0075078090497536143, 34.5: 0.023098134887510852, 35.0: 0.0073159163789345873, 31.25: 0.023098134887510852, 38.25: 0.0074995664039313832, 31.75: 0.023098134887510852, 34.75: 0.0074992470004874951, 39.25: 0.023098134887510852, 38.5: 0.023098134887510852, 38.75: 0.023098134887510852, 35.25: 0.023098134887510852, 37.75: 0.0073229856783593849, 35.5: 0.0043316901647789553, 32.75: 0.023098134887510852, 33.5: 0.0075225513142110796, 35.75: 0.004421220950686173, 38.0: 0.0075078253749650088, 39.5: 0.023098134887510852, 36.25: 0.0045276275608646952, 30.75: 0.023098134887510852, 32.5: 0.023098134887510852}]\n"
     ]
    }
   ],
   "source": [
    "fwd, bkw, posterior = fwd_bkw(discrete_ratio, discrete_states, starting_prob, transition_f, emission_f, obs_states)\n",
    "print len(posterior)\n",
    "print posterior"
   ]
  },
  {
   "cell_type": "markdown",
   "metadata": {},
   "source": [
    "This method gives the highest likelihood of each state for each consecutive year during the 24 years span. We extract the highest probability each year to plot the results."
   ]
  },
  {
   "cell_type": "code",
   "execution_count": 684,
   "metadata": {
    "collapsed": false
   },
   "outputs": [
    {
     "name": "stdout",
     "output_type": "stream",
     "text": [
      "[  0.    35.75  36.    36.25  36.5   37.    37.25  37.5   37.75  38.25  38.\n",
      "  37.5   37.25  37.    36.5   36.25  35.75  35.5   35.    34.75  34.25  34.\n",
      "  33.5   33.25]\n"
     ]
    },
    {
     "data": {
      "text/plain": [
       "array([ 0.        ,  0.73149557,  0.67172685,  0.49284679,  0.59382251,\n",
       "        0.55075334,  0.7469954 ,  0.67981443,  0.70055597,  0.64082353,\n",
       "        0.59838834,  0.57080342,  0.70108201,  0.57178245,  0.59120162,\n",
       "        0.56611169,  0.85947428,  0.9178125 ,  0.95184709,  0.95589705,\n",
       "        0.94855793,  0.91926123,  0.79621273,  0.34756102])"
      ]
     },
     "execution_count": 684,
     "metadata": {},
     "output_type": "execute_result"
    }
   ],
   "source": [
    "results=np.zeros(len(posterior))\n",
    "prob=np.zeros(len(posterior))\n",
    "\n",
    "for i in range(len(posterior)):\n",
    "    year=posterior[i]\n",
    "    if i==0:\n",
    "        results[i]=0\n",
    "    else:\n",
    "        tresh=0\n",
    "        state=0\n",
    "        for st in discrete_states:\n",
    "            if year[st]>tresh:\n",
    "                tresh=year[st]\n",
    "                state=st\n",
    "        results[i]=state\n",
    "        prob[i]=tresh\n",
    "        \n",
    "print results\n",
    "prob\n",
    "    "
   ]
  },
  {
   "cell_type": "code",
   "execution_count": 685,
   "metadata": {
    "collapsed": false
   },
   "outputs": [
    {
     "data": {
      "text/plain": [
       "<matplotlib.text.Text at 0x1122dedd0>"
      ]
     },
     "execution_count": 685,
     "metadata": {},
     "output_type": "execute_result"
    },
    {
     "data": {
      "image/png": "[encoded data removed]",
      "text/plain": [
       "<matplotlib.figure.Figure at 0x10efa8590>"
      ]
     },
     "metadata": {},
     "output_type": "display_data"
    }
   ],
   "source": [
    "plt.figure(figsize=(8,6))\n",
    "plt.plot(years,results,label=\"Estimation\")\n",
    "plt.plot(years,actual_deer,label=\"Actual\")\n",
    "plt.legend()\n",
    "plt.xlabel(\"Years\")\n",
    "plt.ylabel(\"Number of dears in Millions\")\n",
    "plt.title(\"Forward Backward algorithm\")"
   ]
  },
  {
   "cell_type": "markdown",
   "metadata": {},
   "source": [
    "## Kalman Filter"
   ]
  },
  {
   "cell_type": "code",
   "execution_count": null,
   "metadata": {
    "collapsed": true
   },
   "outputs": [],
   "source": [
    "## Compare later with built in function"
   ]
  },
  {
   "cell_type": "code",
   "execution_count": null,
   "metadata": {
    "collapsed": true
   },
   "outputs": [],
   "source": [
    "from pykalman import KalmanFilter\n",
    "\n",
    "kf = KalmanFilter(transition_matrices = [[1, 1], [0, 1]], observation_matrices = [[0.1, 0.5], [-0.3, 0.0]])\n",
    "measurements = np.asarray([[1,0], [0,0], [0,1]])  # 3 observations\n",
    "kf = kf.em(measurements, n_iter=5)\n",
    "(filtered_state_means, filtered_state_covariances) = kf.filter(measurements)\n",
    "(smoothed_state_means, smoothed_state_covariances) = kf.smooth(measurements)"
   ]
  },
  {
   "cell_type": "code",
   "execution_count": 558,
   "metadata": {
    "collapsed": true
   },
   "outputs": [],
   "source": [
    "def kf_predict(X, P, A, Q, B, U):\n",
    "    X = np.dot(A, X) + np.dot(B, U)\n",
    "    P = np.dot(A, np.dot(P, A.T)) + Q\n",
    "    return(X,P)\n",
    " \n",
    "def gauss_pdf(X, M, S):\n",
    "    if np.shape(M)[1] == 1:\n",
    "        DX=X - np.tile(M, np.shape(X)[1])\n",
    "        E=0.5 * np.sum(DX * (np.dot(inv(S), DX)), axis=0)\n",
    "        E=E + 0.5 * np.shape(M)[0] * np.log(2 * np.pi) + 0.5 * np.log(det(S))\n",
    "        P=np.exp(-E)\n",
    "    elif np.shape(X)[1] == 1:\n",
    "        DX=np.tile(X, np.shape(M)[1])- M\n",
    "        E=0.5 * np.sum(DX * (np.dot(inv(S), DX)), axis=0)\n",
    "        E=E + 0.5 * np.shape(M)[0] * np.log(2 * np.pi) + 0.5 * np.log(det(S))\n",
    "        P=np.exp(-E)\n",
    "    else:\n",
    "        DX=X-M\n",
    "        E=0.5 * np.dot(DX.T, np.dot(inv(S), DX))\n",
    "        E=E + 0.5 * np.shape(M)[0] * np.log(2 * np.pi) + 0.5 * np.log(det(S))\n",
    "        P=np.exp(-E)\n",
    "        \n",
    "    return (P[0],E[0]) \n",
    "\n",
    "def kf_update(X, P, Y, H, R):\n",
    "    IM=np.dot(H, X)\n",
    "    IS=R + np.dot(H, np.dot(P, H.T))\n",
    "    K=np.dot(P, np.dot(H.T, inv(IS)))\n",
    "    X=X + np.dot(K, (Y-IM))\n",
    "    P=P-np.dot(K, np.dot(IS, K.T))\n",
    "    LH=gauss_pdf(Y, IM, IS)\n",
    "    return (X,P,K,IM,IS,LH)\n",
    "    \n"
   ]
  },
  {
   "cell_type": "code",
   "execution_count": 559,
   "metadata": {
    "collapsed": false
   },
   "outputs": [
    {
     "data": {
      "text/plain": [
       "4"
      ]
     },
     "execution_count": 559,
     "metadata": {},
     "output_type": "execute_result"
    }
   ],
   "source": [
    "X =([[0.0], [0.0], [0.1], [0.1]])\n",
    "np.shape(X)[0]"
   ]
  },
  {
   "cell_type": "code",
   "execution_count": 584,
   "metadata": {
    "collapsed": false
   },
   "outputs": [
    {
     "ename": "ValueError",
     "evalue": "shapes (41,9) and (41,1) not aligned: 9 (dim 1) != 41 (dim 0)",
     "output_type": "error",
     "traceback": [
      "\u001b[0;31m---------------------------------------------------------------------------\u001b[0m",
      "\u001b[0;31mValueError\u001b[0m                                Traceback (most recent call last)",
      "\u001b[0;32m<ipython-input-584-138b62eba163>\u001b[0m in \u001b[0;36m<module>\u001b[0;34m()\u001b[0m\n\u001b[1;32m     21\u001b[0m \u001b[0;31m# Applying the Kalman Filter\u001b[0m\u001b[0;34m\u001b[0m\u001b[0;34m\u001b[0m\u001b[0m\n\u001b[1;32m     22\u001b[0m \u001b[0;32mfor\u001b[0m \u001b[0mi\u001b[0m \u001b[0;32min\u001b[0m \u001b[0mnp\u001b[0m\u001b[0;34m.\u001b[0m\u001b[0marange\u001b[0m\u001b[0;34m(\u001b[0m\u001b[0;36m0\u001b[0m\u001b[0;34m,\u001b[0m \u001b[0mN_iter\u001b[0m\u001b[0;34m)\u001b[0m\u001b[0;34m:\u001b[0m\u001b[0;34m\u001b[0m\u001b[0m\n\u001b[0;32m---> 23\u001b[0;31m     \u001b[0;34m(\u001b[0m\u001b[0mX\u001b[0m\u001b[0;34m,\u001b[0m \u001b[0mP\u001b[0m\u001b[0;34m)\u001b[0m \u001b[0;34m=\u001b[0m \u001b[0mkf_predict\u001b[0m\u001b[0;34m(\u001b[0m\u001b[0mX\u001b[0m\u001b[0;34m,\u001b[0m \u001b[0mP\u001b[0m\u001b[0;34m,\u001b[0m \u001b[0mA\u001b[0m\u001b[0;34m,\u001b[0m \u001b[0mQ\u001b[0m\u001b[0;34m,\u001b[0m \u001b[0mB\u001b[0m\u001b[0;34m,\u001b[0m \u001b[0mU\u001b[0m\u001b[0;34m)\u001b[0m\u001b[0;34m\u001b[0m\u001b[0m\n\u001b[0m\u001b[1;32m     24\u001b[0m     \u001b[0;34m(\u001b[0m\u001b[0mX\u001b[0m\u001b[0;34m,\u001b[0m \u001b[0mP\u001b[0m\u001b[0;34m,\u001b[0m \u001b[0mK\u001b[0m\u001b[0;34m,\u001b[0m \u001b[0mIM\u001b[0m\u001b[0;34m,\u001b[0m \u001b[0mIS\u001b[0m\u001b[0;34m,\u001b[0m \u001b[0mLH\u001b[0m\u001b[0;34m)\u001b[0m \u001b[0;34m=\u001b[0m \u001b[0mkf_update\u001b[0m\u001b[0;34m(\u001b[0m\u001b[0mX\u001b[0m\u001b[0;34m,\u001b[0m \u001b[0mP\u001b[0m\u001b[0;34m,\u001b[0m \u001b[0mY\u001b[0m\u001b[0;34m,\u001b[0m \u001b[0mH\u001b[0m\u001b[0;34m,\u001b[0m \u001b[0mR\u001b[0m\u001b[0;34m)\u001b[0m\u001b[0;34m\u001b[0m\u001b[0m\n\u001b[1;32m     25\u001b[0m     \u001b[0mY\u001b[0m \u001b[0;34m=\u001b[0m \u001b[0mnp\u001b[0m\u001b[0;34m.\u001b[0m\u001b[0marray\u001b[0m\u001b[0;34m(\u001b[0m\u001b[0;34m[\u001b[0m\u001b[0;34m[\u001b[0m\u001b[0mX\u001b[0m\u001b[0;34m[\u001b[0m\u001b[0;36m0\u001b[0m\u001b[0;34m,\u001b[0m\u001b[0;36m0\u001b[0m\u001b[0;34m]\u001b[0m \u001b[0;34m+\u001b[0m \u001b[0mabs\u001b[0m\u001b[0;34m(\u001b[0m\u001b[0;36m0.1\u001b[0m \u001b[0;34m*\u001b[0m \u001b[0mnp\u001b[0m\u001b[0;34m.\u001b[0m\u001b[0mrandom\u001b[0m\u001b[0;34m.\u001b[0m\u001b[0mrandn\u001b[0m\u001b[0;34m(\u001b[0m\u001b[0;36m1\u001b[0m\u001b[0;34m)\u001b[0m\u001b[0;34m[\u001b[0m\u001b[0;36m0\u001b[0m\u001b[0;34m]\u001b[0m\u001b[0;34m)\u001b[0m\u001b[0;34m]\u001b[0m\u001b[0;34m,\u001b[0m\u001b[0;34m[\u001b[0m\u001b[0mX\u001b[0m\u001b[0;34m[\u001b[0m\u001b[0;36m1\u001b[0m\u001b[0;34m,\u001b[0m \u001b[0;36m0\u001b[0m\u001b[0;34m]\u001b[0m \u001b[0;34m+\u001b[0m    \u001b[0mabs\u001b[0m\u001b[0;34m(\u001b[0m\u001b[0;36m0.1\u001b[0m \u001b[0;34m*\u001b[0m \u001b[0mnp\u001b[0m\u001b[0;34m.\u001b[0m\u001b[0mrandom\u001b[0m\u001b[0;34m.\u001b[0m\u001b[0mrandn\u001b[0m\u001b[0;34m(\u001b[0m\u001b[0;36m1\u001b[0m\u001b[0;34m)\u001b[0m\u001b[0;34m[\u001b[0m\u001b[0;36m0\u001b[0m\u001b[0;34m]\u001b[0m\u001b[0;34m)\u001b[0m\u001b[0;34m]\u001b[0m\u001b[0;34m]\u001b[0m\u001b[0;34m)\u001b[0m\u001b[0;34m\u001b[0m\u001b[0m\n",
      "\u001b[0;32m<ipython-input-558-96eec2b67e67>\u001b[0m in \u001b[0;36mkf_predict\u001b[0;34m(X, P, A, Q, B, U)\u001b[0m\n\u001b[1;32m      1\u001b[0m \u001b[0;32mdef\u001b[0m \u001b[0mkf_predict\u001b[0m\u001b[0;34m(\u001b[0m\u001b[0mX\u001b[0m\u001b[0;34m,\u001b[0m \u001b[0mP\u001b[0m\u001b[0;34m,\u001b[0m \u001b[0mA\u001b[0m\u001b[0;34m,\u001b[0m \u001b[0mQ\u001b[0m\u001b[0;34m,\u001b[0m \u001b[0mB\u001b[0m\u001b[0;34m,\u001b[0m \u001b[0mU\u001b[0m\u001b[0;34m)\u001b[0m\u001b[0;34m:\u001b[0m\u001b[0;34m\u001b[0m\u001b[0m\n\u001b[0;32m----> 2\u001b[0;31m     \u001b[0mX\u001b[0m \u001b[0;34m=\u001b[0m \u001b[0mnp\u001b[0m\u001b[0;34m.\u001b[0m\u001b[0mdot\u001b[0m\u001b[0;34m(\u001b[0m\u001b[0mA\u001b[0m\u001b[0;34m,\u001b[0m \u001b[0mX\u001b[0m\u001b[0;34m)\u001b[0m \u001b[0;34m+\u001b[0m \u001b[0mnp\u001b[0m\u001b[0;34m.\u001b[0m\u001b[0mdot\u001b[0m\u001b[0;34m(\u001b[0m\u001b[0mB\u001b[0m\u001b[0;34m,\u001b[0m \u001b[0mU\u001b[0m\u001b[0;34m)\u001b[0m\u001b[0;34m\u001b[0m\u001b[0m\n\u001b[0m\u001b[1;32m      3\u001b[0m     \u001b[0mP\u001b[0m \u001b[0;34m=\u001b[0m \u001b[0mnp\u001b[0m\u001b[0;34m.\u001b[0m\u001b[0mdot\u001b[0m\u001b[0;34m(\u001b[0m\u001b[0mA\u001b[0m\u001b[0;34m,\u001b[0m \u001b[0mnp\u001b[0m\u001b[0;34m.\u001b[0m\u001b[0mdot\u001b[0m\u001b[0;34m(\u001b[0m\u001b[0mP\u001b[0m\u001b[0;34m,\u001b[0m \u001b[0mA\u001b[0m\u001b[0;34m.\u001b[0m\u001b[0mT\u001b[0m\u001b[0;34m)\u001b[0m\u001b[0;34m)\u001b[0m \u001b[0;34m+\u001b[0m \u001b[0mQ\u001b[0m\u001b[0;34m\u001b[0m\u001b[0m\n\u001b[1;32m      4\u001b[0m     \u001b[0;32mreturn\u001b[0m\u001b[0;34m(\u001b[0m\u001b[0mX\u001b[0m\u001b[0;34m,\u001b[0m\u001b[0mP\u001b[0m\u001b[0;34m)\u001b[0m\u001b[0;34m\u001b[0m\u001b[0m\n\u001b[1;32m      5\u001b[0m \u001b[0;34m\u001b[0m\u001b[0m\n",
      "\u001b[0;31mValueError\u001b[0m: shapes (41,9) and (41,1) not aligned: 9 (dim 1) != 41 (dim 0)"
     ]
    }
   ],
   "source": [
    "from numpy.linalg import *\n",
    "from numpy.linalg import inv \n",
    "#time step of observations\n",
    "dt = 1\n",
    "# Initialization of state matrices\n",
    "X = np.array(np.zeros((41,1)))\n",
    "X[0]=actual_deer[0]\n",
    "P = np.diag(np.zeros(41)*0.1)\n",
    "A = transition_f\n",
    "Q = np.eye(np.shape(X)[0])\n",
    "B = emission_f\n",
    "U = np.zeros((np.shape(X)[0],1)) \n",
    " \n",
    "    \n",
    "# Measurement matrices\n",
    "Y = np.array([[X[0,0] + abs(np.random.randn(1)[0])], [X[1,0] + abs(np.random.randn(1)[0])]])\n",
    "H = np.diag(np.zeros(41)*1)\n",
    "R = np.eye(np.shape(Y)[0])\n",
    "# Number of iterations in Kalman Filter\n",
    "N_iter = 50\n",
    "# Applying the Kalman Filter\n",
    "for i in np.arange(0, N_iter):\n",
    "    (X, P) = kf_predict(X, P, A, Q, B, U)\n",
    "    (X, P, K, IM, IS, LH) = kf_update(X, P, Y, H, R)\n",
    "    Y = np.array([[X[0,0] + abs(0.1 * np.random.randn(1)[0])],[X[1, 0] +\\\n",
    "    abs(0.1 * np.random.randn(1)[0])]])"
   ]
  },
  {
   "cell_type": "code",
   "execution_count": 585,
   "metadata": {
    "collapsed": false
   },
   "outputs": [],
   "source": [
    "# Initialization of state matrices\n",
    "X = np.array([[0.0], [0.0], [0.1], [0.1]])\n",
    "P = np.diag((0.01, 0.01, 0.01, 0.01))\n",
    "A = np.array([[1, 0, dt , 0], [0, 1, 0, dt], [0, 0, 1, 0], [0, 0, 0,1]])\n",
    "Q = np.eye(np.shape(X)[0])\n",
    "B = np.eye(np.shape(X)[0])\n",
    "U = np.zeros((np.shape(X)[0],1)) \n",
    " \n",
    "Y = np.array([[X[0,0] + abs(np.random.randn(1)[0])], [X[1,0] + abs(np.random.randn(1)[0])]])\n",
    "H = np.array([[1, 0, 0, 0], [0, 1, 0, 0]])\n",
    "R = np.eye(np.shape(Y)[0])\n",
    "\n",
    "# Number of iterations in Kalman Filter\n",
    "N_iter = 50\n",
    "# Applying the Kalman Filter\n",
    "for i in np.arange(0, N_iter):\n",
    "    (X, P) = kf_predict(X, P, A, Q, B, U)\n",
    "    (X, P, K, IM, IS, LH) = kf_update(X, P, Y, H, R)\n",
    "    Y = np.array([[X[0,0] + abs(0.1 * np.random.randn(1)[0])],[X[1, 0] +\\\n",
    "    abs(0.1 * np.random.randn(1)[0])]])"
   ]
  },
  {
   "cell_type": "code",
   "execution_count": 586,
   "metadata": {
    "collapsed": false
   },
   "outputs": [
    {
     "data": {
      "text/plain": [
       "array([[ 1.,  0.,  0.,  0.],\n",
       "       [ 0.,  1.,  0.,  0.],\n",
       "       [ 0.,  0.,  1.,  0.],\n",
       "       [ 0.,  0.,  0.,  1.]])"
      ]
     },
     "execution_count": 586,
     "metadata": {},
     "output_type": "execute_result"
    }
   ],
   "source": [
    "B"
   ]
  },
  {
   "cell_type": "code",
   "execution_count": 441,
   "metadata": {
    "collapsed": false
   },
   "outputs": [],
   "source": [
    "import pylab\n",
    "\n",
    "Q = 1e-5 # process variance\n",
    "\n",
    "n_iter=50\n",
    "\n",
    "# intial parameters\n",
    "sz=50\n",
    "\n",
    "xhat=numpy.zeros(sz)      # a posteri estimate of x\n",
    "P=numpy.zeros(sz)         # a posteri error estimate\n",
    "xhatminus=numpy.zeros(sz) # a priori estimate of x\n",
    "Pminus=numpy.zeros(sz)    # a priori error estimate\n",
    "K=numpy.zeros(sz)         # gain or blending factor\n",
    "\n",
    "R = 0.1**2 # estimate of measurement variance, change to see effect\n",
    "\n",
    "# intial guesses\n",
    "xhat[0] = 0.0\n",
    "P[0] = 1.0\n",
    "\n",
    "for k in range(1,sz):\n",
    "    # time update\n",
    "    xhatminus[k] = xhat[k-1]\n",
    "    Pminus[k] = P[k-1]+Q\n",
    "\n",
    "    # measurement update\n",
    "    K[k] = Pminus[k]/( Pminus[k]+R )\n",
    "    xhat[k] = xhatminus[k]+K[k]*(z[k]-xhatminus[k])\n",
    "    P[k] = (1-K[k])*Pminus[k]\n",
    "\n",
    "\n"
   ]
  }
 ],
 "metadata": {
  "kernelspec": {
   "display_name": "Python 2",
   "language": "python",
   "name": "python2"
  },
  "language_info": {
   "codemirror_mode": {
    "name": "ipython",
    "version": 2
   },
   "file_extension": ".py",
   "mimetype": "text/x-python",
   "name": "python",
   "nbconvert_exporter": "python",
   "pygments_lexer": "ipython2",
   "version": "2.7.11"
  }
 },
 "nbformat": 4,
 "nbformat_minor": 0
}

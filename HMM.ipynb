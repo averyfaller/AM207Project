{
 "cells": [
  {
   "cell_type": "markdown",
   "metadata": {},
   "source": [
    "## Hidden Markov Model\n",
    "In this section of our project we are trying to estimate the number of animal of a certain specie basing ourselves on observations of this specie. We are specifically focusing on deer but if the method reveals to be efficient, we can generalize our results to any specie.\n",
    "\n",
    "It is important to note that by looking at counts from different years, we found that there are more data points as years go on. We have theorized that this may be due to scientists using the gbif website to record more as they may have found this site to be more useful, and also due to the fact that it has become much more easier in the past ten years to record data that it was in the nineties."
   ]
  },
  {
   "cell_type": "code",
   "execution_count": 330,
   "metadata": {
    "collapsed": true
   },
   "outputs": [],
   "source": [
    "%matplotlib inline\n",
    "\n",
    "# Imports\n",
    "import pandas as pd\n",
    "import numpy as np \n",
    "import matplotlib.pyplot as plt\n",
    "import matplotlib.image as mpimg\n",
    "from scipy.misc import *\n",
    "from scipy.sparse import *\n",
    "import itertools"
   ]
  },
  {
   "cell_type": "code",
   "execution_count": 110,
   "metadata": {
    "collapsed": false
   },
   "outputs": [],
   "source": [
    "# http://www.gbif.org/occurrence/search?TAXON_KEY=359&YEAR=2014#\n",
    "# This is data for all Mammals in 2014 across the whole planet\n",
    "mammals = pandas.read_csv('Data/Mammalia_US_to2015.csv', sep='\\t', usecols=['year','species'], nrows=500000)\n"
   ]
  },
  {
   "cell_type": "code",
   "execution_count": 111,
   "metadata": {
    "collapsed": false
   },
   "outputs": [
    {
     "data": {
      "text/html": [
       "<div>\n",
       "<table border=\"1\" class=\"dataframe\">\n",
       "  <thead>\n",
       "    <tr style=\"text-align: right;\">\n",
       "      <th></th>\n",
       "      <th>species</th>\n",
       "      <th>year</th>\n",
       "    </tr>\n",
       "  </thead>\n",
       "  <tbody>\n",
       "    <tr>\n",
       "      <th>0</th>\n",
       "      <td>Procyon lotor</td>\n",
       "      <td>2014</td>\n",
       "    </tr>\n",
       "    <tr>\n",
       "      <th>1</th>\n",
       "      <td>Zalophus californianus</td>\n",
       "      <td>2014</td>\n",
       "    </tr>\n",
       "    <tr>\n",
       "      <th>2</th>\n",
       "      <td>Vulpes vulpes</td>\n",
       "      <td>2014</td>\n",
       "    </tr>\n",
       "    <tr>\n",
       "      <th>3</th>\n",
       "      <td>Odocoileus hemionus</td>\n",
       "      <td>2014</td>\n",
       "    </tr>\n",
       "    <tr>\n",
       "      <th>4</th>\n",
       "      <td>Lepus californicus</td>\n",
       "      <td>2014</td>\n",
       "    </tr>\n",
       "  </tbody>\n",
       "</table>\n",
       "</div>"
      ],
      "text/plain": [
       "                  species  year\n",
       "0           Procyon lotor  2014\n",
       "1  Zalophus californianus  2014\n",
       "2           Vulpes vulpes  2014\n",
       "3     Odocoileus hemionus  2014\n",
       "4      Lepus californicus  2014"
      ]
     },
     "execution_count": 111,
     "metadata": {},
     "output_type": "execute_result"
    }
   ],
   "source": [
    "mammals.head()"
   ]
  },
  {
   "cell_type": "code",
   "execution_count": 112,
   "metadata": {
    "collapsed": false
   },
   "outputs": [
    {
     "data": {
      "text/plain": [
       "array(['gbifid', 'datasetkey', 'occurrenceid', 'kingdom', 'phylum',\n",
       "       'class', 'order', 'family', 'genus', 'species',\n",
       "       'infraspecificepithet', 'taxonrank', 'scientificname',\n",
       "       'countrycode', 'locality', 'publishingorgkey', 'decimallatitude',\n",
       "       'decimallongitude', 'coordinateuncertaintyinmeters',\n",
       "       'coordinateprecision', 'elevation', 'elevationaccuracy', 'depth',\n",
       "       'depthaccuracy', 'eventdate', 'day', 'month', 'year', 'taxonkey',\n",
       "       'specieskey', 'basisofrecord', 'institutioncode', 'collectioncode',\n",
       "       'catalognumber', 'recordnumber', 'identifiedby', 'rights',\n",
       "       'rightsholder', 'recordedby', 'typestatus', 'establishmentmeans',\n",
       "       'lastinterpreted', 'mediatype', 'issue'], dtype=object)"
      ]
     },
     "execution_count": 112,
     "metadata": {},
     "output_type": "execute_result"
    }
   ],
   "source": [
    "deer=pd.read_csv('Data/Deer_2015.csv', sep='\\t')\n",
    "deer.columns.values"
   ]
  },
  {
   "cell_type": "code",
   "execution_count": 114,
   "metadata": {
    "collapsed": false
   },
   "outputs": [],
   "source": [
    "# Create a subset data frame that just contains the columns that we need\n",
    "occurences_mammals = mammals['year'].value_counts()\n",
    "occurences = deer[deer.year>=1991]\n",
    "occurences_deer=occurences['year'].value_counts()\n"
   ]
  },
  {
   "cell_type": "code",
   "execution_count": 151,
   "metadata": {
    "collapsed": false
   },
   "outputs": [
    {
     "name": "stdout",
     "output_type": "stream",
     "text": [
      "2015    1285\n",
      "2014     985\n",
      "2013     786\n",
      "2012     543\n",
      "2003     337\n",
      "2011     289\n",
      "1999     264\n",
      "2009     251\n",
      "2010     237\n",
      "1995     227\n",
      "1998     217\n",
      "1991     198\n",
      "2007     173\n",
      "1992     168\n",
      "2006     167\n",
      "2004     121\n",
      "1994     119\n",
      "1996     104\n",
      "2002      98\n",
      "2001      87\n",
      "2008      84\n",
      "2000      71\n",
      "1993      70\n",
      "1997      61\n",
      "2005      54\n",
      "dtype: int64\n"
     ]
    }
   ],
   "source": [
    "print occurences_deer"
   ]
  },
  {
   "cell_type": "code",
   "execution_count": 371,
   "metadata": {
    "collapsed": false
   },
   "outputs": [
    {
     "data": {
      "text/plain": [
       "array([ 0.86614173,  0.54165592,  0.24145424,  0.30242192,  0.73857166,\n",
       "        0.29956505,  0.25768841,  0.78492368,  1.08499096,  0.32609195,\n",
       "        0.38368247,  0.37480399,  1.55751722,  0.60755172,  0.33047736,\n",
       "        1.16750559,  1.37892555,  0.90177134,  2.17391304,  2.39393939,\n",
       "        2.46692275,  6.0166205 ,  7.25226056,  8.64110887])"
      ]
     },
     "execution_count": 371,
     "metadata": {},
     "output_type": "execute_result"
    }
   ],
   "source": [
    "deer_obs=[198.,168.,70.,119.,227.,104.,61.,217.,264.,71.,87.,98.,337.,121.,54.,167.,173.,84.,251.,237.,289.,543.,786.,\\\n",
    "          985.]\n",
    "mammal_obs=[22860,31016,28991,39349,30735, 34717,23672,27646,24332,21773,22675,26147,21637,19916,16340,14304,12546,\\\n",
    "           9315,11546,9900,11715,9025,10838,11399]\n",
    "\n",
    "# What percentages are the deer observations out of all mammals\n",
    "percentage=np.divide(deer_obs,mammal_obs)*100\n",
    "percentage\n"
   ]
  },
  {
   "cell_type": "markdown",
   "metadata": {},
   "source": [
    "As the number of deer observations increases in the past few years (since 2005, although the actual number of deer is decreasing) we normalize the data counts using the average number of mammals observation over the years.\n",
    "Indeed, we assume the number of observed mammal should be the same over the years and use that ratio (average observation of mammals divided by observations on that year) as a factor to normalize the observations of deer."
   ]
  },
  {
   "cell_type": "code",
   "execution_count": 370,
   "metadata": {
    "collapsed": false
   },
   "outputs": [
    {
     "data": {
      "text/plain": [
       "array([ 0.89748104,  0.66147848,  0.70768227,  0.52139614,  0.66752616,\n",
       "        0.59096168,  0.86669553,  0.74211158,  0.84318661,  0.94228708,\n",
       "        0.90480338,  0.78465662,  0.94820986,  1.03014745,  1.25559466,\n",
       "        1.43431325,  1.63529545,  2.20251387,  1.77692852,  2.07236532,\n",
       "        1.75129464,  2.27328717,  1.89300763,  1.79984355])"
      ]
     },
     "execution_count": 370,
     "metadata": {},
     "output_type": "execute_result"
    }
   ],
   "source": [
    "# Normalize by the relative number of observations\n",
    "average_norm=np.divide(float(np.sum(mammal_obs))/len(mammal_obs),mammal_obs)\n",
    "average_norm"
   ]
  },
  {
   "cell_type": "code",
   "execution_count": 264,
   "metadata": {
    "collapsed": false
   },
   "outputs": [
    {
     "data": {
      "text/plain": [
       "array([  177.70124672,   111.12838535,    49.53775884,    62.04614052,\n",
       "         151.52843935,    61.46001479,    52.86842754,   161.03821228,\n",
       "         222.60126582,    66.90238292,    78.71789416,    76.89634885,\n",
       "         319.54672167,   124.64784177,    67.80211138,   239.53031203,\n",
       "         282.90611217,   185.01116479,   446.00905797,   491.15058081,\n",
       "         506.12414995,  1234.39493075,  1487.9039952 ,  1772.84590023])"
      ]
     },
     "execution_count": 264,
     "metadata": {},
     "output_type": "execute_result"
    }
   ],
   "source": [
    "# Deer represent approximately in percentages 1.7121 % of the mammals observations\n",
    "norm_obs=np.multiply(average_norm,deer_obs)\n",
    "norm_obs"
   ]
  },
  {
   "cell_type": "code",
   "execution_count": 265,
   "metadata": {
    "collapsed": false
   },
   "outputs": [
    {
     "data": {
      "text/plain": [
       "array([ 1991.,  1992.,  1993.,  1994.,  1995.,  1996.,  1997.,  1998.,\n",
       "        1999.,  2000.,  2001.,  2002.,  2003.,  2004.,  2005.,  2006.,\n",
       "        2007.,  2008.,  2009.,  2010.,  2011.,  2012.,  2013.,  2014.])"
      ]
     },
     "execution_count": 265,
     "metadata": {},
     "output_type": "execute_result"
    }
   ],
   "source": [
    "years=np.linspace(1991,2014,24)\n",
    "years"
   ]
  },
  {
   "cell_type": "code",
   "execution_count": 266,
   "metadata": {
    "collapsed": true
   },
   "outputs": [],
   "source": [
    "## Actual estimated deer number US: http://www.deerfriendly.com/decline-of-deer-populations"
   ]
  },
  {
   "cell_type": "code",
   "execution_count": 219,
   "metadata": {
    "collapsed": false
   },
   "outputs": [],
   "source": [
    "# In Millions\n",
    "actual_deer=[35.5, 35.75, 36., 36.2, 36.5, 36.8, 37.1, 37.4, 37.7, 38.1, 37.85, 37.5, 37.1, 36.8, 36.4, 36.1, 35.75,\\\n",
    "             35.4, 35., 34.6, 34.2, 33.8, 33.5, 33.2]\n",
    "act_deer=np.multiply(actual_deer,10**6)"
   ]
  },
  {
   "cell_type": "code",
   "execution_count": 337,
   "metadata": {
    "collapsed": false
   },
   "outputs": [
    {
     "name": "stdout",
     "output_type": "stream",
     "text": [
      "[  5.00566892   3.1084863    1.37604886   1.71398178   4.15146409\n",
      "   1.6701091    1.425025     4.30583455   5.90454286   1.75596806\n",
      "   2.079733     2.0505693    8.61311918   3.38716961   1.86269537\n",
      "   6.6351887    7.91345768   5.22630409  12.74311594  14.19510349\n",
      "  14.79895175  36.52056008  44.41504463  53.3989729 ]\n"
     ]
    },
    {
     "data": {
      "text/plain": [
       "array([  1.,   4.,   7.,  10.,  13.,  16.,  37.,  46.,  55.])"
      ]
     },
     "execution_count": 337,
     "metadata": {},
     "output_type": "execute_result"
    }
   ],
   "source": [
    "ratio=np.divide(norm_obs,actual_deer)  \n",
    "# This has to be divided by 10^6 but for simplicity purposes, I will keep it this way\n",
    "print ratio\n",
    "discretized_r=np.linspace(1,55,19)\n",
    "\n",
    "discrete_ratio=np.zeros(len(actual_deer))\n",
    "for i in range(len(ratio)):\n",
    "    for j in range(len(discretized_r)-1):\n",
    "        if ratio[i]>discretized_r[j] and ratio[i]<discretized_r[j]+0.5:\n",
    "            discrete_ratio[i]=discretized_r[j]\n",
    "        elif ratio[i]<discretized_r[j+1] and ratio[i]>=discretized_r[j]+0.5:\n",
    "            discrete_ratio[i]=discretized_r[j+1]\n",
    "        elif ratio[i]==discretized_r[j]:\n",
    "            discrete_ratio[i]=discretized_r[j]\n",
    "discrete_ratio\n",
    "obs_len=len(np.unique(discrete_ratio))\n",
    "obs_states=(np.unique(discrete_ratio))\n",
    "obs_states"
   ]
  },
  {
   "cell_type": "code",
   "execution_count": 278,
   "metadata": {
    "collapsed": false
   },
   "outputs": [],
   "source": [
    "# For discretization\n",
    "discrete_states=np.linspace(30,40,41)\n",
    "\n",
    "discrete=np.zeros(len(actual_deer))\n",
    "for i in range(len(actual_deer)):\n",
    "    for j in range(len(discrete_states)-1):\n",
    "        if actual_deer[i]>discrete_states[j] and actual_deer[i]<discrete_states[j+1]:\n",
    "            discrete[i]=discrete_states[j+1]\n",
    "        elif actual_deer[i]==discrete_states[j]:\n",
    "            discrete[i]=discrete_states[j]\n",
    "    "
   ]
  },
  {
   "cell_type": "code",
   "execution_count": 279,
   "metadata": {
    "collapsed": true
   },
   "outputs": [],
   "source": [
    "## Deer number actual California (up to 2013 only) http://www.deerfriendly.com/deer/california"
   ]
  },
  {
   "cell_type": "code",
   "execution_count": 280,
   "metadata": {
    "collapsed": true
   },
   "outputs": [],
   "source": [
    "cali_estimated=[850000,800000,700000,670000,690000,580000,580000,580000,550000,500000,500000,680000,550000,500000,\\\n",
    "                     600000,405000,420000,500000,500000,490000,460000,480000,480000]"
   ]
  },
  {
   "cell_type": "code",
   "execution_count": 281,
   "metadata": {
    "collapsed": false
   },
   "outputs": [
    {
     "data": {
      "text/html": [
       "<div>\n",
       "<table border=\"1\" class=\"dataframe\">\n",
       "  <thead>\n",
       "    <tr style=\"text-align: right;\">\n",
       "      <th></th>\n",
       "      <th>Actual_deer (Mi)</th>\n",
       "      <th>Comparison_average</th>\n",
       "      <th>Deer_obs</th>\n",
       "      <th>Discrete Ratio</th>\n",
       "      <th>Discretized_actual</th>\n",
       "      <th>Mammals_obs</th>\n",
       "      <th>Normalized_obs</th>\n",
       "      <th>Percentage_deer</th>\n",
       "      <th>Ratio</th>\n",
       "      <th>years</th>\n",
       "    </tr>\n",
       "  </thead>\n",
       "  <tbody>\n",
       "    <tr>\n",
       "      <th>0</th>\n",
       "      <td>35.50</td>\n",
       "      <td>0.897481</td>\n",
       "      <td>198</td>\n",
       "      <td>7</td>\n",
       "      <td>35.50</td>\n",
       "      <td>22860</td>\n",
       "      <td>177.701247</td>\n",
       "      <td>0.866142</td>\n",
       "      <td>5.005669</td>\n",
       "      <td>1991</td>\n",
       "    </tr>\n",
       "    <tr>\n",
       "      <th>1</th>\n",
       "      <td>35.75</td>\n",
       "      <td>0.661478</td>\n",
       "      <td>168</td>\n",
       "      <td>4</td>\n",
       "      <td>35.75</td>\n",
       "      <td>31016</td>\n",
       "      <td>111.128385</td>\n",
       "      <td>0.541656</td>\n",
       "      <td>3.108486</td>\n",
       "      <td>1992</td>\n",
       "    </tr>\n",
       "    <tr>\n",
       "      <th>2</th>\n",
       "      <td>36.00</td>\n",
       "      <td>0.707682</td>\n",
       "      <td>70</td>\n",
       "      <td>1</td>\n",
       "      <td>36.00</td>\n",
       "      <td>28991</td>\n",
       "      <td>49.537759</td>\n",
       "      <td>0.241454</td>\n",
       "      <td>1.376049</td>\n",
       "      <td>1993</td>\n",
       "    </tr>\n",
       "    <tr>\n",
       "      <th>3</th>\n",
       "      <td>36.20</td>\n",
       "      <td>0.521396</td>\n",
       "      <td>119</td>\n",
       "      <td>4</td>\n",
       "      <td>36.25</td>\n",
       "      <td>39349</td>\n",
       "      <td>62.046141</td>\n",
       "      <td>0.302422</td>\n",
       "      <td>1.713982</td>\n",
       "      <td>1994</td>\n",
       "    </tr>\n",
       "    <tr>\n",
       "      <th>4</th>\n",
       "      <td>36.50</td>\n",
       "      <td>0.667526</td>\n",
       "      <td>227</td>\n",
       "      <td>4</td>\n",
       "      <td>36.50</td>\n",
       "      <td>30735</td>\n",
       "      <td>151.528439</td>\n",
       "      <td>0.738572</td>\n",
       "      <td>4.151464</td>\n",
       "      <td>1995</td>\n",
       "    </tr>\n",
       "    <tr>\n",
       "      <th>5</th>\n",
       "      <td>36.80</td>\n",
       "      <td>0.590962</td>\n",
       "      <td>104</td>\n",
       "      <td>4</td>\n",
       "      <td>37.00</td>\n",
       "      <td>34717</td>\n",
       "      <td>61.460015</td>\n",
       "      <td>0.299565</td>\n",
       "      <td>1.670109</td>\n",
       "      <td>1996</td>\n",
       "    </tr>\n",
       "    <tr>\n",
       "      <th>6</th>\n",
       "      <td>37.10</td>\n",
       "      <td>0.866696</td>\n",
       "      <td>61</td>\n",
       "      <td>1</td>\n",
       "      <td>37.25</td>\n",
       "      <td>23672</td>\n",
       "      <td>52.868428</td>\n",
       "      <td>0.257688</td>\n",
       "      <td>1.425025</td>\n",
       "      <td>1997</td>\n",
       "    </tr>\n",
       "    <tr>\n",
       "      <th>7</th>\n",
       "      <td>37.40</td>\n",
       "      <td>0.742112</td>\n",
       "      <td>217</td>\n",
       "      <td>4</td>\n",
       "      <td>37.50</td>\n",
       "      <td>27646</td>\n",
       "      <td>161.038212</td>\n",
       "      <td>0.784924</td>\n",
       "      <td>4.305835</td>\n",
       "      <td>1998</td>\n",
       "    </tr>\n",
       "    <tr>\n",
       "      <th>8</th>\n",
       "      <td>37.70</td>\n",
       "      <td>0.843187</td>\n",
       "      <td>264</td>\n",
       "      <td>7</td>\n",
       "      <td>37.75</td>\n",
       "      <td>24332</td>\n",
       "      <td>222.601266</td>\n",
       "      <td>1.084991</td>\n",
       "      <td>5.904543</td>\n",
       "      <td>1999</td>\n",
       "    </tr>\n",
       "    <tr>\n",
       "      <th>9</th>\n",
       "      <td>38.10</td>\n",
       "      <td>0.942287</td>\n",
       "      <td>71</td>\n",
       "      <td>4</td>\n",
       "      <td>38.25</td>\n",
       "      <td>21773</td>\n",
       "      <td>66.902383</td>\n",
       "      <td>0.326092</td>\n",
       "      <td>1.755968</td>\n",
       "      <td>2000</td>\n",
       "    </tr>\n",
       "    <tr>\n",
       "      <th>10</th>\n",
       "      <td>37.85</td>\n",
       "      <td>0.904803</td>\n",
       "      <td>87</td>\n",
       "      <td>4</td>\n",
       "      <td>38.00</td>\n",
       "      <td>22675</td>\n",
       "      <td>78.717894</td>\n",
       "      <td>0.383682</td>\n",
       "      <td>2.079733</td>\n",
       "      <td>2001</td>\n",
       "    </tr>\n",
       "    <tr>\n",
       "      <th>11</th>\n",
       "      <td>37.50</td>\n",
       "      <td>0.784657</td>\n",
       "      <td>98</td>\n",
       "      <td>4</td>\n",
       "      <td>37.50</td>\n",
       "      <td>26147</td>\n",
       "      <td>76.896349</td>\n",
       "      <td>0.374804</td>\n",
       "      <td>2.050569</td>\n",
       "      <td>2002</td>\n",
       "    </tr>\n",
       "    <tr>\n",
       "      <th>12</th>\n",
       "      <td>37.10</td>\n",
       "      <td>0.948210</td>\n",
       "      <td>337</td>\n",
       "      <td>10</td>\n",
       "      <td>37.25</td>\n",
       "      <td>21637</td>\n",
       "      <td>319.546722</td>\n",
       "      <td>1.557517</td>\n",
       "      <td>8.613119</td>\n",
       "      <td>2003</td>\n",
       "    </tr>\n",
       "    <tr>\n",
       "      <th>13</th>\n",
       "      <td>36.80</td>\n",
       "      <td>1.030147</td>\n",
       "      <td>121</td>\n",
       "      <td>4</td>\n",
       "      <td>37.00</td>\n",
       "      <td>19916</td>\n",
       "      <td>124.647842</td>\n",
       "      <td>0.607552</td>\n",
       "      <td>3.387170</td>\n",
       "      <td>2004</td>\n",
       "    </tr>\n",
       "    <tr>\n",
       "      <th>14</th>\n",
       "      <td>36.40</td>\n",
       "      <td>1.255595</td>\n",
       "      <td>54</td>\n",
       "      <td>4</td>\n",
       "      <td>36.50</td>\n",
       "      <td>16340</td>\n",
       "      <td>67.802111</td>\n",
       "      <td>0.330477</td>\n",
       "      <td>1.862695</td>\n",
       "      <td>2005</td>\n",
       "    </tr>\n",
       "    <tr>\n",
       "      <th>15</th>\n",
       "      <td>36.10</td>\n",
       "      <td>1.434313</td>\n",
       "      <td>167</td>\n",
       "      <td>7</td>\n",
       "      <td>36.25</td>\n",
       "      <td>14304</td>\n",
       "      <td>239.530312</td>\n",
       "      <td>1.167506</td>\n",
       "      <td>6.635189</td>\n",
       "      <td>2006</td>\n",
       "    </tr>\n",
       "    <tr>\n",
       "      <th>16</th>\n",
       "      <td>35.75</td>\n",
       "      <td>1.635295</td>\n",
       "      <td>173</td>\n",
       "      <td>10</td>\n",
       "      <td>35.75</td>\n",
       "      <td>12546</td>\n",
       "      <td>282.906112</td>\n",
       "      <td>1.378926</td>\n",
       "      <td>7.913458</td>\n",
       "      <td>2007</td>\n",
       "    </tr>\n",
       "    <tr>\n",
       "      <th>17</th>\n",
       "      <td>35.40</td>\n",
       "      <td>2.202514</td>\n",
       "      <td>84</td>\n",
       "      <td>7</td>\n",
       "      <td>35.50</td>\n",
       "      <td>9315</td>\n",
       "      <td>185.011165</td>\n",
       "      <td>0.901771</td>\n",
       "      <td>5.226304</td>\n",
       "      <td>2008</td>\n",
       "    </tr>\n",
       "    <tr>\n",
       "      <th>18</th>\n",
       "      <td>35.00</td>\n",
       "      <td>1.776929</td>\n",
       "      <td>251</td>\n",
       "      <td>13</td>\n",
       "      <td>35.00</td>\n",
       "      <td>11546</td>\n",
       "      <td>446.009058</td>\n",
       "      <td>2.173913</td>\n",
       "      <td>12.743116</td>\n",
       "      <td>2009</td>\n",
       "    </tr>\n",
       "    <tr>\n",
       "      <th>19</th>\n",
       "      <td>34.60</td>\n",
       "      <td>2.072365</td>\n",
       "      <td>237</td>\n",
       "      <td>16</td>\n",
       "      <td>34.75</td>\n",
       "      <td>9900</td>\n",
       "      <td>491.150581</td>\n",
       "      <td>2.393939</td>\n",
       "      <td>14.195103</td>\n",
       "      <td>2010</td>\n",
       "    </tr>\n",
       "    <tr>\n",
       "      <th>20</th>\n",
       "      <td>34.20</td>\n",
       "      <td>1.751295</td>\n",
       "      <td>289</td>\n",
       "      <td>16</td>\n",
       "      <td>34.25</td>\n",
       "      <td>11715</td>\n",
       "      <td>506.124150</td>\n",
       "      <td>2.466923</td>\n",
       "      <td>14.798952</td>\n",
       "      <td>2011</td>\n",
       "    </tr>\n",
       "    <tr>\n",
       "      <th>21</th>\n",
       "      <td>33.80</td>\n",
       "      <td>2.273287</td>\n",
       "      <td>543</td>\n",
       "      <td>37</td>\n",
       "      <td>34.00</td>\n",
       "      <td>9025</td>\n",
       "      <td>1234.394931</td>\n",
       "      <td>6.016620</td>\n",
       "      <td>36.520560</td>\n",
       "      <td>2012</td>\n",
       "    </tr>\n",
       "    <tr>\n",
       "      <th>22</th>\n",
       "      <td>33.50</td>\n",
       "      <td>1.893008</td>\n",
       "      <td>786</td>\n",
       "      <td>46</td>\n",
       "      <td>33.50</td>\n",
       "      <td>10838</td>\n",
       "      <td>1487.903995</td>\n",
       "      <td>7.252261</td>\n",
       "      <td>44.415045</td>\n",
       "      <td>2013</td>\n",
       "    </tr>\n",
       "    <tr>\n",
       "      <th>23</th>\n",
       "      <td>33.20</td>\n",
       "      <td>1.799844</td>\n",
       "      <td>985</td>\n",
       "      <td>55</td>\n",
       "      <td>33.25</td>\n",
       "      <td>11399</td>\n",
       "      <td>1772.845900</td>\n",
       "      <td>8.641109</td>\n",
       "      <td>53.398973</td>\n",
       "      <td>2014</td>\n",
       "    </tr>\n",
       "  </tbody>\n",
       "</table>\n",
       "</div>"
      ],
      "text/plain": [
       "    Actual_deer (Mi)  Comparison_average  Deer_obs  Discrete Ratio  \\\n",
       "0              35.50            0.897481       198               7   \n",
       "1              35.75            0.661478       168               4   \n",
       "2              36.00            0.707682        70               1   \n",
       "3              36.20            0.521396       119               4   \n",
       "4              36.50            0.667526       227               4   \n",
       "5              36.80            0.590962       104               4   \n",
       "6              37.10            0.866696        61               1   \n",
       "7              37.40            0.742112       217               4   \n",
       "8              37.70            0.843187       264               7   \n",
       "9              38.10            0.942287        71               4   \n",
       "10             37.85            0.904803        87               4   \n",
       "11             37.50            0.784657        98               4   \n",
       "12             37.10            0.948210       337              10   \n",
       "13             36.80            1.030147       121               4   \n",
       "14             36.40            1.255595        54               4   \n",
       "15             36.10            1.434313       167               7   \n",
       "16             35.75            1.635295       173              10   \n",
       "17             35.40            2.202514        84               7   \n",
       "18             35.00            1.776929       251              13   \n",
       "19             34.60            2.072365       237              16   \n",
       "20             34.20            1.751295       289              16   \n",
       "21             33.80            2.273287       543              37   \n",
       "22             33.50            1.893008       786              46   \n",
       "23             33.20            1.799844       985              55   \n",
       "\n",
       "    Discretized_actual  Mammals_obs  Normalized_obs  Percentage_deer  \\\n",
       "0                35.50        22860      177.701247         0.866142   \n",
       "1                35.75        31016      111.128385         0.541656   \n",
       "2                36.00        28991       49.537759         0.241454   \n",
       "3                36.25        39349       62.046141         0.302422   \n",
       "4                36.50        30735      151.528439         0.738572   \n",
       "5                37.00        34717       61.460015         0.299565   \n",
       "6                37.25        23672       52.868428         0.257688   \n",
       "7                37.50        27646      161.038212         0.784924   \n",
       "8                37.75        24332      222.601266         1.084991   \n",
       "9                38.25        21773       66.902383         0.326092   \n",
       "10               38.00        22675       78.717894         0.383682   \n",
       "11               37.50        26147       76.896349         0.374804   \n",
       "12               37.25        21637      319.546722         1.557517   \n",
       "13               37.00        19916      124.647842         0.607552   \n",
       "14               36.50        16340       67.802111         0.330477   \n",
       "15               36.25        14304      239.530312         1.167506   \n",
       "16               35.75        12546      282.906112         1.378926   \n",
       "17               35.50         9315      185.011165         0.901771   \n",
       "18               35.00        11546      446.009058         2.173913   \n",
       "19               34.75         9900      491.150581         2.393939   \n",
       "20               34.25        11715      506.124150         2.466923   \n",
       "21               34.00         9025     1234.394931         6.016620   \n",
       "22               33.50        10838     1487.903995         7.252261   \n",
       "23               33.25        11399     1772.845900         8.641109   \n",
       "\n",
       "        Ratio  years  \n",
       "0    5.005669   1991  \n",
       "1    3.108486   1992  \n",
       "2    1.376049   1993  \n",
       "3    1.713982   1994  \n",
       "4    4.151464   1995  \n",
       "5    1.670109   1996  \n",
       "6    1.425025   1997  \n",
       "7    4.305835   1998  \n",
       "8    5.904543   1999  \n",
       "9    1.755968   2000  \n",
       "10   2.079733   2001  \n",
       "11   2.050569   2002  \n",
       "12   8.613119   2003  \n",
       "13   3.387170   2004  \n",
       "14   1.862695   2005  \n",
       "15   6.635189   2006  \n",
       "16   7.913458   2007  \n",
       "17   5.226304   2008  \n",
       "18  12.743116   2009  \n",
       "19  14.195103   2010  \n",
       "20  14.798952   2011  \n",
       "21  36.520560   2012  \n",
       "22  44.415045   2013  \n",
       "23  53.398973   2014  "
      ]
     },
     "execution_count": 281,
     "metadata": {},
     "output_type": "execute_result"
    }
   ],
   "source": [
    "# Create a Dataframe with all the data\n",
    "data_dict={\"years\": years, \"Mammals_obs\":mammal_obs, \"Deer_obs\":deer_obs, \"Percentage_deer\":percentage, \\\n",
    "           \"Comparison_average\":average_norm, \"Actual_deer (Mi)\": actual_deer, \"Discretized_actual\": discrete, \\\n",
    "          \"Normalized_obs\":norm_obs, \"Ratio\":ratio, \"Discrete Ratio\": discrete_ratio}\n",
    "Data_summary=pd.DataFrame(data_dict)\n",
    "\n",
    "Data_summary"
   ]
  },
  {
   "cell_type": "markdown",
   "metadata": {},
   "source": [
    "### Transition Matrix\n",
    "We calculate the transition matrix by counting the occurences of going from hidden state i to hidden state j, and dividing the values of each row by the sum of the row: we check that the obtained probabilities on each row sum up to 1. "
   ]
  },
  {
   "cell_type": "code",
   "execution_count": 76,
   "metadata": {
    "collapsed": true
   },
   "outputs": [],
   "source": [
    "# TRY:\n",
    "# One row (transition matrix: decrease or increase)"
   ]
  },
  {
   "cell_type": "code",
   "execution_count": 340,
   "metadata": {
    "collapsed": false
   },
   "outputs": [],
   "source": [
    "# For the transition matrix, we create a 41 by 41 matrix and calculate the probability of a certain current letter\n",
    "# knowing the previous letter. The rows of this matrix should sum up to 1 \n",
    "# The columns correspond to the current letter and the rows to the previous letter\n",
    "\n",
    "#Emission is probability from hidden to observed\n",
    "\n",
    "#Transition is from hidden to next hidden\n",
    "n=len(discrete_states)\n",
    "transition=np.zeros((n,n))\n",
    "# Add a pseudocount\n",
    "transition=transition+0.05\n",
    "\n",
    "for j in xrange(len(discrete)-1):\n",
    "    for i in xrange(len(discrete_states)):\n",
    "        if discrete[j+1]==discrete_states[i]:\n",
    "            for k in xrange(len(discrete_states)):\n",
    "                if discrete[j]==discrete_states[k]:\n",
    "                    transition[k,i]+=1"
   ]
  },
  {
   "cell_type": "code",
   "execution_count": 341,
   "metadata": {
    "collapsed": true
   },
   "outputs": [],
   "source": [
    "SUMS=np.zeros(n)\n",
    "for i in xrange(len(SUMS)):\n",
    "    SUMS[i]=np.sum(transition[i,:])\n",
    "    "
   ]
  },
  {
   "cell_type": "code",
   "execution_count": 342,
   "metadata": {
    "collapsed": false
   },
   "outputs": [],
   "source": [
    "transition_f=np.zeros((n,n))\n",
    "for i in xrange(len(SUMS)):\n",
    "    transition_f[i,:]=transition[i,:]/SUMS[i]"
   ]
  },
  {
   "cell_type": "code",
   "execution_count": 343,
   "metadata": {
    "collapsed": false
   },
   "outputs": [
    {
     "data": {
      "text/plain": [
       "array([ 1.,  1.,  1.,  1.,  1.,  1.,  1.,  1.,  1.,  1.,  1.,  1.,  1.,\n",
       "        1.,  1.,  1.,  1.,  1.,  1.,  1.,  1.,  1.,  1.,  1.,  1.,  1.,  1.])"
      ]
     },
     "execution_count": 343,
     "metadata": {},
     "output_type": "execute_result"
    }
   ],
   "source": [
    "# Check to verify my calculations, the sum of the rows should be zero\n",
    "SUM2=np.zeros(n)\n",
    "for i in xrange(len(SUM2)):\n",
    "    SUM2[i]=np.sum(transition_f[i,:])\n",
    "SUM2"
   ]
  },
  {
   "cell_type": "code",
   "execution_count": 344,
   "metadata": {
    "collapsed": false
   },
   "outputs": [],
   "source": [
    "# Emission probability\n",
    "emission=np.zeros((n,obs_len))\n",
    "# Add a pseudocount\n",
    "emission=emission+0.05\n",
    "for j in xrange(len(discrete)-1):\n",
    "    for i in xrange(obs_len):\n",
    "        if discrete_ratio[j]==obs_states[i]:\n",
    "            for k in xrange(len(discrete_states)):\n",
    "                if discrete[j]==discrete_states[k]:\n",
    "                    emission[k,i]+=1"
   ]
  },
  {
   "cell_type": "code",
   "execution_count": 352,
   "metadata": {
    "collapsed": false
   },
   "outputs": [],
   "source": [
    "SUMS=np.zeros(n)\n",
    "for i in xrange(len(SUMS)):\n",
    "    SUMS[i]=np.sum(emission[i,:])"
   ]
  },
  {
   "cell_type": "code",
   "execution_count": 349,
   "metadata": {
    "collapsed": false
   },
   "outputs": [],
   "source": [
    "emission_f=np.zeros((n,obs_len))\n",
    "for i in xrange(len(SUMS)):\n",
    "    emission_f[i,:]=emission[i,:]/SUMS[i]"
   ]
  },
  {
   "cell_type": "code",
   "execution_count": 353,
   "metadata": {
    "collapsed": false
   },
   "outputs": [
    {
     "data": {
      "text/plain": [
       "array([ 1.,  1.,  1.,  1.,  1.,  1.,  1.,  1.,  1.,  1.,  1.,  1.,  1.,\n",
       "        1.,  1.,  1.,  1.,  1.,  1.,  1.,  1.,  1.,  1.,  1.,  1.,  1.,\n",
       "        1.,  1.,  1.,  1.,  1.,  1.,  1.,  1.,  1.,  1.,  1.,  1.,  1.,\n",
       "        1.,  1.])"
      ]
     },
     "execution_count": 353,
     "metadata": {},
     "output_type": "execute_result"
    }
   ],
   "source": [
    "# Check to verify my calculations, the sum of the rows should be zero\n",
    "SUM2=np.zeros(n)\n",
    "for i in xrange(len(SUM2)):\n",
    "    SUM2[i]=np.sum(emission_f[i,:])\n",
    "SUM2"
   ]
  },
  {
   "cell_type": "code",
   "execution_count": 354,
   "metadata": {
    "collapsed": true
   },
   "outputs": [],
   "source": [
    "emission_log=np.log(emission_f)\n",
    "transition_log=np.log(transition_f)"
   ]
  },
  {
   "cell_type": "markdown",
   "metadata": {},
   "source": [
    "### Starting Probability"
   ]
  },
  {
   "cell_type": "code",
   "execution_count": 355,
   "metadata": {
    "collapsed": false
   },
   "outputs": [
    {
     "name": "stdout",
     "output_type": "stream",
     "text": [
      "22\n"
     ]
    }
   ],
   "source": [
    "## Starting Probability\n",
    "itemindex= np.where(discrete_states==discrete[0])[0][0]\n",
    "print itemindex\n",
    "discrete_states[6]\n",
    "\n",
    "starting_prob=np.zeros(n)\n",
    "starting_prob[itemindex]=1"
   ]
  },
  {
   "cell_type": "code",
   "execution_count": 356,
   "metadata": {
    "collapsed": false
   },
   "outputs": [
    {
     "data": {
      "text/plain": [
       "array([  7.,   4.,   1.,   4.,   4.,   4.,   1.,   4.,   7.,   4.,   4.,\n",
       "         4.,  10.,   4.,   4.,   7.,  10.,   7.,  13.,  16.,  16.,  37.,\n",
       "        46.,  55.])"
      ]
     },
     "execution_count": 356,
     "metadata": {},
     "output_type": "execute_result"
    }
   ],
   "source": [
    "discrete_ratio"
   ]
  },
  {
   "cell_type": "code",
   "execution_count": 358,
   "metadata": {
    "collapsed": true
   },
   "outputs": [],
   "source": [
    "# The function takes as input the observed and hiddent states. \n",
    "# It takes the starting probability, the transition and emission matrix and the test data Y.\n",
    "\n",
    "# The function returns Z, which corresponds to the array of the indexes of the corrected letter (which we can \n",
    "# extract later from the state space)\n",
    "\n",
    "def viterbi(hidden, observed, starting_prob, Y, transition_log, emission_log):   \n",
    "    size_test=len(Y)\n",
    "    T1=np.zeros((len(hidden),size_test))\n",
    "    T2=np.zeros((len(hidden),size_test))\n",
    "    index= np.where(observed==Y[0])[0][0]\n",
    "    for i in xrange(len(hidden)):\n",
    "        T1[i,1]=np.log(starting_prob[i])+emission_log[i,index]\n",
    "    for i in range(1,len(Y)):\n",
    "        index= np.where(observed==Y[i])[0][0]\n",
    "        for j in xrange(len(hidden)):\n",
    "            list_val=T1[:,i-1]+transition_log[:,j]+emission_log[j,index]\n",
    "            T1[j,i]=np.max(list_val) \n",
    "            T2[j,i]=np.argmax(list_val) \n",
    "    Z=np.zeros(size_test)  \n",
    "    T_ind=size_test-1\n",
    "    Z[T_ind]=np.argmax(T1[:,T_ind])\n",
    "    \n",
    "    for i in range(T_ind, 1, -1):\n",
    "        Z[i-1]=T2[Z[i], i]\n",
    "    \n",
    "    return Z\n",
    "    "
   ]
  },
  {
   "cell_type": "code",
   "execution_count": 361,
   "metadata": {
    "collapsed": false
   },
   "outputs": [
    {
     "data": {
      "text/plain": [
       "array([  0.,  30.,  29.,  28.,  26.,  28.,  29.,  30.,  31.,  33.,  32.,\n",
       "        30.,  29.,  28.,  26.,  25.,  23.,  22.,  20.,  19.,  17.,  16.,\n",
       "        14.,  13.])"
      ]
     },
     "execution_count": 361,
     "metadata": {},
     "output_type": "execute_result"
    }
   ],
   "source": [
    "Z=viterbi(discrete_states,obs_states, starting_prob, discrete_ratio, transition_log, emission_log)\n",
    "Z"
   ]
  },
  {
   "cell_type": "code",
   "execution_count": 369,
   "metadata": {
    "collapsed": false
   },
   "outputs": [
    {
     "data": {
      "text/plain": [
       "<matplotlib.text.Text at 0x10d4dab90>"
      ]
     },
     "execution_count": 369,
     "metadata": {},
     "output_type": "execute_result"
    },
    {
     "data": {
      "image/png": "[encoded data removed]",
      "text/plain": [
       "<matplotlib.figure.Figure at 0x112320e50>"
      ]
     },
     "metadata": {},
     "output_type": "display_data"
    }
   ],
   "source": [
    "figsize=(20,20)\n",
    "plt.plot(years,Z,label=\"Estimation\")\n",
    "plt.plot(years,actual_deer,label=\"Actual\")\n",
    "plt.legend()\n",
    "plt.xlabel(\"years\")\n",
    "plt.ylabel(\"Number of dears in Millions\")"
   ]
  },
  {
   "cell_type": "markdown",
   "metadata": {},
   "source": [
    "We can see that even though the number of observations of deer increase since 2005, Viterbi algorithm manages to translate the decrease that occured in the actual values since 2000.\n",
    "\n",
    "Note: To explain the increase in number of deer counts, there could also be an increase in the number of deer studies. This raises the question as to whether this is reliable data. Sightings may also depend on where the scientists decided to look for these animals, as it is unlikely there are people sweeping the entirety of the US to look for deer. Much of the data probably depends on scientific study patterns and may not reflect actual deer population."
   ]
  },
  {
   "cell_type": "code",
   "execution_count": null,
   "metadata": {
    "collapsed": true
   },
   "outputs": [],
   "source": [
    "# Repeat what I did in the HW as well with one more degree"
   ]
  },
  {
   "cell_type": "markdown",
   "metadata": {},
   "source": [
    "## Kalman Filter"
   ]
  },
  {
   "cell_type": "code",
   "execution_count": 332,
   "metadata": {
    "collapsed": false
   },
   "outputs": [
    {
     "data": {
      "image/png": "[encoded data removed]",
      "text/plain": [
       "<matplotlib.figure.Figure at 0x10ef8c8d0>"
      ]
     },
     "metadata": {},
     "output_type": "display_data"
    },
    {
     "data": {
      "image/png": "[encoded data removed]",
      "text/plain": [
       "<matplotlib.figure.Figure at 0x10c56e750>"
      ]
     },
     "metadata": {},
     "output_type": "display_data"
    }
   ],
   "source": [
    "# Kalman filter \n",
    "\n",
    "import numpy\n",
    "import pylab\n",
    "n_iter=50\n",
    "\n",
    "# intial parameters\n",
    "sz=50\n",
    "x = -.5 # truth value\n",
    "z = numpy.random.normal(x,0.1,size=sz) # observations (normal about x, sigma=0.1)\n",
    "\n",
    "Q = 1e-5 # process variance\n",
    "\n",
    "# allocate space for arrays\n",
    "xhat=numpy.zeros(sz)      # a posteri estimate of x\n",
    "P=numpy.zeros(sz)         # a posteri error estimate\n",
    "xhatminus=numpy.zeros(sz) # a priori estimate of x\n",
    "Pminus=numpy.zeros(sz)    # a priori error estimate\n",
    "K=numpy.zeros(sz)         # gain or blending factor\n",
    "\n",
    "R = 0.1**2 # estimate of measurement variance, change to see effect\n",
    "\n",
    "# intial guesses\n",
    "xhat[0] = 0.0\n",
    "P[0] = 1.0\n",
    "\n",
    "for k in range(1,sz):\n",
    "    # time update\n",
    "    xhatminus[k] = xhat[k-1]\n",
    "    Pminus[k] = P[k-1]+Q\n",
    "\n",
    "    # measurement update\n",
    "    K[k] = Pminus[k]/( Pminus[k]+R )\n",
    "    xhat[k] = xhatminus[k]+K[k]*(z[k]-xhatminus[k])\n",
    "    P[k] = (1-K[k])*Pminus[k]\n",
    "\n",
    "pylab.figure()\n",
    "pylab.plot(z,'k+',label='noisy measurements')\n",
    "pylab.plot(xhat,'b-',label='a posteri estimate')\n",
    "pylab.axhline(x,color='g',label='truth value')\n",
    "pylab.legend()\n",
    "pylab.xlabel('Iteration')\n",
    "pylab.ylabel('Voltage')\n",
    "\n",
    "pylab.figure()\n",
    "valid_iter = range(1,n_iter) # Pminus not valid at step 0\n",
    "pylab.plot(valid_iter,Pminus[valid_iter],label='a priori error estimate')\n",
    "pylab.xlabel('Iteration')\n",
    "pylab.ylabel('$(Voltage)^2$')\n",
    "pylab.setp(pylab.gca(),'ylim',[0,.01])\n",
    "pylab.show()"
   ]
  },
  {
   "cell_type": "code",
   "execution_count": null,
   "metadata": {
    "collapsed": true
   },
   "outputs": [],
   "source": [
    "## Compare later with built in function"
   ]
  },
  {
   "cell_type": "code",
   "execution_count": null,
   "metadata": {
    "collapsed": true
   },
   "outputs": [],
   "source": [
    "from pykalman import KalmanFilter\n",
    "\n",
    "kf = KalmanFilter(transition_matrices = [[1, 1], [0, 1]], observation_matrices = [[0.1, 0.5], [-0.3, 0.0]])\n",
    "measurements = np.asarray([[1,0], [0,0], [0,1]])  # 3 observations\n",
    "kf = kf.em(measurements, n_iter=5)\n",
    "(filtered_state_means, filtered_state_covariances) = kf.filter(measurements)\n",
    "(smoothed_state_means, smoothed_state_covariances) = kf.smooth(measurements)"
   ]
  },
  {
   "cell_type": "code",
   "execution_count": null,
   "metadata": {
    "collapsed": true
   },
   "outputs": [],
   "source": [
    "from numpy import *\n",
    "\n",
    "def kf_predict(X, P, A, Q, B, U):\n",
    "    X = np.dot(A, X) + np.dot(B, U)\n",
    "    P = np.dot(A, dot(P, A.T)) + Q\n",
    "    return(X,P)\n",
    " \n",
    "def kf_update(X, P, Y, H, R):\n",
    "    IM=dot(H, X)\n",
    "    IS=R + dot(H, dot(P, H.T))\n",
    "    K=dot(P, dot(H.T, inv(IS)))\n",
    "    X=X + dot(K, (Y-IM))\n",
    "    P=P-dot(K, dot(IS, K.T))\n",
    "    LH=gauss_pdf(Y, IM, IS)\n",
    "    return (X,P,K,IM,IS,LH)\n",
    "    \n",
    "def gauss_pdf(X, M, S):\n",
    "    if M.shape()[1] == 1:\n",
    "        DX=X - tile(M, X.shape()[1])\n",
    "        E=0.5 * sum(DX * (dot(inv(S), DX)), axis=0)\n",
    "        E=E + 0.5 * M.shape()[0] * log(2 * pi) + 0.5 * log(det(S))\n",
    "        P=exp(-E)\n",
    "    elif X.shape()[1] == 1:\n",
    "        DX=tile(X, M.shape()[1])- M\n",
    "        E=0.5 * sum(DX * (dot(inv(S), DX)), axis=0)\n",
    "        E=E + 0.5 * M.shape()[0] * log(2 * pi) + 0.5 * log(det(S))\n",
    "        P=exp(-E)\n",
    "    else:\n",
    "        DX=X-M\n",
    "        E=0.5 * dot(DX.T, dot(inv(S), DX))\n",
    "        E=E + 0.5 * M.shape()[0] * log(2 * pi) + 0.5 * log(det(S))\n",
    "        P=exp(-E)\n",
    "        \n",
    "    return (P[0],E[0]) "
   ]
  },
  {
   "cell_type": "code",
   "execution_count": null,
   "metadata": {
    "collapsed": true
   },
   "outputs": [],
   "source": [
    "from numpy.linalg import *\n",
    "#time step of mobile movement\n",
    "dt = 0.1\n",
    "# Initialization of state matrices\n",
    "X = array([[0.0], [0.0], [0.1], [0.1]])\n",
    "P = diag((0.01, 0.01, 0.01, 0.01))\n",
    "A = array([[1, 0, dt , 0], [0, 1, 0, dt], [0, 0, 1, 0], [0, 0, 0,\\\n",
    " 1]])\n",
    "Q = eye(X.shape()[0])\n",
    "B = eye(X.shape()[0])\n",
    "U = zeros((X.shape()[0],1)) \n",
    " \n",
    "    \n",
    "# Measurement matrices\n",
    "Y = array([[X[0,0] + abs(randn(1)[0])], [X[1,0] +\\\n",
    " abs(randn(1)[0])]])\n",
    "H = array([[1, 0, 0, 0], [0, 1, 0, 0]])\n",
    "R = eye(Y.shape()[0])\n",
    "# Number of iterations in Kalman Filter\n",
    "N_iter = 50\n",
    "# Applying the Kalman Filter\n",
    "for i in arange(0, N_iter):\n",
    " (X, P) = kf_predict(X, P, A, Q, B, U)\n",
    " (X, P, K, IM, IS, LH) = kf_update(X, P, Y, H, R)\n",
    " Y = array([[X[0,0] + abs(0.1 * randn(1)[0])],[X[1, 0] +\\\n",
    " abs(0.1 * randn(1)[0])]])"
   ]
  }
 ],
 "metadata": {
  "kernelspec": {
   "display_name": "Python 2",
   "language": "python",
   "name": "python2"
  },
  "language_info": {
   "codemirror_mode": {
    "name": "ipython",
    "version": 2
   },
   "file_extension": ".py",
   "mimetype": "text/x-python",
   "name": "python",
   "nbconvert_exporter": "python",
   "pygments_lexer": "ipython2",
   "version": "2.7.11"
  }
 },
 "nbformat": 4,
 "nbformat_minor": 0
}

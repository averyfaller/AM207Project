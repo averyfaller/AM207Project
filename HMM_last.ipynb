{
 "cells": [
  {
   "cell_type": "markdown",
   "metadata": {},
   "source": [
    "## Hidden Markov Model\n",
    "In this section of our project we are trying to estimate the number of animal of a certain specie basing ourselves on observations of this specie. We are specifically focusing on deer but if the method reveals to be efficient, we can generalize our results to any specie.\n",
    "\n",
    "It is important to note that by looking at counts from different years, we found that there are more data points as years go on. We have theorized that this may be due to scientists using the gbif website to record more as they may have found this site to be more useful, and also due to the fact that it has become much more easier in the past ten years to record data that it was in the nineties."
   ]
  },
  {
   "cell_type": "code",
   "execution_count": 515,
   "metadata": {
    "collapsed": true
   },
   "outputs": [],
   "source": [
    "%matplotlib inline\n",
    "\n",
    "# Imports\n",
    "import pandas as pd\n",
    "import numpy as np \n",
    "import matplotlib.pyplot as plt\n",
    "import matplotlib.image as mpimg\n",
    "from scipy.misc import *\n",
    "from scipy.sparse import *\n",
    "import itertools"
   ]
  },
  {
   "cell_type": "code",
   "execution_count": 738,
   "metadata": {
    "collapsed": false
   },
   "outputs": [],
   "source": [
    "# http://www.gbif.org/occurrence/search?TAXON_KEY=359&YEAR=2014#\n",
    "# This is data for all Mammals in 2014 across the whole planet\n",
    "mammals = pandas.read_csv('/Users/macuser/Desktop/Mammalia_US_to2015.csv', sep='\\t', usecols=['year','species'], nrows=554000)\n"
   ]
  },
  {
   "cell_type": "code",
   "execution_count": 739,
   "metadata": {
    "collapsed": false
   },
   "outputs": [
    {
     "data": {
      "text/html": [
       "<div>\n",
       "<table border=\"1\" class=\"dataframe\">\n",
       "  <thead>\n",
       "    <tr style=\"text-align: right;\">\n",
       "      <th></th>\n",
       "      <th>species</th>\n",
       "      <th>year</th>\n",
       "    </tr>\n",
       "  </thead>\n",
       "  <tbody>\n",
       "    <tr>\n",
       "      <th>0</th>\n",
       "      <td>Procyon lotor</td>\n",
       "      <td>2014</td>\n",
       "    </tr>\n",
       "    <tr>\n",
       "      <th>1</th>\n",
       "      <td>Zalophus californianus</td>\n",
       "      <td>2014</td>\n",
       "    </tr>\n",
       "    <tr>\n",
       "      <th>2</th>\n",
       "      <td>Vulpes vulpes</td>\n",
       "      <td>2014</td>\n",
       "    </tr>\n",
       "    <tr>\n",
       "      <th>3</th>\n",
       "      <td>Odocoileus hemionus</td>\n",
       "      <td>2014</td>\n",
       "    </tr>\n",
       "    <tr>\n",
       "      <th>4</th>\n",
       "      <td>Lepus californicus</td>\n",
       "      <td>2014</td>\n",
       "    </tr>\n",
       "  </tbody>\n",
       "</table>\n",
       "</div>"
      ],
      "text/plain": [
       "                  species  year\n",
       "0           Procyon lotor  2014\n",
       "1  Zalophus californianus  2014\n",
       "2           Vulpes vulpes  2014\n",
       "3     Odocoileus hemionus  2014\n",
       "4      Lepus californicus  2014"
      ]
     },
     "execution_count": 739,
     "metadata": {},
     "output_type": "execute_result"
    }
   ],
   "source": [
    "mammals.head()"
   ]
  },
  {
   "cell_type": "code",
   "execution_count": 740,
   "metadata": {
    "collapsed": false
   },
   "outputs": [
    {
     "data": {
      "text/plain": [
       "array(['gbifid', 'datasetkey', 'occurrenceid', 'kingdom', 'phylum',\n",
       "       'class', 'order', 'family', 'genus', 'species',\n",
       "       'infraspecificepithet', 'taxonrank', 'scientificname',\n",
       "       'countrycode', 'locality', 'publishingorgkey', 'decimallatitude',\n",
       "       'decimallongitude', 'coordinateuncertaintyinmeters',\n",
       "       'coordinateprecision', 'elevation', 'elevationaccuracy', 'depth',\n",
       "       'depthaccuracy', 'eventdate', 'day', 'month', 'year', 'taxonkey',\n",
       "       'specieskey', 'basisofrecord', 'institutioncode', 'collectioncode',\n",
       "       'catalognumber', 'recordnumber', 'identifiedby', 'rights',\n",
       "       'rightsholder', 'recordedby', 'typestatus', 'establishmentmeans',\n",
       "       'lastinterpreted', 'mediatype', 'issue'], dtype=object)"
      ]
     },
     "execution_count": 740,
     "metadata": {},
     "output_type": "execute_result"
    }
   ],
   "source": [
    "deer=pd.read_csv('/Users/macuser/Desktop/Jupyter/AM207/AM207Project/Data/Deer_2015.csv', sep='\\t')\n",
    "deer.columns.values"
   ]
  },
  {
   "cell_type": "markdown",
   "metadata": {},
   "source": [
    "## Training data Setup"
   ]
  },
  {
   "cell_type": "code",
   "execution_count": 741,
   "metadata": {
    "collapsed": false
   },
   "outputs": [],
   "source": [
    "# Create a subset data frame that just contains the columns that we need\n",
    "occurences_mammals = mammals['year'].value_counts()\n",
    "occurences = deer[deer.year>=1991]\n",
    "occurences_deer=occurences['year'].value_counts()"
   ]
  },
  {
   "cell_type": "code",
   "execution_count": 742,
   "metadata": {
    "collapsed": false
   },
   "outputs": [
    {
     "name": "stdout",
     "output_type": "stream",
     "text": [
      "1994    41074\n",
      "1996    36055\n",
      "1992    34914\n",
      "1995    32592\n",
      "1993    31040\n",
      "1998    28435\n",
      "2002    28118\n",
      "1991    27979\n",
      "1999    25883\n",
      "1997    24650\n",
      "2001    24205\n",
      "2003    23305\n",
      "2000    23029\n",
      "2004    22297\n",
      "2005    18330\n",
      "2006    16221\n",
      "2014    16203\n",
      "2007    15170\n",
      "2009    13662\n",
      "2013    12960\n",
      "2015    12676\n",
      "2011    12589\n",
      "2010    11101\n",
      "2008    11089\n",
      "2012    10423\n",
      "dtype: int64\n"
     ]
    }
   ],
   "source": [
    "print occurences_mammals"
   ]
  },
  {
   "cell_type": "code",
   "execution_count": 745,
   "metadata": {
    "collapsed": false
   },
   "outputs": [
    {
     "data": {
      "text/plain": [
       "array([ 0.70767361,  0.48118233,  0.22551546,  0.28972099,  0.69648994,\n",
       "        0.2884482 ,  0.2474645 ,  0.76314401,  1.0199745 ,  0.30746579,\n",
       "        0.35942987,  0.34853119,  1.44604162,  0.5426739 ,  0.29459902,\n",
       "        1.02952962,  1.1404087 ,  0.75750744,  1.83721271,  2.1349428 ,\n",
       "        2.29565494,  5.20963254,  6.06481481,  6.07912115])"
      ]
     },
     "execution_count": 745,
     "metadata": {},
     "output_type": "execute_result"
    }
   ],
   "source": [
    "deer_obs=[198.,168.,70.,119.,227.,104.,61.,217.,264.,71.,87.,98.,337.,121.,54.,167.,173.,84.,251.,237.,289.,543.,786.,\\\n",
    "          985.]\n",
    "mammal_obs=[27979,34914,31040,41074,32592,36055,24650,28435,25883,23092,24205,28118,23305,22297,18330,16221,15170,\\\n",
    "            11089,13662,11101,12589,10423,12960,16203]\n",
    "\n",
    "# What percentages are the deer observations out of all mammals\n",
    "percentage=np.divide(deer_obs,mammal_obs)*100\n",
    "percentage\n"
   ]
  },
  {
   "cell_type": "markdown",
   "metadata": {},
   "source": [
    "As the number of deer observations increases in the past few years (since 2005, although the actual number of deer is decreasing) we normalize the data counts using the average number of mammals observation over the years.\n",
    "Indeed, we assume the number of observed mammal should be the same over the years and use that ratio (average observation of mammals divided by observations on that year) as a factor to normalize the observations of deer."
   ]
  },
  {
   "cell_type": "code",
   "execution_count": 746,
   "metadata": {
    "collapsed": false
   },
   "outputs": [
    {
     "data": {
      "text/plain": [
       "array([ 0.8062401 ,  0.64609588,  0.72673298,  0.5491988 ,  0.69212665,\n",
       "        0.62564947,  0.91512339,  0.79331077,  0.87152925,  0.97686609,\n",
       "        0.9319476 ,  0.80225449,  0.96793785,  1.01169627,  1.23064875,\n",
       "        1.39065358,  1.48700011,  2.03424941,  1.65113392,  2.03205042,\n",
       "        1.79186525,  2.16423215,  1.74057034,  1.39219846])"
      ]
     },
     "execution_count": 746,
     "metadata": {},
     "output_type": "execute_result"
    }
   ],
   "source": [
    "# Normalize by the relative number of observations\n",
    "average_norm=np.divide(float(np.sum(mammal_obs))/len(mammal_obs),mammal_obs)\n",
    "average_norm"
   ]
  },
  {
   "cell_type": "code",
   "execution_count": 747,
   "metadata": {
    "collapsed": false
   },
   "outputs": [
    {
     "data": {
      "text/plain": [
       "array([  159.63553915,   108.54410838,    50.87130853,    65.35465765,\n",
       "         157.11274878,    65.06754495,    55.82252705,   172.14843649,\n",
       "         230.08372291,    69.35749213,    81.07944123,    78.62093973,\n",
       "         326.1950565 ,   122.41524831,    66.45503273,   232.2391473 ,\n",
       "         257.25101901,   170.87695013,   414.43461487,   481.59594856,\n",
       "         517.84905804,  1175.17805574,  1368.0882909 ,  1371.31548427])"
      ]
     },
     "execution_count": 747,
     "metadata": {},
     "output_type": "execute_result"
    }
   ],
   "source": [
    "# Normalize the data using the observation of mammals \n",
    "norm_obs=np.multiply(average_norm,deer_obs)\n",
    "norm_obs"
   ]
  },
  {
   "cell_type": "code",
   "execution_count": 971,
   "metadata": {
    "collapsed": false
   },
   "outputs": [
    {
     "data": {
      "text/plain": [
       "array([ 1991.,  1992.,  1993.,  1994.,  1995.,  1996.,  1997.,  1998.,\n",
       "        1999.,  2000.,  2001.,  2002.,  2003.,  2004.,  2005.,  2006.,\n",
       "        2007.,  2008.,  2009.,  2010.,  2011.,  2012.,  2013.,  2014.])"
      ]
     },
     "execution_count": 971,
     "metadata": {},
     "output_type": "execute_result"
    }
   ],
   "source": [
    "years=np.linspace(1991,2014,24)\n",
    "years"
   ]
  },
  {
   "cell_type": "code",
   "execution_count": 749,
   "metadata": {
    "collapsed": true
   },
   "outputs": [],
   "source": [
    "## Actual estimated deer number US: http://www.deerfriendly.com/decline-of-deer-populations"
   ]
  },
  {
   "cell_type": "code",
   "execution_count": 893,
   "metadata": {
    "collapsed": false
   },
   "outputs": [],
   "source": [
    "# In Millions\n",
    "actual_deer=[35.8, 36., 36., 36.2, 36.5, 36.8, 37.1, 37.4, 37.7, 38.1, 37.85, 37.5, 37.1, 36.8, 36.4, 36.1, 35.75,\\\n",
    "             35.4, 35., 34.6, 34.2, 33.8, 33.5, 33.2]\n",
    "act_deer=np.multiply(actual_deer,10**6)"
   ]
  },
  {
   "cell_type": "markdown",
   "metadata": {},
   "source": [
    "We caculate the range of ratios of observed to use in the emission probabilities."
   ]
  },
  {
   "cell_type": "code",
   "execution_count": 894,
   "metadata": {
    "collapsed": false
   },
   "outputs": [
    {
     "name": "stdout",
     "output_type": "stream",
     "text": [
      "[  4.45909327   3.01511412   1.4130919    1.80537728   4.30445887\n",
      "   1.76813981   1.50465032   4.60289937   6.10301652   1.82040662\n",
      "   2.14212526   2.09655839   8.79231958   3.32650131   1.82568771\n",
      "   6.43321738   7.1958327    4.82703249  11.840989    13.91895805\n",
      "  15.14178532  34.76858153  40.83845644  41.30468326]\n",
      "[  4.   4.   1.   4.   4.   4.   4.   7.   7.   4.   4.   4.  10.   4.   4.\n",
      "   7.   7.   7.  13.  16.  16.  37.  43.  43.]\n"
     ]
    },
    {
     "data": {
      "text/plain": [
       "array([  1.,   4.,   7.,  10.,  13.,  16.,  37.,  43.])"
      ]
     },
     "execution_count": 894,
     "metadata": {},
     "output_type": "execute_result"
    }
   ],
   "source": [
    "ratio=np.divide(norm_obs,actual_deer)  \n",
    "# This has to be divided by 10^6 but for simplicity purposes, I will keep it this way\n",
    "print ratio\n",
    "# Divide ratios in bins of 3\n",
    "discretized_r=np.linspace(1,55,19)\n",
    "\n",
    "discrete_ratio=np.zeros(len(actual_deer))\n",
    "for i in range(len(ratio)):\n",
    "    for j in range(len(discretized_r)-1):\n",
    "        if ratio[i]>discretized_r[j] and ratio[i]<discretized_r[j]+0.5:\n",
    "            discrete_ratio[i]=discretized_r[j]\n",
    "        elif ratio[i]<discretized_r[j+1] and ratio[i]>=discretized_r[j]+0.5:\n",
    "            discrete_ratio[i]=discretized_r[j+1]\n",
    "        elif ratio[i]==discretized_r[j]:\n",
    "            discrete_ratio[i]=discretized_r[j]\n",
    "print discrete_ratio\n",
    "obs_len=len(np.unique(discrete_ratio))\n",
    "obs_states=(np.unique(discrete_ratio))\n",
    "obs_states"
   ]
  },
  {
   "cell_type": "markdown",
   "metadata": {},
   "source": [
    "We calculate the osberved ratios by dividing the normalized observations by the average number of deer between 1991 and 2014. We therefore become able to have a vector of observed state and an emission matrix in the same format."
   ]
  },
  {
   "cell_type": "code",
   "execution_count": 960,
   "metadata": {
    "collapsed": false
   },
   "outputs": [
    {
     "name": "stdout",
     "output_type": "stream",
     "text": [
      "[  4.43021848   3.01232493   1.4117847    1.81372778   4.36020579\n",
      "   1.8057598    1.54919131   4.77747742   6.38530221   1.92481477\n",
      "   2.25012325   2.18189472   9.05259176   3.39727794   1.84426548\n",
      "   6.44511972   7.13925122   4.74219103  11.50142317  13.36528997\n",
      "  14.37138921  32.61363707  37.96729762  38.05685895]\n"
     ]
    },
    {
     "data": {
      "text/plain": [
       "array([  4.,   4.,   1.,   1.,   4.,   1.,   1.,   4.,   7.,   1.,   1.,\n",
       "         1.,  10.,   4.,   1.,   7.,   7.,   4.,  13.,  13.,  13.,  37.,\n",
       "        37.,  37.])"
      ]
     },
     "execution_count": 960,
     "metadata": {},
     "output_type": "execute_result"
    }
   ],
   "source": [
    "ratio=np.divide(norm_obs,np.average(actual_deer))  \n",
    "# This has to be divided by 10^6 but for simplicity purposes, I will keep it this way\n",
    "print ratio\n",
    "\n",
    "train_ratio=np.zeros(len(actual_deer))\n",
    "for i in range(len(ratio)):\n",
    "    for j in range(len(obs_states)-1):\n",
    "        if ratio[i]>obs_states[j] and ratio[i]<obs_states[j]+(obs_states[j+1]-obs_states[j])/2:\n",
    "            train_ratio[i]=obs_states[j]\n",
    "        elif ratio[i]<obs_states[j+1] and ratio[i]>=obs_states[j]+(obs_states[j+1]-obs_states[j])/2:\n",
    "            train_ratio[i]=obs_states[j+1]\n",
    "        elif ratio[i]==obs_states[j]:\n",
    "            train_ratio[i]=obs_states[j]\n",
    "train_ratio"
   ]
  },
  {
   "cell_type": "code",
   "execution_count": 895,
   "metadata": {
    "collapsed": false
   },
   "outputs": [],
   "source": [
    "# For discretization\n",
    "discrete_states=np.linspace(30,40,41)\n",
    "\n",
    "discrete=np.zeros(len(actual_deer))\n",
    "for i in range(len(actual_deer)):\n",
    "    for j in range(len(discrete_states)-1):\n",
    "        if actual_deer[i]>discrete_states[j] and actual_deer[i]<discrete_states[j+1]:\n",
    "            discrete[i]=discrete_states[j+1]\n",
    "        elif actual_deer[i]==discrete_states[j]:\n",
    "            discrete[i]=discrete_states[j]\n",
    "    "
   ]
  },
  {
   "cell_type": "code",
   "execution_count": 896,
   "metadata": {
    "collapsed": true
   },
   "outputs": [],
   "source": [
    "## Deer number actual California (up to 2013 only) http://www.deerfriendly.com/deer/california"
   ]
  },
  {
   "cell_type": "code",
   "execution_count": 897,
   "metadata": {
    "collapsed": true
   },
   "outputs": [],
   "source": [
    "cali_estimated=[850000,800000,700000,670000,690000,580000,580000,580000,550000,500000,500000,680000,550000,500000,\\\n",
    "                     600000,405000,420000,500000,500000,490000,460000,480000,480000]"
   ]
  },
  {
   "cell_type": "code",
   "execution_count": 898,
   "metadata": {
    "collapsed": false
   },
   "outputs": [
    {
     "data": {
      "text/html": [
       "<div>\n",
       "<table border=\"1\" class=\"dataframe\">\n",
       "  <thead>\n",
       "    <tr style=\"text-align: right;\">\n",
       "      <th></th>\n",
       "      <th>Actual_deer (Mi)</th>\n",
       "      <th>Comparison_average</th>\n",
       "      <th>Deer_obs</th>\n",
       "      <th>Discrete Ratio</th>\n",
       "      <th>Discretized_actual</th>\n",
       "      <th>Mammals_obs</th>\n",
       "      <th>Normalized_obs</th>\n",
       "      <th>Percentage_deer</th>\n",
       "      <th>Ratio</th>\n",
       "      <th>years</th>\n",
       "    </tr>\n",
       "  </thead>\n",
       "  <tbody>\n",
       "    <tr>\n",
       "      <th>0</th>\n",
       "      <td>35.80</td>\n",
       "      <td>0.806240</td>\n",
       "      <td>198</td>\n",
       "      <td>4</td>\n",
       "      <td>36.00</td>\n",
       "      <td>27979</td>\n",
       "      <td>159.635539</td>\n",
       "      <td>0.707674</td>\n",
       "      <td>4.459093</td>\n",
       "      <td>1991</td>\n",
       "    </tr>\n",
       "    <tr>\n",
       "      <th>1</th>\n",
       "      <td>36.00</td>\n",
       "      <td>0.646096</td>\n",
       "      <td>168</td>\n",
       "      <td>4</td>\n",
       "      <td>36.00</td>\n",
       "      <td>34914</td>\n",
       "      <td>108.544108</td>\n",
       "      <td>0.481182</td>\n",
       "      <td>3.015114</td>\n",
       "      <td>1992</td>\n",
       "    </tr>\n",
       "    <tr>\n",
       "      <th>2</th>\n",
       "      <td>36.00</td>\n",
       "      <td>0.726733</td>\n",
       "      <td>70</td>\n",
       "      <td>1</td>\n",
       "      <td>36.00</td>\n",
       "      <td>31040</td>\n",
       "      <td>50.871309</td>\n",
       "      <td>0.225515</td>\n",
       "      <td>1.413092</td>\n",
       "      <td>1993</td>\n",
       "    </tr>\n",
       "    <tr>\n",
       "      <th>3</th>\n",
       "      <td>36.20</td>\n",
       "      <td>0.549199</td>\n",
       "      <td>119</td>\n",
       "      <td>4</td>\n",
       "      <td>36.25</td>\n",
       "      <td>41074</td>\n",
       "      <td>65.354658</td>\n",
       "      <td>0.289721</td>\n",
       "      <td>1.805377</td>\n",
       "      <td>1994</td>\n",
       "    </tr>\n",
       "    <tr>\n",
       "      <th>4</th>\n",
       "      <td>36.50</td>\n",
       "      <td>0.692127</td>\n",
       "      <td>227</td>\n",
       "      <td>4</td>\n",
       "      <td>36.50</td>\n",
       "      <td>32592</td>\n",
       "      <td>157.112749</td>\n",
       "      <td>0.696490</td>\n",
       "      <td>4.304459</td>\n",
       "      <td>1995</td>\n",
       "    </tr>\n",
       "    <tr>\n",
       "      <th>5</th>\n",
       "      <td>36.80</td>\n",
       "      <td>0.625649</td>\n",
       "      <td>104</td>\n",
       "      <td>4</td>\n",
       "      <td>37.00</td>\n",
       "      <td>36055</td>\n",
       "      <td>65.067545</td>\n",
       "      <td>0.288448</td>\n",
       "      <td>1.768140</td>\n",
       "      <td>1996</td>\n",
       "    </tr>\n",
       "    <tr>\n",
       "      <th>6</th>\n",
       "      <td>37.10</td>\n",
       "      <td>0.915123</td>\n",
       "      <td>61</td>\n",
       "      <td>4</td>\n",
       "      <td>37.25</td>\n",
       "      <td>24650</td>\n",
       "      <td>55.822527</td>\n",
       "      <td>0.247465</td>\n",
       "      <td>1.504650</td>\n",
       "      <td>1997</td>\n",
       "    </tr>\n",
       "    <tr>\n",
       "      <th>7</th>\n",
       "      <td>37.40</td>\n",
       "      <td>0.793311</td>\n",
       "      <td>217</td>\n",
       "      <td>7</td>\n",
       "      <td>37.50</td>\n",
       "      <td>28435</td>\n",
       "      <td>172.148436</td>\n",
       "      <td>0.763144</td>\n",
       "      <td>4.602899</td>\n",
       "      <td>1998</td>\n",
       "    </tr>\n",
       "    <tr>\n",
       "      <th>8</th>\n",
       "      <td>37.70</td>\n",
       "      <td>0.871529</td>\n",
       "      <td>264</td>\n",
       "      <td>7</td>\n",
       "      <td>37.75</td>\n",
       "      <td>25883</td>\n",
       "      <td>230.083723</td>\n",
       "      <td>1.019975</td>\n",
       "      <td>6.103017</td>\n",
       "      <td>1999</td>\n",
       "    </tr>\n",
       "    <tr>\n",
       "      <th>9</th>\n",
       "      <td>38.10</td>\n",
       "      <td>0.976866</td>\n",
       "      <td>71</td>\n",
       "      <td>4</td>\n",
       "      <td>38.25</td>\n",
       "      <td>23092</td>\n",
       "      <td>69.357492</td>\n",
       "      <td>0.307466</td>\n",
       "      <td>1.820407</td>\n",
       "      <td>2000</td>\n",
       "    </tr>\n",
       "    <tr>\n",
       "      <th>10</th>\n",
       "      <td>37.85</td>\n",
       "      <td>0.931948</td>\n",
       "      <td>87</td>\n",
       "      <td>4</td>\n",
       "      <td>38.00</td>\n",
       "      <td>24205</td>\n",
       "      <td>81.079441</td>\n",
       "      <td>0.359430</td>\n",
       "      <td>2.142125</td>\n",
       "      <td>2001</td>\n",
       "    </tr>\n",
       "    <tr>\n",
       "      <th>11</th>\n",
       "      <td>37.50</td>\n",
       "      <td>0.802254</td>\n",
       "      <td>98</td>\n",
       "      <td>4</td>\n",
       "      <td>37.50</td>\n",
       "      <td>28118</td>\n",
       "      <td>78.620940</td>\n",
       "      <td>0.348531</td>\n",
       "      <td>2.096558</td>\n",
       "      <td>2002</td>\n",
       "    </tr>\n",
       "    <tr>\n",
       "      <th>12</th>\n",
       "      <td>37.10</td>\n",
       "      <td>0.967938</td>\n",
       "      <td>337</td>\n",
       "      <td>10</td>\n",
       "      <td>37.25</td>\n",
       "      <td>23305</td>\n",
       "      <td>326.195056</td>\n",
       "      <td>1.446042</td>\n",
       "      <td>8.792320</td>\n",
       "      <td>2003</td>\n",
       "    </tr>\n",
       "    <tr>\n",
       "      <th>13</th>\n",
       "      <td>36.80</td>\n",
       "      <td>1.011696</td>\n",
       "      <td>121</td>\n",
       "      <td>4</td>\n",
       "      <td>37.00</td>\n",
       "      <td>22297</td>\n",
       "      <td>122.415248</td>\n",
       "      <td>0.542674</td>\n",
       "      <td>3.326501</td>\n",
       "      <td>2004</td>\n",
       "    </tr>\n",
       "    <tr>\n",
       "      <th>14</th>\n",
       "      <td>36.40</td>\n",
       "      <td>1.230649</td>\n",
       "      <td>54</td>\n",
       "      <td>4</td>\n",
       "      <td>36.50</td>\n",
       "      <td>18330</td>\n",
       "      <td>66.455033</td>\n",
       "      <td>0.294599</td>\n",
       "      <td>1.825688</td>\n",
       "      <td>2005</td>\n",
       "    </tr>\n",
       "    <tr>\n",
       "      <th>15</th>\n",
       "      <td>36.10</td>\n",
       "      <td>1.390654</td>\n",
       "      <td>167</td>\n",
       "      <td>7</td>\n",
       "      <td>36.25</td>\n",
       "      <td>16221</td>\n",
       "      <td>232.239147</td>\n",
       "      <td>1.029530</td>\n",
       "      <td>6.433217</td>\n",
       "      <td>2006</td>\n",
       "    </tr>\n",
       "    <tr>\n",
       "      <th>16</th>\n",
       "      <td>35.75</td>\n",
       "      <td>1.487000</td>\n",
       "      <td>173</td>\n",
       "      <td>7</td>\n",
       "      <td>35.75</td>\n",
       "      <td>15170</td>\n",
       "      <td>257.251019</td>\n",
       "      <td>1.140409</td>\n",
       "      <td>7.195833</td>\n",
       "      <td>2007</td>\n",
       "    </tr>\n",
       "    <tr>\n",
       "      <th>17</th>\n",
       "      <td>35.40</td>\n",
       "      <td>2.034249</td>\n",
       "      <td>84</td>\n",
       "      <td>7</td>\n",
       "      <td>35.50</td>\n",
       "      <td>11089</td>\n",
       "      <td>170.876950</td>\n",
       "      <td>0.757507</td>\n",
       "      <td>4.827032</td>\n",
       "      <td>2008</td>\n",
       "    </tr>\n",
       "    <tr>\n",
       "      <th>18</th>\n",
       "      <td>35.00</td>\n",
       "      <td>1.651134</td>\n",
       "      <td>251</td>\n",
       "      <td>13</td>\n",
       "      <td>35.00</td>\n",
       "      <td>13662</td>\n",
       "      <td>414.434615</td>\n",
       "      <td>1.837213</td>\n",
       "      <td>11.840989</td>\n",
       "      <td>2009</td>\n",
       "    </tr>\n",
       "    <tr>\n",
       "      <th>19</th>\n",
       "      <td>34.60</td>\n",
       "      <td>2.032050</td>\n",
       "      <td>237</td>\n",
       "      <td>16</td>\n",
       "      <td>34.75</td>\n",
       "      <td>11101</td>\n",
       "      <td>481.595949</td>\n",
       "      <td>2.134943</td>\n",
       "      <td>13.918958</td>\n",
       "      <td>2010</td>\n",
       "    </tr>\n",
       "    <tr>\n",
       "      <th>20</th>\n",
       "      <td>34.20</td>\n",
       "      <td>1.791865</td>\n",
       "      <td>289</td>\n",
       "      <td>16</td>\n",
       "      <td>34.25</td>\n",
       "      <td>12589</td>\n",
       "      <td>517.849058</td>\n",
       "      <td>2.295655</td>\n",
       "      <td>15.141785</td>\n",
       "      <td>2011</td>\n",
       "    </tr>\n",
       "    <tr>\n",
       "      <th>21</th>\n",
       "      <td>33.80</td>\n",
       "      <td>2.164232</td>\n",
       "      <td>543</td>\n",
       "      <td>37</td>\n",
       "      <td>34.00</td>\n",
       "      <td>10423</td>\n",
       "      <td>1175.178056</td>\n",
       "      <td>5.209633</td>\n",
       "      <td>34.768582</td>\n",
       "      <td>2012</td>\n",
       "    </tr>\n",
       "    <tr>\n",
       "      <th>22</th>\n",
       "      <td>33.50</td>\n",
       "      <td>1.740570</td>\n",
       "      <td>786</td>\n",
       "      <td>43</td>\n",
       "      <td>33.50</td>\n",
       "      <td>12960</td>\n",
       "      <td>1368.088291</td>\n",
       "      <td>6.064815</td>\n",
       "      <td>40.838456</td>\n",
       "      <td>2013</td>\n",
       "    </tr>\n",
       "    <tr>\n",
       "      <th>23</th>\n",
       "      <td>33.20</td>\n",
       "      <td>1.392198</td>\n",
       "      <td>985</td>\n",
       "      <td>43</td>\n",
       "      <td>33.25</td>\n",
       "      <td>16203</td>\n",
       "      <td>1371.315484</td>\n",
       "      <td>6.079121</td>\n",
       "      <td>41.304683</td>\n",
       "      <td>2014</td>\n",
       "    </tr>\n",
       "  </tbody>\n",
       "</table>\n",
       "</div>"
      ],
      "text/plain": [
       "    Actual_deer (Mi)  Comparison_average  Deer_obs  Discrete Ratio  \\\n",
       "0              35.80            0.806240       198               4   \n",
       "1              36.00            0.646096       168               4   \n",
       "2              36.00            0.726733        70               1   \n",
       "3              36.20            0.549199       119               4   \n",
       "4              36.50            0.692127       227               4   \n",
       "5              36.80            0.625649       104               4   \n",
       "6              37.10            0.915123        61               4   \n",
       "7              37.40            0.793311       217               7   \n",
       "8              37.70            0.871529       264               7   \n",
       "9              38.10            0.976866        71               4   \n",
       "10             37.85            0.931948        87               4   \n",
       "11             37.50            0.802254        98               4   \n",
       "12             37.10            0.967938       337              10   \n",
       "13             36.80            1.011696       121               4   \n",
       "14             36.40            1.230649        54               4   \n",
       "15             36.10            1.390654       167               7   \n",
       "16             35.75            1.487000       173               7   \n",
       "17             35.40            2.034249        84               7   \n",
       "18             35.00            1.651134       251              13   \n",
       "19             34.60            2.032050       237              16   \n",
       "20             34.20            1.791865       289              16   \n",
       "21             33.80            2.164232       543              37   \n",
       "22             33.50            1.740570       786              43   \n",
       "23             33.20            1.392198       985              43   \n",
       "\n",
       "    Discretized_actual  Mammals_obs  Normalized_obs  Percentage_deer  \\\n",
       "0                36.00        27979      159.635539         0.707674   \n",
       "1                36.00        34914      108.544108         0.481182   \n",
       "2                36.00        31040       50.871309         0.225515   \n",
       "3                36.25        41074       65.354658         0.289721   \n",
       "4                36.50        32592      157.112749         0.696490   \n",
       "5                37.00        36055       65.067545         0.288448   \n",
       "6                37.25        24650       55.822527         0.247465   \n",
       "7                37.50        28435      172.148436         0.763144   \n",
       "8                37.75        25883      230.083723         1.019975   \n",
       "9                38.25        23092       69.357492         0.307466   \n",
       "10               38.00        24205       81.079441         0.359430   \n",
       "11               37.50        28118       78.620940         0.348531   \n",
       "12               37.25        23305      326.195056         1.446042   \n",
       "13               37.00        22297      122.415248         0.542674   \n",
       "14               36.50        18330       66.455033         0.294599   \n",
       "15               36.25        16221      232.239147         1.029530   \n",
       "16               35.75        15170      257.251019         1.140409   \n",
       "17               35.50        11089      170.876950         0.757507   \n",
       "18               35.00        13662      414.434615         1.837213   \n",
       "19               34.75        11101      481.595949         2.134943   \n",
       "20               34.25        12589      517.849058         2.295655   \n",
       "21               34.00        10423     1175.178056         5.209633   \n",
       "22               33.50        12960     1368.088291         6.064815   \n",
       "23               33.25        16203     1371.315484         6.079121   \n",
       "\n",
       "        Ratio  years  \n",
       "0    4.459093   1991  \n",
       "1    3.015114   1992  \n",
       "2    1.413092   1993  \n",
       "3    1.805377   1994  \n",
       "4    4.304459   1995  \n",
       "5    1.768140   1996  \n",
       "6    1.504650   1997  \n",
       "7    4.602899   1998  \n",
       "8    6.103017   1999  \n",
       "9    1.820407   2000  \n",
       "10   2.142125   2001  \n",
       "11   2.096558   2002  \n",
       "12   8.792320   2003  \n",
       "13   3.326501   2004  \n",
       "14   1.825688   2005  \n",
       "15   6.433217   2006  \n",
       "16   7.195833   2007  \n",
       "17   4.827032   2008  \n",
       "18  11.840989   2009  \n",
       "19  13.918958   2010  \n",
       "20  15.141785   2011  \n",
       "21  34.768582   2012  \n",
       "22  40.838456   2013  \n",
       "23  41.304683   2014  "
      ]
     },
     "execution_count": 898,
     "metadata": {},
     "output_type": "execute_result"
    }
   ],
   "source": [
    "# Create a Dataframe with all the data\n",
    "data_dict={\"years\": years, \"Mammals_obs\":mammal_obs, \"Deer_obs\":deer_obs, \"Percentage_deer\":percentage, \\\n",
    "           \"Comparison_average\":average_norm, \"Actual_deer (Mi)\": actual_deer, \"Discretized_actual\": discrete, \\\n",
    "          \"Normalized_obs\":norm_obs, \"Ratio\":ratio, \"Discrete Ratio\": discrete_ratio}\n",
    "Data_summary=pd.DataFrame(data_dict)\n",
    "\n",
    "Data_summary"
   ]
  },
  {
   "cell_type": "markdown",
   "metadata": {},
   "source": [
    "### Test Data Setup"
   ]
  },
  {
   "cell_type": "code",
   "execution_count": 899,
   "metadata": {
    "collapsed": false
   },
   "outputs": [
    {
     "data": {
      "text/plain": [
       "1984    838\n",
       "1982    609\n",
       "1981    583\n",
       "1986    497\n",
       "1985    452\n",
       "1980    430\n",
       "1988    410\n",
       "1990    372\n",
       "1983    297\n",
       "1989    260\n",
       "1991    198\n",
       "1987    183\n",
       "dtype: int64"
      ]
     },
     "execution_count": 899,
     "metadata": {},
     "output_type": "execute_result"
    }
   ],
   "source": [
    "test=deer[deer.year<=1991]\n",
    "test=test[test.year>=1980]\n",
    "occurences_test=test['year'].value_counts()\n",
    "occurences_test"
   ]
  },
  {
   "cell_type": "code",
   "execution_count": 900,
   "metadata": {
    "collapsed": true
   },
   "outputs": [],
   "source": [
    "obs_test=[430,583,609,297,838,452,497,183,410,260,371,198]"
   ]
  },
  {
   "cell_type": "code",
   "execution_count": 901,
   "metadata": {
    "collapsed": true
   },
   "outputs": [],
   "source": [
    "mammals_test=pandas.read_csv('/Users/macuser/Desktop/Jupyter/AM207/AM207Project/Data/test_Mammalia.csv', sep='\\t', usecols=['year','species'])"
   ]
  },
  {
   "cell_type": "code",
   "execution_count": 902,
   "metadata": {
    "collapsed": false
   },
   "outputs": [
    {
     "data": {
      "text/plain": [
       "1984    37560\n",
       "1983    32946\n",
       "1980    31507\n",
       "1981    30461\n",
       "1991    28080\n",
       "1982    26348\n",
       "1985    24824\n",
       "1989    24066\n",
       "1990    23260\n",
       "1988    20489\n",
       "1986    19633\n",
       "1987    17841\n",
       "dtype: int64"
      ]
     },
     "execution_count": 902,
     "metadata": {},
     "output_type": "execute_result"
    }
   ],
   "source": [
    "mam_test = mammals_test['year'].value_counts()\n",
    "mam_test"
   ]
  },
  {
   "cell_type": "code",
   "execution_count": 903,
   "metadata": {
    "collapsed": false
   },
   "outputs": [],
   "source": [
    "mammal_test=[31507,30461,26348,32946,37560,24824,19663,17841,20489,24066,23620]\n",
    "tot_mammal=np.append(mammal_test,mammal_obs)"
   ]
  },
  {
   "cell_type": "code",
   "execution_count": 904,
   "metadata": {
    "collapsed": false
   },
   "outputs": [
    {
     "data": {
      "text/plain": [
       "array([ 0.75331287,  0.77918087,  0.90081329,  0.72041002,  0.63191237,\n",
       "        0.9561162 ,  1.20707057,  1.33034183,  1.15840834,  0.98623072,\n",
       "        1.00485303,  0.84830153,  0.67980262,  0.76464654,  0.57785043,\n",
       "        0.7282348 ,  0.65828952,  0.96286526,  0.83469768,  0.91699682,\n",
       "        1.02782906,  0.98056718,  0.84410799,  1.01843504,  1.06447632,\n",
       "        1.29485153,  1.46320378,  1.5645767 ,  2.14037592,  1.73727335,\n",
       "        2.13806221,  1.88534662,  2.27713984,  1.83137566,  1.46482926])"
      ]
     },
     "execution_count": 904,
     "metadata": {},
     "output_type": "execute_result"
    }
   ],
   "source": [
    "average_test=np.divide(float(np.sum(tot_mammal))/len(tot_mammal),tot_mammal)\n",
    "average_test"
   ]
  },
  {
   "cell_type": "code",
   "execution_count": 905,
   "metadata": {
    "collapsed": false
   },
   "outputs": [
    {
     "data": {
      "text/plain": [
       "array([ 323.92453378,  454.26244894,  548.59529376,  213.96177641,\n",
       "        529.54256504,  432.16452281,  599.91407212,  243.45255471,\n",
       "        474.94742126,  256.41998789,  372.80047417,  167.96370339])"
      ]
     },
     "execution_count": 905,
     "metadata": {},
     "output_type": "execute_result"
    }
   ],
   "source": [
    "norm_test=np.multiply(average_test[0:12],obs_test)\n",
    "norm_test"
   ]
  },
  {
   "cell_type": "code",
   "execution_count": 71,
   "metadata": {
    "collapsed": false
   },
   "outputs": [
    {
     "name": "stdout",
     "output_type": "stream",
     "text": [
      "[  8.98958003  12.60672846  15.22466125   5.93788464  14.69590837\n",
      "  11.99346502  16.64886417   6.75631512  13.1807795    7.11618838\n",
      "  10.34598911   4.66134237]\n"
     ]
    },
    {
     "data": {
      "text/plain": [
       "array([ 10.,  13.,  16.,   7.,  16.,  13.,  16.,   7.,  13.,   7.,  10.,\n",
       "         4.])"
      ]
     },
     "execution_count": 71,
     "metadata": {},
     "output_type": "execute_result"
    }
   ],
   "source": [
    "ratio=np.divide(norm_test,np.average(actual_deer))  \n",
    "# This has to be divided by 10^6 but for simplicity purposes, I will keep it this way\n",
    "print ratio\n",
    "\n",
    "test_ratio=np.zeros(len(norm_test))\n",
    "for i in range(len(ratio)):\n",
    "    for j in range(len(obs_states)-1):\n",
    "        if ratio[i]>obs_states[j] and ratio[i]<obs_states[j]+(obs_states[j+1]-obs_states[j])/2:\n",
    "            test_ratio[i]=obs_states[j]\n",
    "        elif ratio[i]<obs_states[j+1] and ratio[i]>=obs_states[j]+(obs_states[j+1]-obs_states[j])/2:\n",
    "            test_ratio[i]=obs_states[j+1]\n",
    "        elif ratio[i]==obs_states[j]:\n",
    "            test_ratio[i]=obs_states[j]\n",
    "test_ratio"
   ]
  },
  {
   "cell_type": "markdown",
   "metadata": {},
   "source": [
    "### Transition Matrix\n",
    "We calculate the transition matrix by counting the occurences of going from hidden state m to hidden state n (in other words, to go from a number m of deer in year i to a number n of dear in year i+1, and dividing the values of each row by the sum of the row: we check that the obtained probabilities on each row sum up to 1. "
   ]
  },
  {
   "cell_type": "code",
   "execution_count": 907,
   "metadata": {
    "collapsed": false
   },
   "outputs": [],
   "source": [
    "# For the transition matrix, we create a 41 by 41 matrix and calculate the probability of a certain current letter\n",
    "# knowing the previous letter. The rows of this matrix should sum up to 1 \n",
    "# The columns correspond to the current letter and the rows to the previous letter\n",
    "\n",
    "#Emission is probability from hidden to observed\n",
    "\n",
    "#Transition is from hidden to next hidden\n",
    "n=len(discrete_states)\n",
    "transition=np.zeros((n,n))\n",
    "# Add a pseudocount\n",
    "transition=transition+0.05\n",
    "\n",
    "for j in xrange(len(discrete)-1):\n",
    "    for i in xrange(len(discrete_states)):\n",
    "        if discrete[j+1]==discrete_states[i]:\n",
    "            for k in xrange(len(discrete_states)):\n",
    "                if discrete[j]==discrete_states[k]:\n",
    "                    transition[k,i]+=1"
   ]
  },
  {
   "cell_type": "code",
   "execution_count": 908,
   "metadata": {
    "collapsed": true
   },
   "outputs": [],
   "source": [
    "SUMS=np.zeros(n)\n",
    "for i in xrange(len(SUMS)):\n",
    "    SUMS[i]=np.sum(transition[i,:])\n",
    "    "
   ]
  },
  {
   "cell_type": "code",
   "execution_count": 909,
   "metadata": {
    "collapsed": false
   },
   "outputs": [],
   "source": [
    "transition_f=np.zeros((n,n))\n",
    "for i in xrange(len(SUMS)):\n",
    "    transition_f[i,:]=transition[i,:]/SUMS[i]"
   ]
  },
  {
   "cell_type": "code",
   "execution_count": 910,
   "metadata": {
    "collapsed": false
   },
   "outputs": [
    {
     "data": {
      "text/plain": [
       "array([ 1.,  1.,  1.,  1.,  1.,  1.,  1.,  1.,  1.,  1.,  1.,  1.,  1.,\n",
       "        1.,  1.,  1.,  1.,  1.,  1.,  1.,  1.,  1.,  1.,  1.,  1.,  1.,\n",
       "        1.,  1.,  1.,  1.,  1.,  1.,  1.,  1.,  1.,  1.,  1.,  1.,  1.,\n",
       "        1.,  1.])"
      ]
     },
     "execution_count": 910,
     "metadata": {},
     "output_type": "execute_result"
    }
   ],
   "source": [
    "# Check to verify my calculations, the sum of the rows should be zero\n",
    "SUM2=np.zeros(n)\n",
    "for i in xrange(len(SUM2)):\n",
    "    SUM2[i]=np.sum(transition_f[i,:])\n",
    "SUM2"
   ]
  },
  {
   "cell_type": "markdown",
   "metadata": {},
   "source": [
    "### Emission Matrix"
   ]
  },
  {
   "cell_type": "markdown",
   "metadata": {},
   "source": [
    "We calculate the transition matrix by counting the occurences of going from hidden state m to observed state n (in other words, to go from a number m of deer in year i to a ratio of observed to actual of m in the same year i, and dividing the values of each row by the sum of the row: we check that the obtained probabilities on each row sum up to 1. "
   ]
  },
  {
   "cell_type": "code",
   "execution_count": 911,
   "metadata": {
    "collapsed": false
   },
   "outputs": [],
   "source": [
    "# Emission probability\n",
    "emission=np.zeros((n,obs_len))\n",
    "# Add a pseudocount\n",
    "emission=emission+0.05\n",
    "for j in xrange(len(discrete_ratio)-1):\n",
    "    for i in xrange(obs_len):\n",
    "        if discrete_ratio[j]==obs_states[i]:\n",
    "            for k in xrange(len(discrete_states)):\n",
    "                if discrete[j]==discrete_states[k]:\n",
    "                    emission[k,i]+=1"
   ]
  },
  {
   "cell_type": "code",
   "execution_count": 912,
   "metadata": {
    "collapsed": false
   },
   "outputs": [],
   "source": [
    "SUMS=np.zeros(n)\n",
    "for i in xrange(len(SUMS)):\n",
    "    SUMS[i]=np.sum(emission[i,:])"
   ]
  },
  {
   "cell_type": "code",
   "execution_count": 913,
   "metadata": {
    "collapsed": false
   },
   "outputs": [],
   "source": [
    "emission_f=np.zeros((n,obs_len))\n",
    "for i in xrange(len(SUMS)):\n",
    "    emission_f[i,:]=emission[i,:]/SUMS[i]"
   ]
  },
  {
   "cell_type": "code",
   "execution_count": 914,
   "metadata": {
    "collapsed": false
   },
   "outputs": [
    {
     "data": {
      "text/plain": [
       "array([ 1.,  1.,  1.,  1.,  1.,  1.,  1.,  1.,  1.,  1.,  1.,  1.,  1.,\n",
       "        1.,  1.,  1.,  1.,  1.,  1.,  1.,  1.,  1.,  1.,  1.,  1.,  1.,\n",
       "        1.,  1.,  1.,  1.,  1.,  1.,  1.,  1.,  1.,  1.,  1.,  1.,  1.,\n",
       "        1.,  1.])"
      ]
     },
     "execution_count": 914,
     "metadata": {},
     "output_type": "execute_result"
    }
   ],
   "source": [
    "# Check to verify my calculations, the sum of the rows should be zero\n",
    "SUM2=np.zeros(n)\n",
    "for i in xrange(len(SUM2)):\n",
    "    SUM2[i]=np.sum(emission_f[i,:])\n",
    "SUM2"
   ]
  },
  {
   "cell_type": "code",
   "execution_count": 915,
   "metadata": {
    "collapsed": true
   },
   "outputs": [],
   "source": [
    "emission_log=np.log(emission_f)\n",
    "transition_log=np.log(transition_f)"
   ]
  },
  {
   "cell_type": "markdown",
   "metadata": {},
   "source": [
    "### Starting Probability"
   ]
  },
  {
   "cell_type": "code",
   "execution_count": 916,
   "metadata": {
    "collapsed": false
   },
   "outputs": [
    {
     "data": {
      "text/plain": [
       "(41,)"
      ]
     },
     "execution_count": 916,
     "metadata": {},
     "output_type": "execute_result"
    }
   ],
   "source": [
    "## Starting Probability\n",
    "itemindex= np.where(discrete_states==discrete[0])[0][0]\n",
    "\n",
    "starting_prob=np.zeros(n)\n",
    "starting_prob[itemindex]=1\n",
    "np.shape(starting_prob)"
   ]
  },
  {
   "cell_type": "code",
   "execution_count": 917,
   "metadata": {
    "collapsed": false
   },
   "outputs": [
    {
     "data": {
      "text/plain": [
       "array([  4.,   4.,   1.,   4.,   4.,   4.,   4.,   7.,   7.,   4.,   4.,\n",
       "         4.,  10.,   4.,   4.,   7.,   7.,   7.,  13.,  16.,  16.,  37.,\n",
       "        43.,  43.])"
      ]
     },
     "execution_count": 917,
     "metadata": {},
     "output_type": "execute_result"
    }
   ],
   "source": [
    "discrete_ratio"
   ]
  },
  {
   "cell_type": "code",
   "execution_count": 918,
   "metadata": {
    "collapsed": true
   },
   "outputs": [],
   "source": [
    "# The function takes as input the observed and hiddent states. \n",
    "# It takes the starting probability, the transition and emission matrix and the test data Y.\n",
    "\n",
    "# The function returns Z, which corresponds to the array of the indexes of the corrected letter (which we can \n",
    "# extract later from the state space)\n",
    "\n",
    "def viterbi(hidden, observed, starting_prob, Y, transition_log, emission_log):   \n",
    "    size_test=len(Y)\n",
    "    T1=np.zeros((len(hidden),size_test))\n",
    "    T2=np.zeros((len(hidden),size_test))\n",
    "    index= np.where(observed==Y[0])[0][0]\n",
    "    for i in xrange(len(hidden)):\n",
    "        T1[i,1]=np.log(starting_prob[i])+emission_log[i,index]\n",
    "    for i in range(1,len(Y)):\n",
    "        index= np.where(observed==Y[i])[0][0]\n",
    "        for j in xrange(len(hidden)):\n",
    "            list_val=T1[:,i-1]+transition_log[:,j]+emission_log[j,index]\n",
    "            T1[j,i]=np.max(list_val) \n",
    "            T2[j,i]=np.argmax(list_val) \n",
    "    Z=np.zeros(size_test)  \n",
    "    T_ind=size_test-1\n",
    "    Z[T_ind]=np.argmax(T1[:,T_ind])\n",
    "    \n",
    "    for i in range(T_ind, 1, -1):\n",
    "        Z[i-1]=T2[Z[i], i]\n",
    "    \n",
    "    return Z\n",
    "    "
   ]
  },
  {
   "cell_type": "code",
   "execution_count": 947,
   "metadata": {
    "collapsed": false
   },
   "outputs": [
    {
     "data": {
      "text/plain": [
       "array([  0.,  24.,  24.,  25.,  26.,  28.,  29.,  30.,  31.,  33.,  32.,\n",
       "        30.,  29.,  28.,  26.,  25.,  23.,  22.,  20.,  19.,  17.,  16.,\n",
       "        14.,  13.])"
      ]
     },
     "execution_count": 947,
     "metadata": {},
     "output_type": "execute_result"
    }
   ],
   "source": [
    "Z=viterbi(discrete_states, obs_states, starting_prob, discrete_ratio, transition_log, emission_log)\n",
    "Z"
   ]
  },
  {
   "cell_type": "code",
   "execution_count": 949,
   "metadata": {
    "collapsed": false
   },
   "outputs": [
    {
     "data": {
      "text/plain": [
       "<matplotlib.text.Text at 0x1137c0c50>"
      ]
     },
     "execution_count": 949,
     "metadata": {},
     "output_type": "execute_result"
    },
    {
     "data": {
      "image/png": "[encoded data removed]",
      "text/plain": [
       "<matplotlib.figure.Figure at 0x1120f1b50>"
      ]
     },
     "metadata": {},
     "output_type": "display_data"
    }
   ],
   "source": [
    "plt.figure(figsize=(8,6))\n",
    "plt.plot(years,Z,label=\"Estimation\")\n",
    "plt.plot(years,actual_deer,label=\"Actual\")\n",
    "plt.legend()\n",
    "plt.xlabel(\"Years\")\n",
    "plt.ylabel(\"Number of deer in Millions\")"
   ]
  },
  {
   "cell_type": "code",
   "execution_count": 85,
   "metadata": {
    "collapsed": false
   },
   "outputs": [
    {
     "data": {
      "text/plain": [
       "array([  0.,  24.,  24.,  24.,  24.,  24.,  24.,  24.,  24.,  24.,  24.,\n",
       "        24.,  24.,  24.,  24.,  25.,  23.,  22.,  20.,  19.,  17.,  16.,\n",
       "        14.,  13.])"
      ]
     },
     "execution_count": 85,
     "metadata": {},
     "output_type": "execute_result"
    }
   ],
   "source": [
    "Z2=viterbi(discrete_states, obs_states, starting_prob, train_ratio, transition_log, emission_log)\n",
    "Z2"
   ]
  },
  {
   "cell_type": "code",
   "execution_count": 86,
   "metadata": {
    "collapsed": false
   },
   "outputs": [
    {
     "data": {
      "text/plain": [
       "<matplotlib.text.Text at 0x10c9e6990>"
      ]
     },
     "execution_count": 86,
     "metadata": {},
     "output_type": "execute_result"
    },
    {
     "data": {
      "image/png": "[encoded data removed]",
      "text/plain": [
       "<matplotlib.figure.Figure at 0x10abec150>"
      ]
     },
     "metadata": {},
     "output_type": "display_data"
    }
   ],
   "source": [
    "plt.figure(figsize=(8,6))\n",
    "plt.plot(years,Z2,label=\"Estimation\")\n",
    "plt.plot(years,actual_deer,label=\"Actual\")\n",
    "plt.legend()\n",
    "plt.xlabel(\"Years\")\n",
    "plt.ylabel(\"Number of deer in Millions\")"
   ]
  },
  {
   "cell_type": "code",
   "execution_count": 93,
   "metadata": {
    "collapsed": false
   },
   "outputs": [
    {
     "data": {
      "text/plain": [
       "array([  0.,  20.,  19.,  23.,  22.,  20.,  19.,  22.,  20.,  30.,  29.,\n",
       "        28.])"
      ]
     },
     "execution_count": 93,
     "metadata": {},
     "output_type": "execute_result"
    }
   ],
   "source": [
    "Z3=viterbi(discrete_states, obs_states, starting_prob2, test_ratio, transition_log, emission_log)\n",
    "Z3"
   ]
  },
  {
   "cell_type": "markdown",
   "metadata": {},
   "source": [
    "We can see that even though the number of observations of deer increase since 2005, Viterbi algorithm manages to translate the decrease that occured in the actual values since 2000.  While it is not close to the actual values, it did capture their trend which is interesting. However, we do not extend this algorithm to the test data as we have seen that even on the training data, the results are not accurate.\n",
    "\n",
    "Note: We note an increase in number of deer counts after 2005. This raises the question as to whether this is reliable data. This could be due to an increase in the number of deer studies. Sightings may also depend on where the scientists decided to look for these animals, as it is unlikely there are people sweeping the entirety of the US to look for deer. Much of the data probably depends on scientific study patterns and may not reflect actual deer population. Also, it has become easier to digitally record sightings."
   ]
  },
  {
   "cell_type": "markdown",
   "metadata": {},
   "source": [
    "### Viterbi Second order"
   ]
  },
  {
   "cell_type": "code",
   "execution_count": 921,
   "metadata": {
    "collapsed": false
   },
   "outputs": [],
   "source": [
    "transition_2=np.zeros((n**2,n**2))\n",
    "transition_2=transition_2+0.05\n",
    "\n",
    "for j in xrange(len(discrete)-2):\n",
    "    # Find the index of data_correct[j],[j+1],[j+2]\n",
    "    for i in xrange(len(discrete_states)):\n",
    "        if discrete[j+1]==discrete_states[i]:\n",
    "            for m in xrange(len(discrete_states)):\n",
    "                if discrete[j+2]==discrete_states[m]:\n",
    "                    for k in xrange(len(discrete_states)):\n",
    "                        if discrete[j]==discrete_states[k]:\n",
    "                            transition_2[k*n+i,i*n+m]+=1"
   ]
  },
  {
   "cell_type": "code",
   "execution_count": 924,
   "metadata": {
    "collapsed": false
   },
   "outputs": [],
   "source": [
    "transition_f_2=transition_2/np.sum(transition_2, axis=1).reshape(n**2,1)"
   ]
  },
  {
   "cell_type": "code",
   "execution_count": 925,
   "metadata": {
    "collapsed": false
   },
   "outputs": [
    {
     "data": {
      "text/plain": [
       "array([ 1.,  1.,  1.,  1.,  1.,  1.,  1.,  1.,  1.,  1.,  1.,  1.,  1.,\n",
       "        1.,  1.,  1.,  1.,  1.,  1.])"
      ]
     },
     "execution_count": 925,
     "metadata": {},
     "output_type": "execute_result"
    }
   ],
   "source": [
    "SUMS=np.zeros(n**2)\n",
    "for i in xrange(len(SUMS)):\n",
    "    SUMS[i]=np.sum(transition_f_2[i,:])\n",
    "SUMS[1:20]"
   ]
  },
  {
   "cell_type": "code",
   "execution_count": 927,
   "metadata": {
    "collapsed": false
   },
   "outputs": [],
   "source": [
    "emission_2=np.zeros((n**2,obs_len))\n",
    "emission_2=emission_2+0.05\n",
    "\n",
    "for j in xrange(len(discrete_ratio)-2):\n",
    "    for i in xrange(obs_len):\n",
    "        if discrete_ratio[j+1]==obs_states[i]:\n",
    "            for m in xrange(obs_len):\n",
    "                if discrete[j]==discrete_states[m]:\n",
    "                    for k in xrange(len(discrete_states)):\n",
    "                        if discrete[j+1]==discrete_states[k]:\n",
    "                            emission_2[n*m+k,i]+=1\n",
    "                                    \n",
    "emission_f_2=emission_2/np.sum(emission_2, axis=1).reshape(n**2,1)"
   ]
  },
  {
   "cell_type": "code",
   "execution_count": 928,
   "metadata": {
    "collapsed": false
   },
   "outputs": [
    {
     "data": {
      "text/plain": [
       "array([ 1.,  1.,  1.,  1.,  1.,  1.,  1.,  1.,  1.,  1.,  1.,  1.,  1.,\n",
       "        1.,  1.,  1.,  1.,  1.,  1.])"
      ]
     },
     "execution_count": 928,
     "metadata": {},
     "output_type": "execute_result"
    }
   ],
   "source": [
    "SUMS=np.zeros(27**2)\n",
    "for i in xrange(len(SUMS)):\n",
    "    SUMS[i]=np.sum(emission_f_2[i,:])\n",
    "SUMS[1:20]"
   ]
  },
  {
   "cell_type": "code",
   "execution_count": 929,
   "metadata": {
    "collapsed": true
   },
   "outputs": [],
   "source": [
    "transition_log_2=np.log(transition_f_2)\n",
    "emission_log_2=np.log(emission_f_2)"
   ]
  },
  {
   "cell_type": "code",
   "execution_count": 930,
   "metadata": {
    "collapsed": false
   },
   "outputs": [],
   "source": [
    "## Starting Probability\n",
    "itemindex= np.where(discrete_states==discrete[0])[0][0]\n",
    "itemindex2= np.where(discrete_states==discrete[1])[0][0]\n",
    "\n",
    "starting_prob_2=np.zeros(n*n)\n",
    "starting_prob_2[itemindex*n+itemindex2]=1"
   ]
  },
  {
   "cell_type": "code",
   "execution_count": 785,
   "metadata": {
    "collapsed": true
   },
   "outputs": [],
   "source": [
    "def viterbi2(hidden, observed, starting_prob, Y, transition_log, emission_log):   \n",
    "    size_test=len(Y)\n",
    "    length=np.shape(transition_log)[0]\n",
    "    T1=np.zeros((length,size_test))\n",
    "    T2=np.zeros((length,size_test))\n",
    "    ind1=np.where(observed==Y[0])[0][0]\n",
    "    for i in xrange(length):\n",
    "        T1[i,1]=np.log(starting_prob[i])+emission_log[i,ind1]\n",
    "    for i in range(1,len(Y)-1):\n",
    "        ind2= np.where(observed==Y[i])[0][0]\n",
    "        for j in xrange(length):\n",
    "            list_val=T1[:,i-1]+transition_log[:,j]+emission_log[j,ind2]\n",
    "            T1[j,i]=np.max(list_val) \n",
    "            T2[j,i]=np.argmax(list_val) \n",
    "    Z=np.zeros(size_test)  \n",
    "    T_ind=size_test-1\n",
    "    Z[T_ind]=np.argmax(T1[:,T_ind])\n",
    "    \n",
    "    for i in range(T_ind, 1, -1):\n",
    "        Z[i-1]=T2[Z[i], i]\n",
    "    \n",
    "    return Z"
   ]
  },
  {
   "cell_type": "code",
   "execution_count": 786,
   "metadata": {
    "collapsed": false
   },
   "outputs": [],
   "source": [
    "Z=viterbi2(discrete_states, obs_states, starting_prob, discrete_ratio, transition_log_2, emission_log_2)"
   ]
  },
  {
   "cell_type": "code",
   "execution_count": 787,
   "metadata": {
    "collapsed": false
   },
   "outputs": [
    {
     "data": {
      "text/plain": [
       "array([    0.,  1009.,  1051.,  1094.,  1177.,  1219.,  1261.,  1304.,\n",
       "        1385.,  1342.,  1259.,  1217.,  1174.,  1091.,  1048.,   965.,\n",
       "         922.,   839.,   796.,   713.,   670.,   587.,     0.,     0.])"
      ]
     },
     "execution_count": 787,
     "metadata": {},
     "output_type": "execute_result"
    }
   ],
   "source": [
    "Z"
   ]
  },
  {
   "cell_type": "markdown",
   "metadata": {},
   "source": [
    "This method does not seem to work properly. Need to rework it."
   ]
  },
  {
   "cell_type": "markdown",
   "metadata": {},
   "source": [
    "## Forward Backward Algorithm\n",
    "\n",
    "Now that we have looked at decoding a sequence over the years, we use the forward–backward algorithm to find the most likely discreteized state for any point in time, in our case any year.\n",
    "The algorithm involves three steps as detailed below:\n",
    "\n",
    "1. computing forward probabilities\n",
    "\n",
    "2. computing backward probabilities\n",
    "\n",
    "3. computing smoothed values."
   ]
  },
  {
   "cell_type": "code",
   "execution_count": 72,
   "metadata": {
    "collapsed": false
   },
   "outputs": [],
   "source": [
    "def FWBW(y, states, starting_prob, transition, emission, obs_states):\n",
    "    L=len(y)\n",
    "    fwd=[]\n",
    "    f_prev={}\n",
    "    \n",
    "    # Forward part of the algorithm\n",
    "    for i in range(L):\n",
    "        f_curr = {}\n",
    "        ind1=np.where(obs_states==y[i])[0][0] \n",
    "        for j in range(len(states)):\n",
    "            st=states[j]\n",
    "            if i == 0:\n",
    "                # base case for the forward part\n",
    "                prev_f_sum = starting_prob[j]\n",
    "            else:\n",
    "                prev_f_sum = sum(f_prev[states[k]]*transition[k,j] for k in range(len(states)))\n",
    " \n",
    "            f_curr[st] = emission[j,ind1] * prev_f_sum\n",
    " \n",
    "        fwd.append(f_curr)\n",
    "        f_prev = f_curr\n",
    " \n",
    "    bkw = []\n",
    "    b_prev = {}\n",
    "    # Backward part of the algorithm\n",
    "    y2=np.append(y,None)\n",
    "    y2=np.delete(y2,[0])\n",
    "    y2=reversed(y2)\n",
    "    for i, y_val in enumerate(y2):\n",
    "        b_curr = {}\n",
    "        for j in range(len(states)):\n",
    "            st=states[j]\n",
    "            if i == 0:\n",
    "                # base case for backward part\n",
    "                b_curr[st] = 1.0\n",
    "            else:\n",
    "                ind2=np.where(obs_states==y_val)[0][0] \n",
    "                b_curr[st] = sum(transition[j,l]*emission[l,ind2]*b_prev[states[l]] for l in range(len(states)))\n",
    " \n",
    "        bkw.insert(0,b_curr)\n",
    "        b_prev = b_curr\n",
    "     \n",
    "    ind3=np.where(obs_states==y[0])[0][0] \n",
    "    p_bkw = sum(starting_prob[l] * emission[l,ind3] * b_curr[states[l]] for l in range(len(states)))\n",
    " \n",
    "    # Smooth the values\n",
    "    posterior = []\n",
    "    for i in range(L):\n",
    "        posterior.append({st: fwd[i][st]*bkw[i][st]/p_bkw for st in states})\n",
    " \n",
    "    return fwd, bkw, posterior"
   ]
  },
  {
   "cell_type": "code",
   "execution_count": 73,
   "metadata": {
    "collapsed": false
   },
   "outputs": [
    {
     "name": "stdout",
     "output_type": "stream",
     "text": [
      "24\n",
      "[{30.25: 0.0, 30.5: 0.0, 36.75: 0.0, 37.25: 0.0, 32.25: 0.0, 36.5: 0.0, 33.25: 0.0, 39.75: 0.0, 37.5: 0.0, 30.0: 0.0, 31.0: 0.0, 32.0: 0.0, 33.0: 0.0, 34.0: 0.0, 33.75: 0.0, 36.0: 0.0, 37.0: 0.0, 31.5: 0.0, 39.0: 0.0, 40.0: 0.0, 34.25: 0.0, 34.5: 0.0, 35.0: 0.0, 31.25: 0.0, 38.25: 0.0, 31.75: 0.0, 34.75: 0.0, 39.25: 0.0, 38.5: 0.0, 38.75: 0.0, 35.25: 0.0, 37.75: 0.0, 35.5: 0.0, 32.75: 0.0, 33.5: 0.0, 35.75: 1.0, 38.0: 0.0, 39.5: 0.0, 36.25: 0.0, 30.75: 0.0, 32.5: 0.0}, {30.25: 0.013346728148171116, 30.5: 0.013346728148171116, 36.75: 0.013346728148171116, 37.25: 0.032212407404137132, 32.25: 0.013346728148171116, 36.5: 0.066129861541364937, 33.25: 0.013346728148171116, 39.75: 0.013346728148171116, 37.5: 0.036539878657188656, 30.0: 0.013346728148171116, 31.0: 0.013346728148171116, 32.0: 0.013346728148171116, 33.0: 0.013346728148171116, 34.0: 0.0028816629834565104, 33.75: 0.013346728148171116, 36.0: 0.22233581917025769, 37.0: 0.070708228787064287, 31.5: 0.013346728148171116, 39.0: 0.013346728148171116, 40.0: 0.013346728148171116, 34.25: 0.0028448359933551863, 34.5: 0.013346728148171116, 35.0: 0.0028434544716274684, 31.25: 0.013346728148171116, 38.25: 0.064524014786076903, 31.75: 0.013346728148171116, 34.75: 0.0028435002745198072, 39.25: 0.013346728148171116, 38.5: 0.013346728148171116, 38.75: 0.013346728148171116, 35.25: 0.013346728148171116, 37.75: 0.0031557365593723433, 35.5: 0.059712502669238186, 32.75: 0.013346728148171116, 33.5: 0.0039735936797769354, 35.75: 0.0028434523847019272, 38.0: 0.060009996351019043, 39.5: 0.013346728148171116, 36.25: 0.032772850582565814, 30.75: 0.013346728148171116, 32.5: 0.013346728148171116}, {30.25: 0.019329632206086685, 30.5: 0.019329632206086685, 36.75: 0.019329632206086685, 37.25: 0.02676091119101141, 32.25: 0.019329632206086685, 36.5: 0.029028514751077018, 33.25: 0.020740153969821391, 39.75: 0.019329632206086685, 37.5: 0.012939211216468046, 30.0: 0.019329632206086685, 31.0: 0.019329632206086685, 32.0: 0.019329632206086685, 33.0: 0.019329632206086685, 34.0: 0.0041430274221096837, 33.75: 0.019329632206086685, 36.0: 0.31996347184580115, 37.0: 0.025961369681667366, 31.5: 0.019329632206086685, 39.0: 0.019329632206086685, 40.0: 0.019329632206086685, 34.25: 0.0041233871620169936, 34.5: 0.019329632206086685, 35.0: 0.0097302966496634249, 31.25: 0.019329632206086685, 38.25: 0.0087144745094821195, 31.75: 0.019329632206086685, 34.75: 0.004122713681420107, 39.25: 0.019329632206086685, 38.5: 0.019329632206086685, 38.75: 0.019329632206086685, 35.25: 0.019329632206086685, 37.75: 0.017061718161570809, 35.5: 0.0041226829955007807, 32.75: 0.019329632206086685, 33.5: 0.0046845273582214178, 35.75: 0.0064288986991437626, 38.0: 0.017681638430106957, 39.5: 0.019329632206086685, 36.25: 0.019881829328837548, 30.75: 0.019329632206086685, 32.5: 0.019329632206086685}, {30.25: 0.0053979654091260501, 30.5: 0.0053979654091260501, 36.75: 0.0053979654091260501, 37.25: 0.05612348415188359, 32.25: 0.0053979654091260501, 36.5: 0.11953529283037409, 33.25: 0.0060996060565152539, 39.75: 0.0053979654091260501, 37.5: 0.039567058383396518, 30.0: 0.0053979654091260501, 31.0: 0.0053979654091260501, 32.0: 0.0053979654091260501, 33.0: 0.0053979654091260501, 34.0: 0.0012214192638050579, 33.75: 0.0053979654091260501, 36.0: 0.27246987281123841, 37.0: 0.14587832147198057, 31.5: 0.0053979654091260501, 39.0: 0.0053979654091260501, 40.0: 0.0053979654091260501, 34.25: 0.0012155644628567312, 34.5: 0.0053979654091260501, 35.0: 0.0012152976994927935, 31.25: 0.0053979654091260501, 38.25: 0.064383763765213112, 31.75: 0.0053979654091260501, 34.75: 0.0014054646698330529, 39.25: 0.0053979654091260501, 38.5: 0.0053979654091260501, 38.75: 0.0053979654091260501, 35.25: 0.0053979654091260501, 37.75: 0.0035051528901158609, 35.5: 0.0012934981840636941, 32.75: 0.0053979654091260501, 33.5: 0.001392158872262282, 35.75: 0.0012505486509206357, 38.0: 0.041133337558149366, 39.5: 0.0053979654091260501, 36.25: 0.11275898845887412, 30.75: 0.0053979654091260501, 32.5: 0.0053979654091260501}, {30.25: 0.0032247173698115687, 30.5: 0.0032247173698115687, 36.75: 0.0032247173698115687, 37.25: 0.092042155558396468, 32.25: 0.0032247173698115687, 36.5: 0.22232518773114654, 33.25: 0.0034455233225556985, 39.75: 0.0032247173698115687, 37.5: 0.036580916412497361, 30.0: 0.0032247173698115687, 31.0: 0.0032247173698115687, 32.0: 0.0032247173698115687, 33.0: 0.0032247173698115687, 34.0: 0.00068989038477498756, 33.75: 0.0032247173698115687, 36.0: 0.21548227337326101, 37.0: 0.14942727308413536, 31.5: 0.0032247173698115687, 39.0: 0.0032247173698115687, 40.0: 0.0032247173698115687, 34.25: 0.00069285196557384752, 34.5: 0.0032247173698115687, 35.0: 0.00068853902827506399, 31.25: 0.0032247173698115687, 38.25: 0.034599213641121229, 31.75: 0.0032247173698115687, 34.75: 0.00068572772801402788, 39.25: 0.0032247173698115687, 38.5: 0.0032247173698115687, 38.75: 0.0032247173698115687, 35.25: 0.0032247173698115687, 37.75: 0.0053288932247964977, 35.5: 0.00068698548677845694, 32.75: 0.0032247173698115687, 33.5: 0.00078125048157345336, 35.75: 0.0016223018999925775, 38.0: 0.06316395454502105, 39.5: 0.0032247173698115687, 36.25: 0.094363845256609138, 30.75: 0.0032247173698115687, 32.5: 0.0032247173698115687}, {30.25: 0.0028752068069580342, 30.5: 0.0028752068069580342, 36.75: 0.0028752068069580342, 37.25: 0.065556299316169769, 32.25: 0.0028752068069580342, 36.5: 0.1811697812104662, 33.25: 0.0029947877043404636, 39.75: 0.0028752068069580342, 37.5: 0.061996235164948517, 30.0: 0.0028752068069580342, 31.0: 0.0028752068069580342, 32.0: 0.0028752068069580342, 33.0: 0.0028752068069580342, 34.0: 0.00060891873925920026, 33.75: 0.0028752068069580342, 36.0: 0.16654365574684432, 37.0: 0.23832193859609727, 31.5: 0.0028752068069580342, 39.0: 0.0028752068069580342, 40.0: 0.0028752068069580342, 34.25: 0.00060251290036708745, 34.5: 0.0028752068069580342, 35.0: 0.00060213401189261303, 31.25: 0.0028752068069580342, 38.25: 0.063538446296106207, 31.75: 0.0028752068069580342, 34.75: 0.00060220188674108346, 39.25: 0.0028752068069580342, 38.5: 0.0028752068069580342, 38.75: 0.0028752068069580342, 35.25: 0.0028752068069580342, 37.75: 0.0024252914035029507, 35.5: 0.00063492601982728333, 32.75: 0.0028752068069580342, 33.5: 0.00070676260544534739, 35.75: 0.0016170845564783172, 38.0: 0.044286413122485345, 39.5: 0.0028752068069580342, 36.25: 0.098787647352035629, 30.75: 0.0028752068069580342, 32.5: 0.0028752068069580342}, {30.25: 0.003664535801637159, 30.5: 0.003664535801637159, 36.75: 0.003664535801637159, 37.25: 0.15842700681174346, 32.25: 0.003664535801637159, 36.5: 0.19532792026255011, 33.25: 0.0037961869509796544, 39.75: 0.003664535801637159, 37.5: 0.062239695935764568, 30.0: 0.003664535801637159, 31.0: 0.003664535801637159, 32.0: 0.003664535801637159, 33.0: 0.003664535801637159, 34.0: 0.0007901260693385303, 33.75: 0.003664535801637159, 36.0: 0.09552794938697251, 37.0: 0.079897388407042941, 31.5: 0.003664535801637159, 39.0: 0.003664535801637159, 40.0: 0.003664535801637159, 34.25: 0.00077830361309614974, 34.5: 0.003664535801637159, 35.0: 0.00077937048280770857, 31.25: 0.003664535801637159, 38.25: 0.018055968383322279, 31.75: 0.003664535801637159, 34.75: 0.00077791409126800714, 39.25: 0.003664535801637159, 38.5: 0.003664535801637159, 38.75: 0.003664535801637159, 35.25: 0.003664535801637159, 37.75: 0.0017713843928605238, 35.5: 0.00082337684367754375, 32.75: 0.003664535801637159, 33.5: 0.00096782613005625773, 35.75: 0.0050447748548657695, 38.0: 0.11703423652204908, 39.5: 0.003664535801637159, 36.25: 0.17001171162231327, 30.75: 0.003664535801637159, 32.5: 0.003664535801637159}, {30.25: 0.006963655922800782, 30.5: 0.006963655922800782, 36.75: 0.006963655922800782, 37.25: 0.0073371718068006965, 32.25: 0.006963655922800782, 36.5: 0.010362908893856437, 33.25: 0.0072024617902383828, 39.75: 0.006963655922800782, 37.5: 0.28619163718486978, 30.0: 0.006963655922800782, 31.0: 0.006963655922800782, 32.0: 0.006963655922800782, 33.0: 0.006963655922800782, 34.0: 0.0014865931879663162, 33.75: 0.006963655922800782, 36.0: 0.0043154161731537074, 37.0: 0.0051840884873415247, 31.5: 0.006963655922800782, 39.0: 0.006963655922800782, 40.0: 0.006963655922800782, 34.25: 0.0014749184205268288, 34.5: 0.006963655922800782, 35.0: 0.0014773696710738008, 31.25: 0.006963655922800782, 38.25: 0.0016440754032387161, 31.75: 0.006963655922800782, 34.75: 0.0014746211053755516, 39.25: 0.006963655922800782, 38.5: 0.006963655922800782, 38.75: 0.006963655922800782, 35.25: 0.006963655922800782, 37.75: 0.068071271336700656, 35.5: 0.032888066755267696, 32.75: 0.006963655922800782, 33.5: 0.0018433008217507477, 35.75: 0.19371462324671618, 38.0: 0.0051134085629520919, 39.5: 0.006963655922800782, 36.25: 0.2030903250049523, 30.75: 0.006963655922800782, 32.5: 0.006963655922800782}, {30.25: 0.0082415841073052616, 30.5: 0.0082415841073052616, 36.75: 0.0082415841073052616, 37.25: 0.015164813172446197, 32.25: 0.0082415841073052616, 36.5: 0.022414263819585716, 33.25: 0.0087017430206009164, 39.75: 0.0082415841073052616, 37.5: 0.036037766122059431, 30.0: 0.0082415841073052616, 31.0: 0.0082415841073052616, 32.0: 0.0082415841073052616, 33.0: 0.0082415841073052616, 34.0: 0.0017355189881800451, 33.75: 0.0082415841073052616, 36.0: 0.0022759885315511985, 37.0: 0.0034277589351024568, 31.5: 0.0082415841073052616, 39.0: 0.0082415841073052616, 40.0: 0.0082415841073052616, 34.25: 0.0017281561681019549, 34.5: 0.0082415841073052616, 35.0: 0.0036743291467252188, 31.25: 0.0082415841073052616, 38.25: 0.011036404529263362, 31.75: 0.0082415841073052616, 34.75: 0.0017280036267112416, 39.25: 0.0082415841073052616, 38.5: 0.0082415841073052616, 38.75: 0.0082415841073052616, 35.25: 0.0082415841073052616, 37.75: 0.3466839885777665, 35.5: 0.14693299166992291, 32.75: 0.0082415841073052616, 33.5: 0.0019562894106743803, 35.75: 0.14283139501170611, 38.0: 0.0036889726681730716, 39.5: 0.0082415841073052616, 36.25: 0.052183598026103492, 30.75: 0.0082415841073052616, 32.5: 0.0082415841073052616}, {30.25: 0.0054933344622808975, 30.5: 0.0054933344622808975, 36.75: 0.0054933344622808975, 37.25: 0.047710173488651197, 32.25: 0.0054933344622808975, 36.5: 0.097750468434417898, 33.25: 0.0057785631356408211, 39.75: 0.0054933344622808975, 37.5: 0.043301152984571385, 30.0: 0.0054933344622808975, 31.0: 0.0054933344622808975, 32.0: 0.0054933344622808975, 33.0: 0.0054933344622808975, 34.0: 0.0011566038754075776, 33.75: 0.0054933344622808975, 36.0: 0.041995634505117327, 37.0: 0.18155880321397125, 31.5: 0.0054933344622808975, 39.0: 0.0054933344622808975, 40.0: 0.0054933344622808975, 34.25: 0.0011500470890361703, 34.5: 0.0054933344622808975, 35.0: 0.0059170112320955743, 31.25: 0.0054933344622808975, 38.25: 0.33113817058225609, 31.75: 0.0054933344622808975, 34.75: 0.001213263306431202, 39.25: 0.0054933344622808975, 38.5: 0.0054933344622808975, 38.75: 0.0054933344622808975, 35.25: 0.0054933344622808975, 37.75: 0.0040570937985626165, 35.5: 0.0057823345264076545, 32.75: 0.0054933344622808975, 33.5: 0.0013058859857843156, 35.75: 0.0016905846821531109, 38.0: 0.038808941058672206, 39.5: 0.0054933344622808975, 36.25: 0.057845241006082584, 30.75: 0.0054933344622808975, 32.5: 0.0054933344622808975}, {30.25: 0.0032883982310084143, 30.5: 0.0032883982310084143, 36.75: 0.0032883982310084143, 37.25: 0.14965586376509443, 32.25: 0.0032883982310084143, 36.5: 0.22284561933108085, 33.25: 0.0034845835680949837, 39.75: 0.0032883982310084143, 37.5: 0.029877676613738767, 30.0: 0.0032883982310084143, 31.0: 0.0032883982310084143, 32.0: 0.0032883982310084143, 33.0: 0.0032883982310084143, 34.0: 0.00071651791235431879, 33.75: 0.0032883982310084143, 36.0: 0.043400556159753807, 37.0: 0.10222033989229311, 31.5: 0.0032883982310084143, 39.0: 0.0032883982310084143, 40.0: 0.0032883982310084143, 34.25: 0.00070643103038053098, 34.5: 0.0032883982310084143, 35.0: 0.00086353193029000406, 31.25: 0.0032883982310084143, 38.25: 0.02982158709992996, 31.75: 0.0032883982310084143, 34.75: 0.00086819458893711151, 39.25: 0.0032883982310084143, 38.5: 0.0032883982310084143, 38.75: 0.0032883982310084143, 35.25: 0.0032883982310084143, 37.75: 0.0021386886379358436, 35.5: 0.00072246177821838977, 32.75: 0.0032883982310084143, 33.5: 0.00083307732477270427, 35.75: 0.0010487596115627122, 38.0: 0.29210172165917847, 39.5: 0.0032883982310084143, 36.25: 0.039772831552182433, 30.75: 0.0032883982310084143, 32.5: 0.0032883982310084143}, {30.25: 0.0038984617049240707, 30.5: 0.0038984617049240707, 36.75: 0.0038984617049240707, 37.25: 0.039480979398083732, 32.25: 0.0038984617049240707, 36.5: 0.079543243318267814, 33.25: 0.0040623684085879345, 39.75: 0.0038984617049240707, 37.5: 0.30471264174743035, 30.0: 0.0038984617049240707, 31.0: 0.0038984617049240707, 32.0: 0.0038984617049240707, 33.0: 0.0038984617049240707, 34.0: 0.00086895013801317354, 33.75: 0.0038984617049240707, 36.0: 0.032414313474385441, 37.0: 0.34785929686346623, 31.5: 0.0038984617049240707, 39.0: 0.0038984617049240707, 40.0: 0.0038984617049240707, 34.25: 0.0008668126085650663, 34.5: 0.0038984617049240707, 35.0: 0.00085922160285867549, 31.25: 0.0038984617049240707, 38.25: 0.019222624954026889, 31.75: 0.0038984617049240707, 34.75: 0.00086618588923304375, 39.25: 0.0038984617049240707, 38.5: 0.0038984617049240707, 38.75: 0.0038984617049240707, 35.25: 0.0038984617049240707, 37.75: 0.0019932463320145176, 35.5: 0.00087527610478263561, 32.75: 0.0038984617049240707, 33.5: 0.0011734806185312633, 35.75: 0.0017893022097400359, 38.0: 0.032365225052959197, 39.5: 0.0038984617049240707, 36.25: 0.037483750360876616, 30.75: 0.0038984617049240707, 32.5: 0.0038984617049240707}, {30.25: 0.0099735937118619802, 30.5: 0.0099735937118619802, 36.75: 0.0099735937118619802, 37.25: 0.62392600256605124, 32.25: 0.0099735937118619802, 36.5: 0.030642614783681407, 33.25: 0.01036694736737463, 39.75: 0.0099735937118619802, 37.5: 0.0065159918156733609, 30.0: 0.0099735937118619802, 31.0: 0.0099735937118619802, 32.0: 0.0099735937118619802, 33.0: 0.0099735937118619802, 34.0: 0.0020721019831947936, 33.75: 0.0099735937118619802, 36.0: 0.012784416108192991, 37.0: 0.017556723667133966, 31.5: 0.0099735937118619802, 39.0: 0.0099735937118619802, 40.0: 0.0099735937118619802, 34.25: 0.0020616793329414451, 34.5: 0.0099735937118619802, 35.0: 0.0020618839856606612, 31.25: 0.0099735937118619802, 38.25: 0.0047550176968050965, 31.75: 0.0099735937118619802, 34.75: 0.0020604462294898968, 39.25: 0.0099735937118619802, 38.5: 0.0099735937118619802, 38.75: 0.0099735937118619802, 35.25: 0.0099735937118619802, 37.75: 0.018723806919697581, 35.5: 0.0021451338902490923, 32.75: 0.0099735937118619802, 33.5: 0.0023380789072917968, 35.75: 0.0046538292880277509, 38.0: 0.0054855835655903823, 39.5: 0.0099735937118619802, 36.25: 0.012483492808257187, 30.75: 0.0099735937118619802, 32.5: 0.0099735937118619802}, {30.25: 0.0035303405452070881, 30.5: 0.0035303405452070881, 36.75: 0.0035303405452070881, 37.25: 0.023124768461217974, 32.25: 0.0035303405452070881, 36.5: 0.053239072813233139, 33.25: 0.0038775675596287628, 39.75: 0.0035303405452070881, 37.5: 0.072794034850871145, 30.0: 0.0035303405452070881, 31.0: 0.0035303405452070881, 32.0: 0.0035303405452070881, 33.0: 0.0035303405452070881, 34.0: 0.00078308486196651626, 33.75: 0.0035303405452070881, 36.0: 0.064939997895891097, 37.0: 0.55984423509813697, 31.5: 0.0035303405452070881, 39.0: 0.0035303405452070881, 40.0: 0.0035303405452070881, 34.25: 0.00077635552358683248, 34.5: 0.0035303405452070881, 35.0: 0.00077892731646007679, 31.25: 0.0035303405452070881, 38.25: 0.050326522803025645, 31.75: 0.0035303405452070881, 34.75: 0.0007761301684304536, 39.25: 0.0035303405452070881, 38.5: 0.0035303405452070881, 38.75: 0.0035303405452070881, 35.25: 0.0035303405452070881, 37.75: 0.0015239982486056501, 35.5: 0.00086354443446760019, 32.75: 0.0035303405452070881, 33.5: 0.00089920807592929017, 35.75: 0.00086001301206667759, 38.0: 0.028864666137528788, 39.5: 0.0035303405452070881, 36.25: 0.050999699653984001, 30.75: 0.0035303405452070881, 32.5: 0.0035303405452070881}, {30.25: 0.0030352863284272436, 30.5: 0.0030352863284272436, 36.75: 0.0030352863284272436, 37.25: 0.10088574304984708, 32.25: 0.0030352863284272436, 36.5: 0.53947473840344495, 33.25: 0.0031898326160984722, 39.75: 0.0030352863284272436, 37.5: 0.032849564959289701, 30.0: 0.0030352863284272436, 31.0: 0.0030352863284272436, 32.0: 0.0030352863284272436, 33.0: 0.0030352863284272436, 34.0: 0.00065461202590525131, 33.75: 0.0030352863284272436, 36.0: 0.091067145127082347, 37.0: 0.032166468904378014, 31.5: 0.0030352863284272436, 39.0: 0.0030352863284272436, 40.0: 0.0030352863284272436, 34.25: 0.00064894446681691492, 34.5: 0.0030352863284272436, 35.0: 0.00065224954110124078, 31.25: 0.0030352863284272436, 38.25: 0.014159901011448565, 31.75: 0.0030352863284272436, 34.75: 0.0006488335432514122, 39.25: 0.0030352863284272436, 38.5: 0.0030352863284272436, 38.75: 0.0030352863284272436, 35.25: 0.0030352863284272436, 37.75: 0.002337302190751382, 35.5: 0.00065210600649018595, 32.75: 0.0030352863284272436, 33.5: 0.00079306613700250367, 35.75: 0.0020219269651276278, 38.0: 0.056032414071715317, 39.5: 0.0030352863284272436, 36.25: 0.04891827909799594, 30.75: 0.0030352863284272436, 32.5: 0.0030352863284272436}, {30.25: 0.0046896986749602057, 30.5: 0.0046896986749602057, 36.75: 0.0046896986749602057, 37.25: 0.0025861234923749061, 32.25: 0.0046896986749602057, 36.5: 0.0026066280684416332, 33.25: 0.0048701974511678944, 39.75: 0.0046896986749602057, 37.5: 0.093863639930412177, 30.0: 0.0046896986749602057, 31.0: 0.0046896986749602057, 32.0: 0.0046896986749602057, 33.0: 0.0046896986749602057, 34.0: 0.00098149239433214944, 33.75: 0.0046896986749602057, 36.0: 0.0010007633709470062, 37.0: 0.0036383181891190843, 31.5: 0.0046896986749602057, 39.0: 0.0046896986749602057, 40.0: 0.0046896986749602057, 34.25: 0.00097543744063372699, 34.5: 0.0046896986749602057, 35.0: 0.00097531513075288523, 31.25: 0.0046896986749602057, 38.25: 0.0010839515785504581, 31.75: 0.0046896986749602057, 34.75: 0.00097533712194475351, 39.25: 0.0046896986749602057, 38.5: 0.0046896986749602057, 38.75: 0.0046896986749602057, 35.25: 0.0046896986749602057, 37.75: 0.037551382392323557, 35.5: 0.020837543242498251, 32.75: 0.0046896986749602057, 33.5: 0.0011344678297201408, 35.75: 0.069314739680646123, 38.0: 0.0028011835470566284, 39.5: 0.0046896986749602057, 36.25: 0.64225071094003394, 30.75: 0.0046896986749602057, 32.5: 0.0046896986749602057}, {30.25: 0.0034763089165281169, 30.5: 0.0034763089165281169, 36.75: 0.0034763089165281169, 37.25: 0.0017452120179240788, 32.25: 0.0034763089165281169, 36.5: 0.0018555681890021971, 33.25: 0.0036755163919343667, 39.75: 0.0034763089165281169, 37.5: 0.013951124344435382, 30.0: 0.0034763089165281169, 31.0: 0.0034763089165281169, 32.0: 0.0034763089165281169, 33.0: 0.0034763089165281169, 34.0: 0.00074117645419509253, 33.75: 0.0034763089165281169, 36.0: 0.00025177972326921675, 37.0: 0.00035974956423096672, 31.5: 0.0034763089165281169, 39.0: 0.0034763089165281169, 40.0: 0.0034763089165281169, 34.25: 0.00073581088611889087, 34.5: 0.0034763089165281169, 35.0: 0.0015475367761869161, 31.25: 0.0034763089165281169, 38.25: 0.0022284986435119462, 31.75: 0.0034763089165281169, 34.75: 0.00073555185976883499, 39.25: 0.0034763089165281169, 38.5: 0.0034763089165281169, 38.75: 0.0034763089165281169, 35.25: 0.0034763089165281169, 37.75: 0.058354294291147628, 35.5: 0.047408892095356384, 32.75: 0.0034763089165281169, 33.5: 0.0008530112132024869, 35.75: 0.76791687949101339, 38.0: 0.00099065975342528946, 39.5: 0.0034763089165281169, 36.25: 0.013217324308601458, 30.75: 0.0034763089165281169, 32.5: 0.0034763089165281169}, {30.25: 0.0028435970694590564, 30.5: 0.0028435970694590564, 36.75: 0.0028435970694590564, 37.25: 0.00039182780185002212, 32.25: 0.0028435970694590564, 36.5: 0.00038456603449280936, 33.25: 0.0029907714067767457, 39.75: 0.0028435970694590564, 37.5: 0.0061736629232072805, 30.0: 0.0028435970694590564, 31.0: 0.0028435970694590564, 32.0: 0.0028435970694590564, 33.0: 0.0028435970694590564, 34.0: 0.00060894675818888566, 33.75: 0.0028435970694590564, 36.0: 0.00014599857983359747, 37.0: 0.00029724267176239118, 31.5: 0.0028435970694590564, 39.0: 0.0028435970694590564, 40.0: 0.0028435970694590564, 34.25: 0.00060368967108186589, 34.5: 0.0028435970694590564, 35.0: 0.0026013993424440999, 31.25: 0.0028435970694590564, 38.25: 0.0029256702804738872, 31.75: 0.0028435970694590564, 34.75: 0.00063618591068114328, 39.25: 0.0028435970694590564, 38.5: 0.0028435970694590564, 38.75: 0.0028435970694590564, 35.25: 0.0028435970694590564, 37.75: 0.018526749732531107, 35.5: 0.8698787738335404, 32.75: 0.0028435970694590564, 33.5: 0.00071814029231113518, 35.75: 0.018230038218210065, 38.0: 0.00064613378327263622, 39.5: 0.0028435970694590564, 36.25: 0.0059938730923233506, 30.75: 0.0028435970694590564, 32.5: 0.0028435970694590564}, {30.25: 0.0023597195267467657, 30.5: 0.0023597195267467657, 36.75: 0.0023597195267467657, 37.25: 0.0003415916040522464, 32.25: 0.0023597195267467657, 36.5: 0.00033788882735079833, 33.25: 0.0025035196326288161, 39.75: 0.0023597195267467657, 37.5: 0.00023666496342205137, 30.0: 0.0023597195267467657, 31.0: 0.0023597195267467657, 32.0: 0.0023597195267467657, 33.0: 0.0023597195267467657, 34.0: 0.00051096107661228649, 33.75: 0.0023597195267467657, 36.0: 0.00012169218217106918, 37.0: 0.00022444143719584439, 31.5: 0.0023597195267467657, 39.0: 0.0023597195267467657, 40.0: 0.0023597195267467657, 34.25: 0.00050759461029996941, 34.5: 0.0023597195267467657, 35.0: 0.93164859058766025, 31.25: 0.0023597195267467657, 38.25: 0.0013661580190206385, 31.75: 0.0023597195267467657, 34.75: 0.001182195233099804, 39.25: 0.0023597195267467657, 38.5: 0.0023597195267467657, 38.75: 0.0023597195267467657, 35.25: 0.0023597195267467657, 37.75: 0.00076744802296432651, 35.5: 0.0014302187045265391, 32.75: 0.0023597195267467657, 33.5: 0.00060248521967193715, 35.75: 0.00075907112119348379, 38.0: 0.00060087218498930622, 39.5: 0.0023597195267467657, 36.25: 0.00022533793121752178, 30.75: 0.0023597195267467657, 32.5: 0.0023597195267467657}, {30.25: 0.0017594224363111375, 30.5: 0.0017594224363111375, 36.75: 0.0017594224363111375, 37.25: 0.0001663180899902369, 32.25: 0.0017594224363111375, 36.5: 0.00016608051597832786, 33.25: 0.0018811380634007455, 39.75: 0.0017594224363111375, 37.5: 0.00018270330574025442, 30.0: 0.0017594224363111375, 31.0: 0.0017594224363111375, 32.0: 0.0017594224363111375, 33.0: 0.0017594224363111375, 34.0: 0.00039026111919982241, 33.75: 0.0017594224363111375, 36.0: 9.1889779009429691e-05, 37.0: 0.00017096113910836227, 31.5: 0.0017594224363111375, 39.0: 0.0017594224363111375, 40.0: 0.0017594224363111375, 34.25: 0.008159952001408453, 34.5: 0.0017594224363111375, 35.0: 0.00092948428981115528, 31.25: 0.0017594224363111375, 38.25: 0.00039517410432164397, 31.75: 0.0017594224363111375, 34.75: 0.94305426055491826, 39.25: 0.0017594224363111375, 38.5: 0.0017594224363111375, 38.75: 0.0017594224363111375, 35.25: 0.0017594224363111375, 37.75: 0.00036982367411339821, 35.5: 0.00039580746138983094, 32.75: 0.0017594224363111375, 33.5: 0.00046661511225673817, 35.75: 0.00036938883378139815, 38.0: 0.00041232491966695277, 39.5: 0.0017594224363111375, 36.25: 0.00017167856443627683, 30.75: 0.0017594224363111375, 32.5: 0.0017594224363111375}, {30.25: 0.0019840819538039477, 30.5: 0.0019840819538039477, 36.75: 0.0019840819538039477, 37.25: 0.00019017432622026159, 32.25: 0.0019840819538039477, 36.5: 0.00018990398477814111, 33.25: 0.0020894480703080669, 39.75: 0.0019840819538039477, 37.5: 0.00020537944506561018, 30.0: 0.0019840819538039477, 31.0: 0.0019840819538039477, 32.0: 0.0019840819538039477, 33.0: 0.0019840819538039477, 34.0: 0.00091652316462455046, 33.75: 0.0019840819538039477, 36.0: 0.00010586798056684088, 37.0: 0.00018936368170239468, 31.5: 0.0019840819538039477, 39.0: 0.0019840819538039477, 40.0: 0.0019840819538039477, 34.25: 0.93562054613302481, 34.5: 0.0019840819538039477, 35.0: 0.00043938616522144021, 31.25: 0.0019840819538039477, 38.25: 0.00043564865730980903, 31.75: 0.0019840819538039477, 34.75: 0.0095195213870742177, 39.25: 0.0019840819538039477, 38.5: 0.0019840819538039477, 38.75: 0.0019840819538039477, 35.25: 0.0019840819538039477, 37.75: 0.00042658476476876761, 35.5: 0.0004378617688081641, 32.75: 0.0019840819538039477, 33.5: 0.0005737645098862394, 35.75: 0.00042621079452079285, 38.0: 0.00041924409166591497, 39.5: 0.0019840819538039477, 36.25: 0.00019660418315813183, 30.75: 0.0019840819538039477, 32.5: 0.0019840819538039477}, {30.25: 0.003554120940476471, 30.5: 0.003554120940476471, 36.75: 0.003554120940476471, 37.25: 0.00035022139599715489, 32.25: 0.003554120940476471, 36.5: 0.00034990707488497604, 33.25: 0.0037266290424210189, 39.75: 0.003554120940476471, 37.5: 0.00038097606987347673, 30.0: 0.003554120940476471, 31.0: 0.003554120940476471, 32.0: 0.003554120940476471, 33.0: 0.003554120940476471, 34.0: 0.90016821294124849, 33.75: 0.003554120940476471, 36.0: 0.00019625742897536952, 37.0: 0.00034894604161586493, 31.5: 0.003554120940476471, 39.0: 0.003554120940476471, 40.0: 0.003554120940476471, 34.25: 0.002069060770781503, 34.5: 0.003554120940476471, 35.0: 0.00080822710109892471, 31.25: 0.003554120940476471, 38.25: 0.00080181106420013418, 31.75: 0.003554120940476471, 34.75: 0.00080835712433160599, 39.25: 0.003554120940476471, 38.5: 0.003554120940476471, 38.75: 0.003554120940476471, 35.25: 0.003554120940476471, 37.75: 0.00078777007485812569, 35.5: 0.00080723333246529442, 32.75: 0.003554120940476471, 33.5: 0.001182941800399665, 35.75: 0.00078704839979765575, 38.0: 0.00075965998318219352, 39.5: 0.003554120940476471, 36.25: 0.00036783778243206736, 30.75: 0.003554120940476471, 32.5: 0.003554120940476471}, {30.25: 0.0083881477814584313, 30.5: 0.0083881477814584313, 36.75: 0.0083881477814584313, 37.25: 0.00088116525050788001, 32.25: 0.0083881477814584313, 36.5: 0.00088052126021193045, 33.25: 0.0088216200890448623, 39.75: 0.0083881477814584313, 37.5: 0.00095642664118164035, 30.0: 0.0083881477814584313, 31.0: 0.0083881477814584313, 32.0: 0.0083881477814584313, 33.0: 0.0083881477814584313, 34.0: 0.0078971761402404448, 33.75: 0.0083881477814584313, 36.0: 0.00050571822281573304, 37.0: 0.00088069355719260195, 31.5: 0.0083881477814584313, 39.0: 0.0083881477814584313, 40.0: 0.0083881477814584313, 34.25: 0.0019701219254000071, 34.5: 0.0083881477814584313, 35.0: 0.0019699931206084383, 31.25: 0.0083881477814584313, 38.25: 0.0019677623153192239, 31.75: 0.0083881477814584313, 34.75: 0.0019701070226267386, 39.25: 0.0083881477814584313, 38.5: 0.0083881477814584313, 38.75: 0.0083881477814584313, 35.25: 0.0083881477814584313, 37.75: 0.0019189967704112407, 35.5: 0.0019676795996415872, 32.75: 0.0083881477814584313, 33.5: 0.76140243841315824, 35.75: 0.0019175647211253674, 38.0: 0.001853427133589185, 39.5: 0.0083881477814584313, 36.25: 0.0009230410619218022, 30.75: 0.0083881477814584313, 32.5: 0.0083881477814584313}, {30.25: 0.020611205509642658, 30.5: 0.020611205509642658, 36.75: 0.020611205509642658, 37.25: 0.0035796449437958244, 32.25: 0.020611205509642658, 36.5: 0.0035770907736637604, 33.25: 0.29991010403105056, 39.75: 0.020611205509642658, 37.5: 0.0036697123932604727, 30.0: 0.020611205509642658, 31.0: 0.020611205509642658, 32.0: 0.020611205509642658, 33.0: 0.020611205509642658, 34.0: 0.0061687062269706163, 33.75: 0.020611205509642658, 36.0: 0.0024807631115599037, 37.0: 0.0035777699922141743, 31.5: 0.020611205509642658, 39.0: 0.020611205509642658, 40.0: 0.020611205509642658, 34.25: 0.0061687041105267819, 34.5: 0.020611205509642658, 35.0: 0.0061683593757368678, 31.25: 0.020611205509642658, 38.25: 0.0061614455972113426, 31.75: 0.020611205509642658, 34.75: 0.0061686879345291953, 39.25: 0.020611205509642658, 38.5: 0.020611205509642658, 38.75: 0.020611205509642658, 35.25: 0.020611205509642658, 37.75: 0.0060143528940687545, 35.5: 0.0061612422221865824, 32.75: 0.020611205509642658, 33.5: 0.12980007258051818, 35.75: 0.0060099743166995012, 38.0: 0.0061683711227508535, 39.5: 0.020611205509642658, 36.25: 0.0035460661418318306, 30.75: 0.020611205509642658, 32.5: 0.020611205509642658}]\n"
     ]
    }
   ],
   "source": [
    "fwd, bkw, posterior = FWBW(discrete_ratio, discrete_states, starting_prob, transition_f, emission_f, obs_states)\n",
    "print len(posterior)\n",
    "print posterior"
   ]
  },
  {
   "cell_type": "markdown",
   "metadata": {},
   "source": [
    "This method gives the highest likelihood of each state for each consecutive year during the 24 years span. We extract the highest probability each year to plot the results."
   ]
  },
  {
   "cell_type": "code",
   "execution_count": 74,
   "metadata": {
    "collapsed": false
   },
   "outputs": [
    {
     "name": "stdout",
     "output_type": "stream",
     "text": [
      "[  0.    36.    36.    36.    36.5   37.    36.5   37.5   37.75  38.25  38.\n",
      "  37.    37.25  37.    36.5   36.25  35.75  35.5   35.    34.75  34.25  34.\n",
      "  33.5   33.25]\n"
     ]
    },
    {
     "data": {
      "text/plain": [
       "array([ 0.        ,  0.22233582,  0.31996347,  0.27246987,  0.22232519,\n",
       "        0.23832194,  0.19532792,  0.28619164,  0.34668399,  0.33113817,\n",
       "        0.29210172,  0.3478593 ,  0.623926  ,  0.55984424,  0.53947474,\n",
       "        0.64225071,  0.76791688,  0.86987877,  0.93164859,  0.94305426,\n",
       "        0.93562055,  0.90016821,  0.76140244,  0.2999101 ])"
      ]
     },
     "execution_count": 74,
     "metadata": {},
     "output_type": "execute_result"
    }
   ],
   "source": [
    "results=np.zeros(len(posterior))\n",
    "prob=np.zeros(len(posterior))\n",
    "\n",
    "for i in range(len(posterior)):\n",
    "    year=posterior[i]\n",
    "    if i==0:\n",
    "        results[i]=0\n",
    "    else:\n",
    "        tresh=0\n",
    "        state=0\n",
    "        for st in discrete_states:\n",
    "            if year[st]>tresh:\n",
    "                tresh=year[st]\n",
    "                state=st\n",
    "        results[i]=state\n",
    "        prob[i]=tresh\n",
    "        \n",
    "print results\n",
    "prob  "
   ]
  },
  {
   "cell_type": "code",
   "execution_count": 75,
   "metadata": {
    "collapsed": false
   },
   "outputs": [
    {
     "data": {
      "text/plain": [
       "<matplotlib.text.Text at 0x109b5ad50>"
      ]
     },
     "execution_count": 75,
     "metadata": {},
     "output_type": "execute_result"
    },
    {
     "data": {
      "image/png": "[encoded data removed]",
      "text/plain": [
       "<matplotlib.figure.Figure at 0x10957afd0>"
      ]
     },
     "metadata": {},
     "output_type": "display_data"
    }
   ],
   "source": [
    "plt.figure(figsize=(8,6))\n",
    "plt.plot(years,results,label=\"Estimation\")\n",
    "plt.plot(years,actual_deer,label=\"Actual\")\n",
    "plt.legend()\n",
    "plt.xlabel(\"Years\")\n",
    "plt.ylabel(\"Number of deer in Millions\")\n",
    "plt.title(\"Forward Backward algorithm\")"
   ]
  },
  {
   "cell_type": "markdown",
   "metadata": {},
   "source": [
    "The actual results and the estimation match perfectly. This is due to the fact that we have used our training data to in our model (from which we calculated transition and emission probabilities).\n",
    "Therefore, we test our data on the number of deer obserevd before 1991."
   ]
  },
  {
   "cell_type": "markdown",
   "metadata": {},
   "source": [
    "### Second Option Data (average ratio)"
   ]
  },
  {
   "cell_type": "code",
   "execution_count": 950,
   "metadata": {
    "collapsed": false
   },
   "outputs": [
    {
     "name": "stdout",
     "output_type": "stream",
     "text": [
      "24\n",
      "[{30.25: 0.0, 30.5: 0.0, 36.75: 0.0, 37.25: 0.0, 32.25: 0.0, 36.5: 0.0, 33.25: 0.0, 39.75: 0.0, 37.5: 0.0, 30.0: 0.0, 31.0: 0.0, 32.0: 0.0, 33.0: 0.0, 34.0: 0.0, 33.75: 0.0, 36.0: 1.0, 37.0: 0.0, 31.5: 0.0, 39.0: 0.0, 40.0: 0.0, 34.25: 0.0, 34.5: 0.0, 35.0: 0.0, 31.25: 0.0, 38.25: 0.0, 31.75: 0.0, 34.75: 0.0, 39.25: 0.0, 38.5: 0.0, 38.75: 0.0, 35.25: 0.0, 37.75: 0.0, 35.5: 0.0, 32.75: 0.0, 33.5: 0.0, 35.75: 0.0, 38.0: 0.0, 39.5: 0.0, 36.25: 0.0, 30.75: 0.0, 32.5: 0.0}, {30.25: 0.00082909687710364458, 30.5: 0.00082909687710364458, 36.75: 0.00082909687710364458, 37.25: 0.0016241803608288907, 32.25: 0.00082909687710364458, 36.5: 0.0031568695367782534, 33.25: 0.00082909687710364458, 39.75: 0.00082909687710364458, 37.5: 0.0017078727360349229, 30.0: 0.00082909687710364458, 31.0: 0.00082909687710364458, 32.0: 0.00082909687710364458, 33.0: 0.00082909687710364458, 34.0: 0.00018147770553549614, 33.75: 0.00082909687710364458, 36.0: 0.92538657479856035, 37.0: 0.0031501100935674379, 31.5: 0.00082909687710364458, 39.0: 0.00082909687710364458, 40.0: 0.00082909687710364458, 34.25: 0.00017599561340752627, 34.5: 0.00082909687710364458, 35.0: 0.00017567516768369506, 31.25: 0.00082909687710364458, 38.25: 0.0036792271514523665, 31.75: 0.00082909687710364458, 34.75: 0.00017570678246681183, 39.25: 0.00082909687710364458, 38.5: 0.00082909687710364458, 38.75: 0.00082909687710364458, 35.25: 0.00082909687710364458, 37.75: 0.00017647011756895839, 35.5: 0.00017567138009181194, 32.75: 0.00082909687710364458, 33.5: 0.00023713485773366977, 35.75: 0.00017567117642421128, 38.0: 0.0035275999519554383, 39.5: 0.00082909687710364458, 36.25: 0.035566340642319491, 30.75: 0.00082909687710364458, 32.5: 0.00082909687710364458}, {30.25: 0.0032975912114847437, 30.5: 0.0032975912114847437, 36.75: 0.0032975912114847437, 37.25: 0.00054004366897226748, 32.25: 0.0032975912114847437, 36.5: 0.0020108184275954787, 33.25: 0.0033755084019526076, 39.75: 0.0032975912114847437, 37.5: 0.0006357503207166398, 30.0: 0.0032975912114847437, 31.0: 0.0032975912114847437, 32.0: 0.0032975912114847437, 33.0: 0.0032975912114847437, 34.0: 0.00072684984954950323, 33.75: 0.0032975912114847437, 36.0: 0.89879459081419899, 37.0: 0.00056175833257040121, 31.5: 0.0032975912114847437, 39.0: 0.0032975912114847437, 40.0: 0.0032975912114847437, 34.25: 0.00071433719013158669, 34.5: 0.0032975912114847437, 35.0: 0.00071280349758513133, 31.25: 0.0032975912114847437, 38.25: 0.00074740619628195168, 31.75: 0.0032975912114847437, 34.75: 0.00071296758266247773, 39.25: 0.0032975912114847437, 38.5: 0.0032975912114847437, 38.75: 0.0032975912114847437, 35.25: 0.0032975912114847437, 37.75: 0.00093545022700025637, 35.5: 0.00071279467434993634, 32.75: 0.0032975912114847437, 33.5: 0.00096434362886990363, 35.75: 0.003883899961878619, 38.0: 0.0010121110160192645, 39.5: 0.0032975912114847437, 36.25: 0.0038163771340318721, 30.75: 0.0032975912114847437, 32.5: 0.0032975912114847437}, {30.25: 0.0040758254962442444, 30.5: 0.0040758254962442444, 36.75: 0.0040758254962442444, 37.25: 0.0010646100406048217, 32.25: 0.0040758254962442444, 36.5: 0.0013639820078198274, 33.25: 0.0043919450291888228, 39.75: 0.0040758254962442444, 37.5: 0.00066588300291010362, 30.0: 0.0040758254962442444, 31.0: 0.0040758254962442444, 32.0: 0.0040758254962442444, 33.0: 0.0040758254962442444, 34.0: 0.00091852937007340396, 33.75: 0.0040758254962442444, 36.0: 0.8740531813064345, 37.0: 0.0011840091371809573, 31.5: 0.0040758254962442444, 39.0: 0.0040758254962442444, 40.0: 0.0040758254962442444, 34.25: 0.00089950099602810929, 34.5: 0.0040758254962442444, 35.0: 0.00089709872813691506, 31.25: 0.0040758254962442444, 38.25: 0.0019428764719621092, 31.75: 0.0040758254962442444, 34.75: 0.00089722131203293554, 39.25: 0.0040758254962442444, 38.5: 0.0040758254962442444, 38.75: 0.0040758254962442444, 35.25: 0.0040758254962442444, 37.75: 0.0019312187523376691, 35.5: 0.0011843497206299124, 32.75: 0.0040758254962442444, 33.5: 0.0010923715614133656, 35.75: 0.0011457441371399925, 38.0: 0.0013779671524510337, 39.5: 0.0040758254962442444, 36.25: 0.007169699363794484, 30.75: 0.0040758254962442444, 32.5: 0.0040758254962442444}, {30.25: 0.0027646140900907533, 30.5: 0.0027646140900907533, 36.75: 0.0027646140900907533, 37.25: 0.0060505319477409157, 32.25: 0.0027646140900907533, 36.5: 0.015009627810703774, 33.25: 0.0030135676365310887, 39.75: 0.0027646140900907533, 37.5: 0.0067129666747823627, 30.0: 0.0027646140900907533, 31.0: 0.0027646140900907533, 32.0: 0.0027646140900907533, 33.0: 0.0027646140900907533, 34.0: 0.00067888109683257917, 33.75: 0.0027646140900907533, 36.0: 0.80845295169767373, 37.0: 0.011788181190759502, 31.5: 0.0027646140900907533, 39.0: 0.0027646140900907533, 40.0: 0.0027646140900907533, 34.25: 0.00065128565982192142, 34.5: 0.0027646140900907533, 35.0: 0.00066686732447643912, 31.25: 0.0027646140900907533, 38.25: 0.01359977045223106, 31.75: 0.0027646140900907533, 34.75: 0.00064980178916778243, 39.25: 0.0027646140900907533, 38.5: 0.0027646140900907533, 38.75: 0.0027646140900907533, 35.25: 0.0027646140900907533, 37.75: 0.00063181237921072623, 35.5: 0.00066454348700048288, 32.75: 0.0027646140900907533, 33.5: 0.0009092184148528727, 35.75: 0.00080195076515089724, 38.0: 0.013006476483514088, 39.5: 0.0027646140900907533, 36.25: 0.05036082702737181, 30.75: 0.0027646140900907533, 32.5: 0.0027646140900907533}, {30.25: 0.0075163283855306465, 30.5: 0.0075163283855306465, 36.75: 0.0075163283855306465, 37.25: 0.0018219208665984457, 32.25: 0.0075163283855306465, 36.5: 0.0042930625063614712, 33.25: 0.0078468288936023745, 39.75: 0.0075163283855306465, 37.5: 0.0021160784673018695, 30.0: 0.0075163283855306465, 31.0: 0.0075163283855306465, 32.0: 0.0075163283855306465, 33.0: 0.0075163283855306465, 34.0: 0.0017229224385354937, 33.75: 0.0075163283855306465, 36.0: 0.76884969106874179, 37.0: 0.0020813062253688111, 31.5: 0.0075163283855306465, 39.0: 0.0075163283855306465, 40.0: 0.0075163283855306465, 34.25: 0.0016876919961038002, 34.5: 0.0075163283855306465, 35.0: 0.0016861221427716469, 31.25: 0.0075163283855306465, 38.25: 0.0019355077947553374, 31.75: 0.0075163283855306465, 34.75: 0.0016867053128809299, 39.25: 0.0075163283855306465, 38.5: 0.0075163283855306465, 38.75: 0.0075163283855306465, 35.25: 0.0075163283855306465, 37.75: 0.0027958315232537887, 35.5: 0.0017010874001246558, 32.75: 0.0075163283855306465, 33.5: 0.002378100470575979, 35.75: 0.0068120877988995486, 38.0: 0.0030557018924249452, 39.5: 0.0075163283855306465, 36.25: 0.0071374719489632182, 30.75: 0.0075163283855306465, 32.5: 0.0075163283855306465}, {30.25: 0.0095650204528910637, 30.5: 0.0095650204528910637, 36.75: 0.0095650204528910637, 37.25: 0.0035047682843465074, 32.25: 0.0095650204528910637, 36.5: 0.0042245638082767135, 33.25: 0.010436235749519983, 39.75: 0.0095650204528910637, 37.5: 0.0021031024208644665, 30.0: 0.0095650204528910637, 31.0: 0.0095650204528910637, 32.0: 0.0095650204528910637, 33.0: 0.0095650204528910637, 34.0: 0.0021658740709106202, 33.75: 0.0095650204528910637, 36.0: 0.69344457600273635, 37.0: 0.004132469762487702, 31.5: 0.0095650204528910637, 39.0: 0.0095650204528910637, 40.0: 0.0095650204528910637, 34.25: 0.002131765965725908, 34.5: 0.0095650204528910637, 35.0: 0.0021288739659473979, 31.25: 0.0095650204528910637, 38.25: 0.0067545950572833868, 31.75: 0.0095650204528910637, 34.75: 0.0021277790141811873, 39.25: 0.0095650204528910637, 38.5: 0.0095650204528910637, 38.75: 0.0095650204528910637, 35.25: 0.0095650204528910637, 37.75: 0.004563457623306278, 35.5: 0.002667586053041915, 32.75: 0.0095650204528910637, 33.5: 0.00258789742633117, 35.75: 0.0025979431815149417, 38.0: 0.005175990666642487, 39.5: 0.0095650204528910637, 36.25: 0.019692030077497872, 30.75: 0.0095650204528910637, 32.5: 0.0095650204528910637}, {30.25: 0.0059176941704737951, 30.5: 0.0059176941704737951, 36.75: 0.0059176941704737951, 37.25: 0.022793329533418002, 32.25: 0.0059176941704737951, 36.5: 0.054895192783510786, 33.25: 0.0065014432795669356, 39.75: 0.0059176941704737951, 37.5: 0.036844093195972157, 30.0: 0.0059176941704737951, 31.0: 0.0059176941704737951, 32.0: 0.0059176941704737951, 33.0: 0.0059176941704737951, 34.0: 0.0014191316543211161, 33.75: 0.0059176941704737951, 36.0: 0.37117286423268331, 37.0: 0.024480105013217592, 31.5: 0.0059176941704737951, 39.0: 0.0059176941704737951, 40.0: 0.0059176941704737951, 34.25: 0.0013750257883878728, 34.5: 0.0059176941704737951, 35.0: 0.0014001115340051674, 31.25: 0.0059176941704737951, 38.25: 0.028583463640176186, 31.75: 0.0059176941704737951, 34.75: 0.0013696943793749545, 39.25: 0.0059176941704737951, 38.5: 0.0059176941704737951, 38.75: 0.0059176941704737951, 35.25: 0.0059176941704737951, 37.75: 0.0013069884832231781, 35.5: 0.001396001899162316, 32.75: 0.0059176941704737951, 33.5: 0.0018012032874551275, 35.75: 0.0044891372986737713, 38.0: 0.050844068557321098, 39.5: 0.0059176941704737951, 36.25: 0.24730348534816046, 30.75: 0.0059176941704737951, 32.5: 0.0059176941704737951}, {30.25: 0.011760381228399088, 30.5: 0.011760381228399088, 36.75: 0.011760381228399088, 37.25: 0.0025626217701771419, 32.25: 0.011760381228399088, 36.5: 0.0054373747309706061, 33.25: 0.012313063792377661, 39.75: 0.011760381228399088, 37.5: 0.060142617463647512, 30.0: 0.011760381228399088, 31.0: 0.011760381228399088, 32.0: 0.011760381228399088, 33.0: 0.011760381228399088, 34.0: 0.0028181512308264639, 33.75: 0.011760381228399088, 36.0: 0.055258815130256003, 37.0: 0.0027452282375798405, 31.5: 0.011760381228399088, 39.0: 0.011760381228399088, 40.0: 0.011760381228399088, 34.25: 0.002697345711933234, 34.5: 0.011760381228399088, 35.0: 0.0026819189052090025, 31.25: 0.011760381228399088, 38.25: 0.0026535456228260626, 31.75: 0.011760381228399088, 34.75: 0.0026841524601073211, 39.25: 0.011760381228399088, 38.5: 0.011760381228399088, 38.75: 0.011760381228399088, 35.25: 0.011760381228399088, 37.75: 0.078152839005977706, 35.5: 0.056746333014841166, 32.75: 0.011760381228399088, 33.5: 0.003800731687797195, 35.75: 0.21697394762301367, 38.0: 0.004768582112453605, 39.5: 0.011760381228399088, 36.25: 0.20531358201842884, 30.75: 0.011760381228399088, 32.5: 0.011760381228399088}, {30.25: 0.026229340449857301, 30.5: 0.026229340449857301, 36.75: 0.026229340449857301, 37.25: 0.0055624641536186487, 32.25: 0.026229340449857301, 36.5: 0.012603846328175307, 33.25: 0.027665501623705877, 39.75: 0.026229340449857301, 37.5: 0.0031355437900177125, 30.0: 0.026229340449857301, 31.0: 0.026229340449857301, 32.0: 0.026229340449857301, 33.0: 0.026229340449857301, 34.0: 0.0064102654055164313, 33.75: 0.026229340449857301, 36.0: 0.18216411334028135, 37.0: 0.002975758632407528, 31.5: 0.026229340449857301, 39.0: 0.026229340449857301, 40.0: 0.026229340449857301, 34.25: 0.0061037119075787911, 34.5: 0.026229340449857301, 35.0: 0.012418451136236564, 31.25: 0.026229340449857301, 38.25: 0.015108469897721475, 31.75: 0.026229340449857301, 34.75: 0.0060674895659326294, 39.25: 0.026229340449857301, 38.5: 0.026229340449857301, 38.75: 0.026229340449857301, 35.25: 0.026229340449857301, 37.75: 0.012468263299149584, 35.5: 0.031245199358975545, 32.75: 0.026229340449857301, 33.5: 0.0087375582786385526, 35.75: 0.028704046393533283, 38.0: 0.0056684234449023603, 39.5: 0.026229340449857301, 36.25: 0.003456722647034405, 30.75: 0.026229340449857301, 32.5: 0.026229340449857301}, {30.25: 0.026775001604520537, 30.5: 0.026775001604520537, 36.75: 0.026775001604520537, 37.25: 0.0038367781479115189, 32.25: 0.026775001604520537, 36.5: 0.0033798374006076687, 33.25: 0.030199746938870155, 39.75: 0.026775001604520537, 37.5: 0.0034712485655894114, 30.0: 0.026775001604520537, 31.0: 0.026775001604520537, 32.0: 0.026775001604520537, 33.0: 0.026775001604520537, 34.0: 0.0069714077087885979, 33.75: 0.026775001604520537, 36.0: 0.22869140948633848, 37.0: 0.003577218432784612, 31.5: 0.026775001604520537, 39.0: 0.026775001604520537, 40.0: 0.026775001604520537, 34.25: 0.0066523717759442193, 34.5: 0.026775001604520537, 35.0: 0.0097545880052585399, 31.25: 0.026775001604520537, 38.25: 0.0073988857919847703, 31.75: 0.026775001604520537, 34.75: 0.00742247417088288, 39.25: 0.026775001604520537, 38.5: 0.026775001604520537, 38.75: 0.026775001604520537, 35.25: 0.026775001604520537, 37.75: 0.0062950368793726922, 35.5: 0.0094392671732006113, 32.75: 0.026775001604520537, 33.5: 0.0096774369582697146, 35.75: 0.0062830387523734599, 38.0: 0.0085190483639162908, 39.5: 0.026775001604520537, 36.25: 0.005830166939414988, 30.75: 0.026775001604520537, 32.5: 0.026775001604520537}, {30.25: 0.027625857852655714, 30.5: 0.027625857852655714, 36.75: 0.027625857852655714, 37.25: 0.0032915525651302682, 32.25: 0.027625857852655714, 36.5: 0.0035303361987946646, 33.25: 0.031503811689892788, 39.75: 0.027625857852655714, 37.5: 0.013172976882533133, 30.0: 0.027625857852655714, 31.0: 0.027625857852655714, 32.0: 0.027625857852655714, 33.0: 0.027625857852655714, 34.0: 0.006928438381214575, 33.75: 0.027625857852655714, 36.0: 0.19344719942391481, 37.0: 0.011663736502727499, 31.5: 0.027625857852655714, 39.0: 0.027625857852655714, 40.0: 0.027625857852655714, 34.25: 0.0068817058519297578, 34.5: 0.027625857852655714, 35.0: 0.0071147434771093596, 31.25: 0.027625857852655714, 38.25: 0.0071664663621878498, 31.75: 0.027625857852655714, 34.75: 0.0071555531694226533, 39.25: 0.027625857852655714, 38.5: 0.027625857852655714, 38.75: 0.027625857852655714, 35.25: 0.027625857852655714, 37.75: 0.0072031574727198762, 35.5: 0.0067185057883700147, 32.75: 0.027625857852655714, 33.5: 0.0095201749513631195, 35.75: 0.0066184898108971133, 38.0: 0.0066576396350993524, 39.5: 0.027625857852655714, 36.25: 0.0084049233729577826, 30.75: 0.027625857852655714, 32.5: 0.027625857852655714}, {30.25: 0.025757123002910949, 30.5: 0.025757123002910949, 36.75: 0.025757123002910949, 37.25: 0.1660352200713669, 32.25: 0.025757123002910949, 36.5: 0.0086370055447536256, 33.25: 0.029227381163700942, 39.75: 0.025757123002910949, 37.5: 0.0045360075259185898, 30.0: 0.025757123002910949, 31.0: 0.025757123002910949, 32.0: 0.025757123002910949, 33.0: 0.025757123002910949, 34.0: 0.0061809962413841629, 33.75: 0.025757123002910949, 36.0: 0.062506441508501154, 37.0: 0.0075566837464931085, 31.5: 0.025757123002910949, 39.0: 0.025757123002910949, 40.0: 0.025757123002910949, 34.25: 0.0060518983003335506, 34.5: 0.025757123002910949, 35.0: 0.0059952257952526648, 31.25: 0.025757123002910949, 38.25: 0.013711078142431631, 31.75: 0.025757123002910949, 34.75: 0.006037641605819692, 39.25: 0.025757123002910949, 38.5: 0.025757123002910949, 38.75: 0.025757123002910949, 35.25: 0.025757123002910949, 37.75: 0.01518823951594343, 35.5: 0.0059846434612898765, 32.75: 0.025757123002910949, 33.5: 0.0073991338020645454, 35.75: 0.0060621735697379128, 38.0: 0.0098352427826356344, 39.5: 0.025757123002910949, 36.25: 0.020884035152511339, 30.75: 0.025757123002910949, 32.5: 0.025757123002910949}, {30.25: 0.012389739184424086, 30.5: 0.012389739184424086, 36.75: 0.012389739184424086, 37.25: 0.029711307973412922, 32.25: 0.012389739184424086, 36.5: 0.070912836799473203, 33.25: 0.014176120695582019, 39.75: 0.012389739184424086, 37.5: 0.07216150055597334, 30.0: 0.012389739184424086, 31.0: 0.012389739184424086, 32.0: 0.012389739184424086, 33.0: 0.012389739184424086, 34.0: 0.0031594322645802533, 33.75: 0.012389739184424086, 36.0: 0.16291745789173448, 37.0: 0.13813579073672147, 31.5: 0.012389739184424086, 39.0: 0.012389739184424086, 40.0: 0.012389739184424086, 34.25: 0.003079572411739887, 34.5: 0.012389739184424086, 35.0: 0.0030704402459032732, 31.25: 0.012389739184424086, 38.25: 0.083386502287083053, 31.75: 0.012389739184424086, 34.75: 0.00307149092325065, 39.25: 0.012389739184424086, 38.5: 0.012389739184424086, 38.75: 0.012389739184424086, 35.25: 0.012389739184424086, 37.75: 0.002884389015557653, 35.5: 0.0030753985888343841, 32.75: 0.012389739184424086, 33.5: 0.0044253520612925453, 35.75: 0.003261580806623191, 38.0: 0.065028309303115969, 39.5: 0.012389739184424086, 36.25: 0.040188777012945098, 30.75: 0.012389739184424086, 32.5: 0.012389739184424086}, {30.25: 0.023291699305216525, 30.5: 0.023291699305216525, 36.75: 0.023291699305216525, 37.25: 0.040271831768997769, 32.25: 0.023291699305216525, 36.5: 0.024219542066022261, 33.25: 0.024994109434688216, 39.75: 0.023291699305216525, 37.5: 0.016509192994898041, 30.0: 0.023291699305216525, 31.0: 0.023291699305216525, 32.0: 0.023291699305216525, 33.0: 0.023291699305216525, 34.0: 0.005210767963645938, 33.75: 0.023291699305216525, 36.0: 0.18582774222421, 37.0: 0.0070103298964960771, 31.5: 0.023291699305216525, 39.0: 0.023291699305216525, 40.0: 0.023291699305216525, 34.25: 0.005131383364420262, 34.5: 0.023291699305216525, 35.0: 0.0051257891246391041, 31.25: 0.023291699305216525, 38.25: 0.0054282894234947586, 31.75: 0.023291699305216525, 34.75: 0.00512585710143442, 39.25: 0.023291699305216525, 38.5: 0.023291699305216525, 38.75: 0.023291699305216525, 35.25: 0.023291699305216525, 37.75: 0.011730427584626814, 35.5: 0.005146872642085222, 32.75: 0.023291699305216525, 33.5: 0.0063786108455710522, 35.75: 0.018990107678749875, 38.0: 0.044186073972479589, 39.5: 0.023291699305216525, 36.25: 0.029712288588345362, 30.75: 0.023291699305216525, 32.5: 0.023291699305216525}, {30.25: 0.012369400451681983, 30.5: 0.012369400451681983, 36.75: 0.012369400451681983, 37.25: 0.0031292419090062531, 32.25: 0.012369400451681983, 36.5: 0.0038070762916868096, 33.25: 0.013947993818478692, 39.75: 0.012369400451681983, 37.5: 0.17232665126820479, 30.0: 0.012369400451681983, 31.0: 0.012369400451681983, 32.0: 0.012369400451681983, 33.0: 0.012369400451681983, 34.0: 0.0029308077004453425, 33.75: 0.012369400451681983, 36.0: 0.0073447983552213259, 37.0: 0.0018807058847801028, 31.5: 0.012369400451681983, 39.0: 0.012369400451681983, 40.0: 0.012369400451681983, 34.25: 0.0028826540111952939, 34.5: 0.012369400451681983, 35.0: 0.002877753992827315, 31.25: 0.012369400451681983, 38.25: 0.0034443961880683493, 31.75: 0.012369400451681983, 34.75: 0.0028770670162969851, 39.25: 0.012369400451681983, 38.5: 0.012369400451681983, 38.75: 0.012369400451681983, 35.25: 0.012369400451681983, 37.75: 0.068666926473856874, 35.5: 0.064723155136535385, 32.75: 0.012369400451681983, 33.5: 0.0036295442301926173, 35.75: 0.14977636268818384, 38.0: 0.00577304442265661, 39.5: 0.012369400451681983, 36.25: 0.19311620977199728, 30.75: 0.012369400451681983, 32.5: 0.012369400451681983}, {30.25: 0.010906978758720213, 30.5: 0.010906978758720213, 36.75: 0.010906978758720213, 37.25: 0.0065438938155814533, 32.25: 0.010906978758720213, 36.5: 0.0096921012577050707, 33.25: 0.011857987340713597, 39.75: 0.010906978758720213, 37.5: 0.040227381926969459, 30.0: 0.010906978758720213, 31.0: 0.010906978758720213, 32.0: 0.010906978758720213, 33.0: 0.010906978758720213, 34.0: 0.0025454244759688092, 33.75: 0.010906978758720213, 36.0: 0.0021482535576640882, 37.0: 0.0032427633616099508, 31.5: 0.010906978758720213, 39.0: 0.010906978758720213, 40.0: 0.010906978758720213, 34.25: 0.0024753127739281884, 34.5: 0.010906978758720213, 35.0: 0.0067189748859194315, 31.25: 0.010906978758720213, 38.25: 0.015961462768261769, 31.75: 0.010906978758720213, 34.75: 0.0024672152686081683, 39.25: 0.010906978758720213, 38.5: 0.010906978758720213, 38.75: 0.010906978758720213, 35.25: 0.010906978758720213, 37.75: 0.25455326493318664, 35.5: 0.13868804390009634, 32.75: 0.010906978758720213, 33.5: 0.0031457885879387494, 35.75: 0.17730364344234575, 38.0: 0.0041553977066992502, 39.5: 0.010906978758720213, 36.25: 0.056505599787519852, 30.75: 0.010906978758720213, 32.5: 0.010906978758720213}, {30.25: 0.013486284506850332, 30.5: 0.013486284506850332, 36.75: 0.013486284506850332, 37.25: 0.044009137899627251, 32.25: 0.013486284506850332, 36.5: 0.085933335626566631, 33.25: 0.014354896431647415, 39.75: 0.013486284506850332, 37.5: 0.031877646655284524, 30.0: 0.013486284506850332, 31.0: 0.013486284506850332, 32.0: 0.013486284506850332, 33.0: 0.013486284506850332, 34.0: 0.003274411176155487, 33.75: 0.013486284506850332, 36.0: 0.03077586329436257, 37.0: 0.059257879285622012, 31.5: 0.013486284506850332, 39.0: 0.013486284506850332, 40.0: 0.013486284506850332, 34.25: 0.0031390693563235388, 34.5: 0.013486284506850332, 35.0: 0.013554776004315441, 31.25: 0.013486284506850332, 38.25: 0.22239891113487481, 31.75: 0.013486284506850332, 34.75: 0.0034491725110109496, 39.25: 0.013486284506850332, 38.5: 0.013486284506850332, 38.75: 0.013486284506850332, 35.25: 0.013486284506850332, 37.75: 0.0047429491141364388, 35.5: 0.04917541702344707, 32.75: 0.013486284506850332, 33.5: 0.0044331357039536596, 35.75: 0.0060868632625154569, 38.0: 0.067603720751458068, 39.5: 0.013486284506850332, 36.25: 0.032261986604292567, 30.75: 0.013486284506850332, 32.5: 0.013486284506850332}, {30.25: 0.027177204541607124, 30.5: 0.027177204541607124, 36.75: 0.027177204541607124, 37.25: 0.0071508565139797578, 32.25: 0.027177204541607124, 36.5: 0.0071216852251346887, 33.25: 0.028853662265107362, 39.75: 0.027177204541607124, 37.5: 0.0090171081883673974, 30.0: 0.027177204541607124, 31.0: 0.027177204541607124, 32.0: 0.027177204541607124, 33.0: 0.027177204541607124, 34.0: 0.0065812469269763904, 33.75: 0.027177204541607124, 36.0: 0.0032497186251845521, 37.0: 0.009201611250112476, 31.5: 0.027177204541607124, 39.0: 0.027177204541607124, 40.0: 0.027177204541607124, 34.25: 0.0063476838593452215, 34.5: 0.027177204541607124, 35.0: 0.16468689244006701, 31.25: 0.027177204541607124, 38.25: 0.0064160540856298158, 31.75: 0.027177204541607124, 34.75: 0.0074969121456459195, 39.25: 0.027177204541607124, 38.5: 0.027177204541607124, 38.75: 0.027177204541607124, 35.25: 0.027177204541607124, 37.75: 0.0094446449596449471, 35.5: 0.022076163690778805, 32.75: 0.027177204541607124, 33.5: 0.0089107484557815302, 35.75: 0.012049945905688695, 38.0: 0.030057243723912198, 39.5: 0.027177204541607124, 36.25: 0.0090849127400740772, 30.75: 0.027177204541607124, 32.5: 0.027177204541607124}, {30.25: 0.028603107375768679, 30.5: 0.028603107375768679, 36.75: 0.028603107375768679, 37.25: 0.003606541874527738, 32.25: 0.028603107375768679, 36.5: 0.0036097703900266533, 33.25: 0.031972871489368997, 39.75: 0.028603107375768679, 37.5: 0.0049887069846387471, 30.0: 0.028603107375768679, 31.0: 0.028603107375768679, 32.0: 0.028603107375768679, 33.0: 0.028603107375768679, 34.0: 0.0072958083876595442, 33.75: 0.028603107375768679, 36.0: 0.0017274392466337446, 37.0: 0.0034196714192633324, 31.5: 0.028603107375768679, 39.0: 0.028603107375768679, 40.0: 0.028603107375768679, 34.25: 0.0071335314204469986, 34.5: 0.028603107375768679, 35.0: 0.15121410220688805, 31.25: 0.028603107375768679, 38.25: 0.0072687534381657599, 31.75: 0.028603107375768679, 34.75: 0.031907761031737286, 39.25: 0.028603107375768679, 38.5: 0.028603107375768679, 38.75: 0.028603107375768679, 35.25: 0.028603107375768679, 37.75: 0.0072146814522021079, 35.5: 0.025097191231838574, 32.75: 0.028603107375768679, 33.5: 0.0098701729737889349, 35.75: 0.0072282935809500591, 38.0: 0.0065352540611594194, 39.5: 0.028603107375768679, 36.25: 0.0034348717922568833, 30.75: 0.028603107375768679, 32.5: 0.028603107375768679}, {30.25: 0.028501031530364734, 30.5: 0.028501031530364734, 36.75: 0.028501031530364734, 37.25: 0.0031063166798088733, 32.25: 0.028501031530364734, 36.5: 0.0030313917387855215, 33.25: 0.032231215046243586, 39.75: 0.028501031530364734, 37.5: 0.0034337106772491773, 30.0: 0.028501031530364734, 31.0: 0.028501031530364734, 32.0: 0.028501031530364734, 33.0: 0.028501031530364734, 34.0: 0.0073659360955950094, 33.75: 0.028501031530364734, 36.0: 0.0016345099434221136, 37.0: 0.0030504834335681112, 31.5: 0.028501031530364734, 39.0: 0.028501031530364734, 40.0: 0.028501031530364734, 34.25: 0.031309709744747907, 34.5: 0.028501031530364734, 35.0: 0.15395493339221761, 31.25: 0.028501031530364734, 38.25: 0.006988932306863962, 31.75: 0.028501031530364734, 34.75: 0.029792188271862016, 39.25: 0.028501031530364734, 38.5: 0.028501031530364734, 38.75: 0.028501031530364734, 35.25: 0.028501031530364734, 37.75: 0.0067464197586408004, 35.5: 0.0070413622811493397, 32.75: 0.028501031530364734, 33.5: 0.0099475087016021955, 35.75: 0.0065793650997711031, 38.0: 0.006609516804112813, 39.5: 0.028501031530364734, 36.25: 0.0031517432956077638, 30.75: 0.028501031530364734, 32.5: 0.028501031530364734}, {30.25: 0.028337108907745101, 30.5: 0.028337108907745101, 36.75: 0.028337108907745101, 37.25: 0.0030147217330913204, 32.25: 0.028337108907745101, 36.5: 0.0030010645936995352, 33.25: 0.03209455887797686, 39.75: 0.028337108907745101, 37.5: 0.0034126448441667801, 30.0: 0.028337108907745101, 31.0: 0.028337108907745101, 32.0: 0.028337108907745101, 33.0: 0.028337108907745101, 34.0: 0.15856683970057708, 33.75: 0.028337108907745101, 36.0: 0.0016327869242677305, 37.0: 0.0029975564236683606, 31.5: 0.028337108907745101, 39.0: 0.028337108907745101, 40.0: 0.028337108907745101, 34.25: 0.03017601937277933, 34.5: 0.028337108907745101, 35.0: 0.0070033858743750203, 31.25: 0.028337108907745101, 38.25: 0.0069202822488899553, 31.75: 0.028337108907745101, 34.75: 0.031464379922844503, 39.25: 0.028337108907745101, 38.5: 0.028337108907745101, 38.75: 0.028337108907745101, 35.25: 0.028337108907745101, 37.75: 0.0065621738781070239, 35.5: 0.0069493740449770658, 32.75: 0.028337108907745101, 33.5: 0.0099024650370405122, 35.75: 0.0065308058793091114, 38.0: 0.0065645760683266715, 39.5: 0.028337108907745101, 36.25: 0.0031157507900218284, 30.75: 0.028337108907745101, 32.5: 0.028337108907745101}, {30.25: 0.028245762323980735, 30.5: 0.028245762323980735, 36.75: 0.028245762323980735, 37.25: 0.0031800574629484973, 32.25: 0.028245762323980735, 36.5: 0.003164918970280838, 33.25: 0.031983213655413616, 39.75: 0.028245762323980735, 37.5: 0.0035782898879210662, 30.0: 0.028245762323980735, 31.0: 0.028245762323980735, 32.0: 0.028245762323980735, 33.0: 0.028245762323980735, 34.0: 0.15510089642291028, 33.75: 0.028245762323980735, 36.0: 0.0017656974158993873, 37.0: 0.0031691629580982927, 31.5: 0.028245762323980735, 39.0: 0.028245762323980735, 40.0: 0.028245762323980735, 34.25: 0.035057983307100339, 34.5: 0.028245762323980735, 35.0: 0.0071523861167647803, 31.25: 0.028245762323980735, 38.25: 0.0071061241262424801, 31.75: 0.028245762323980735, 34.75: 0.0071588393545304017, 39.25: 0.028245762323980735, 38.5: 0.028245762323980735, 38.75: 0.028245762323980735, 35.25: 0.028245762323980735, 37.75: 0.0067090336604768899, 35.5: 0.007102376333273216, 32.75: 0.028245762323980735, 33.5: 0.033193678221413066, 35.75: 0.0066753700047506156, 38.0: 0.0067314219763004021, 39.5: 0.028245762323980735, 36.25: 0.0032722543501398768, 30.75: 0.028245762323980735, 32.5: 0.028245762323980735}, {30.25: 0.026902281220295379, 30.5: 0.026902281220295379, 36.75: 0.026902281220295379, 37.25: 0.005013944064570966, 32.25: 0.026902281220295379, 36.5: 0.0049905307571705615, 33.25: 0.039078441024086356, 39.75: 0.026902281220295379, 37.5: 0.0053337937281884087, 30.0: 0.026902281220295379, 31.0: 0.026902281220295379, 32.0: 0.026902281220295379, 33.0: 0.026902281220295379, 34.0: 0.18863924007537619, 33.75: 0.026902281220295379, 36.0: 0.0033602009326193605, 37.0: 0.0049971972971662986, 31.5: 0.026902281220295379, 39.0: 0.026902281220295379, 40.0: 0.026902281220295379, 34.25: 0.0087030413585134012, 34.5: 0.026902281220295379, 35.0: 0.0086950226621881101, 31.25: 0.026902281220295379, 38.25: 0.0086391614033552548, 31.75: 0.026902281220295379, 34.75: 0.0087021248904816679, 39.25: 0.026902281220295379, 38.5: 0.026902281220295379, 38.75: 0.026902281220295379, 35.25: 0.026902281220295379, 37.75: 0.0081556650678185159, 35.5: 0.0086343805994510744, 32.75: 0.026902281220295379, 33.5: 0.02971329555597901, 35.75: 0.0081155279694178194, 38.0: 0.0086955549116682351, 39.5: 0.026902281220295379, 36.25: 0.0048781284148611288, 30.75: 0.026902281220295379, 32.5: 0.026902281220295379}]\n"
     ]
    }
   ],
   "source": [
    "fwd2, bkw2, posterior2 = FWBW(train_ratio, discrete_states, starting_prob, transition_f, emission_f, obs_states)\n",
    "print len(posterior2)\n",
    "print posterior2"
   ]
  },
  {
   "cell_type": "code",
   "execution_count": 951,
   "metadata": {
    "collapsed": false
   },
   "outputs": [
    {
     "name": "stdout",
     "output_type": "stream",
     "text": [
      "[  0.    36.    36.    36.    36.    36.    36.5   37.5   37.75  38.25  38.\n",
      "  37.    37.25  37.    36.5   36.25  35.75  35.5   35.    34.75  34.25  34.\n",
      "  33.5   33.25]\n"
     ]
    },
    {
     "data": {
      "text/plain": [
       "array([ 0.        ,  0.86882869,  0.7856563 ,  0.53866697,  0.38251028,\n",
       "        0.27034794,  0.19616524,  0.25412466,  0.3213163 ,  0.31504899,\n",
       "        0.28071748,  0.35297515,  0.62232113,  0.55907474,  0.53912335,\n",
       "        0.64212647,  0.76785667,  0.8698521 ,  0.93163949,  0.94305073,\n",
       "        0.93561899,  0.90016737,  0.7614019 ,  0.29990991])"
      ]
     },
     "execution_count": 951,
     "metadata": {},
     "output_type": "execute_result"
    }
   ],
   "source": [
    "results2=np.zeros(len(posterior2))\n",
    "prob2=np.zeros(len(posterior2))\n",
    "\n",
    "for i in range(len(posterior2)):\n",
    "    year=posterior2[i]\n",
    "    if i==0:\n",
    "        results[i]=0\n",
    "    else:\n",
    "        tresh=0\n",
    "        state=0\n",
    "        for st in discrete_states:\n",
    "            if year[st]>tresh:\n",
    "                tresh=year[st]\n",
    "                state=st\n",
    "        results2[i]=state\n",
    "        prob2[i]=tresh\n",
    "        \n",
    "print results2\n",
    "prob2"
   ]
  },
  {
   "cell_type": "code",
   "execution_count": 954,
   "metadata": {
    "collapsed": false
   },
   "outputs": [
    {
     "data": {
      "text/plain": [
       "<matplotlib.text.Text at 0x1185ded10>"
      ]
     },
     "execution_count": 954,
     "metadata": {},
     "output_type": "execute_result"
    },
    {
     "data": {
      "image/png": "[encoded data removed]",
      "text/plain": [
       "<matplotlib.figure.Figure at 0x1168c1110>"
      ]
     },
     "metadata": {},
     "output_type": "display_data"
    }
   ],
   "source": [
    "plt.figure(figsize=(8,6))\n",
    "plt.plot(years[0:],results2[0:],label=\"Estimation\")\n",
    "plt.plot(years[0:],actual_deer[0:],label=\"Actual\")\n",
    "plt.legend()\n",
    "plt.xlabel(\"Years\")\n",
    "plt.ylabel(\"Number of deer in Millions\")\n",
    "plt.title(\"Forward Backward algorithm\")"
   ]
  },
  {
   "cell_type": "code",
   "execution_count": 955,
   "metadata": {
    "collapsed": false
   },
   "outputs": [
    {
     "data": {
      "text/plain": [
       "<matplotlib.text.Text at 0x1187da890>"
      ]
     },
     "execution_count": 955,
     "metadata": {},
     "output_type": "execute_result"
    },
    {
     "data": {
      "image/png": "[encoded data removed]",
      "text/plain": [
       "<matplotlib.figure.Figure at 0x1137cfb50>"
      ]
     },
     "metadata": {},
     "output_type": "display_data"
    }
   ],
   "source": [
    "plt.figure(figsize=(8,6))\n",
    "plt.plot(years[1:],results2[1:],label=\"Estimation\")\n",
    "plt.plot(years[1:],actual_deer[1:],label=\"Actual\")\n",
    "plt.legend()\n",
    "plt.xlabel(\"Years\")\n",
    "plt.ylabel(\"Number of deer in Millions\")\n",
    "plt.title(\"Forward Backward algorithm\")"
   ]
  },
  {
   "cell_type": "markdown",
   "metadata": {},
   "source": [
    "## Test Data"
   ]
  },
  {
   "cell_type": "code",
   "execution_count": 77,
   "metadata": {
    "collapsed": false
   },
   "outputs": [],
   "source": [
    "actual_deer_test=[35.75, 35, 35, 35.5, 35, 36.0, 35.5, 35.5, 35.0, 35.75, 36, 36.25]\n",
    "years_test=np.linspace(1980,1991,12)"
   ]
  },
  {
   "cell_type": "code",
   "execution_count": 91,
   "metadata": {
    "collapsed": false
   },
   "outputs": [
    {
     "data": {
      "text/plain": [
       "(41,)"
      ]
     },
     "execution_count": 91,
     "metadata": {},
     "output_type": "execute_result"
    }
   ],
   "source": [
    "## Starting Probability\n",
    "itemindex= np.where(discrete_states==actual_deer_test[0])[0][0]\n",
    "\n",
    "starting_prob2=np.zeros(n)\n",
    "starting_prob2[itemindex]=1\n",
    "np.shape(starting_prob2)"
   ]
  },
  {
   "cell_type": "code",
   "execution_count": 88,
   "metadata": {
    "collapsed": false
   },
   "outputs": [
    {
     "name": "stdout",
     "output_type": "stream",
     "text": [
      "12\n"
     ]
    }
   ],
   "source": [
    "fwd3, bkw3, posterior3 = FWBW(test_ratio, discrete_states, starting_prob2, transition_f, emission_f, obs_states)\n",
    "print len(posterior3)"
   ]
  },
  {
   "cell_type": "code",
   "execution_count": 89,
   "metadata": {
    "collapsed": false
   },
   "outputs": [
    {
     "name": "stdout",
     "output_type": "stream",
     "text": [
      "[  0.    35.    34.75  35.75  34.25  35.    34.75  35.5   35.    37.5\n",
      "  37.25  37.  ]\n"
     ]
    },
    {
     "data": {
      "text/plain": [
       "array([ 0.        ,  0.2950617 ,  0.29745467,  0.14375677,  0.11555702,\n",
       "        0.36786858,  0.34020442,  0.26351975,  0.28878462,  0.18857527,\n",
       "        0.30179647,  0.22714632])"
      ]
     },
     "execution_count": 89,
     "metadata": {},
     "output_type": "execute_result"
    }
   ],
   "source": [
    "results3=np.zeros(len(posterior3))\n",
    "prob3=np.zeros(len(posterior3))\n",
    "\n",
    "for i in range(len(posterior3)):\n",
    "    year=posterior3[i]\n",
    "    if i==0:\n",
    "        results[i]=0\n",
    "    else:\n",
    "        tresh=0\n",
    "        state=0\n",
    "        for st in discrete_states:\n",
    "            if year[st]>tresh:\n",
    "                tresh=year[st]\n",
    "                state=st\n",
    "        results3[i]=state\n",
    "        prob3[i]=tresh\n",
    "        \n",
    "print results3\n",
    "prob3"
   ]
  },
  {
   "cell_type": "code",
   "execution_count": 81,
   "metadata": {
    "collapsed": false
   },
   "outputs": [
    {
     "data": {
      "text/plain": [
       "<matplotlib.text.Text at 0x10a76da10>"
      ]
     },
     "execution_count": 81,
     "metadata": {},
     "output_type": "execute_result"
    },
    {
     "data": {
      "image/png": "[encoded data removed]",
      "text/plain": [
       "<matplotlib.figure.Figure at 0x1095a6490>"
      ]
     },
     "metadata": {},
     "output_type": "display_data"
    }
   ],
   "source": [
    "plt.figure(figsize=(8,6))\n",
    "plt.plot(years_test,results3,label=\"Estimation\")\n",
    "plt.plot(years_test,actual_deer_test,label=\"Actual\")\n",
    "plt.legend()\n",
    "plt.xlabel(\"Years\")\n",
    "plt.ylabel(\"Number of deer in Millions\")\n",
    "plt.title(\"Forward Backward algorithm\")"
   ]
  },
  {
   "cell_type": "code",
   "execution_count": 82,
   "metadata": {
    "collapsed": false
   },
   "outputs": [
    {
     "data": {
      "text/plain": [
       "<matplotlib.text.Text at 0x10aa0af50>"
      ]
     },
     "execution_count": 82,
     "metadata": {},
     "output_type": "execute_result"
    },
    {
     "data": {
      "image/png": "[encoded data removed]",
      "text/plain": [
       "<matplotlib.figure.Figure at 0x109586b10>"
      ]
     },
     "metadata": {},
     "output_type": "display_data"
    }
   ],
   "source": [
    "plt.figure(figsize=(8,6))\n",
    "plt.plot(years_test[1:],results3[1:],label=\"Estimation\")\n",
    "plt.plot(years_test[1:],actual_deer_test[1:],label=\"Actual\")\n",
    "plt.legend()\n",
    "plt.xlabel(\"Years\")\n",
    "plt.ylabel(\"Number of deer in Millions\")\n",
    "plt.title(\"Forward Backward algorithm\")"
   ]
  },
  {
   "cell_type": "markdown",
   "metadata": {},
   "source": [
    "## Kalman Filter"
   ]
  },
  {
   "cell_type": "code",
   "execution_count": null,
   "metadata": {
    "collapsed": true
   },
   "outputs": [],
   "source": [
    "## Compare later with built in function"
   ]
  },
  {
   "cell_type": "code",
   "execution_count": null,
   "metadata": {
    "collapsed": true
   },
   "outputs": [],
   "source": [
    "from pykalman import KalmanFilter\n",
    "\n",
    "kf = KalmanFilter(transition_matrices = [[1, 1], [0, 1]], observation_matrices = [[0.1, 0.5], [-0.3, 0.0]])\n",
    "measurements = np.asarray([[1,0], [0,0], [0,1]])  # 3 observations\n",
    "kf = kf.em(measurements, n_iter=5)\n",
    "(filtered_state_means, filtered_state_covariances) = kf.filter(measurements)\n",
    "(smoothed_state_means, smoothed_state_covariances) = kf.smooth(measurements)"
   ]
  },
  {
   "cell_type": "code",
   "execution_count": 558,
   "metadata": {
    "collapsed": true
   },
   "outputs": [],
   "source": [
    "def kf_predict(X, P, A, Q, B, U):\n",
    "    X = np.dot(A, X) + np.dot(B, U)\n",
    "    P = np.dot(A, np.dot(P, A.T)) + Q\n",
    "    return(X,P)\n",
    " \n",
    "def gauss_pdf(X, M, S):\n",
    "    if np.shape(M)[1] == 1:\n",
    "        DX=X - np.tile(M, np.shape(X)[1])\n",
    "        E=0.5 * np.sum(DX * (np.dot(inv(S), DX)), axis=0)\n",
    "        E=E + 0.5 * np.shape(M)[0] * np.log(2 * np.pi) + 0.5 * np.log(det(S))\n",
    "        P=np.exp(-E)\n",
    "    elif np.shape(X)[1] == 1:\n",
    "        DX=np.tile(X, np.shape(M)[1])- M\n",
    "        E=0.5 * np.sum(DX * (np.dot(inv(S), DX)), axis=0)\n",
    "        E=E + 0.5 * np.shape(M)[0] * np.log(2 * np.pi) + 0.5 * np.log(det(S))\n",
    "        P=np.exp(-E)\n",
    "    else:\n",
    "        DX=X-M\n",
    "        E=0.5 * np.dot(DX.T, np.dot(inv(S), DX))\n",
    "        E=E + 0.5 * np.shape(M)[0] * np.log(2 * np.pi) + 0.5 * np.log(det(S))\n",
    "        P=np.exp(-E)\n",
    "        \n",
    "    return (P[0],E[0]) \n",
    "\n",
    "def kf_update(X, P, Y, H, R):\n",
    "    IM=np.dot(H, X)\n",
    "    IS=R + np.dot(H, np.dot(P, H.T))\n",
    "    K=np.dot(P, np.dot(H.T, inv(IS)))\n",
    "    X=X + np.dot(K, (Y-IM))\n",
    "    P=P-np.dot(K, np.dot(IS, K.T))\n",
    "    LH=gauss_pdf(Y, IM, IS)\n",
    "    return (X,P,K,IM,IS,LH)\n",
    "    \n"
   ]
  },
  {
   "cell_type": "code",
   "execution_count": 559,
   "metadata": {
    "collapsed": false
   },
   "outputs": [
    {
     "data": {
      "text/plain": [
       "4"
      ]
     },
     "execution_count": 559,
     "metadata": {},
     "output_type": "execute_result"
    }
   ],
   "source": [
    "X =([[0.0], [0.0], [0.1], [0.1]])\n",
    "np.shape(X)[0]"
   ]
  },
  {
   "cell_type": "code",
   "execution_count": 584,
   "metadata": {
    "collapsed": false
   },
   "outputs": [
    {
     "ename": "ValueError",
     "evalue": "shapes (41,9) and (41,1) not aligned: 9 (dim 1) != 41 (dim 0)",
     "output_type": "error",
     "traceback": [
      "\u001b[0;31m---------------------------------------------------------------------------\u001b[0m",
      "\u001b[0;31mValueError\u001b[0m                                Traceback (most recent call last)",
      "\u001b[0;32m<ipython-input-584-138b62eba163>\u001b[0m in \u001b[0;36m<module>\u001b[0;34m()\u001b[0m\n\u001b[1;32m     21\u001b[0m \u001b[0;31m# Applying the Kalman Filter\u001b[0m\u001b[0;34m\u001b[0m\u001b[0;34m\u001b[0m\u001b[0m\n\u001b[1;32m     22\u001b[0m \u001b[0;32mfor\u001b[0m \u001b[0mi\u001b[0m \u001b[0;32min\u001b[0m \u001b[0mnp\u001b[0m\u001b[0;34m.\u001b[0m\u001b[0marange\u001b[0m\u001b[0;34m(\u001b[0m\u001b[0;36m0\u001b[0m\u001b[0;34m,\u001b[0m \u001b[0mN_iter\u001b[0m\u001b[0;34m)\u001b[0m\u001b[0;34m:\u001b[0m\u001b[0;34m\u001b[0m\u001b[0m\n\u001b[0;32m---> 23\u001b[0;31m     \u001b[0;34m(\u001b[0m\u001b[0mX\u001b[0m\u001b[0;34m,\u001b[0m \u001b[0mP\u001b[0m\u001b[0;34m)\u001b[0m \u001b[0;34m=\u001b[0m \u001b[0mkf_predict\u001b[0m\u001b[0;34m(\u001b[0m\u001b[0mX\u001b[0m\u001b[0;34m,\u001b[0m \u001b[0mP\u001b[0m\u001b[0;34m,\u001b[0m \u001b[0mA\u001b[0m\u001b[0;34m,\u001b[0m \u001b[0mQ\u001b[0m\u001b[0;34m,\u001b[0m \u001b[0mB\u001b[0m\u001b[0;34m,\u001b[0m \u001b[0mU\u001b[0m\u001b[0;34m)\u001b[0m\u001b[0;34m\u001b[0m\u001b[0m\n\u001b[0m\u001b[1;32m     24\u001b[0m     \u001b[0;34m(\u001b[0m\u001b[0mX\u001b[0m\u001b[0;34m,\u001b[0m \u001b[0mP\u001b[0m\u001b[0;34m,\u001b[0m \u001b[0mK\u001b[0m\u001b[0;34m,\u001b[0m \u001b[0mIM\u001b[0m\u001b[0;34m,\u001b[0m \u001b[0mIS\u001b[0m\u001b[0;34m,\u001b[0m \u001b[0mLH\u001b[0m\u001b[0;34m)\u001b[0m \u001b[0;34m=\u001b[0m \u001b[0mkf_update\u001b[0m\u001b[0;34m(\u001b[0m\u001b[0mX\u001b[0m\u001b[0;34m,\u001b[0m \u001b[0mP\u001b[0m\u001b[0;34m,\u001b[0m \u001b[0mY\u001b[0m\u001b[0;34m,\u001b[0m \u001b[0mH\u001b[0m\u001b[0;34m,\u001b[0m \u001b[0mR\u001b[0m\u001b[0;34m)\u001b[0m\u001b[0;34m\u001b[0m\u001b[0m\n\u001b[1;32m     25\u001b[0m     \u001b[0mY\u001b[0m \u001b[0;34m=\u001b[0m \u001b[0mnp\u001b[0m\u001b[0;34m.\u001b[0m\u001b[0marray\u001b[0m\u001b[0;34m(\u001b[0m\u001b[0;34m[\u001b[0m\u001b[0;34m[\u001b[0m\u001b[0mX\u001b[0m\u001b[0;34m[\u001b[0m\u001b[0;36m0\u001b[0m\u001b[0;34m,\u001b[0m\u001b[0;36m0\u001b[0m\u001b[0;34m]\u001b[0m \u001b[0;34m+\u001b[0m \u001b[0mabs\u001b[0m\u001b[0;34m(\u001b[0m\u001b[0;36m0.1\u001b[0m \u001b[0;34m*\u001b[0m \u001b[0mnp\u001b[0m\u001b[0;34m.\u001b[0m\u001b[0mrandom\u001b[0m\u001b[0;34m.\u001b[0m\u001b[0mrandn\u001b[0m\u001b[0;34m(\u001b[0m\u001b[0;36m1\u001b[0m\u001b[0;34m)\u001b[0m\u001b[0;34m[\u001b[0m\u001b[0;36m0\u001b[0m\u001b[0;34m]\u001b[0m\u001b[0;34m)\u001b[0m\u001b[0;34m]\u001b[0m\u001b[0;34m,\u001b[0m\u001b[0;34m[\u001b[0m\u001b[0mX\u001b[0m\u001b[0;34m[\u001b[0m\u001b[0;36m1\u001b[0m\u001b[0;34m,\u001b[0m \u001b[0;36m0\u001b[0m\u001b[0;34m]\u001b[0m \u001b[0;34m+\u001b[0m    \u001b[0mabs\u001b[0m\u001b[0;34m(\u001b[0m\u001b[0;36m0.1\u001b[0m \u001b[0;34m*\u001b[0m \u001b[0mnp\u001b[0m\u001b[0;34m.\u001b[0m\u001b[0mrandom\u001b[0m\u001b[0;34m.\u001b[0m\u001b[0mrandn\u001b[0m\u001b[0;34m(\u001b[0m\u001b[0;36m1\u001b[0m\u001b[0;34m)\u001b[0m\u001b[0;34m[\u001b[0m\u001b[0;36m0\u001b[0m\u001b[0;34m]\u001b[0m\u001b[0;34m)\u001b[0m\u001b[0;34m]\u001b[0m\u001b[0;34m]\u001b[0m\u001b[0;34m)\u001b[0m\u001b[0;34m\u001b[0m\u001b[0m\n",
      "\u001b[0;32m<ipython-input-558-96eec2b67e67>\u001b[0m in \u001b[0;36mkf_predict\u001b[0;34m(X, P, A, Q, B, U)\u001b[0m\n\u001b[1;32m      1\u001b[0m \u001b[0;32mdef\u001b[0m \u001b[0mkf_predict\u001b[0m\u001b[0;34m(\u001b[0m\u001b[0mX\u001b[0m\u001b[0;34m,\u001b[0m \u001b[0mP\u001b[0m\u001b[0;34m,\u001b[0m \u001b[0mA\u001b[0m\u001b[0;34m,\u001b[0m \u001b[0mQ\u001b[0m\u001b[0;34m,\u001b[0m \u001b[0mB\u001b[0m\u001b[0;34m,\u001b[0m \u001b[0mU\u001b[0m\u001b[0;34m)\u001b[0m\u001b[0;34m:\u001b[0m\u001b[0;34m\u001b[0m\u001b[0m\n\u001b[0;32m----> 2\u001b[0;31m     \u001b[0mX\u001b[0m \u001b[0;34m=\u001b[0m \u001b[0mnp\u001b[0m\u001b[0;34m.\u001b[0m\u001b[0mdot\u001b[0m\u001b[0;34m(\u001b[0m\u001b[0mA\u001b[0m\u001b[0;34m,\u001b[0m \u001b[0mX\u001b[0m\u001b[0;34m)\u001b[0m \u001b[0;34m+\u001b[0m \u001b[0mnp\u001b[0m\u001b[0;34m.\u001b[0m\u001b[0mdot\u001b[0m\u001b[0;34m(\u001b[0m\u001b[0mB\u001b[0m\u001b[0;34m,\u001b[0m \u001b[0mU\u001b[0m\u001b[0;34m)\u001b[0m\u001b[0;34m\u001b[0m\u001b[0m\n\u001b[0m\u001b[1;32m      3\u001b[0m     \u001b[0mP\u001b[0m \u001b[0;34m=\u001b[0m \u001b[0mnp\u001b[0m\u001b[0;34m.\u001b[0m\u001b[0mdot\u001b[0m\u001b[0;34m(\u001b[0m\u001b[0mA\u001b[0m\u001b[0;34m,\u001b[0m \u001b[0mnp\u001b[0m\u001b[0;34m.\u001b[0m\u001b[0mdot\u001b[0m\u001b[0;34m(\u001b[0m\u001b[0mP\u001b[0m\u001b[0;34m,\u001b[0m \u001b[0mA\u001b[0m\u001b[0;34m.\u001b[0m\u001b[0mT\u001b[0m\u001b[0;34m)\u001b[0m\u001b[0;34m)\u001b[0m \u001b[0;34m+\u001b[0m \u001b[0mQ\u001b[0m\u001b[0;34m\u001b[0m\u001b[0m\n\u001b[1;32m      4\u001b[0m     \u001b[0;32mreturn\u001b[0m\u001b[0;34m(\u001b[0m\u001b[0mX\u001b[0m\u001b[0;34m,\u001b[0m\u001b[0mP\u001b[0m\u001b[0;34m)\u001b[0m\u001b[0;34m\u001b[0m\u001b[0m\n\u001b[1;32m      5\u001b[0m \u001b[0;34m\u001b[0m\u001b[0m\n",
      "\u001b[0;31mValueError\u001b[0m: shapes (41,9) and (41,1) not aligned: 9 (dim 1) != 41 (dim 0)"
     ]
    }
   ],
   "source": [
    "from numpy.linalg import *\n",
    "from numpy.linalg import inv \n",
    "#time step of observations\n",
    "dt = 1\n",
    "# Initialization of state matrices\n",
    "X = np.array(np.zeros((41,1)))\n",
    "X[0]=actual_deer[0]\n",
    "P = np.diag(np.zeros(41)*0.1)\n",
    "A = transition_f\n",
    "Q = np.eye(np.shape(X)[0])\n",
    "B = emission_f\n",
    "U = np.zeros((np.shape(X)[0],1)) \n",
    " \n",
    "    \n",
    "# Measurement matrices\n",
    "Y = np.array([[X[0,0] + abs(np.random.randn(1)[0])], [X[1,0] + abs(np.random.randn(1)[0])]])\n",
    "H = np.diag(np.zeros(41)*1)\n",
    "R = np.eye(np.shape(Y)[0])\n",
    "# Number of iterations in Kalman Filter\n",
    "N_iter = 50\n",
    "# Applying the Kalman Filter\n",
    "for i in np.arange(0, N_iter):\n",
    "    (X, P) = kf_predict(X, P, A, Q, B, U)\n",
    "    (X, P, K, IM, IS, LH) = kf_update(X, P, Y, H, R)\n",
    "    Y = np.array([[X[0,0] + abs(0.1 * np.random.randn(1)[0])],[X[1, 0] +\\\n",
    "    abs(0.1 * np.random.randn(1)[0])]])"
   ]
  },
  {
   "cell_type": "code",
   "execution_count": 585,
   "metadata": {
    "collapsed": false
   },
   "outputs": [],
   "source": [
    "# Initialization of state matrices\n",
    "X = np.array([[0.0], [0.0], [0.1], [0.1]])\n",
    "P = np.diag((0.01, 0.01, 0.01, 0.01))\n",
    "A = np.array([[1, 0, dt , 0], [0, 1, 0, dt], [0, 0, 1, 0], [0, 0, 0,1]])\n",
    "Q = np.eye(np.shape(X)[0])\n",
    "B = np.eye(np.shape(X)[0])\n",
    "U = np.zeros((np.shape(X)[0],1)) \n",
    " \n",
    "Y = np.array([[X[0,0] + abs(np.random.randn(1)[0])], [X[1,0] + abs(np.random.randn(1)[0])]])\n",
    "H = np.array([[1, 0, 0, 0], [0, 1, 0, 0]])\n",
    "R = np.eye(np.shape(Y)[0])\n",
    "\n",
    "# Number of iterations in Kalman Filter\n",
    "N_iter = 50\n",
    "# Applying the Kalman Filter\n",
    "for i in np.arange(0, N_iter):\n",
    "    (X, P) = kf_predict(X, P, A, Q, B, U)\n",
    "    (X, P, K, IM, IS, LH) = kf_update(X, P, Y, H, R)\n",
    "    Y = np.array([[X[0,0] + abs(0.1 * np.random.randn(1)[0])],[X[1, 0] +\\\n",
    "    abs(0.1 * np.random.randn(1)[0])]])"
   ]
  },
  {
   "cell_type": "code",
   "execution_count": 586,
   "metadata": {
    "collapsed": false
   },
   "outputs": [
    {
     "data": {
      "text/plain": [
       "array([[ 1.,  0.,  0.,  0.],\n",
       "       [ 0.,  1.,  0.,  0.],\n",
       "       [ 0.,  0.,  1.,  0.],\n",
       "       [ 0.,  0.,  0.,  1.]])"
      ]
     },
     "execution_count": 586,
     "metadata": {},
     "output_type": "execute_result"
    }
   ],
   "source": [
    "B"
   ]
  },
  {
   "cell_type": "code",
   "execution_count": 441,
   "metadata": {
    "collapsed": false
   },
   "outputs": [],
   "source": [
    "import pylab\n",
    "\n",
    "Q = 1e-5 # process variance\n",
    "\n",
    "n_iter=50\n",
    "\n",
    "# intial parameters\n",
    "sz=50\n",
    "\n",
    "xhat=numpy.zeros(sz)      # a posteri estimate of x\n",
    "P=numpy.zeros(sz)         # a posteri error estimate\n",
    "xhatminus=numpy.zeros(sz) # a priori estimate of x\n",
    "Pminus=numpy.zeros(sz)    # a priori error estimate\n",
    "K=numpy.zeros(sz)         # gain or blending factor\n",
    "\n",
    "R = 0.1**2 # estimate of measurement variance, change to see effect\n",
    "\n",
    "# intial guesses\n",
    "xhat[0] = 0.0\n",
    "P[0] = 1.0\n",
    "\n",
    "for k in range(1,sz):\n",
    "    # time update\n",
    "    xhatminus[k] = xhat[k-1]\n",
    "    Pminus[k] = P[k-1]+Q\n",
    "\n",
    "    # measurement update\n",
    "    K[k] = Pminus[k]/( Pminus[k]+R )\n",
    "    xhat[k] = xhatminus[k]+K[k]*(z[k]-xhatminus[k])\n",
    "    P[k] = (1-K[k])*Pminus[k]\n",
    "\n",
    "\n"
   ]
  }
 ],
 "metadata": {
  "kernelspec": {
   "display_name": "Python 2",
   "language": "python",
   "name": "python2"
  },
  "language_info": {
   "codemirror_mode": {
    "name": "ipython",
    "version": 2
   },
   "file_extension": ".py",
   "mimetype": "text/x-python",
   "name": "python",
   "nbconvert_exporter": "python",
   "pygments_lexer": "ipython2",
   "version": "2.7.11"
  }
 },
 "nbformat": 4,
 "nbformat_minor": 0
}

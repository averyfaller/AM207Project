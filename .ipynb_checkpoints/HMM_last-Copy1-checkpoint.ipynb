{
 "cells": [
  {
   "cell_type": "markdown",
   "metadata": {},
   "source": [
    "## Hidden Markov Model\n",
    "In this section of our project we are trying to estimate the number of animal of a certain specie basing ourselves on observations of this specie. We are specifically focusing on deer but if the method reveals to be efficient, we can generalize our results to any specie.\n",
    "\n",
    "It is important to note that by looking at counts from different years, we found that there are more data points as years go on. We have theorized that this may be due to scientists using the gbif website to record more as they may have found this site to be more useful, and also due to the fact that it has become much more easier in the past ten years to record data that it was in the nineties."
   ]
  },
  {
   "cell_type": "code",
   "execution_count": 1,
   "metadata": {
    "collapsed": true
   },
   "outputs": [],
   "source": [
    "%matplotlib inline\n",
    "\n",
    "# Imports\n",
    "import pandas as pd\n",
    "import numpy as np \n",
    "import matplotlib.pyplot as plt\n",
    "import matplotlib.image as mpimg\n",
    "from scipy.misc import *\n",
    "from scipy.sparse import *\n",
    "import itertools"
   ]
  },
  {
   "cell_type": "code",
   "execution_count": 2,
   "metadata": {
    "collapsed": false
   },
   "outputs": [
    {
     "name": "stderr",
     "output_type": "stream",
     "text": [
      "//anaconda/lib/python2.7/site-packages/pandas/io/parsers.py:1170: DtypeWarning: Columns (9) have mixed types. Specify dtype option on import or set low_memory=False.\n",
      "  data = self._reader.read(nrows)\n"
     ]
    }
   ],
   "source": [
    "# http://www.gbif.org/occurrence/search?TAXON_KEY=359&YEAR=2014#\n",
    "# This is data for all Mammals in 2014 across the whole planet\n",
    "mammals = pd.read_csv('/Users/macuser/Desktop/Jupyter/AM207/Data_Project/Mammalia_US_to2015.csv', sep='\\t', usecols=['year','species'], nrows=554000)\n"
   ]
  },
  {
   "cell_type": "code",
   "execution_count": 3,
   "metadata": {
    "collapsed": false
   },
   "outputs": [
    {
     "data": {
      "text/html": [
       "<div>\n",
       "<table border=\"1\" class=\"dataframe\">\n",
       "  <thead>\n",
       "    <tr style=\"text-align: right;\">\n",
       "      <th></th>\n",
       "      <th>species</th>\n",
       "      <th>year</th>\n",
       "    </tr>\n",
       "  </thead>\n",
       "  <tbody>\n",
       "    <tr>\n",
       "      <th>0</th>\n",
       "      <td>Procyon lotor</td>\n",
       "      <td>2014</td>\n",
       "    </tr>\n",
       "    <tr>\n",
       "      <th>1</th>\n",
       "      <td>Zalophus californianus</td>\n",
       "      <td>2014</td>\n",
       "    </tr>\n",
       "    <tr>\n",
       "      <th>2</th>\n",
       "      <td>Vulpes vulpes</td>\n",
       "      <td>2014</td>\n",
       "    </tr>\n",
       "    <tr>\n",
       "      <th>3</th>\n",
       "      <td>Odocoileus hemionus</td>\n",
       "      <td>2014</td>\n",
       "    </tr>\n",
       "    <tr>\n",
       "      <th>4</th>\n",
       "      <td>Lepus californicus</td>\n",
       "      <td>2014</td>\n",
       "    </tr>\n",
       "  </tbody>\n",
       "</table>\n",
       "</div>"
      ],
      "text/plain": [
       "                  species  year\n",
       "0           Procyon lotor  2014\n",
       "1  Zalophus californianus  2014\n",
       "2           Vulpes vulpes  2014\n",
       "3     Odocoileus hemionus  2014\n",
       "4      Lepus californicus  2014"
      ]
     },
     "execution_count": 3,
     "metadata": {},
     "output_type": "execute_result"
    }
   ],
   "source": [
    "mammals.head()"
   ]
  },
  {
   "cell_type": "code",
   "execution_count": 4,
   "metadata": {
    "collapsed": false
   },
   "outputs": [
    {
     "data": {
      "text/plain": [
       "array(['gbifid', 'datasetkey', 'occurrenceid', 'kingdom', 'phylum',\n",
       "       'class', 'order', 'family', 'genus', 'species',\n",
       "       'infraspecificepithet', 'taxonrank', 'scientificname',\n",
       "       'countrycode', 'locality', 'publishingorgkey', 'decimallatitude',\n",
       "       'decimallongitude', 'coordinateuncertaintyinmeters',\n",
       "       'coordinateprecision', 'elevation', 'elevationaccuracy', 'depth',\n",
       "       'depthaccuracy', 'eventdate', 'day', 'month', 'year', 'taxonkey',\n",
       "       'specieskey', 'basisofrecord', 'institutioncode', 'collectioncode',\n",
       "       'catalognumber', 'recordnumber', 'identifiedby', 'rights',\n",
       "       'rightsholder', 'recordedby', 'typestatus', 'establishmentmeans',\n",
       "       'lastinterpreted', 'mediatype', 'issue'], dtype=object)"
      ]
     },
     "execution_count": 4,
     "metadata": {},
     "output_type": "execute_result"
    }
   ],
   "source": [
    "deer=pd.read_csv('/Users/macuser/Desktop/Jupyter/AM207/Data_Project/Deer_2015.csv', sep='\\t')\n",
    "deer.columns.values"
   ]
  },
  {
   "cell_type": "markdown",
   "metadata": {},
   "source": [
    "##### Actual estimated deer number US: http://www.deerfriendly.com/decline-of-deer-populations"
   ]
  },
  {
   "cell_type": "code",
   "execution_count": 5,
   "metadata": {
    "collapsed": true
   },
   "outputs": [],
   "source": [
    "ACTUAL_TOT=pd.read_csv('/Users/macuser/Desktop/Jupyter/AM207/Data_Project/deer_pop.csv')"
   ]
  },
  {
   "cell_type": "markdown",
   "metadata": {},
   "source": [
    "## Training data Setup"
   ]
  },
  {
   "cell_type": "code",
   "execution_count": 6,
   "metadata": {
    "collapsed": false
   },
   "outputs": [],
   "source": [
    "# Create a subset data frame that just contains the columns that we need\n",
    "occurences_mammals = mammals['year'].value_counts()\n",
    "occurences = deer[deer.year>=1991]\n",
    "occurences_deer=occurences['year'].value_counts()"
   ]
  },
  {
   "cell_type": "code",
   "execution_count": 7,
   "metadata": {
    "collapsed": false
   },
   "outputs": [
    {
     "name": "stdout",
     "output_type": "stream",
     "text": [
      "1994    41074\n",
      "1996    36055\n",
      "1992    34914\n",
      "1995    32592\n",
      "1993    31040\n",
      "1998    28435\n",
      "2002    28118\n",
      "1991    27979\n",
      "1999    25883\n",
      "1997    24650\n",
      "2001    24205\n",
      "2003    23305\n",
      "2000    23029\n",
      "2004    22297\n",
      "2005    18330\n",
      "2006    16221\n",
      "2014    16203\n",
      "2007    15170\n",
      "2009    13662\n",
      "2013    12960\n",
      "2015    12676\n",
      "2011    12589\n",
      "2010    11101\n",
      "2008    11089\n",
      "2012    10423\n",
      "dtype: int64\n"
     ]
    }
   ],
   "source": [
    "print occurences_mammals"
   ]
  },
  {
   "cell_type": "code",
   "execution_count": 8,
   "metadata": {
    "collapsed": false
   },
   "outputs": [
    {
     "data": {
      "text/plain": [
       "array([ 0.70767361,  0.48118233,  0.22551546,  0.28972099,  0.69648994,\n",
       "        0.2884482 ,  0.2474645 ,  0.76314401,  1.0199745 ,  0.30746579,\n",
       "        0.35942987,  0.34853119,  1.44604162,  0.5426739 ,  0.29459902,\n",
       "        1.02952962,  1.1404087 ,  0.75750744,  1.83721271,  2.1349428 ,\n",
       "        2.29565494,  5.20963254,  6.06481481,  6.07912115])"
      ]
     },
     "execution_count": 8,
     "metadata": {},
     "output_type": "execute_result"
    }
   ],
   "source": [
    "deer_obs=[198.,168.,70.,119.,227.,104.,61.,217.,264.,71.,87.,98.,337.,121.,54.,167.,173.,84.,251.,237.,289.,543.,786.,\\\n",
    "          985.]\n",
    "mammal_obs=[27979,34914,31040,41074,32592,36055,24650,28435,25883,23092,24205,28118,23305,22297,18330,16221,15170,\\\n",
    "            11089,13662,11101,12589,10423,12960,16203]\n",
    "\n",
    "# What percentages are the deer observations out of all mammals\n",
    "percentage=np.divide(deer_obs,mammal_obs)*100\n",
    "percentage\n"
   ]
  },
  {
   "cell_type": "markdown",
   "metadata": {},
   "source": [
    "As the number of deer observations increases in the past few years (since 2005, although the actual number of deer is decreasing) we normalize the data counts using the average number of mammals observation over the years.\n",
    "Indeed, we assume the number of observed mammal should be the same over the years and use that ratio (average observation of mammals divided by observations on that year) as a factor to normalize the observations of deer."
   ]
  },
  {
   "cell_type": "code",
   "execution_count": 138,
   "metadata": {
    "collapsed": false
   },
   "outputs": [
    {
     "data": {
      "text/plain": [
       "array([ 0.8062401 ,  0.64609588,  0.72673298,  0.5491988 ,  0.69212665,\n",
       "        0.62564947,  0.91512339,  0.79331077,  0.87152925,  0.97686609,\n",
       "        0.9319476 ,  0.80225449,  0.96793785,  1.01169627,  1.23064875,\n",
       "        1.39065358,  1.48700011,  2.03424941,  1.65113392,  2.03205042,\n",
       "        1.79186525,  2.16423215,  1.74057034,  1.39219846])"
      ]
     },
     "execution_count": 138,
     "metadata": {},
     "output_type": "execute_result"
    }
   ],
   "source": [
    "# Normalize by the relative number of observations\n",
    "average_norm=np.divide(np.mean(mammal_obs),mammal_obs)\n",
    "average_norm"
   ]
  },
  {
   "cell_type": "code",
   "execution_count": 139,
   "metadata": {
    "collapsed": false
   },
   "outputs": [
    {
     "data": {
      "text/plain": [
       "array([  159.63553915,   108.54410838,    50.87130853,    65.35465765,\n",
       "         157.11274878,    65.06754495,    55.82252705,   172.14843649,\n",
       "         230.08372291,    69.35749213,    81.07944123,    78.62093973,\n",
       "         326.1950565 ,   122.41524831,    66.45503273,   232.2391473 ,\n",
       "         257.25101901,   170.87695013,   414.43461487,   481.59594856,\n",
       "         517.84905804,  1175.17805574,  1368.0882909 ,  1371.31548427])"
      ]
     },
     "execution_count": 139,
     "metadata": {},
     "output_type": "execute_result"
    }
   ],
   "source": [
    "# Normalize the data using the observation of mammals \n",
    "norm_obs=np.multiply(average_norm,deer_obs)\n",
    "norm_obs"
   ]
  },
  {
   "cell_type": "code",
   "execution_count": 140,
   "metadata": {
    "collapsed": false
   },
   "outputs": [
    {
     "data": {
      "text/plain": [
       "array([ 1991.,  1992.,  1993.,  1994.,  1995.,  1996.,  1997.,  1998.,\n",
       "        1999.,  2000.,  2001.,  2002.,  2003.,  2004.,  2005.,  2006.,\n",
       "        2007.,  2008.,  2009.,  2010.,  2011.,  2012.,  2013.,  2014.])"
      ]
     },
     "execution_count": 140,
     "metadata": {},
     "output_type": "execute_result"
    }
   ],
   "source": [
    "years=np.linspace(1991,2014,24)\n",
    "years"
   ]
  },
  {
   "cell_type": "code",
   "execution_count": 141,
   "metadata": {
    "collapsed": true
   },
   "outputs": [],
   "source": [
    "## Actual estimated deer number US: http://www.deerfriendly.com/decline-of-deer-populations"
   ]
  },
  {
   "cell_type": "code",
   "execution_count": 142,
   "metadata": {
    "collapsed": false
   },
   "outputs": [],
   "source": [
    "# In Millions\n",
    "actual_deer=np.array(ACTUAL_TOT[\"Deer Population (In Millions)\"][11:35])\n",
    "act_deer=np.multiply(actual_deer,10**6)"
   ]
  },
  {
   "cell_type": "markdown",
   "metadata": {},
   "source": [
    "We caculate the range of ratios of observed to use in the emission probabilities."
   ]
  },
  {
   "cell_type": "code",
   "execution_count": 143,
   "metadata": {
    "collapsed": false
   },
   "outputs": [
    {
     "name": "stdout",
     "output_type": "stream",
     "text": [
      "[  4.45909327   3.01511412   1.4130919    1.80537728   4.30445887\n",
      "   1.76813981   1.50465032   4.60289937   6.10301652   1.82040662\n",
      "   2.14212526   2.09655839   8.79231958   3.32650131   1.82568771\n",
      "   6.43321738   7.1958327    4.82703249  11.840989    13.91895805\n",
      "  15.14178532  34.76858153  40.83845644  41.30468326]\n",
      "[  4.92727273   2.96363636   1.           1.98181818   3.94545455\n",
      "   1.98181818   1.98181818   4.92727273   5.90909091   1.98181818\n",
      "   1.98181818   1.98181818   8.85454545   2.96363636   1.98181818\n",
      "   6.89090909   6.89090909   4.92727273  11.8         13.76363636\n",
      "  14.74545455  34.38181818  41.25454545  41.25454545]\n"
     ]
    },
    {
     "data": {
      "text/plain": [
       "array([  1.        ,   1.98181818,   2.96363636,   3.94545455,\n",
       "         4.92727273,   5.90909091,   6.89090909,   8.85454545,\n",
       "        11.8       ,  13.76363636,  14.74545455,  34.38181818,  41.25454545])"
      ]
     },
     "execution_count": 143,
     "metadata": {},
     "output_type": "execute_result"
    }
   ],
   "source": [
    "ratio=np.divide(norm_obs,actual_deer)  \n",
    "# This has to be divided by 10^6 but for simplicity purposes, I will keep it this way\n",
    "print ratio\n",
    "# Divide ratios in bins of 3\n",
    "discretized_r=np.linspace(1,55,56)\n",
    "\n",
    "discrete_ratio=np.zeros(len(actual_deer))\n",
    "for i in range(len(ratio)):\n",
    "    for j in range(len(discretized_r)-1):\n",
    "        if ratio[i]>discretized_r[j] and ratio[i]<discretized_r[j]+0.5:\n",
    "            discrete_ratio[i]=discretized_r[j]\n",
    "        elif ratio[i]<discretized_r[j+1] and ratio[i]>=discretized_r[j]+0.5:\n",
    "            discrete_ratio[i]=discretized_r[j+1]\n",
    "        elif ratio[i]==discretized_r[j]:\n",
    "            discrete_ratio[i]=discretized_r[j]\n",
    "print discrete_ratio\n",
    "obs_len=len(np.unique(discrete_ratio))\n",
    "obs_states=(np.unique(discrete_ratio))\n",
    "obs_states"
   ]
  },
  {
   "cell_type": "markdown",
   "metadata": {},
   "source": [
    "We calculate the osberved ratios by dividing the normalized observations by the average number of deer between 1991 and 2014. We therefore become able to have a vector of observed state and an emission matrix in the same format."
   ]
  },
  {
   "cell_type": "code",
   "execution_count": 144,
   "metadata": {
    "collapsed": false
   },
   "outputs": [
    {
     "name": "stdout",
     "output_type": "stream",
     "text": [
      "[  4.45269674   3.02760902   1.41894788   1.82293036   4.38232882\n",
      "   1.81492196   1.55705168   4.80171763   6.41770027   1.93458099\n",
      "   2.26154004   2.19296533   9.09852325   3.41451521   1.853623\n",
      "   6.47782129   7.17547471   4.7662522   11.55977966  13.43310344\n",
      "  14.44430748  32.77911376  38.15993798  38.24995374]\n"
     ]
    },
    {
     "data": {
      "text/plain": [
       "array([  4.92727273,   2.96363636,   1.        ,   1.98181818,\n",
       "         3.94545455,   1.98181818,   1.98181818,   4.92727273,\n",
       "         6.89090909,   1.98181818,   1.98181818,   1.98181818,\n",
       "         8.85454545,   2.96363636,   1.98181818,   6.89090909,\n",
       "         6.89090909,   4.92727273,  11.8       ,  13.76363636,\n",
       "        14.74545455,  34.38181818,  41.25454545,  41.25454545])"
      ]
     },
     "execution_count": 144,
     "metadata": {},
     "output_type": "execute_result"
    }
   ],
   "source": [
    "ratio=np.divide(norm_obs,np.average(ACTUAL_TOT[\"Deer Population (In Millions)\"]))  \n",
    "# This has to be divided by 10^6 but for simplicity purposes, I will keep it this way\n",
    "print ratio\n",
    "\n",
    "train_ratio=np.zeros(len(actual_deer))\n",
    "for i in range(len(ratio)):\n",
    "    for j in range(len(obs_states)-1):\n",
    "        if ratio[i]>obs_states[j] and ratio[i]<obs_states[j]+(obs_states[j+1]-obs_states[j])/2:\n",
    "            train_ratio[i]=obs_states[j]\n",
    "        elif ratio[i]<obs_states[j+1] and ratio[i]>=obs_states[j]+(obs_states[j+1]-obs_states[j])/2:\n",
    "            train_ratio[i]=obs_states[j+1]\n",
    "        elif ratio[i]==obs_states[j]:\n",
    "            train_ratio[i]=obs_states[j]\n",
    "train_ratio"
   ]
  },
  {
   "cell_type": "code",
   "execution_count": 145,
   "metadata": {
    "collapsed": false
   },
   "outputs": [],
   "source": [
    "# For discretization\n",
    "discrete_states=np.linspace(30,40,41)\n",
    "\n",
    "discrete=np.zeros(len(actual_deer))\n",
    "for i in range(len(actual_deer)):\n",
    "    for j in range(len(discrete_states)-1):\n",
    "        if actual_deer[i]>discrete_states[j] and actual_deer[i]<discrete_states[j+1]:\n",
    "            discrete[i]=discrete_states[j+1]\n",
    "        elif actual_deer[i]==discrete_states[j]:\n",
    "            discrete[i]=discrete_states[j]\n",
    "    "
   ]
  },
  {
   "cell_type": "code",
   "execution_count": 146,
   "metadata": {
    "collapsed": true
   },
   "outputs": [],
   "source": [
    "## Deer number actual California (up to 2013 only) http://www.deerfriendly.com/deer/california"
   ]
  },
  {
   "cell_type": "code",
   "execution_count": 147,
   "metadata": {
    "collapsed": true
   },
   "outputs": [],
   "source": [
    "cali_estimated=[850000,800000,700000,670000,690000,580000,580000,580000,550000,500000,500000,680000,550000,500000,\\\n",
    "                     600000,405000,420000,500000,500000,490000,460000,480000,480000]"
   ]
  },
  {
   "cell_type": "code",
   "execution_count": 148,
   "metadata": {
    "collapsed": false
   },
   "outputs": [
    {
     "data": {
      "text/html": [
       "<div>\n",
       "<table border=\"1\" class=\"dataframe\">\n",
       "  <thead>\n",
       "    <tr style=\"text-align: right;\">\n",
       "      <th></th>\n",
       "      <th>Actual_deer (Mi)</th>\n",
       "      <th>Comparison_average</th>\n",
       "      <th>Deer_obs</th>\n",
       "      <th>Discrete Ratio</th>\n",
       "      <th>Discretized_actual</th>\n",
       "      <th>Mammals_obs</th>\n",
       "      <th>Normalized_obs</th>\n",
       "      <th>Percentage_deer</th>\n",
       "      <th>Ratio</th>\n",
       "      <th>years</th>\n",
       "    </tr>\n",
       "  </thead>\n",
       "  <tbody>\n",
       "    <tr>\n",
       "      <th>0</th>\n",
       "      <td>35.80</td>\n",
       "      <td>0.806240</td>\n",
       "      <td>198</td>\n",
       "      <td>4.927273</td>\n",
       "      <td>36.00</td>\n",
       "      <td>27979</td>\n",
       "      <td>159.635539</td>\n",
       "      <td>0.707674</td>\n",
       "      <td>4.452697</td>\n",
       "      <td>1991</td>\n",
       "    </tr>\n",
       "    <tr>\n",
       "      <th>1</th>\n",
       "      <td>36.00</td>\n",
       "      <td>0.646096</td>\n",
       "      <td>168</td>\n",
       "      <td>2.963636</td>\n",
       "      <td>36.00</td>\n",
       "      <td>34914</td>\n",
       "      <td>108.544108</td>\n",
       "      <td>0.481182</td>\n",
       "      <td>3.027609</td>\n",
       "      <td>1992</td>\n",
       "    </tr>\n",
       "    <tr>\n",
       "      <th>2</th>\n",
       "      <td>36.00</td>\n",
       "      <td>0.726733</td>\n",
       "      <td>70</td>\n",
       "      <td>1.000000</td>\n",
       "      <td>36.00</td>\n",
       "      <td>31040</td>\n",
       "      <td>50.871309</td>\n",
       "      <td>0.225515</td>\n",
       "      <td>1.418948</td>\n",
       "      <td>1993</td>\n",
       "    </tr>\n",
       "    <tr>\n",
       "      <th>3</th>\n",
       "      <td>36.20</td>\n",
       "      <td>0.549199</td>\n",
       "      <td>119</td>\n",
       "      <td>1.981818</td>\n",
       "      <td>36.25</td>\n",
       "      <td>41074</td>\n",
       "      <td>65.354658</td>\n",
       "      <td>0.289721</td>\n",
       "      <td>1.822930</td>\n",
       "      <td>1994</td>\n",
       "    </tr>\n",
       "    <tr>\n",
       "      <th>4</th>\n",
       "      <td>36.50</td>\n",
       "      <td>0.692127</td>\n",
       "      <td>227</td>\n",
       "      <td>3.945455</td>\n",
       "      <td>36.50</td>\n",
       "      <td>32592</td>\n",
       "      <td>157.112749</td>\n",
       "      <td>0.696490</td>\n",
       "      <td>4.382329</td>\n",
       "      <td>1995</td>\n",
       "    </tr>\n",
       "    <tr>\n",
       "      <th>5</th>\n",
       "      <td>36.80</td>\n",
       "      <td>0.625649</td>\n",
       "      <td>104</td>\n",
       "      <td>1.981818</td>\n",
       "      <td>37.00</td>\n",
       "      <td>36055</td>\n",
       "      <td>65.067545</td>\n",
       "      <td>0.288448</td>\n",
       "      <td>1.814922</td>\n",
       "      <td>1996</td>\n",
       "    </tr>\n",
       "    <tr>\n",
       "      <th>6</th>\n",
       "      <td>37.10</td>\n",
       "      <td>0.915123</td>\n",
       "      <td>61</td>\n",
       "      <td>1.981818</td>\n",
       "      <td>37.25</td>\n",
       "      <td>24650</td>\n",
       "      <td>55.822527</td>\n",
       "      <td>0.247465</td>\n",
       "      <td>1.557052</td>\n",
       "      <td>1997</td>\n",
       "    </tr>\n",
       "    <tr>\n",
       "      <th>7</th>\n",
       "      <td>37.40</td>\n",
       "      <td>0.793311</td>\n",
       "      <td>217</td>\n",
       "      <td>4.927273</td>\n",
       "      <td>37.50</td>\n",
       "      <td>28435</td>\n",
       "      <td>172.148436</td>\n",
       "      <td>0.763144</td>\n",
       "      <td>4.801718</td>\n",
       "      <td>1998</td>\n",
       "    </tr>\n",
       "    <tr>\n",
       "      <th>8</th>\n",
       "      <td>37.70</td>\n",
       "      <td>0.871529</td>\n",
       "      <td>264</td>\n",
       "      <td>5.909091</td>\n",
       "      <td>37.75</td>\n",
       "      <td>25883</td>\n",
       "      <td>230.083723</td>\n",
       "      <td>1.019975</td>\n",
       "      <td>6.417700</td>\n",
       "      <td>1999</td>\n",
       "    </tr>\n",
       "    <tr>\n",
       "      <th>9</th>\n",
       "      <td>38.10</td>\n",
       "      <td>0.976866</td>\n",
       "      <td>71</td>\n",
       "      <td>1.981818</td>\n",
       "      <td>38.25</td>\n",
       "      <td>23092</td>\n",
       "      <td>69.357492</td>\n",
       "      <td>0.307466</td>\n",
       "      <td>1.934581</td>\n",
       "      <td>2000</td>\n",
       "    </tr>\n",
       "    <tr>\n",
       "      <th>10</th>\n",
       "      <td>37.85</td>\n",
       "      <td>0.931948</td>\n",
       "      <td>87</td>\n",
       "      <td>1.981818</td>\n",
       "      <td>38.00</td>\n",
       "      <td>24205</td>\n",
       "      <td>81.079441</td>\n",
       "      <td>0.359430</td>\n",
       "      <td>2.261540</td>\n",
       "      <td>2001</td>\n",
       "    </tr>\n",
       "    <tr>\n",
       "      <th>11</th>\n",
       "      <td>37.50</td>\n",
       "      <td>0.802254</td>\n",
       "      <td>98</td>\n",
       "      <td>1.981818</td>\n",
       "      <td>37.50</td>\n",
       "      <td>28118</td>\n",
       "      <td>78.620940</td>\n",
       "      <td>0.348531</td>\n",
       "      <td>2.192965</td>\n",
       "      <td>2002</td>\n",
       "    </tr>\n",
       "    <tr>\n",
       "      <th>12</th>\n",
       "      <td>37.10</td>\n",
       "      <td>0.967938</td>\n",
       "      <td>337</td>\n",
       "      <td>8.854545</td>\n",
       "      <td>37.25</td>\n",
       "      <td>23305</td>\n",
       "      <td>326.195056</td>\n",
       "      <td>1.446042</td>\n",
       "      <td>9.098523</td>\n",
       "      <td>2003</td>\n",
       "    </tr>\n",
       "    <tr>\n",
       "      <th>13</th>\n",
       "      <td>36.80</td>\n",
       "      <td>1.011696</td>\n",
       "      <td>121</td>\n",
       "      <td>2.963636</td>\n",
       "      <td>37.00</td>\n",
       "      <td>22297</td>\n",
       "      <td>122.415248</td>\n",
       "      <td>0.542674</td>\n",
       "      <td>3.414515</td>\n",
       "      <td>2004</td>\n",
       "    </tr>\n",
       "    <tr>\n",
       "      <th>14</th>\n",
       "      <td>36.40</td>\n",
       "      <td>1.230649</td>\n",
       "      <td>54</td>\n",
       "      <td>1.981818</td>\n",
       "      <td>36.50</td>\n",
       "      <td>18330</td>\n",
       "      <td>66.455033</td>\n",
       "      <td>0.294599</td>\n",
       "      <td>1.853623</td>\n",
       "      <td>2005</td>\n",
       "    </tr>\n",
       "    <tr>\n",
       "      <th>15</th>\n",
       "      <td>36.10</td>\n",
       "      <td>1.390654</td>\n",
       "      <td>167</td>\n",
       "      <td>6.890909</td>\n",
       "      <td>36.25</td>\n",
       "      <td>16221</td>\n",
       "      <td>232.239147</td>\n",
       "      <td>1.029530</td>\n",
       "      <td>6.477821</td>\n",
       "      <td>2006</td>\n",
       "    </tr>\n",
       "    <tr>\n",
       "      <th>16</th>\n",
       "      <td>35.75</td>\n",
       "      <td>1.487000</td>\n",
       "      <td>173</td>\n",
       "      <td>6.890909</td>\n",
       "      <td>35.75</td>\n",
       "      <td>15170</td>\n",
       "      <td>257.251019</td>\n",
       "      <td>1.140409</td>\n",
       "      <td>7.175475</td>\n",
       "      <td>2007</td>\n",
       "    </tr>\n",
       "    <tr>\n",
       "      <th>17</th>\n",
       "      <td>35.40</td>\n",
       "      <td>2.034249</td>\n",
       "      <td>84</td>\n",
       "      <td>4.927273</td>\n",
       "      <td>35.50</td>\n",
       "      <td>11089</td>\n",
       "      <td>170.876950</td>\n",
       "      <td>0.757507</td>\n",
       "      <td>4.766252</td>\n",
       "      <td>2008</td>\n",
       "    </tr>\n",
       "    <tr>\n",
       "      <th>18</th>\n",
       "      <td>35.00</td>\n",
       "      <td>1.651134</td>\n",
       "      <td>251</td>\n",
       "      <td>11.800000</td>\n",
       "      <td>35.00</td>\n",
       "      <td>13662</td>\n",
       "      <td>414.434615</td>\n",
       "      <td>1.837213</td>\n",
       "      <td>11.559780</td>\n",
       "      <td>2009</td>\n",
       "    </tr>\n",
       "    <tr>\n",
       "      <th>19</th>\n",
       "      <td>34.60</td>\n",
       "      <td>2.032050</td>\n",
       "      <td>237</td>\n",
       "      <td>13.763636</td>\n",
       "      <td>34.75</td>\n",
       "      <td>11101</td>\n",
       "      <td>481.595949</td>\n",
       "      <td>2.134943</td>\n",
       "      <td>13.433103</td>\n",
       "      <td>2010</td>\n",
       "    </tr>\n",
       "    <tr>\n",
       "      <th>20</th>\n",
       "      <td>34.20</td>\n",
       "      <td>1.791865</td>\n",
       "      <td>289</td>\n",
       "      <td>14.745455</td>\n",
       "      <td>34.25</td>\n",
       "      <td>12589</td>\n",
       "      <td>517.849058</td>\n",
       "      <td>2.295655</td>\n",
       "      <td>14.444307</td>\n",
       "      <td>2011</td>\n",
       "    </tr>\n",
       "    <tr>\n",
       "      <th>21</th>\n",
       "      <td>33.80</td>\n",
       "      <td>2.164232</td>\n",
       "      <td>543</td>\n",
       "      <td>34.381818</td>\n",
       "      <td>34.00</td>\n",
       "      <td>10423</td>\n",
       "      <td>1175.178056</td>\n",
       "      <td>5.209633</td>\n",
       "      <td>32.779114</td>\n",
       "      <td>2012</td>\n",
       "    </tr>\n",
       "    <tr>\n",
       "      <th>22</th>\n",
       "      <td>33.50</td>\n",
       "      <td>1.740570</td>\n",
       "      <td>786</td>\n",
       "      <td>41.254545</td>\n",
       "      <td>33.50</td>\n",
       "      <td>12960</td>\n",
       "      <td>1368.088291</td>\n",
       "      <td>6.064815</td>\n",
       "      <td>38.159938</td>\n",
       "      <td>2013</td>\n",
       "    </tr>\n",
       "    <tr>\n",
       "      <th>23</th>\n",
       "      <td>33.20</td>\n",
       "      <td>1.392198</td>\n",
       "      <td>985</td>\n",
       "      <td>41.254545</td>\n",
       "      <td>33.25</td>\n",
       "      <td>16203</td>\n",
       "      <td>1371.315484</td>\n",
       "      <td>6.079121</td>\n",
       "      <td>38.249954</td>\n",
       "      <td>2014</td>\n",
       "    </tr>\n",
       "  </tbody>\n",
       "</table>\n",
       "</div>"
      ],
      "text/plain": [
       "    Actual_deer (Mi)  Comparison_average  Deer_obs  Discrete Ratio  \\\n",
       "0              35.80            0.806240       198        4.927273   \n",
       "1              36.00            0.646096       168        2.963636   \n",
       "2              36.00            0.726733        70        1.000000   \n",
       "3              36.20            0.549199       119        1.981818   \n",
       "4              36.50            0.692127       227        3.945455   \n",
       "5              36.80            0.625649       104        1.981818   \n",
       "6              37.10            0.915123        61        1.981818   \n",
       "7              37.40            0.793311       217        4.927273   \n",
       "8              37.70            0.871529       264        5.909091   \n",
       "9              38.10            0.976866        71        1.981818   \n",
       "10             37.85            0.931948        87        1.981818   \n",
       "11             37.50            0.802254        98        1.981818   \n",
       "12             37.10            0.967938       337        8.854545   \n",
       "13             36.80            1.011696       121        2.963636   \n",
       "14             36.40            1.230649        54        1.981818   \n",
       "15             36.10            1.390654       167        6.890909   \n",
       "16             35.75            1.487000       173        6.890909   \n",
       "17             35.40            2.034249        84        4.927273   \n",
       "18             35.00            1.651134       251       11.800000   \n",
       "19             34.60            2.032050       237       13.763636   \n",
       "20             34.20            1.791865       289       14.745455   \n",
       "21             33.80            2.164232       543       34.381818   \n",
       "22             33.50            1.740570       786       41.254545   \n",
       "23             33.20            1.392198       985       41.254545   \n",
       "\n",
       "    Discretized_actual  Mammals_obs  Normalized_obs  Percentage_deer  \\\n",
       "0                36.00        27979      159.635539         0.707674   \n",
       "1                36.00        34914      108.544108         0.481182   \n",
       "2                36.00        31040       50.871309         0.225515   \n",
       "3                36.25        41074       65.354658         0.289721   \n",
       "4                36.50        32592      157.112749         0.696490   \n",
       "5                37.00        36055       65.067545         0.288448   \n",
       "6                37.25        24650       55.822527         0.247465   \n",
       "7                37.50        28435      172.148436         0.763144   \n",
       "8                37.75        25883      230.083723         1.019975   \n",
       "9                38.25        23092       69.357492         0.307466   \n",
       "10               38.00        24205       81.079441         0.359430   \n",
       "11               37.50        28118       78.620940         0.348531   \n",
       "12               37.25        23305      326.195056         1.446042   \n",
       "13               37.00        22297      122.415248         0.542674   \n",
       "14               36.50        18330       66.455033         0.294599   \n",
       "15               36.25        16221      232.239147         1.029530   \n",
       "16               35.75        15170      257.251019         1.140409   \n",
       "17               35.50        11089      170.876950         0.757507   \n",
       "18               35.00        13662      414.434615         1.837213   \n",
       "19               34.75        11101      481.595949         2.134943   \n",
       "20               34.25        12589      517.849058         2.295655   \n",
       "21               34.00        10423     1175.178056         5.209633   \n",
       "22               33.50        12960     1368.088291         6.064815   \n",
       "23               33.25        16203     1371.315484         6.079121   \n",
       "\n",
       "        Ratio  years  \n",
       "0    4.452697   1991  \n",
       "1    3.027609   1992  \n",
       "2    1.418948   1993  \n",
       "3    1.822930   1994  \n",
       "4    4.382329   1995  \n",
       "5    1.814922   1996  \n",
       "6    1.557052   1997  \n",
       "7    4.801718   1998  \n",
       "8    6.417700   1999  \n",
       "9    1.934581   2000  \n",
       "10   2.261540   2001  \n",
       "11   2.192965   2002  \n",
       "12   9.098523   2003  \n",
       "13   3.414515   2004  \n",
       "14   1.853623   2005  \n",
       "15   6.477821   2006  \n",
       "16   7.175475   2007  \n",
       "17   4.766252   2008  \n",
       "18  11.559780   2009  \n",
       "19  13.433103   2010  \n",
       "20  14.444307   2011  \n",
       "21  32.779114   2012  \n",
       "22  38.159938   2013  \n",
       "23  38.249954   2014  "
      ]
     },
     "execution_count": 148,
     "metadata": {},
     "output_type": "execute_result"
    }
   ],
   "source": [
    "# Create a Dataframe with all the data\n",
    "data_dict={\"years\": years, \"Mammals_obs\":mammal_obs, \"Deer_obs\":deer_obs, \"Percentage_deer\":percentage, \\\n",
    "           \"Comparison_average\":average_norm, \"Actual_deer (Mi)\": actual_deer, \"Discretized_actual\": discrete, \\\n",
    "          \"Normalized_obs\":norm_obs, \"Ratio\":ratio, \"Discrete Ratio\": discrete_ratio}\n",
    "Data_summary=pd.DataFrame(data_dict)\n",
    "\n",
    "Data_summary"
   ]
  },
  {
   "cell_type": "markdown",
   "metadata": {},
   "source": [
    "### Test Data Setup"
   ]
  },
  {
   "cell_type": "code",
   "execution_count": 149,
   "metadata": {
    "collapsed": true
   },
   "outputs": [],
   "source": [
    "actual_deer_test=np.array(ACTUAL_TOT[\"Deer Population (In Millions)\"][0:12])\n",
    "years_test=np.linspace(1980,1991,12)"
   ]
  },
  {
   "cell_type": "code",
   "execution_count": 150,
   "metadata": {
    "collapsed": false
   },
   "outputs": [
    {
     "data": {
      "text/plain": [
       "1984    838\n",
       "1982    609\n",
       "1981    583\n",
       "1986    497\n",
       "1985    452\n",
       "1980    430\n",
       "1988    410\n",
       "1990    372\n",
       "1983    297\n",
       "1989    260\n",
       "1991    198\n",
       "1987    183\n",
       "dtype: int64"
      ]
     },
     "execution_count": 150,
     "metadata": {},
     "output_type": "execute_result"
    }
   ],
   "source": [
    "test=deer[deer.year<=1991]\n",
    "test=test[test.year>=1980]\n",
    "occurences_test=test['year'].value_counts()\n",
    "occurences_test"
   ]
  },
  {
   "cell_type": "code",
   "execution_count": 151,
   "metadata": {
    "collapsed": true
   },
   "outputs": [],
   "source": [
    "obs_test=[430,583,609,297,838,452,497,183,410,260,371,198]"
   ]
  },
  {
   "cell_type": "code",
   "execution_count": 152,
   "metadata": {
    "collapsed": false
   },
   "outputs": [],
   "source": [
    "mammals_test=pd.read_csv('/Users/macuser/Desktop/Jupyter/AM207/Data_Project/test_Mammalia.csv', sep='\\t', usecols=['year','species'])"
   ]
  },
  {
   "cell_type": "code",
   "execution_count": 153,
   "metadata": {
    "collapsed": false
   },
   "outputs": [
    {
     "data": {
      "text/plain": [
       "1984    37560\n",
       "1983    32946\n",
       "1980    31507\n",
       "1981    30461\n",
       "1991    28080\n",
       "1982    26348\n",
       "1985    24824\n",
       "1989    24066\n",
       "1990    23260\n",
       "1988    20489\n",
       "1986    19633\n",
       "1987    17841\n",
       "dtype: int64"
      ]
     },
     "execution_count": 153,
     "metadata": {},
     "output_type": "execute_result"
    }
   ],
   "source": [
    "mam_test = mammals_test['year'].value_counts()\n",
    "mam_test"
   ]
  },
  {
   "cell_type": "code",
   "execution_count": 154,
   "metadata": {
    "collapsed": false
   },
   "outputs": [],
   "source": [
    "mammal_test=[31507,30461,26348,32946,37560,24824,19663,17841,20489,24066,23620]\n",
    "tot_mammal=np.append(mammal_test,mammal_obs)"
   ]
  },
  {
   "cell_type": "code",
   "execution_count": 155,
   "metadata": {
    "collapsed": false
   },
   "outputs": [
    {
     "data": {
      "text/plain": [
       "array([ 0.75331287,  0.77918087,  0.90081329,  0.72041002,  0.63191237,\n",
       "        0.9561162 ,  1.20707057,  1.33034183,  1.15840834,  0.98623072,\n",
       "        1.00485303,  0.84830153,  0.67980262,  0.76464654,  0.57785043,\n",
       "        0.7282348 ,  0.65828952,  0.96286526,  0.83469768,  0.91699682,\n",
       "        1.02782906,  0.98056718,  0.84410799,  1.01843504,  1.06447632,\n",
       "        1.29485153,  1.46320378,  1.5645767 ,  2.14037592,  1.73727335,\n",
       "        2.13806221,  1.88534662,  2.27713984,  1.83137566,  1.46482926])"
      ]
     },
     "execution_count": 155,
     "metadata": {},
     "output_type": "execute_result"
    }
   ],
   "source": [
    "average_test=np.divide(float(np.sum(tot_mammal))/len(tot_mammal),tot_mammal)\n",
    "average_test"
   ]
  },
  {
   "cell_type": "code",
   "execution_count": 156,
   "metadata": {
    "collapsed": false
   },
   "outputs": [
    {
     "data": {
      "text/plain": [
       "array([ 323.92453378,  454.26244894,  548.59529376,  213.96177641,\n",
       "        529.54256504,  432.16452281,  599.91407212,  243.45255471,\n",
       "        474.94742126,  256.41998789,  372.80047417,  167.96370339])"
      ]
     },
     "execution_count": 156,
     "metadata": {},
     "output_type": "execute_result"
    }
   ],
   "source": [
    "norm_test=np.multiply(average_test[0:12],obs_test)\n",
    "norm_test"
   ]
  },
  {
   "cell_type": "code",
   "execution_count": 157,
   "metadata": {
    "collapsed": false
   },
   "outputs": [
    {
     "name": "stdout",
     "output_type": "stream",
     "text": [
      "[  9.03519181  12.67069311  15.3019089    5.96801257  14.7704732\n",
      "  12.05431806  16.733338     6.79059564  13.24765679   7.15229485\n",
      "  10.3984831    4.68499332]\n"
     ]
    },
    {
     "data": {
      "text/plain": [
       "array([  8.85454545,  11.8       ,  14.74545455,   5.90909091,\n",
       "        14.74545455,  11.8       ,  14.74545455,   6.89090909,\n",
       "        13.76363636,   6.89090909,  11.8       ,   4.92727273])"
      ]
     },
     "execution_count": 157,
     "metadata": {},
     "output_type": "execute_result"
    }
   ],
   "source": [
    "ratio=np.divide(norm_test,np.average(ACTUAL_TOT[\"Deer Population (In Millions)\"]))  \n",
    "# This has to be divided by 10^6 but for simplicity purposes, I will keep it this way\n",
    "print ratio\n",
    "\n",
    "test_ratio=np.zeros(len(norm_test))\n",
    "for i in range(len(ratio)):\n",
    "    for j in range(len(obs_states)-1):\n",
    "        if ratio[i]>obs_states[j] and ratio[i]<obs_states[j]+(obs_states[j+1]-obs_states[j])/2:\n",
    "            test_ratio[i]=obs_states[j]\n",
    "        elif ratio[i]<obs_states[j+1] and ratio[i]>=obs_states[j]+(obs_states[j+1]-obs_states[j])/2:\n",
    "            test_ratio[i]=obs_states[j+1]\n",
    "        elif ratio[i]==obs_states[j]:\n",
    "            test_ratio[i]=obs_states[j]\n",
    "test_ratio"
   ]
  },
  {
   "cell_type": "markdown",
   "metadata": {},
   "source": [
    "### Plots of observations and normalized obs"
   ]
  },
  {
   "cell_type": "code",
   "execution_count": 158,
   "metadata": {
    "collapsed": false
   },
   "outputs": [],
   "source": [
    "all_obs=obs_test[0:11]+deer_obs\n",
    "all_norm=np.append(norm_test[0:11],norm_obs)\n",
    "all_years=np.append(years_test[0:11],years)"
   ]
  },
  {
   "cell_type": "code",
   "execution_count": 159,
   "metadata": {
    "collapsed": false
   },
   "outputs": [
    {
     "data": {
      "text/plain": [
       "<matplotlib.text.Text at 0x1128113d0>"
      ]
     },
     "execution_count": 159,
     "metadata": {},
     "output_type": "execute_result"
    },
    {
     "data": {
      "image/png": "[encoded data removed]",
      "text/plain": [
       "<matplotlib.figure.Figure at 0x10c814150>"
      ]
     },
     "metadata": {},
     "output_type": "display_data"
    }
   ],
   "source": [
    "plt.plot(all_years,all_obs,'-o',label=\"Actual\")\n",
    "plt.plot(all_years,all_norm,'-o',label=\"Normalized\")\n",
    "plt.fill_between(range(1980,1991),[1400]*11,alpha=0.2,label=\"Test Set\")\n",
    "plt.legend()\n",
    "plt.xlabel(\"Years\")\n",
    "plt.ylabel(\"Number of Observed Deer\")\n"
   ]
  },
  {
   "cell_type": "markdown",
   "metadata": {},
   "source": [
    "### Transition Matrix\n",
    "We calculate the transition matrix by counting the occurences of going from hidden state m to hidden state n (in other words, to go from a number m of deer in year i to a number n of dear in year i+1, and dividing the values of each row by the sum of the row: we check that the obtained probabilities on each row sum up to 1. "
   ]
  },
  {
   "cell_type": "code",
   "execution_count": 160,
   "metadata": {
    "collapsed": false
   },
   "outputs": [],
   "source": [
    "# For the transition matrix, we create a 41 by 41 matrix and calculate the probability of a certain current letter\n",
    "# knowing the previous letter. The rows of this matrix should sum up to 1 \n",
    "# The columns correspond to the current letter and the rows to the previous letter\n",
    "\n",
    "#Emission is probability from hidden to observed\n",
    "\n",
    "#Transition is from hidden to next hidden\n",
    "n=len(discrete_states)\n",
    "transition=np.zeros((n,n))\n",
    "# Add a pseudocount\n",
    "transition=transition+0.05\n",
    "\n",
    "for j in xrange(len(discrete)-1):\n",
    "    for i in xrange(len(discrete_states)):\n",
    "        if discrete[j+1]==discrete_states[i]:\n",
    "            for k in xrange(len(discrete_states)):\n",
    "                if discrete[j]==discrete_states[k]:\n",
    "                    transition[k,i]+=1"
   ]
  },
  {
   "cell_type": "code",
   "execution_count": 161,
   "metadata": {
    "collapsed": true
   },
   "outputs": [],
   "source": [
    "SUMS=np.zeros(n)\n",
    "for i in xrange(len(SUMS)):\n",
    "    SUMS[i]=np.sum(transition[i,:])\n",
    "    "
   ]
  },
  {
   "cell_type": "code",
   "execution_count": 162,
   "metadata": {
    "collapsed": false
   },
   "outputs": [],
   "source": [
    "transition_f=np.zeros((n,n))\n",
    "for i in xrange(len(SUMS)):\n",
    "    transition_f[i,:]=transition[i,:]/SUMS[i]"
   ]
  },
  {
   "cell_type": "code",
   "execution_count": 163,
   "metadata": {
    "collapsed": false
   },
   "outputs": [
    {
     "data": {
      "text/plain": [
       "array([ 1.,  1.,  1.,  1.,  1.,  1.,  1.,  1.,  1.,  1.,  1.,  1.,  1.,\n",
       "        1.,  1.,  1.,  1.,  1.,  1.,  1.,  1.,  1.,  1.,  1.,  1.,  1.,\n",
       "        1.,  1.,  1.,  1.,  1.,  1.,  1.,  1.,  1.,  1.,  1.,  1.,  1.,\n",
       "        1.,  1.])"
      ]
     },
     "execution_count": 163,
     "metadata": {},
     "output_type": "execute_result"
    }
   ],
   "source": [
    "# Check to verify my calculations, the sum of the rows should be zero\n",
    "SUM2=np.zeros(n)\n",
    "for i in xrange(len(SUM2)):\n",
    "    SUM2[i]=np.sum(transition_f[i,:])\n",
    "SUM2"
   ]
  },
  {
   "cell_type": "markdown",
   "metadata": {},
   "source": [
    "### Emission Matrix"
   ]
  },
  {
   "cell_type": "markdown",
   "metadata": {},
   "source": [
    "We calculate the transition matrix by counting the occurences of going from hidden state m to observed state n (in other words, to go from a number m of deer in year i to a ratio of observed to actual of m in the same year i, and dividing the values of each row by the sum of the row: we check that the obtained probabilities on each row sum up to 1. "
   ]
  },
  {
   "cell_type": "code",
   "execution_count": 164,
   "metadata": {
    "collapsed": false
   },
   "outputs": [],
   "source": [
    "# Emission probability\n",
    "emission=np.zeros((n,obs_len))\n",
    "# Add a pseudocount\n",
    "emission=emission+0.05\n",
    "for j in xrange(len(discrete_ratio)-1):\n",
    "    for i in xrange(obs_len):\n",
    "        if discrete_ratio[j]==obs_states[i]:\n",
    "            for k in xrange(len(discrete_states)):\n",
    "                if discrete[j]==discrete_states[k]:\n",
    "                    emission[k,i]+=1"
   ]
  },
  {
   "cell_type": "code",
   "execution_count": 165,
   "metadata": {
    "collapsed": false
   },
   "outputs": [],
   "source": [
    "SUMS=np.zeros(n)\n",
    "for i in xrange(len(SUMS)):\n",
    "    SUMS[i]=np.sum(emission[i,:])"
   ]
  },
  {
   "cell_type": "code",
   "execution_count": 166,
   "metadata": {
    "collapsed": false
   },
   "outputs": [],
   "source": [
    "emission_f=np.zeros((n,obs_len))\n",
    "for i in xrange(len(SUMS)):\n",
    "    emission_f[i,:]=emission[i,:]/SUMS[i]"
   ]
  },
  {
   "cell_type": "code",
   "execution_count": 167,
   "metadata": {
    "collapsed": false
   },
   "outputs": [
    {
     "data": {
      "text/plain": [
       "array([ 1.,  1.,  1.,  1.,  1.,  1.,  1.,  1.,  1.,  1.,  1.,  1.,  1.,\n",
       "        1.,  1.,  1.,  1.,  1.,  1.,  1.,  1.,  1.,  1.,  1.,  1.,  1.,\n",
       "        1.,  1.,  1.,  1.,  1.,  1.,  1.,  1.,  1.,  1.,  1.,  1.,  1.,\n",
       "        1.,  1.])"
      ]
     },
     "execution_count": 167,
     "metadata": {},
     "output_type": "execute_result"
    }
   ],
   "source": [
    "# Check to verify my calculations, the sum of the rows should be zero\n",
    "SUM2=np.zeros(n)\n",
    "for i in xrange(len(SUM2)):\n",
    "    SUM2[i]=np.sum(emission_f[i,:])\n",
    "SUM2"
   ]
  },
  {
   "cell_type": "code",
   "execution_count": 168,
   "metadata": {
    "collapsed": true
   },
   "outputs": [],
   "source": [
    "emission_log=np.log(emission_f)\n",
    "transition_log=np.log(transition_f)"
   ]
  },
  {
   "cell_type": "markdown",
   "metadata": {},
   "source": [
    "### Starting Probability"
   ]
  },
  {
   "cell_type": "code",
   "execution_count": 169,
   "metadata": {
    "collapsed": false
   },
   "outputs": [
    {
     "data": {
      "text/plain": [
       "(41,)"
      ]
     },
     "execution_count": 169,
     "metadata": {},
     "output_type": "execute_result"
    }
   ],
   "source": [
    "## Starting Probability\n",
    "itemindex= np.where(discrete_states==discrete[0])[0][0]\n",
    "\n",
    "starting_prob=np.zeros(n)\n",
    "starting_prob[itemindex]=1\n",
    "np.shape(starting_prob)"
   ]
  },
  {
   "cell_type": "code",
   "execution_count": 170,
   "metadata": {
    "collapsed": false
   },
   "outputs": [
    {
     "data": {
      "text/plain": [
       "array([  4.92727273,   2.96363636,   1.        ,   1.98181818,\n",
       "         3.94545455,   1.98181818,   1.98181818,   4.92727273,\n",
       "         5.90909091,   1.98181818,   1.98181818,   1.98181818,\n",
       "         8.85454545,   2.96363636,   1.98181818,   6.89090909,\n",
       "         6.89090909,   4.92727273,  11.8       ,  13.76363636,\n",
       "        14.74545455,  34.38181818,  41.25454545,  41.25454545])"
      ]
     },
     "execution_count": 170,
     "metadata": {},
     "output_type": "execute_result"
    }
   ],
   "source": [
    "discrete_ratio"
   ]
  },
  {
   "cell_type": "code",
   "execution_count": 171,
   "metadata": {
    "collapsed": true
   },
   "outputs": [],
   "source": [
    "# The function takes as input the observed and hiddent states. \n",
    "# It takes the starting probability, the transition and emission matrix and the test data Y.\n",
    "\n",
    "# The function returns Z, which corresponds to the array of the indexes of the corrected letter (which we can \n",
    "# extract later from the state space)\n",
    "\n",
    "def viterbi(hidden, observed, starting_prob, Y, transition_log, emission_log):   \n",
    "    size_test=len(Y)\n",
    "    T1=np.zeros((len(hidden),size_test))\n",
    "    T2=np.zeros((len(hidden),size_test))\n",
    "    index= np.where(observed==Y[0])[0][0]\n",
    "    for i in xrange(len(hidden)):\n",
    "        T1[i,1]=np.log(starting_prob[i])+emission_log[i,index]\n",
    "    for i in range(1,len(Y)):\n",
    "        index= np.where(observed==Y[i])[0][0]\n",
    "        for j in xrange(len(hidden)):\n",
    "            list_val=T1[:,i-1]+transition_log[:,j]+emission_log[j,index]\n",
    "            T1[j,i]=np.max(list_val) \n",
    "            T2[j,i]=np.argmax(list_val) \n",
    "    Z=np.zeros(size_test)  \n",
    "    T_ind=size_test-1\n",
    "    Z[T_ind]=np.argmax(T1[:,T_ind])\n",
    "    \n",
    "    for i in range(T_ind, 1, -1):\n",
    "        Z[i-1]=T2[Z[i], i]\n",
    "    \n",
    "    return Z\n",
    "    "
   ]
  },
  {
   "cell_type": "code",
   "execution_count": 172,
   "metadata": {
    "collapsed": false
   },
   "outputs": [
    {
     "data": {
      "text/plain": [
       "array([  0.,  24.,  24.,  25.,  26.,  28.,  29.,  30.,  31.,  33.,  32.,\n",
       "        30.,  29.,  28.,  26.,  25.,  23.,  22.,  20.,  19.,  17.,  16.,\n",
       "        14.,  13.])"
      ]
     },
     "execution_count": 172,
     "metadata": {},
     "output_type": "execute_result"
    }
   ],
   "source": [
    "Z=viterbi(discrete_states, obs_states, starting_prob, discrete_ratio, transition_log, emission_log)\n",
    "Z"
   ]
  },
  {
   "cell_type": "code",
   "execution_count": 173,
   "metadata": {
    "collapsed": false
   },
   "outputs": [
    {
     "data": {
      "text/plain": [
       "<matplotlib.text.Text at 0x115f38ed0>"
      ]
     },
     "execution_count": 173,
     "metadata": {},
     "output_type": "execute_result"
    },
    {
     "data": {
      "image/png": "[encoded data removed]",
      "text/plain": [
       "<matplotlib.figure.Figure at 0x115daaa90>"
      ]
     },
     "metadata": {},
     "output_type": "display_data"
    }
   ],
   "source": [
    "plt.figure(figsize=(8,6))\n",
    "plt.plot(years,Z,'-o',label=\"Estimation\")\n",
    "plt.plot(years,actual_deer,'-o',label=\"Actual\")\n",
    "plt.legend()\n",
    "plt.xlabel(\"Years\")\n",
    "plt.ylabel(\"Number of deer in Millions\")"
   ]
  },
  {
   "cell_type": "code",
   "execution_count": 174,
   "metadata": {
    "collapsed": false
   },
   "outputs": [
    {
     "data": {
      "text/plain": [
       "array([  0.,  24.,  24.,  25.,  26.,  28.,  29.,  30.,  31.,  33.,  32.,\n",
       "        30.,  29.,  28.,  26.,  25.,  23.,  22.,  20.,  19.,  17.,  16.,\n",
       "        14.,  13.])"
      ]
     },
     "execution_count": 174,
     "metadata": {},
     "output_type": "execute_result"
    }
   ],
   "source": [
    "Z2=viterbi(discrete_states, obs_states, starting_prob, train_ratio, transition_log, emission_log)\n",
    "Z2"
   ]
  },
  {
   "cell_type": "code",
   "execution_count": 175,
   "metadata": {
    "collapsed": false
   },
   "outputs": [
    {
     "data": {
      "text/plain": [
       "<matplotlib.text.Text at 0x10fd726d0>"
      ]
     },
     "execution_count": 175,
     "metadata": {},
     "output_type": "execute_result"
    },
    {
     "data": {
      "image/png": "[encoded data removed]",
      "text/plain": [
       "<matplotlib.figure.Figure at 0x106ecff90>"
      ]
     },
     "metadata": {},
     "output_type": "display_data"
    }
   ],
   "source": [
    "plt.figure(figsize=(8,6))\n",
    "plt.plot(years,Z2,'-o',label=\"Estimation\")\n",
    "plt.plot(years,actual_deer,'-o',label=\"Actual\")\n",
    "plt.legend()\n",
    "plt.xlabel(\"Years\")\n",
    "plt.ylabel(\"Number of deer in Millions\")"
   ]
  },
  {
   "cell_type": "code",
   "execution_count": 176,
   "metadata": {
    "collapsed": false
   },
   "outputs": [
    {
     "data": {
      "text/plain": [
       "(41,)"
      ]
     },
     "execution_count": 176,
     "metadata": {},
     "output_type": "execute_result"
    }
   ],
   "source": [
    "## Starting Probability\n",
    "itemindex= np.where(discrete_states==actual_deer_test[0])[0][0]\n",
    "\n",
    "starting_prob2=np.zeros(n)\n",
    "starting_prob2[itemindex]=1\n",
    "np.shape(starting_prob2)"
   ]
  },
  {
   "cell_type": "code",
   "execution_count": 177,
   "metadata": {
    "collapsed": false
   },
   "outputs": [
    {
     "data": {
      "text/plain": [
       "array([  0.,  20.,  19.,  17.,  16.,  14.,  13.,  25.,  26.,  25.,  23.,\n",
       "        22.])"
      ]
     },
     "execution_count": 177,
     "metadata": {},
     "output_type": "execute_result"
    }
   ],
   "source": [
    "Z3=viterbi(discrete_states, obs_states, starting_prob2, test_ratio, transition_log, emission_log)\n",
    "Z3"
   ]
  },
  {
   "cell_type": "code",
   "execution_count": 178,
   "metadata": {
    "collapsed": false
   },
   "outputs": [
    {
     "data": {
      "text/plain": [
       "<matplotlib.text.Text at 0x10fee9890>"
      ]
     },
     "execution_count": 178,
     "metadata": {},
     "output_type": "execute_result"
    },
    {
     "data": {
      "image/png": "[encoded data removed]",
      "text/plain": [
       "<matplotlib.figure.Figure at 0x106ecfed0>"
      ]
     },
     "metadata": {},
     "output_type": "display_data"
    }
   ],
   "source": [
    "plt.figure(figsize=(8,6))\n",
    "plt.plot(years_test,Z3,'-o',label=\"Estimation\")\n",
    "plt.plot(years_test,actual_deer_test,'-o',label=\"Actual\")\n",
    "plt.legend()\n",
    "plt.xlabel(\"Years\")\n",
    "plt.ylabel(\"Number of deer in Millions\")"
   ]
  },
  {
   "cell_type": "markdown",
   "metadata": {},
   "source": [
    "We can see that even though the number of observations of deer increase since 2005, Viterbi algorithm manages to translate the decrease that occured in the actual values since 2000.  While it is not close to the actual values, it did capture their trend which is interesting. However, we do not extend this algorithm to the test data as we have seen that even on the training data, the results are not accurate.\n",
    "\n",
    "Note: We note an increase in number of deer counts after 2005. This raises the question as to whether this is reliable data. This could be due to an increase in the number of deer studies. Sightings may also depend on where the scientists decided to look for these animals, as it is unlikely there are people sweeping the entirety of the US to look for deer. Much of the data probably depends on scientific study patterns and may not reflect actual deer population. Also, it has become easier to digitally record sightings."
   ]
  },
  {
   "cell_type": "markdown",
   "metadata": {},
   "source": [
    "### Viterbi Second order"
   ]
  },
  {
   "cell_type": "code",
   "execution_count": 179,
   "metadata": {
    "collapsed": false
   },
   "outputs": [],
   "source": [
    "transition_2=np.zeros((n**2,n**2))\n",
    "transition_2=transition_2+0.05\n",
    "\n",
    "for j in xrange(len(discrete)-2):\n",
    "    # Find the index of data_correct[j],[j+1],[j+2]\n",
    "    for i in xrange(len(discrete_states)):\n",
    "        if discrete[j+1]==discrete_states[i]:\n",
    "            for m in xrange(len(discrete_states)):\n",
    "                if discrete[j+2]==discrete_states[m]:\n",
    "                    for k in xrange(len(discrete_states)):\n",
    "                        if discrete[j]==discrete_states[k]:\n",
    "                            transition_2[k*n+i,i*n+m]+=1"
   ]
  },
  {
   "cell_type": "code",
   "execution_count": 180,
   "metadata": {
    "collapsed": false
   },
   "outputs": [],
   "source": [
    "transition_f_2=transition_2/np.sum(transition_2, axis=1).reshape(n**2,1)"
   ]
  },
  {
   "cell_type": "code",
   "execution_count": 181,
   "metadata": {
    "collapsed": false
   },
   "outputs": [
    {
     "data": {
      "text/plain": [
       "array([ 1.,  1.,  1.,  1.,  1.,  1.,  1.,  1.,  1.,  1.,  1.,  1.,  1.,\n",
       "        1.,  1.,  1.,  1.,  1.,  1.])"
      ]
     },
     "execution_count": 181,
     "metadata": {},
     "output_type": "execute_result"
    }
   ],
   "source": [
    "SUMS=np.zeros(n**2)\n",
    "for i in xrange(len(SUMS)):\n",
    "    SUMS[i]=np.sum(transition_f_2[i,:])\n",
    "SUMS[1:20]"
   ]
  },
  {
   "cell_type": "code",
   "execution_count": 182,
   "metadata": {
    "collapsed": false
   },
   "outputs": [],
   "source": [
    "emission_2=np.zeros((n**2,obs_len))\n",
    "emission_2=emission_2+0.05\n",
    "\n",
    "for j in xrange(len(discrete_ratio)-2):\n",
    "    for i in xrange(obs_len):\n",
    "        if discrete_ratio[j+1]==obs_states[i]:\n",
    "            for m in xrange(obs_len):\n",
    "                if discrete[j]==discrete_states[m]:\n",
    "                    for k in xrange(len(discrete_states)):\n",
    "                        if discrete[j+1]==discrete_states[k]:\n",
    "                            emission_2[n*m+k,i]+=1\n",
    "                                    \n",
    "emission_f_2=emission_2/np.sum(emission_2, axis=1).reshape(n**2,1)"
   ]
  },
  {
   "cell_type": "code",
   "execution_count": 183,
   "metadata": {
    "collapsed": false
   },
   "outputs": [
    {
     "data": {
      "text/plain": [
       "array([ 1.,  1.,  1.,  1.,  1.,  1.,  1.,  1.,  1.,  1.,  1.,  1.,  1.,\n",
       "        1.,  1.,  1.,  1.,  1.,  1.])"
      ]
     },
     "execution_count": 183,
     "metadata": {},
     "output_type": "execute_result"
    }
   ],
   "source": [
    "SUMS=np.zeros(27**2)\n",
    "for i in xrange(len(SUMS)):\n",
    "    SUMS[i]=np.sum(emission_f_2[i,:])\n",
    "SUMS[1:20]"
   ]
  },
  {
   "cell_type": "code",
   "execution_count": 184,
   "metadata": {
    "collapsed": true
   },
   "outputs": [],
   "source": [
    "transition_log_2=np.log(transition_f_2)\n",
    "emission_log_2=np.log(emission_f_2)"
   ]
  },
  {
   "cell_type": "code",
   "execution_count": 185,
   "metadata": {
    "collapsed": false
   },
   "outputs": [],
   "source": [
    "## Starting Probability\n",
    "itemindex= np.where(discrete_states==discrete[0])[0][0]\n",
    "itemindex2= np.where(discrete_states==discrete[1])[0][0]\n",
    "\n",
    "starting_prob_2=np.zeros(n*n)\n",
    "starting_prob_2[itemindex*n+itemindex2]=1"
   ]
  },
  {
   "cell_type": "code",
   "execution_count": 186,
   "metadata": {
    "collapsed": true
   },
   "outputs": [],
   "source": [
    "def viterbi2(hidden, observed, starting_prob, Y, transition_log, emission_log):   \n",
    "    size_test=len(Y)\n",
    "    length=np.shape(transition_log)[0]\n",
    "    T1=np.zeros((length,size_test))\n",
    "    T2=np.zeros((length,size_test))\n",
    "    ind1=np.where(observed==Y[0])[0][0]\n",
    "    for i in xrange(length):\n",
    "        T1[i,1]=np.log(starting_prob[i])+emission_log[i,ind1]\n",
    "    for i in range(1,len(Y)-1):\n",
    "        ind2= np.where(observed==Y[i])[0][0]\n",
    "        for j in xrange(length):\n",
    "            list_val=T1[:,i-1]+transition_log[:,j]+emission_log[j,ind2]\n",
    "            T1[j,i]=np.max(list_val) \n",
    "            T2[j,i]=np.argmax(list_val) \n",
    "    Z=np.zeros(size_test)  \n",
    "    T_ind=size_test-1\n",
    "    Z[T_ind]=np.argmax(T1[:,T_ind])\n",
    "    \n",
    "    for i in range(T_ind, 1, -1):\n",
    "        Z[i-1]=T2[Z[i], i]\n",
    "    \n",
    "    return Z"
   ]
  },
  {
   "cell_type": "code",
   "execution_count": 187,
   "metadata": {
    "collapsed": false
   },
   "outputs": [],
   "source": [
    "Z=viterbi2(discrete_states, obs_states, starting_prob_2, discrete_ratio, transition_log_2, emission_log_2)"
   ]
  },
  {
   "cell_type": "code",
   "execution_count": 188,
   "metadata": {
    "collapsed": false
   },
   "outputs": [
    {
     "data": {
      "text/plain": [
       "array([    0.,  1009.,  1051.,  1094.,  1177.,  1219.,  1261.,  1304.,\n",
       "        1385.,  1342.,  1259.,  1217.,  1174.,  1091.,  1048.,   965.,\n",
       "         922.,   839.,   796.,   713.,   670.,   587.,     0.,     0.])"
      ]
     },
     "execution_count": 188,
     "metadata": {},
     "output_type": "execute_result"
    }
   ],
   "source": [
    "Z"
   ]
  },
  {
   "cell_type": "markdown",
   "metadata": {},
   "source": [
    "This method does not seem to work properly. Need to rework it."
   ]
  },
  {
   "cell_type": "markdown",
   "metadata": {},
   "source": [
    "## Forward Backward Algorithm\n",
    "\n",
    "Now that we have looked at decoding a sequence over the years, we use the forward–backward algorithm to find the most likely discreteized state for any point in time, in our case any year.\n",
    "The algorithm involves three steps as detailed below:\n",
    "\n",
    "1. computing forward probabilities\n",
    "\n",
    "2. computing backward probabilities\n",
    "\n",
    "3. computing smoothed values."
   ]
  },
  {
   "cell_type": "code",
   "execution_count": 189,
   "metadata": {
    "collapsed": false
   },
   "outputs": [],
   "source": [
    "def FWBW(y, states, starting_prob, transition, emission, obs_states):\n",
    "    L=len(y)\n",
    "    fwd=[]\n",
    "    f_prev={}\n",
    "    \n",
    "    # Forward part of the algorithm\n",
    "    for i in range(L):\n",
    "        f_curr = {}\n",
    "        ind1=np.where(obs_states==y[i])[0][0] \n",
    "        for j in range(len(states)):\n",
    "            st=states[j]\n",
    "            if i == 0:\n",
    "                # base case for the forward part\n",
    "                prev_f_sum = starting_prob[j]\n",
    "            else:\n",
    "                prev_f_sum = sum(f_prev[states[k]]*transition[k,j] for k in range(len(states)))\n",
    " \n",
    "            f_curr[st] = emission[j,ind1] * prev_f_sum\n",
    " \n",
    "        fwd.append(f_curr)\n",
    "        f_prev = f_curr\n",
    " \n",
    "    bkw = []\n",
    "    b_prev = {}\n",
    "    # Backward part of the algorithm\n",
    "    y2=np.append(y,None)\n",
    "    y2=np.delete(y2,[0])\n",
    "    y2=reversed(y2)\n",
    "    for i, y_val in enumerate(y2):\n",
    "        b_curr = {}\n",
    "        for j in range(len(states)):\n",
    "            st=states[j]\n",
    "            if i == 0:\n",
    "                # base case for backward part\n",
    "                b_curr[st] = 1.0\n",
    "            else:\n",
    "                ind2=np.where(obs_states==y_val)[0][0] \n",
    "                b_curr[st] = sum(transition[j,l]*emission[l,ind2]*b_prev[states[l]] for l in range(len(states)))\n",
    " \n",
    "        bkw.insert(0,b_curr)\n",
    "        b_prev = b_curr\n",
    "     \n",
    "    ind3=np.where(obs_states==y[0])[0][0] \n",
    "    p_bkw = sum(starting_prob[l] * emission[l,ind3] * b_curr[states[l]] for l in range(len(states)))\n",
    " \n",
    "    # Smooth the values\n",
    "    posterior = []\n",
    "    for i in range(L):\n",
    "        posterior.append({st: fwd[i][st]*bkw[i][st]/p_bkw for st in states})\n",
    " \n",
    "    return fwd, bkw, posterior"
   ]
  },
  {
   "cell_type": "code",
   "execution_count": 190,
   "metadata": {
    "collapsed": false
   },
   "outputs": [
    {
     "name": "stdout",
     "output_type": "stream",
     "text": [
      "24\n",
      "[{30.25: 0.0, 30.5: 0.0, 36.75: 0.0, 37.25: 0.0, 32.25: 0.0, 36.5: 0.0, 33.25: 0.0, 39.75: 0.0, 37.5: 0.0, 30.0: 0.0, 31.0: 0.0, 32.0: 0.0, 33.0: 0.0, 34.0: 0.0, 33.75: 0.0, 36.0: 1.0, 37.0: 0.0, 31.5: 0.0, 39.0: 0.0, 40.0: 0.0, 34.25: 0.0, 34.5: 0.0, 35.0: 0.0, 31.25: 0.0, 38.25: 0.0, 31.75: 0.0, 34.75: 0.0, 39.25: 0.0, 38.5: 0.0, 38.75: 0.0, 35.25: 0.0, 37.75: 0.0, 35.5: 0.0, 32.75: 0.0, 33.5: 0.0, 35.75: 0.0, 38.0: 0.0, 39.5: 0.0, 36.25: 0.0, 30.75: 0.0, 32.5: 0.0}, {30.25: 0.0017900528710140821, 30.5: 0.0017900528710140821, 36.75: 0.0017900528710140821, 37.25: 0.00028474799144439931, 32.25: 0.0017900528710140821, 36.5: 0.00028459719593694385, 33.25: 0.0017900528710140821, 39.75: 0.0017900528710140821, 37.5: 0.00039582008323440631, 30.0: 0.0017900528710140821, 31.0: 0.0017900528710140821, 32.0: 0.0017900528710140821, 33.0: 0.0017900528710140821, 34.0: 0.00055413650238277969, 33.75: 0.0017900528710140821, 36.0: 0.9316729080054309, 37.0: 0.0089943833971917776, 31.5: 0.0017900528710140821, 39.0: 0.0017900528710140821, 40.0: 0.0017900528710140821, 34.25: 0.0005448508692292174, 34.5: 0.0017900528710140821, 35.0: 0.0005434728828965712, 31.25: 0.0017900528710140821, 38.25: 0.00063670628290499404, 31.75: 0.0017900528710140821, 34.75: 0.00054352590259441338, 39.25: 0.0017900528710140821, 38.5: 0.0017900528710140821, 38.75: 0.0017900528710140821, 35.25: 0.0017900528710140821, 37.75: 0.0006326381365510498, 35.5: 0.000543470824321426, 32.75: 0.0017900528710140821, 33.5: 0.00071925231245990884, 35.75: 0.00054347066174232478, 38.0: 0.00053017661370852599, 39.5: 0.0017900528710140821, 36.25: 0.0078245205626175356, 30.75: 0.0017900528710140821, 32.5: 0.0017900528710140821}, {30.25: 0.0044223725077864665, 30.5: 0.0044223725077864665, 36.75: 0.0044223725077864665, 37.25: 0.0053376437620832754, 32.25: 0.0044223725077864665, 36.5: 0.0094739657821542502, 33.25: 0.0046676565240464209, 39.75: 0.0044223725077864665, 37.5: 0.001095977996038818, 30.0: 0.0044223725077864665, 31.0: 0.0044223725077864665, 32.0: 0.0044223725077864665, 33.0: 0.0044223725077864665, 34.0: 0.0013488669562985098, 33.75: 0.0044223725077864665, 36.0: 0.83807044829555277, 37.0: 0.0014621542233641197, 31.5: 0.0044223725077864665, 39.0: 0.0044223725077864665, 40.0: 0.0044223725077864665, 34.25: 0.0013236533722607608, 34.5: 0.0044223725077864665, 35.0: 0.0013226052548001843, 31.25: 0.0044223725077864665, 38.25: 0.0030194234698900386, 31.75: 0.0044223725077864665, 34.75: 0.0013226444286601571, 39.25: 0.0044223725077864665, 38.5: 0.0044223725077864665, 38.75: 0.0044223725077864665, 35.25: 0.0044223725077864665, 37.75: 0.0033642445109479243, 35.5: 0.0013226021609850488, 32.75: 0.0044223725077864665, 33.5: 0.0015255688336976135, 35.75: 0.0019374864324458389, 38.0: 0.003096838664566396, 39.5: 0.0044223725077864665, 36.25: 0.01417127914533204, 30.75: 0.0044223725077864665, 32.5: 0.0044223725077864665}, {30.25: 0.0037077993572394927, 30.5: 0.0037077993572394927, 36.75: 0.0037077993572394927, 37.25: 0.013020714846954034, 32.25: 0.0037077993572394927, 36.5: 0.018451231554538188, 33.25: 0.0039974710586386727, 39.75: 0.0037077993572394927, 37.5: 0.026980782294401158, 30.0: 0.0037077993572394927, 31.0: 0.0037077993572394927, 32.0: 0.0037077993572394927, 33.0: 0.0037077993572394927, 34.0: 0.0012110365899392263, 33.75: 0.0037077993572394927, 36.0: 0.0078286383136672785, 37.0: 0.065579015432696494, 31.5: 0.0037077993572394927, 39.0: 0.0037077993572394927, 40.0: 0.0037077993572394927, 34.25: 0.0011971131627499982, 34.5: 0.0037077993572394927, 35.0: 0.001196529868603058, 31.25: 0.0037077993572394927, 38.25: 0.030642030064641994, 31.75: 0.0037077993572394927, 34.75: 0.0011965725632687976, 39.25: 0.0037077993572394927, 38.5: 0.0037077993572394927, 38.75: 0.0037077993572394927, 35.25: 0.0037077993572394927, 37.75: 0.0013029242754144616, 35.5: 0.001236835710967744, 32.75: 0.0037077993572394927, 33.5: 0.0015589841871280936, 35.75: 0.0016515683383668081, 38.0: 0.024612673182795201, 39.5: 0.0037077993572394927, 36.25: 0.70934869398148004, 30.75: 0.0037077993572394927, 32.5: 0.0037077993572394927}, {30.25: 0.0075926773854251986, 30.5: 0.0075926773854251986, 36.75: 0.0075926773854251986, 37.25: 0.011682389670870579, 32.25: 0.0075926773854251986, 36.5: 0.69899493859234274, 33.25: 0.008093215435318114, 39.75: 0.0075926773854251986, 37.5: 0.0052225401514079403, 30.0: 0.0075926773854251986, 31.0: 0.0075926773854251986, 32.0: 0.0075926773854251986, 33.0: 0.0075926773854251986, 34.0: 0.0022421114868415837, 33.75: 0.0075926773854251986, 36.0: 0.0016298607781675765, 37.0: 0.0060415695514898608, 31.5: 0.0075926773854251986, 39.0: 0.0075926773854251986, 40.0: 0.0075926773854251986, 34.25: 0.002233370516866348, 34.5: 0.0075926773854251986, 35.0: 0.0022372728255443558, 31.25: 0.0075926773854251986, 38.25: 0.0047660115458644523, 31.75: 0.0075926773854251986, 34.75: 0.0022326801854762662, 39.25: 0.0075926773854251986, 38.5: 0.0075926773854251986, 38.75: 0.0075926773854251986, 35.25: 0.0075926773854251986, 37.75: 0.03121247895371768, 35.5: 0.0022851308120777859, 32.75: 0.0075926773854251986, 33.5: 0.0024672398179734494, 35.75: 0.017938940493044592, 38.0: 0.014582670355874329, 39.5: 0.0075926773854251986, 36.25: 0.0039133215769165414, 30.75: 0.0075926773854251986, 32.5: 0.0075926773854251986}, {30.25: 0.0032117039674409483, 30.5: 0.0032117039674409483, 36.75: 0.0032117039674409483, 37.25: 0.019876093832905836, 32.25: 0.0032117039674409483, 36.5: 0.019335498405265755, 33.25: 0.0035360308062665803, 39.75: 0.0032117039674409483, 37.5: 0.057758560052247276, 30.0: 0.0032117039674409483, 31.0: 0.0032117039674409483, 32.0: 0.0032117039674409483, 33.0: 0.0032117039674409483, 34.0: 0.00098622932715016929, 33.75: 0.0032117039674409483, 36.0: 0.00038194816902320272, 37.0: 0.45495411091307114, 31.5: 0.0032117039674409483, 39.0: 0.0032117039674409483, 40.0: 0.0032117039674409483, 34.25: 0.0009787028668957528, 34.5: 0.0032117039674409483, 35.0: 0.00098014158562573727, 31.25: 0.0032117039674409483, 38.25: 0.20248589390225641, 31.75: 0.0032117039674409483, 34.75: 0.00097824534124323027, 39.25: 0.0032117039674409483, 38.5: 0.0032117039674409483, 38.75: 0.0032117039674409483, 35.25: 0.0032117039674409483, 37.75: 0.0018684875517184533, 35.5: 0.0016091031783246361, 32.75: 0.0032117039674409483, 33.5: 0.0010815293005381314, 35.75: 0.00097981196998910393, 38.0: 0.028713934746760251, 39.5: 0.0032117039674409483, 36.25: 0.12641478283213459, 30.75: 0.0032117039674409483, 32.5: 0.0032117039674409483}, {30.25: 0.0025101361077422713, 30.5: 0.0025101361077422713, 36.75: 0.0025101361077422713, 37.25: 0.45023356539137671, 32.25: 0.0025101361077422713, 36.5: 0.079681195860443407, 33.25: 0.0026553989305158287, 39.75: 0.0025101361077422713, 37.5: 0.021327316789142188, 30.0: 0.0025101361077422713, 31.0: 0.0025101361077422713, 32.0: 0.0025101361077422713, 33.0: 0.0025101361077422713, 34.0: 0.00077573559540106683, 33.75: 0.0025101361077422713, 36.0: 0.00039847903960896154, 37.0: 0.01621482900423717, 31.5: 0.0025101361077422713, 39.0: 0.0025101361077422713, 40.0: 0.0025101361077422713, 34.25: 0.00076396332030429252, 34.5: 0.0025101361077422713, 35.0: 0.00079039557965565805, 31.25: 0.0025101361077422713, 38.25: 0.016054332641519727, 31.75: 0.0025101361077422713, 34.75: 0.00076355621876226924, 39.25: 0.0025101361077422713, 38.5: 0.0025101361077422713, 38.75: 0.0025101361077422713, 35.25: 0.0025101361077422713, 37.75: 0.0012342681601561561, 35.5: 0.00076352248721491196, 32.75: 0.0025101361077422713, 33.5: 0.00091331900544743786, 35.75: 0.011185013635948279, 38.0: 0.32383185783932433, 39.5: 0.0025101361077422713, 36.25: 0.012169983915126258, 30.75: 0.0025101361077422713, 32.5: 0.0025101361077422713}, {30.25: 0.0041814410580781336, 30.5: 0.0041814410580781336, 36.75: 0.0041814410580781336, 37.25: 0.0021096214659055272, 32.25: 0.0041814410580781336, 36.5: 0.0017530294631429256, 33.25: 0.0043916663576314147, 39.75: 0.0041814410580781336, 37.5: 0.82419366881722445, 30.0: 0.0041814410580781336, 31.0: 0.0041814410580781336, 32.0: 0.0041814410580781336, 33.0: 0.0041814410580781336, 34.0: 0.0012714173686587732, 33.75: 0.0041814410580781336, 36.0: 0.0077591963145964343, 37.0: 0.0070895829213675461, 31.5: 0.0041814410580781336, 39.0: 0.0041814410580781336, 40.0: 0.0041814410580781336, 34.25: 0.0012612040081994311, 34.5: 0.0041814410580781336, 35.0: 0.0012607913580114859, 31.25: 0.0041814410580781336, 38.25: 0.0015068480587110287, 31.75: 0.0041814410580781336, 34.75: 0.0012629347065071252, 39.25: 0.0041814410580781336, 38.5: 0.0041814410580781336, 38.75: 0.0041814410580781336, 35.25: 0.0041814410580781336, 37.75: 0.0030948298592357757, 35.5: 0.032403135820602204, 32.75: 0.0041814410580781336, 33.5: 0.0015175097525377637, 35.75: 0.0021248623916548699, 38.0: 0.0024605025375811062, 39.5: 0.0041814410580781336, 36.25: 0.0041846134045559116, 30.75: 0.0041814410580781336, 32.5: 0.0041814410580781336}, {30.25: 0.0036035849166063689, 30.5: 0.0036035849166063689, 36.75: 0.0036035849166063689, 37.25: 0.021342124323206309, 32.25: 0.0036035849166063689, 36.5: 0.0043706350646376853, 33.25: 0.003958273919706704, 39.75: 0.0036035849166063689, 37.5: 0.0012702734833314, 30.0: 0.0036035849166063689, 31.0: 0.0036035849166063689, 32.0: 0.0036035849166063689, 33.0: 0.0036035849166063689, 34.0: 0.0010978628570535766, 33.75: 0.0036035849166063689, 36.0: 0.0014052344507031616, 37.0: 0.0017102521171025288, 31.5: 0.0036035849166063689, 39.0: 0.0036035849166063689, 40.0: 0.0036035849166063689, 34.25: 0.0010936471115099802, 34.5: 0.0036035849166063689, 35.0: 0.0035130045556953991, 31.25: 0.0036035849166063689, 38.25: 0.0028097548203199641, 31.75: 0.0036035849166063689, 34.75: 0.0010932700596391772, 39.25: 0.0036035849166063689, 38.5: 0.0036035849166063689, 38.75: 0.0036035849166063689, 35.25: 0.0036035849166063689, 37.75: 0.86129833697481806, 35.5: 0.0011603850086390674, 32.75: 0.0036035849166063689, 33.5: 0.0012119142760263211, 35.75: 0.0012655599942504394, 38.0: 0.0033812588577849666, 39.5: 0.0036035849166063689, 36.25: 0.0015321741270207102, 30.75: 0.0036035849166063689, 32.5: 0.0036035849166063689}, {30.25: 0.0019371495491780203, 30.5: 0.0019371495491780203, 36.75: 0.0019371495491780203, 37.25: 0.013564576172620187, 32.25: 0.0019371495491780203, 36.5: 0.013709223887200833, 33.25: 0.002100996217747471, 39.75: 0.0019371495491780203, 37.5: 0.037092659304086013, 30.0: 0.0019371495491780203, 31.0: 0.0019371495491780203, 32.0: 0.0019371495491780203, 33.0: 0.0019371495491780203, 34.0: 0.00058234781795170614, 33.75: 0.0019371495491780203, 36.0: 0.00025398737175681382, 37.0: 0.053959029381661194, 31.5: 0.0019371495491780203, 39.0: 0.0019371495491780203, 40.0: 0.0019371495491780203, 34.25: 0.00057962304654724612, 34.5: 0.0019371495491780203, 35.0: 0.00058209888511097721, 31.25: 0.0019371495491780203, 38.25: 0.78703274782794153, 31.75: 0.0019371495491780203, 34.75: 0.00067935173831047094, 39.25: 0.0019371495491780203, 38.5: 0.0019371495491780203, 38.75: 0.0019371495491780203, 35.25: 0.0019371495491780203, 37.75: 0.0014914440243236557, 35.5: 0.00058644369373905771, 32.75: 0.0019371495491780203, 33.5: 0.00063851509181876102, 35.75: 0.00056647310733211667, 38.0: 0.019184030776179625, 39.5: 0.0019371495491780203, 36.25: 0.02090486247539863, 30.75: 0.0019371495491780203, 32.5: 0.0019371495491780203}, {30.25: 0.0016749558239050016, 30.5: 0.0016749558239050016, 36.75: 0.0016749558239050016, 37.25: 0.108202292762983, 32.25: 0.0016749558239050016, 36.5: 0.063853423873992177, 33.25: 0.0017571713507207088, 39.75: 0.0016749558239050016, 37.5: 0.017993515654219121, 30.0: 0.0016749558239050016, 31.0: 0.0016749558239050016, 32.0: 0.0016749558239050016, 33.0: 0.0016749558239050016, 34.0: 0.00049848686014405789, 33.75: 0.0016749558239050016, 36.0: 0.00022692442303662259, 37.0: 0.018536485451511219, 31.5: 0.0016749558239050016, 39.0: 0.0016749558239050016, 40.0: 0.0016749558239050016, 34.25: 0.00049663622877104286, 34.5: 0.0016749558239050016, 35.0: 0.00049235297707615104, 31.25: 0.0016749558239050016, 38.25: 0.021051636189454423, 31.75: 0.0016749558239050016, 34.75: 0.00049221373538983564, 39.25: 0.0016749558239050016, 38.5: 0.0016749558239050016, 38.75: 0.0016749558239050016, 35.25: 0.0016749558239050016, 37.75: 0.0015677121662126582, 35.5: 0.00049155686887454944, 32.75: 0.0016749558239050016, 33.5: 0.00055657646180431845, 35.75: 0.00070000098255971381, 38.0: 0.71217266344761998, 39.5: 0.0016749558239050016, 36.25: 0.010711410791908686, 30.75: 0.0016749558239050016, 32.5: 0.0016749558239050016}, {30.25: 0.0021416213671260165, 30.5: 0.0021416213671260165, 36.75: 0.0021416213671260165, 37.25: 0.017514201369287184, 32.25: 0.0021416213671260165, 36.5: 0.014912271748995532, 33.25: 0.0022329356105382585, 39.75: 0.0021416213671260165, 37.5: 0.69876543869190721, 30.0: 0.0021416213671260165, 31.0: 0.0021416213671260165, 32.0: 0.0021416213671260165, 33.0: 0.0021416213671260165, 34.0: 0.00067013199194078832, 33.75: 0.0021416213671260165, 36.0: 0.00020552169564721357, 37.0: 0.1547429309331014, 31.5: 0.0021416213671260165, 39.0: 0.0021416213671260165, 40.0: 0.0021416213671260165, 34.25: 0.00065636997600922425, 34.5: 0.0021416213671260165, 35.0: 0.00065545743051556409, 31.25: 0.0021416213671260165, 38.25: 0.014031480779400064, 31.75: 0.0021416213671260165, 34.75: 0.0006555606018843668, 39.25: 0.0021416213671260165, 38.5: 0.0021416213671260165, 38.75: 0.0021416213671260165, 35.25: 0.0021416213671260165, 37.75: 0.0012707615894985032, 35.5: 0.00066680977886482689, 32.75: 0.0021416213671260165, 33.5: 0.00081245920103351196, 35.75: 0.0010077336801501359, 38.0: 0.023932092271173357, 39.5: 0.0021416213671260165, 36.25: 0.015868929839027011, 30.75: 0.0021416213671260165, 32.5: 0.0021416213671260165}, {30.25: 0.0041087400597020676, 30.5: 0.0041087400597020676, 36.75: 0.0041087400597020676, 37.25: 0.84939450991039933, 32.25: 0.0041087400597020676, 36.5: 0.015720383746772627, 33.25: 0.0043299649569083125, 39.75: 0.0041087400597020676, 37.5: 0.0030055622028718177, 30.0: 0.0041087400597020676, 31.0: 0.0041087400597020676, 32.0: 0.0041087400597020676, 33.0: 0.0041087400597020676, 34.0: 0.001274762788164615, 33.75: 0.0041087400597020676, 36.0: 0.0013589853676809788, 37.0: 0.0022981251133653126, 31.5: 0.0041087400597020676, 39.0: 0.0041087400597020676, 40.0: 0.0041087400597020676, 34.25: 0.0012587380385478883, 34.5: 0.0041087400597020676, 35.0: 0.0012586210948515649, 31.25: 0.0041087400597020676, 38.25: 0.0013829981535624682, 31.75: 0.0041087400597020676, 34.75: 0.001257560705469628, 39.25: 0.0041087400597020676, 38.5: 0.0041087400597020676, 38.75: 0.0041087400597020676, 35.25: 0.0041087400597020676, 37.75: 0.0097842257564796503, 35.5: 0.0012920350243032785, 32.75: 0.0041087400597020676, 33.5: 0.0015399350232245378, 35.75: 0.0023128119006965409, 38.0: 0.0025154654224346603, 39.5: 0.0041087400597020676, 36.25: 0.001405553361415074, 30.75: 0.0041087400597020676, 32.5: 0.0041087400597020676}, {30.25: 0.0038626434337660008, 30.5: 0.0038626434337660008, 36.75: 0.0038626434337660008, 37.25: 0.0015239956422888319, 32.25: 0.0038626434337660008, 36.5: 0.0019566078611184534, 33.25: 0.0042560755931496828, 39.75: 0.0038626434337660008, 37.5: 0.0078664798278984347, 30.0: 0.0038626434337660008, 31.0: 0.0038626434337660008, 32.0: 0.0038626434337660008, 33.0: 0.0038626434337660008, 34.0: 0.0012143507977644403, 33.75: 0.0038626434337660008, 36.0: 0.018357575030725999, 37.0: 0.85103664624660036, 31.5: 0.0038626434337660008, 39.0: 0.0038626434337660008, 40.0: 0.0038626434337660008, 34.25: 0.001201659918300155, 34.5: 0.0038626434337660008, 35.0: 0.0012041149480505255, 31.25: 0.0038626434337660008, 38.25: 0.0040967812237858049, 31.75: 0.0038626434337660008, 34.75: 0.0012011892224912486, 39.25: 0.0038626434337660008, 38.5: 0.0038626434337660008, 38.75: 0.0038626434337660008, 35.25: 0.0038626434337660008, 37.75: 0.0029277555024112534, 35.5: 0.0012942378441986846, 32.75: 0.0038626434337660008, 33.5: 0.0013877160309848824, 35.75: 0.0012003334034669899, 38.0: 0.0018887645552825491, 39.5: 0.0038626434337660008, 36.25: 0.0046822739410959805, 30.75: 0.0038626434337660008, 32.5: 0.0038626434337660008}, {30.25: 0.0025177515610902796, 30.5: 0.0025177515610902796, 36.75: 0.0025177515610902796, 37.25: 0.071949177108789633, 32.25: 0.0025177515610902796, 36.5: 0.77585504416481554, 33.25: 0.0027785501301125903, 39.75: 0.0025177515610902796, 37.5: 0.0084708815481184824, 30.0: 0.0025177515610902796, 31.0: 0.0025177515610902796, 32.0: 0.0025177515610902796, 33.0: 0.0025177515610902796, 34.0: 0.00079630985529483217, 33.75: 0.0025177515610902796, 36.0: 0.0046661218640563556, 37.0: 0.0079408112137356844, 31.5: 0.0025177515610902796, 39.0: 0.0025177515610902796, 40.0: 0.0025177515610902796, 34.25: 0.00079025419004500133, 34.5: 0.0025177515610902796, 35.0: 0.00079572642977847547, 31.25: 0.0025177515610902796, 38.25: 0.016705635233178001, 31.75: 0.0025177515610902796, 34.75: 0.00079017446522538408, 39.25: 0.0025177515610902796, 38.5: 0.0025177515610902796, 38.75: 0.0025177515610902796, 35.25: 0.0025177515610902796, 37.75: 0.0010194313875000031, 35.5: 0.00078992865667597311, 32.75: 0.0025177515610902796, 33.5: 0.00093151461784399866, 35.75: 0.00075297983309341411, 38.0: 0.016838696615185812, 39.5: 0.0025177515610902796, 36.25: 0.027702725220382435, 30.75: 0.0025177515610902796, 32.5: 0.0025177515610902796}, {30.25: 0.0034485794831435723, 30.5: 0.0034485794831435723, 36.75: 0.0034485794831435723, 37.25: 0.000963683457741186, 32.25: 0.0034485794831435723, 36.5: 0.0015254875980430184, 33.25: 0.003644392546703307, 39.75: 0.0034485794831435723, 37.5: 0.0034344814114593337, 30.0: 0.0034485794831435723, 31.0: 0.0034485794831435723, 32.0: 0.0034485794831435723, 33.0: 0.0034485794831435723, 34.0: 0.0010151992184784797, 33.75: 0.0034485794831435723, 36.0: 0.00039841531944774538, 37.0: 0.0050434728265159401, 31.5: 0.0034485794831435723, 39.0: 0.0034485794831435723, 40.0: 0.0034485794831435723, 34.25: 0.0010103380396569506, 34.5: 0.0034485794831435723, 35.0: 0.0010100907860415575, 31.25: 0.0034485794831435723, 38.25: 0.0010438028478071406, 31.75: 0.0034485794831435723, 34.75: 0.0010104995137046441, 39.25: 0.0034485794831435723, 38.5: 0.0034485794831435723, 38.75: 0.0034485794831435723, 35.25: 0.0034485794831435723, 37.75: 0.0015195938065740505, 35.5: 0.0010075517735177511, 32.75: 0.0034485794831435723, 33.5: 0.0011280173087629194, 35.75: 0.036588168919538172, 38.0: 0.0020562940282061884, 39.5: 0.0034485794831435723, 36.25: 0.8548346030023547, 30.75: 0.0034485794831435723, 32.5: 0.0034485794831435723}, {30.25: 0.0016559965679323614, 30.5: 0.0016559965679323614, 36.75: 0.0016559965679323614, 37.25: 0.00055117029065291311, 32.25: 0.0016559965679323614, 36.5: 0.0015056182121831127, 33.25: 0.0018190554940120955, 39.75: 0.0016559965679323614, 37.5: 0.00028496229857041561, 30.0: 0.0016559965679323614, 31.0: 0.0016559965679323614, 32.0: 0.0016559965679323614, 33.0: 0.0016559965679323614, 34.0: 0.00050610344039471499, 33.75: 0.0016559965679323614, 36.0: 0.00019468216674062009, 37.0: 0.00025688302239900649, 31.5: 0.0016559965679323614, 39.0: 0.0016559965679323614, 40.0: 0.0016559965679323614, 34.25: 0.00050365765631881041, 34.5: 0.0016559965679323614, 35.0: 0.000503403404848577, 31.25: 0.0016559965679323614, 38.25: 0.00052574332251062613, 31.75: 0.0016559965679323614, 34.75: 0.00050352330688330628, 39.25: 0.0016559965679323614, 38.5: 0.0016559965679323614, 38.75: 0.0016559965679323614, 35.25: 0.0016559965679323614, 37.75: 0.00060740253710439367, 35.5: 0.0020932826314675862, 32.75: 0.0016559965679323614, 33.5: 0.00056047290385117805, 35.75: 0.94392746279874795, 38.0: 0.00070255761744619186, 39.5: 0.0016559965679323614, 36.25: 0.0052101012654901671, 30.75: 0.0016559965679323614, 32.5: 0.0016559965679323614}, {30.25: 0.00094129233361730786, 30.5: 0.00094129233361730786, 36.75: 0.00094129233361730786, 37.25: 0.00013306358938738042, 32.25: 0.00094129233361730786, 36.5: 0.00023113132867591974, 33.25: 0.0010201176397694794, 39.75: 0.00094129233361730786, 37.5: 0.0030168801084191018, 30.0: 0.00094129233361730786, 31.0: 0.00094129233361730786, 32.0: 0.00094129233361730786, 33.0: 0.00094129233361730786, 34.0: 0.00028461559365106846, 33.75: 0.00094129233361730786, 36.0: 0.0015648485041502161, 37.0: 0.0001606522162652208, 31.5: 0.00094129233361730786, 39.0: 0.00094129233361730786, 40.0: 0.00094129233361730786, 34.25: 0.00028310650287393686, 34.5: 0.00094129233361730786, 35.0: 0.00035206288168776202, 31.25: 0.00094129233361730786, 38.25: 0.00028719760112035629, 31.75: 0.00094129233361730786, 34.75: 0.0002830177808848321, 39.25: 0.00094129233361730786, 38.5: 0.00094129233361730786, 38.75: 0.00094129233361730786, 35.25: 0.00094129233361730786, 37.75: 0.00027325728636765702, 35.5: 0.96828315664214926, 32.75: 0.00094129233361730786, 33.5: 0.00031648802365078226, 35.75: 0.00048292870487979416, 38.0: 0.00027726176144940386, 39.5: 0.00094129233361730786, 36.25: 0.00015919782780149516, 30.75: 0.00094129233361730786, 32.5: 0.00094129233361730786}, {30.25: 0.00078327410340045501, 30.5: 0.00078327410340045501, 36.75: 0.00078327410340045501, 37.25: 0.00016842602678066889, 32.25: 0.00078327410340045501, 36.5: 0.00010873082135823803, 33.25: 0.00082965643969317132, 39.75: 0.00078327410340045501, 37.5: 0.00011367343565280967, 30.0: 0.00078327410340045501, 31.0: 0.00078327410340045501, 32.0: 0.00078327410340045501, 33.0: 0.00078327410340045501, 34.0: 0.00023255051242464315, 33.75: 0.00078327410340045501, 36.0: 9.8587917921491092e-05, 37.0: 0.00010968211203203051, 31.5: 0.00078327410340045501, 39.0: 0.00078327410340045501, 40.0: 0.00078327410340045501, 34.25: 0.00023105140952507652, 34.5: 0.00078327410340045501, 35.0: 0.97739839430932651, 31.25: 0.00078327410340045501, 38.25: 0.00023011739740282192, 31.75: 0.00078327410340045501, 34.75: 0.00023407681812601767, 39.25: 0.00078327410340045501, 38.5: 0.00078327410340045501, 38.75: 0.00078327410340045501, 35.25: 0.00078327410340045501, 37.75: 0.00035268313625096695, 35.5: 0.00024005867442939652, 32.75: 0.00078327410340045501, 33.5: 0.00025953026482687002, 35.75: 0.00022510825958652376, 38.0: 0.00022529157892386549, 39.5: 0.00078327410340045501, 36.25: 0.000143802404126966, 30.75: 0.00078327410340045501, 32.5: 0.00078327410340045501}, {30.25: 0.0007624023604499607, 30.5: 0.0007624023604499607, 36.75: 0.0007624023604499607, 37.25: 0.0001055127650579459, 32.25: 0.0007624023604499607, 36.5: 0.0001061828468469316, 33.25: 0.00080225704298379677, 39.75: 0.0007624023604499607, 37.5: 0.00011297327343275432, 30.0: 0.0007624023604499607, 31.0: 0.0007624023604499607, 32.0: 0.0007624023604499607, 33.0: 0.0007624023604499607, 34.0: 0.00022899556866349171, 33.75: 0.0007624023604499607, 36.0: 6.1421038425154545e-05, 37.0: 0.00010666644634370056, 31.5: 0.0007624023604499607, 39.0: 0.0007624023604499607, 40.0: 0.0007624023604499607, 34.25: 0.00022664329391622348, 34.5: 0.0007624023604499607, 35.0: 0.00022717303979729038, 31.25: 0.0007624023604499607, 38.25: 0.00023135767590258777, 31.75: 0.0007624023604499607, 34.75: 0.97823873422701424, 39.25: 0.0007624023604499607, 38.5: 0.0007624023604499607, 38.75: 0.0007624023604499607, 35.25: 0.0007624023604499607, 37.75: 0.00022018257993798427, 35.5: 0.00022581282894854976, 32.75: 0.0007624023604499607, 33.5: 0.0002591673330795966, 35.75: 0.00022170230365217889, 38.0: 0.00021909707002545833, 39.5: 0.0007624023604499607, 36.25: 0.00010846401517231774, 30.75: 0.0007624023604499607, 32.5: 0.0007624023604499607}, {30.25: 0.00096790779652840817, 30.5: 0.00096790779652840817, 36.75: 0.00096790779652840817, 37.25: 0.00013850468813551682, 32.25: 0.00096790779652840817, 36.5: 0.00013838053179499865, 33.25: 0.001014654364249343, 39.75: 0.00096790779652840817, 37.5: 0.00014849973113899211, 30.0: 0.00096790779652840817, 31.0: 0.00096790779652840817, 32.0: 0.00096790779652840817, 33.0: 0.00096790779652840817, 34.0: 0.00030538465280958771, 33.75: 0.00096790779652840817, 36.0: 7.9750135130063444e-05, 37.0: 0.00013797418540577777, 31.5: 0.00096790779652840817, 39.0: 0.00096790779652840817, 40.0: 0.00096790779652840817, 34.25: 0.97224309370164197, 34.5: 0.00096790779652840817, 35.0: 0.00029678638919656549, 31.25: 0.00096790779652840817, 38.25: 0.00029451811640540914, 31.75: 0.00096790779652840817, 34.75: 0.00031057820552579982, 39.25: 0.00096790779652840817, 38.5: 0.00096790779652840817, 38.75: 0.00096790779652840817, 35.25: 0.00096790779652840817, 37.75: 0.00028952111347886649, 35.5: 0.00029653778579683351, 32.75: 0.00096790779652840817, 33.5: 0.00035976347622865778, 35.75: 0.00028950878140181669, 38.0: 0.00028311887479530792, 39.5: 0.00096790779652840817, 36.25: 0.00014363815018128933, 30.75: 0.00096790779652840817, 32.5: 0.00096790779652840817}, {30.25: 0.001932573199878678, 30.5: 0.001932573199878678, 36.75: 0.001932573199878678, 37.25: 0.00029274334373475435, 32.25: 0.001932573199878678, 36.5: 0.00029253617403121623, 33.25: 0.002023677572808589, 39.75: 0.001932573199878678, 37.5: 0.00032023119528761256, 30.0: 0.001932573199878678, 31.0: 0.001932573199878678, 32.0: 0.001932573199878678, 33.0: 0.001932573199878678, 34.0: 0.94387572996314273, 33.75: 0.001932573199878678, 36.0: 0.00016982957860899891, 37.0: 0.00029133560860114473, 31.5: 0.001932573199878678, 39.0: 0.001932573199878678, 40.0: 0.001932573199878678, 34.25: 0.00093051834192709598, 34.5: 0.001932573199878678, 35.0: 0.00062513779732208423, 31.25: 0.001932573199878678, 38.25: 0.00061874124702716513, 31.75: 0.001932573199878678, 34.75: 0.0006251613711051587, 39.25: 0.001932573199878678, 38.5: 0.001932573199878678, 38.75: 0.001932573199878678, 35.25: 0.001932573199878678, 37.75: 0.00061050004654861429, 35.5: 0.00062447127295027168, 32.75: 0.001932573199878678, 33.5: 0.00081556439331890301, 35.75: 0.00061005869264370879, 38.0: 0.00058214339136392209, 39.5: 0.001932573199878678, 36.25: 0.00030986321248872785, 30.75: 0.001932573199878678, 32.5: 0.001932573199878678}, {30.25: 0.0059695493118974404, 30.5: 0.0059695493118974404, 36.75: 0.0059695493118974404, 37.25: 0.00097270271883911094, 32.25: 0.0059695493118974404, 36.5: 0.00097202611463970308, 33.25: 0.0062492857557606548, 39.75: 0.0059695493118974404, 37.5: 0.0010570734988998543, 30.0: 0.0059695493118974404, 31.0: 0.0059695493118974404, 32.0: 0.0059695493118974404, 33.0: 0.0059695493118974404, 34.0: 0.0088172918012470684, 33.75: 0.0059695493118974404, 36.0: 0.00058156643961980849, 37.0: 0.000972216819838758, 31.5: 0.0059695493118974404, 39.0: 0.0059695493118974404, 40.0: 0.0059695493118974404, 34.25: 0.0019957556207509893, 34.5: 0.0059695493118974404, 35.0: 0.0019956570057231568, 31.25: 0.0059695493118974404, 38.25: 0.0019936605174400192, 31.75: 0.0059695493118974404, 34.75: 0.0019957522520573368, 39.25: 0.0059695493118974404, 38.5: 0.0059695493118974404, 38.75: 0.0059695493118974404, 35.25: 0.0059695493118974404, 37.75: 0.0019491947783089954, 35.5: 0.0019935974479660498, 32.75: 0.0059695493118974404, 33.5: 0.82034716526125628, 35.75: 0.0019478098802860843, 38.0: 0.0018669585516584812, 39.5: 0.0059695493118974404, 36.25: 0.0010231020501685244, 30.75: 0.0059695493118974404, 32.5: 0.0059695493118974404}, {30.25: 0.018502145173431836, 30.5: 0.018502145173431836, 36.75: 0.018502145173431836, 37.25: 0.0047392185523789732, 32.25: 0.018502145173431836, 36.5: 0.0047359513150608415, 33.25: 0.30029857841267066, 39.75: 0.018502145173431836, 37.5: 0.0048499614854519328, 30.0: 0.018502145173431836, 31.0: 0.018502145173431836, 32.0: 0.018502145173431836, 33.0: 0.018502145173431836, 34.0: 0.0076298005338593603, 33.75: 0.018502145173431836, 36.0: 0.0033773409911898684, 37.0: 0.0047368750729933629, 31.5: 0.018502145173431836, 39.0: 0.018502145173431836, 40.0: 0.018502145173431836, 34.25: 0.0076297999581461679, 34.5: 0.018502145173431836, 35.0: 0.0076294316999221531, 31.25: 0.018502145173431836, 38.25: 0.0076218432382446069, 31.75: 0.018502145173431836, 34.75: 0.0076297836804501999, 39.25: 0.018502145173431836, 38.5: 0.018502145173431836, 38.75: 0.018502145173431836, 35.25: 0.018502145173431836, 37.75: 0.0074520041329206891, 35.5: 0.0076216065577554525, 32.75: 0.018502145173431836, 33.5: 0.16022581334531361, 35.75: 0.0074467567517733863, 38.0: 0.0076294424785597866, 39.5: 0.018502145173431836, 36.25: 0.0046943076309457132, 30.75: 0.018502145173431836, 32.5: 0.018502145173431836}]\n"
     ]
    }
   ],
   "source": [
    "fwd, bkw, posterior = FWBW(discrete_ratio, discrete_states, starting_prob, transition_f, emission_f, obs_states)\n",
    "print len(posterior)\n",
    "print posterior"
   ]
  },
  {
   "cell_type": "markdown",
   "metadata": {},
   "source": [
    "This method gives the highest likelihood of each state for each consecutive year during the 24 years span. We extract the highest probability each year to plot the results."
   ]
  },
  {
   "cell_type": "code",
   "execution_count": 191,
   "metadata": {
    "collapsed": false
   },
   "outputs": [
    {
     "name": "stdout",
     "output_type": "stream",
     "text": [
      "[  0.    36.    36.    36.25  36.5   37.    37.25  37.5   37.75  38.25  38.\n",
      "  37.5   37.25  37.    36.5   36.25  35.75  35.5   35.    34.75  34.25  34.\n",
      "  33.5   33.25]\n"
     ]
    },
    {
     "data": {
      "text/plain": [
       "array([ 0.        ,  0.93167291,  0.83807045,  0.70934869,  0.69899494,\n",
       "        0.45495411,  0.45023357,  0.82419367,  0.86129834,  0.78703275,\n",
       "        0.71217266,  0.69876544,  0.84939451,  0.85103665,  0.77585504,\n",
       "        0.8548346 ,  0.94392746,  0.96828316,  0.97739839,  0.97823873,\n",
       "        0.97224309,  0.94387573,  0.82034717,  0.30029858])"
      ]
     },
     "execution_count": 191,
     "metadata": {},
     "output_type": "execute_result"
    }
   ],
   "source": [
    "results=np.zeros(len(posterior))\n",
    "prob=np.zeros(len(posterior))\n",
    "\n",
    "for i in range(len(posterior)):\n",
    "    year=posterior[i]\n",
    "    if i==0:\n",
    "        results[i]=0\n",
    "    else:\n",
    "        tresh=0\n",
    "        state=0\n",
    "        for st in discrete_states:\n",
    "            if year[st]>tresh:\n",
    "                tresh=year[st]\n",
    "                state=st\n",
    "        results[i]=state\n",
    "        prob[i]=tresh\n",
    "        \n",
    "print results\n",
    "prob  "
   ]
  },
  {
   "cell_type": "code",
   "execution_count": 192,
   "metadata": {
    "collapsed": false
   },
   "outputs": [
    {
     "data": {
      "text/plain": [
       "<matplotlib.text.Text at 0x1139e8f10>"
      ]
     },
     "execution_count": 192,
     "metadata": {},
     "output_type": "execute_result"
    },
    {
     "data": {
      "image/png": "[encoded data removed]",
      "text/plain": [
       "<matplotlib.figure.Figure at 0x110084410>"
      ]
     },
     "metadata": {},
     "output_type": "display_data"
    }
   ],
   "source": [
    "plt.figure(figsize=(8,6))\n",
    "plt.plot(years,results,'-o',label=\"Estimation\")\n",
    "plt.plot(years,actual_deer,'o-',label=\"Actual\")\n",
    "plt.legend()\n",
    "plt.xlabel(\"Years\")\n",
    "plt.ylabel(\"Number of deer in Millions\")\n",
    "plt.title(\"Forward Backward algorithm\")"
   ]
  },
  {
   "cell_type": "code",
   "execution_count": 193,
   "metadata": {
    "collapsed": false
   },
   "outputs": [
    {
     "data": {
      "text/plain": [
       "<matplotlib.text.Text at 0x1104b3d10>"
      ]
     },
     "execution_count": 193,
     "metadata": {},
     "output_type": "execute_result"
    },
    {
     "data": {
      "image/png": "[encoded data removed]",
      "text/plain": [
       "<matplotlib.figure.Figure at 0x110070910>"
      ]
     },
     "metadata": {},
     "output_type": "display_data"
    }
   ],
   "source": [
    "plt.figure(figsize=(8,6))\n",
    "plt.plot(years[1:],results[1:],'-o',label=\"Estimation\")\n",
    "plt.plot(years[1:],actual_deer[1:],'o-',label=\"Actual\")\n",
    "plt.legend()\n",
    "plt.xlabel(\"Years\")\n",
    "plt.ylabel(\"Number of deer in Millions\")\n",
    "plt.title(\"Forward Backward algorithm\")"
   ]
  },
  {
   "cell_type": "markdown",
   "metadata": {},
   "source": [
    "The actual results and the estimation match perfectly. This is due to the fact that we have used our training data to in our model (from which we calculated transition and emission probabilities).\n",
    "Therefore, we test our data on the number of deer obserevd before 1991."
   ]
  },
  {
   "cell_type": "markdown",
   "metadata": {},
   "source": [
    "### Second Option Data (average ratio)"
   ]
  },
  {
   "cell_type": "code",
   "execution_count": 194,
   "metadata": {
    "collapsed": false
   },
   "outputs": [
    {
     "name": "stdout",
     "output_type": "stream",
     "text": [
      "24\n",
      "[{30.25: 0.0, 30.5: 0.0, 36.75: 0.0, 37.25: 0.0, 32.25: 0.0, 36.5: 0.0, 33.25: 0.0, 39.75: 0.0, 37.5: 0.0, 30.0: 0.0, 31.0: 0.0, 32.0: 0.0, 33.0: 0.0, 34.0: 0.0, 33.75: 0.0, 36.0: 1.0, 37.0: 0.0, 31.5: 0.0, 39.0: 0.0, 40.0: 0.0, 34.25: 0.0, 34.5: 0.0, 35.0: 0.0, 31.25: 0.0, 38.25: 0.0, 31.75: 0.0, 34.75: 0.0, 39.25: 0.0, 38.5: 0.0, 38.75: 0.0, 35.25: 0.0, 37.75: 0.0, 35.5: 0.0, 32.75: 0.0, 33.5: 0.0, 35.75: 0.0, 38.0: 0.0, 39.5: 0.0, 36.25: 0.0, 30.75: 0.0, 32.5: 0.0}, {30.25: 0.0017605915862414928, 30.5: 0.0017605915862414928, 36.75: 0.0017605915862414928, 37.25: 0.00028209142737313828, 32.25: 0.0017605915862414928, 36.5: 0.00028187960277292729, 33.25: 0.0017605915862414928, 39.75: 0.0017605915862414928, 37.5: 0.00038452499149905703, 30.0: 0.0017605915862414928, 31.0: 0.0017605915862414928, 32.0: 0.0017605915862414928, 33.0: 0.0017605915862414928, 34.0: 0.00054465111873827686, 33.75: 0.0017605915862414928, 36.0: 0.93276080513069115, 37.0: 0.0088515471421487194, 31.5: 0.0017605915862414928, 39.0: 0.0017605915862414928, 40.0: 0.0017605915862414928, 34.25: 0.00053560068157851781, 34.5: 0.0017605915862414928, 35.0: 0.00053427186453409048, 31.25: 0.0017605915862414928, 38.25: 0.00061239958586388292, 31.75: 0.0017605915862414928, 34.75: 0.00053433039190052295, 39.25: 0.0017605915862414928, 38.5: 0.0017605915862414928, 38.75: 0.0017605915862414928, 35.25: 0.0017605915862414928, 37.75: 0.00062376326839204627, 35.5: 0.00053426806136777584, 32.75: 0.0017605915862414928, 33.5: 0.00070659859973428948, 35.75: 0.00053426763472238885, 38.0: 0.00052293601114899026, 39.5: 0.0017605915862414928, 36.25: 0.0077412748314974137, 30.75: 0.0017605915862414928, 32.5: 0.0017605915862414928}, {30.25: 0.0043348751320793659, 30.5: 0.0043348751320793659, 36.75: 0.0043348751320793659, 37.25: 0.0051263563602804455, 32.25: 0.0043348751320793659, 36.5: 0.0095022252217794086, 33.25: 0.0045753061632757925, 39.75: 0.0043348751320793659, 37.5: 0.001106899596517911, 30.0: 0.0043348751320793659, 31.0: 0.0043348751320793659, 32.0: 0.0043348751320793659, 33.0: 0.0043348751320793659, 34.0: 0.0013212843136325542, 33.75: 0.0043348751320793659, 36.0: 0.84099917639005295, 37.0: 0.0014920300381943722, 31.5: 0.0043348751320793659, 39.0: 0.0043348751320793659, 40.0: 0.0043348751320793659, 34.25: 0.0012971112101693542, 34.5: 0.0043348751320793659, 35.0: 0.0012959250851121238, 31.25: 0.0043348751320793659, 38.25: 0.0029989830067298153, 31.75: 0.0043348751320793659, 34.75: 0.0012959974578428523, 39.25: 0.0043348751320793659, 38.5: 0.0043348751320793659, 38.75: 0.0043348751320793659, 35.25: 0.0043348751320793659, 37.75: 0.003200836123908249, 35.5: 0.0012959169662213992, 32.75: 0.0043348751320793659, 33.5: 0.0014935105055318681, 35.75: 0.0018983938925772118, 38.0: 0.0027827366825765171, 39.5: 0.0043348751320793659, 36.25: 0.01428030781569224, 30.75: 0.0043348751320793659, 32.5: 0.0043348751320793659}, {30.25: 0.0036104438237053687, 30.5: 0.0036104438237053687, 36.75: 0.0036104438237053687, 37.25: 0.013628917450785948, 32.25: 0.0036104438237053687, 36.5: 0.019312565390926142, 33.25: 0.0038925096272869144, 39.75: 0.0036104438237053687, 37.5: 0.022781310489936042, 30.0: 0.0036104438237053687, 31.0: 0.0036104438237053687, 32.0: 0.0036104438237053687, 33.0: 0.0036104438237053687, 34.0: 0.0011821982804882359, 33.75: 0.0036104438237053687, 36.0: 0.0079981234728957809, 37.0: 0.065746293817830218, 31.5: 0.0036104438237053687, 39.0: 0.0036104438237053687, 40.0: 0.0036104438237053687, 34.25: 0.0011668284923101817, 34.5: 0.0036104438237053687, 35.0: 0.0011657177074952802, 31.25: 0.0036104438237053687, 38.25: 0.028663703433646014, 31.75: 0.0036104438237053687, 34.75: 0.0011658297482315446, 39.25: 0.0036104438237053687, 38.5: 0.0036104438237053687, 38.75: 0.0036104438237053687, 35.25: 0.0036104438237053687, 37.75: 0.0013420250679738767, 35.5: 0.0012049732706078669, 32.75: 0.0036104438237053687, 33.5: 0.0015157872400754825, 35.75: 0.0016090211799586784, 38.0: 0.024668038351861859, 39.5: 0.0036104438237053687, 36.25: 0.7163055052087608, 30.75: 0.0036104438237053687, 32.5: 0.0036104438237053687}, {30.25: 0.0073589928317000204, 30.5: 0.0073589928317000204, 36.75: 0.0073589928317000204, 37.25: 0.0099846155382408344, 32.25: 0.0073589928317000204, 36.5: 0.71181753018100147, 33.25: 0.0078441255107502064, 39.75: 0.0073589928317000204, 37.5: 0.0066215825680962749, 30.0: 0.0073589928317000204, 31.0: 0.0073589928317000204, 32.0: 0.0073589928317000204, 33.0: 0.0073589928317000204, 34.0: 0.002201800568005857, 33.75: 0.0073589928317000204, 36.0: 0.0019769952874026148, 37.0: 0.008351048906487437, 31.5: 0.0073589928317000204, 39.0: 0.0073589928317000204, 40.0: 0.0073589928317000204, 34.25: 0.0021856518436583552, 34.5: 0.0073589928317000204, 35.0: 0.0021881390344927411, 31.25: 0.0073589928317000204, 38.25: 0.0058697534634489313, 31.75: 0.0073589928317000204, 34.75: 0.0021838402534779182, 39.25: 0.0073589928317000204, 38.5: 0.0073589928317000204, 38.75: 0.0073589928317000204, 35.25: 0.0073589928317000204, 37.75: 0.022774215279321955, 35.5: 0.0022349377860734136, 32.75: 0.0073589928317000204, 33.5: 0.0024503151553520366, 35.75: 0.017544908188914753, 38.0: 0.012176447695367179, 39.5: 0.0073589928317000204, 36.25: 0.0049782647791077805, 30.75: 0.0073589928317000204, 32.5: 0.0073589928317000204}, {30.25: 0.0036972233421409496, 30.5: 0.0036972233421409496, 36.75: 0.0036972233421409496, 37.25: 0.032484188655091777, 32.25: 0.0036972233421409496, 36.5: 0.032509951953502612, 33.25: 0.0040705792837672731, 39.75: 0.0036972233421409496, 37.5: 0.04443829781782959, 30.0: 0.0036972233421409496, 31.0: 0.0036972233421409496, 32.0: 0.0036972233421409496, 33.0: 0.0036972233421409496, 34.0: 0.0011850406498815458, 33.75: 0.0036972233421409496, 36.0: 0.00062295480735093285, 37.0: 0.40120867700520196, 31.5: 0.0036972233421409496, 39.0: 0.0036972233421409496, 40.0: 0.0036972233421409496, 34.25: 0.0011652894670637745, 34.5: 0.0036972233421409496, 35.0: 0.0011649491771044578, 31.25: 0.0036972233421409496, 38.25: 0.14185008060128751, 31.75: 0.0036972233421409496, 34.75: 0.0011627771577770701, 39.25: 0.0036972233421409496, 38.5: 0.0036972233421409496, 38.75: 0.0036972233421409496, 35.25: 0.0036972233421409496, 37.75: 0.0029412445757718477, 35.5: 0.0019124975283365828, 32.75: 0.0036972233421409496, 33.5: 0.0013611049774020134, 35.75: 0.0011645541138505904, 38.0: 0.041492104390604988, 39.5: 0.0036972233421409496, 36.25: 0.20053234762679259, 30.75: 0.0036972233421409496, 32.5: 0.0036972233421409496}, {30.25: 0.0048954361772729337, 30.5: 0.0048954361772729337, 36.75: 0.0048954361772729337, 37.25: 0.29855491114986948, 32.25: 0.0048954361772729337, 36.5: 0.18388433134035143, 33.25: 0.0051787374993108358, 39.75: 0.0048954361772729337, 37.5: 0.044420781888643568, 30.0: 0.0048954361772729337, 31.0: 0.0048954361772729337, 32.0: 0.0048954361772729337, 33.0: 0.0048954361772729337, 34.0: 0.001599237343643876, 33.75: 0.0048954361772729337, 36.0: 0.0021720471138865854, 37.0: 0.036683845968116739, 31.5: 0.0048954361772729337, 39.0: 0.0048954361772729337, 40.0: 0.0048954361772729337, 34.25: 0.0015492673979069576, 34.5: 0.0048954361772729337, 35.0: 0.0016017051841935256, 31.25: 0.0048954361772729337, 38.25: 0.032522648432135884, 31.75: 0.0048954361772729337, 34.75: 0.001547357947089554, 39.25: 0.0048954361772729337, 38.5: 0.0048954361772729337, 38.75: 0.0048954361772729337, 35.25: 0.0048954361772729337, 37.75: 0.0025357886131997121, 35.5: 0.0015472459163121597, 32.75: 0.0048954361772729337, 33.5: 0.0019602882218337451, 35.75: 0.028747329666204857, 38.0: 0.21023780515437079, 39.5: 0.0048954361772729337, 36.25: 0.027766202908379816, 30.75: 0.0048954361772729337, 32.5: 0.0048954361772729337}, {30.25: 0.011716722511495711, 30.5: 0.011716722511495711, 36.75: 0.011716722511495711, 37.25: 0.0064046792847756457, 32.25: 0.011716722511495711, 36.5: 0.014981513601145486, 33.25: 0.012305790123725541, 39.75: 0.011716722511495711, 37.5: 0.41824032751007467, 30.0: 0.011716722511495711, 31.0: 0.011716722511495711, 32.0: 0.011716722511495711, 33.0: 0.011716722511495711, 34.0: 0.0037191116134039615, 33.75: 0.011716722511495711, 36.0: 0.066325061186920983, 37.0: 0.023115083914292595, 31.5: 0.011716722511495711, 39.0: 0.011716722511495711, 40.0: 0.011716722511495711, 34.25: 0.0036757655363658399, 34.5: 0.011716722511495711, 35.0: 0.0036740160484382768, 31.25: 0.011716722511495711, 38.25: 0.0046702635385005098, 31.75: 0.011716722511495711, 34.75: 0.0036802871721164604, 39.25: 0.011716722511495711, 38.5: 0.011716722511495711, 38.75: 0.011716722511495711, 35.25: 0.011716722511495711, 37.75: 0.009399968861861804, 35.5: 0.094424472518209318, 32.75: 0.011716722511495711, 33.5: 0.0047633344891797706, 35.75: 0.0061919623603415132, 38.0: 0.0071574710310678058, 39.5: 0.011716722511495711, 36.25: 0.03606955093368272, 30.75: 0.011716722511495711, 32.5: 0.011716722511495711}, {30.25: 0.015290773015272407, 30.5: 0.015290773015272407, 36.75: 0.015290773015272407, 37.25: 0.090559147693735007, 32.25: 0.015290773015272407, 36.5: 0.018545529036374693, 33.25: 0.01679579347765351, 39.75: 0.015290773015272407, 37.5: 0.0053900390723223635, 30.0: 0.015290773015272407, 31.0: 0.015290773015272407, 32.0: 0.015290773015272407, 33.0: 0.015290773015272407, 34.0: 0.004658464317503528, 33.75: 0.015290773015272407, 36.0: 0.0059627070032189713, 37.0: 0.0072569614777196105, 31.5: 0.015290773015272407, 39.0: 0.015290773015272407, 40.0: 0.015290773015272407, 34.25: 0.0046405760174664688, 34.5: 0.015290773015272407, 35.0: 0.014906421384775674, 31.25: 0.015290773015272407, 38.25: 0.011922384009349293, 31.75: 0.015290773015272407, 34.75: 0.0046389761066263314, 39.25: 0.015290773015272407, 38.5: 0.015290773015272407, 38.75: 0.015290773015272407, 35.25: 0.015290773015272407, 37.75: 0.17403195341636091, 35.5: 0.0049237590310857206, 32.75: 0.015290773015272407, 33.5: 0.0051424086118492538, 35.75: 0.11277081356469155, 38.0: 0.014347396522282854, 39.5: 0.015290773015272407, 36.25: 0.13652811689044628, 30.75: 0.015290773015272407, 32.5: 0.015290773015272407}, {30.25: 0.0051383127176989609, 30.5: 0.0051383127176989609, 36.75: 0.0051383127176989609, 37.25: 0.037842766533932454, 32.25: 0.0051383127176989609, 36.5: 0.10210016455674344, 33.25: 0.0058335487885512625, 39.75: 0.0051383127176989609, 37.5: 0.11367448791002872, 30.0: 0.0051383127176989609, 31.0: 0.0051383127176989609, 32.0: 0.0051383127176989609, 33.0: 0.0051383127176989609, 34.0: 0.0016169356046218956, 33.75: 0.0051383127176989609, 36.0: 0.00070653289056595849, 37.0: 0.16420657262015334, 31.5: 0.0051383127176989609, 39.0: 0.0051383127176989609, 40.0: 0.0051383127176989609, 34.25: 0.0016093600482113997, 34.5: 0.0051383127176989609, 35.0: 0.0016203035986332411, 31.25: 0.0051383127176989609, 38.25: 0.31711098193406401, 31.75: 0.0051383127176989609, 34.75: 0.0020329300094675644, 39.25: 0.0051383127176989609, 38.5: 0.0051383127176989609, 38.75: 0.0051383127176989609, 35.25: 0.0051383127176989609, 37.75: 0.0040657495628357359, 35.5: 0.0060771004305618295, 32.75: 0.0051383127176989609, 33.5: 0.0017728775424149924, 35.75: 0.0042975817054597375, 38.0: 0.053504881307495998, 39.5: 0.0051383127176989609, 36.25: 0.058607719731483723, 30.75: 0.0051383127176989609, 32.5: 0.0051383127176989609}, {30.25: 0.0025782561470481104, 30.5: 0.0025782561470481104, 36.75: 0.0025782561470481104, 37.25: 0.25568615473323686, 32.25: 0.0025782561470481104, 36.5: 0.1446022352464888, 33.25: 0.0028065327578862416, 39.75: 0.0025782561470481104, 37.5: 0.041289831076099889, 30.0: 0.0025782561470481104, 31.0: 0.0025782561470481104, 32.0: 0.0025782561470481104, 33.0: 0.0025782561470481104, 34.0: 0.0007961771634449555, 33.75: 0.0025782561470481104, 36.0: 0.00035668948959261898, 37.0: 0.061504548569231404, 31.5: 0.0025782561470481104, 39.0: 0.0025782561470481104, 40.0: 0.0025782561470481104, 34.25: 0.00080374930060821516, 34.5: 0.0025782561470481104, 35.0: 0.00096351673806944343, 31.25: 0.0025782561470481104, 38.25: 0.033536506236311124, 31.75: 0.0025782561470481104, 34.75: 0.00078644958378077648, 39.25: 0.0025782561470481104, 38.5: 0.0025782561470481104, 38.75: 0.0025782561470481104, 35.25: 0.0025782561470481104, 37.75: 0.0033112625127741818, 35.5: 0.00089279130203871434, 32.75: 0.0025782561470481104, 33.5: 0.00088895798156743444, 35.75: 0.0013694963825584845, 38.0: 0.35120578316428286, 39.5: 0.0025782561470481104, 36.25: 0.037321170232873277, 30.75: 0.0025782561470481104, 32.5: 0.0025782561470481104}, {30.25: 0.0026101406813279077, 30.5: 0.0026101406813279077, 36.75: 0.0026101406813279077, 37.25: 0.038536812138055383, 32.25: 0.0026101406813279077, 36.5: 0.037036134617953735, 33.25: 0.0027559868158355573, 39.75: 0.0026101406813279077, 37.5: 0.47553533490473082, 30.0: 0.0026101406813279077, 31.0: 0.0026101406813279077, 32.0: 0.0026101406813279077, 33.0: 0.0026101406813279077, 34.0: 0.00082777191053201029, 33.75: 0.0026101406813279077, 36.0: 0.00025210025494271337, 37.0: 0.29566490543278989, 31.5: 0.0026101406813279077, 39.0: 0.0026101406813279077, 40.0: 0.0026101406813279077, 34.25: 0.00081013859233682332, 34.5: 0.0026101406813279077, 35.0: 0.00081485014747393453, 31.25: 0.0026101406813279077, 38.25: 0.017867188054125283, 31.75: 0.0026101406813279077, 34.75: 0.00081877754068340508, 39.25: 0.0026101406813279077, 38.5: 0.0026101406813279077, 38.75: 0.0026101406813279077, 35.25: 0.0026101406813279077, 37.75: 0.0022362957974867768, 35.5: 0.00084081541014811227, 32.75: 0.0026101406813279077, 33.5: 0.0010027726338843852, 35.75: 0.0020869377627321722, 38.0: 0.033395803132784625, 39.5: 0.0026101406813279077, 36.25: 0.02687399850163481, 30.75: 0.0026101406813279077, 32.5: 0.0026101406813279077}, {30.25: 0.0053049981384989571, 30.5: 0.0053049981384989571, 36.75: 0.0053049981384989571, 37.25: 0.80068325377953609, 32.25: 0.0053049981384989571, 36.5: 0.026134523229498614, 33.25: 0.0055780435696665912, 39.75: 0.0053049981384989571, 37.5: 0.0048941210386540968, 30.0: 0.0053049981384989571, 31.0: 0.0053049981384989571, 32.0: 0.0053049981384989571, 33.0: 0.0053049981384989571, 34.0: 0.001642204978660113, 33.75: 0.0053049981384989571, 36.0: 0.0017521957390809612, 37.0: 0.0047008911133538034, 31.5: 0.0053049981384989571, 39.0: 0.0053049981384989571, 40.0: 0.0053049981384989571, 34.25: 0.0016225066573894514, 34.5: 0.0053049981384989571, 35.0: 0.0016230944965584351, 31.25: 0.0053049981384989571, 38.25: 0.0018466484860725991, 31.75: 0.0053049981384989571, 34.75: 0.0016206169168769069, 39.25: 0.0053049981384989571, 38.5: 0.0053049981384989571, 38.75: 0.0053049981384989571, 35.25: 0.0053049981384989571, 37.75: 0.0074636071557364347, 35.5: 0.0017452322191644084, 32.75: 0.0053049981384989571, 33.5: 0.0019838860606864184, 35.75: 0.0034366357884036327, 38.0: 0.0032238638698623414, 39.5: 0.0053049981384989571, 36.25: 0.0027287195768235422, 30.75: 0.0053049981384989571, 32.5: 0.0053049981384989571}, {30.25: 0.0044195026531699032, 30.5: 0.0044195026531699032, 36.75: 0.0044195026531699032, 37.25: 0.0020190190478417852, 32.25: 0.0044195026531699032, 36.5: 0.0025933254996909783, 33.25: 0.0049263581795756023, 39.75: 0.0044195026531699032, 37.5: 0.0076387310088291581, 30.0: 0.0044195026531699032, 31.0: 0.0044195026531699032, 32.0: 0.0044195026531699032, 33.0: 0.0044195026531699032, 34.0: 0.0014056756198459019, 33.75: 0.0044195026531699032, 36.0: 0.021141355094361779, 37.0: 0.82990396951068346, 31.5: 0.0044195026531699032, 39.0: 0.0044195026531699032, 40.0: 0.0044195026531699032, 34.25: 0.0013909523297568969, 34.5: 0.0044195026531699032, 35.0: 0.0014012737798623335, 31.25: 0.0044195026531699032, 38.25: 0.0040348844270244452, 31.75: 0.0044195026531699032, 34.75: 0.001390518473906599, 39.25: 0.0044195026531699032, 38.5: 0.0044195026531699032, 38.75: 0.0044195026531699032, 35.25: 0.0044195026531699032, 37.75: 0.0035890742089188465, 35.5: 0.0015506058727188965, 32.75: 0.0044195026531699032, 33.5: 0.0016062587310511493, 35.75: 0.0014613074648540463, 38.0: 0.0021958525478922774, 39.5: 0.0044195026531699032, 36.25: 0.0056827745271077782, 30.75: 0.0044195026531699032, 32.5: 0.0044195026531699032}, {30.25: 0.0026890627365377764, 30.5: 0.0026890627365377764, 36.75: 0.0026890627365377764, 37.25: 0.070802913784423285, 32.25: 0.0026890627365377764, 36.5: 0.76486374825083303, 33.25: 0.0029909328376134456, 39.75: 0.0026890627365377764, 37.5: 0.0092314804972118379, 30.0: 0.0026890627365377764, 31.0: 0.0026890627365377764, 32.0: 0.0026890627365377764, 33.0: 0.0026890627365377764, 34.0: 0.00085718015188073382, 33.75: 0.0026890627365377764, 36.0: 0.0051911203489819072, 37.0: 0.0086935107260854641, 31.5: 0.0026890627365377764, 39.0: 0.0026890627365377764, 40.0: 0.0026890627365377764, 34.25: 0.00085066893484123975, 34.5: 0.0026890627365377764, 35.0: 0.00086025915452996482, 31.25: 0.0026890627365377764, 38.25: 0.01811021685237673, 31.75: 0.0026890627365377764, 34.75: 0.00085105279766036325, 39.25: 0.0026890627365377764, 38.5: 0.0026890627365377764, 38.75: 0.0026890627365377764, 35.25: 0.0026890627365377764, 37.75: 0.0010594310386479548, 35.5: 0.00085474569071285612, 32.75: 0.0026890627365377764, 33.5: 0.0010027224271603689, 35.75: 0.00080962459064814487, 38.0: 0.017789811550715566, 39.5: 0.0026890627365377764, 36.25: 0.030643074688769555, 30.75: 0.0026890627365377764, 32.5: 0.0026890627365377764}, {30.25: 0.0035491307741083548, 30.5: 0.0035491307741083548, 36.75: 0.0035491307741083548, 37.25: 0.0010243671208913128, 32.25: 0.0035491307741083548, 36.5: 0.0016341311330878214, 33.25: 0.0037599123835443619, 39.75: 0.0035491307741083548, 37.5: 0.003442506486004835, 30.0: 0.0035491307741083548, 31.0: 0.0035491307741083548, 32.0: 0.0035491307741083548, 33.0: 0.0035491307741083548, 34.0: 0.0010473793557384029, 33.75: 0.0035491307741083548, 36.0: 0.00041191260223137074, 37.0: 0.0049874267365811855, 31.5: 0.0035491307741083548, 39.0: 0.0035491307741083548, 40.0: 0.0035491307741083548, 34.25: 0.0010423969204165248, 34.5: 0.0035491307741083548, 35.0: 0.0010424129900529953, 31.25: 0.0035491307741083548, 38.25: 0.0010749548299796273, 31.75: 0.0035491307741083548, 34.75: 0.0010428025162265455, 39.25: 0.0035491307741083548, 38.5: 0.0035491307741083548, 38.75: 0.0035491307741083548, 35.25: 0.0035491307741083548, 37.75: 0.00159808670389648, 35.5: 0.0010393125126618012, 32.75: 0.0035491307741083548, 33.5: 0.0011637730087797832, 35.75: 0.038926411411011427, 38.0: 0.0021779125436147714, 39.5: 0.0035491307741083548, 36.25: 0.84940516216667949, 30.75: 0.0035491307741083548, 32.5: 0.0035491307741083548}, {30.25: 0.0016975599582927713, 30.5: 0.0016975599582927713, 36.75: 0.0016975599582927713, 37.25: 0.00055737693926558398, 32.25: 0.0016975599582927713, 36.5: 0.0015023003696434918, 33.25: 0.0018657874983651157, 39.75: 0.0016975599582927713, 37.5: 0.00029442894208223124, 30.0: 0.0016975599582927713, 31.0: 0.0016975599582927713, 32.0: 0.0016975599582927713, 33.0: 0.0016975599582927713, 34.0: 0.00051910686955645817, 33.75: 0.0016975599582927713, 36.0: 0.00019965589553958696, 37.0: 0.00026512631437709952, 31.5: 0.0016975599582927713, 39.0: 0.0016975599582927713, 40.0: 0.0016975599582927713, 34.25: 0.00051660903041238389, 34.5: 0.0016975599582927713, 35.0: 0.00051632740063181561, 31.25: 0.0016975599582927713, 38.25: 0.00054074015954526692, 31.75: 0.0016975599582927713, 34.75: 0.00051647255680471575, 39.25: 0.0016975599582927713, 38.5: 0.0016975599582927713, 38.75: 0.0016975599582927713, 35.25: 0.0016975599582927713, 37.75: 0.00061925500916175955, 35.5: 0.002209269150194695, 32.75: 0.0016975599582927713, 33.5: 0.00057487162331246037, 35.75: 0.94247661796459103, 38.0: 0.00072049401730843996, 39.5: 0.0016975599582927713, 36.25: 0.0053641212601812163, 30.75: 0.0016975599582927713, 32.5: 0.0016975599582927713}, {30.25: 0.00095215974480730269, 30.5: 0.00095215974480730269, 36.75: 0.00095215974480730269, 37.25: 0.00013483034440076963, 32.25: 0.00095215974480730269, 36.5: 0.00023577638129170815, 33.25: 0.001033010097062392, 39.75: 0.00095215974480730269, 37.5: 0.0030547422193878166, 30.0: 0.00095215974480730269, 31.0: 0.00095215974480730269, 32.0: 0.00095215974480730269, 33.0: 0.00095215974480730269, 34.0: 0.00028821316949254348, 33.75: 0.00095215974480730269, 36.0: 0.0015838359444396242, 37.0: 0.00016208341298202836, 31.5: 0.00095215974480730269, 39.0: 0.00095215974480730269, 40.0: 0.00095215974480730269, 34.25: 0.00028668505132230156, 34.5: 0.00095215974480730269, 35.0: 0.00036011543151121439, 31.25: 0.00095215974480730269, 38.25: 0.0002907233311046964, 31.75: 0.00095215974480730269, 34.75: 0.00028659418049650071, 39.25: 0.00095215974480730269, 38.5: 0.00095215974480730269, 38.75: 0.00095215974480730269, 35.25: 0.00095215974480730269, 37.75: 0.00027667500519396271, 35.5: 0.96790040930851451, 32.75: 0.00095215974480730269, 33.5: 0.00032048793638072816, 35.75: 0.00049249995819775289, 38.0: 0.00028084171088402563, 39.5: 0.00095215974480730269, 36.25: 0.00016064264196235698, 30.75: 0.00095215974480730269, 32.5: 0.00095215974480730269}, {30.25: 0.00078630447382788734, 30.5: 0.00078630447382788734, 36.75: 0.00078630447382788734, 37.25: 0.00016964206599246435, 32.25: 0.00078630447382788734, 36.5: 0.0001091861248422982, 33.25: 0.00083327301017721816, 39.75: 0.00078630447382788734, 37.5: 0.00011419684998366729, 30.0: 0.00078630447382788734, 31.0: 0.00078630447382788734, 32.0: 0.00078630447382788734, 33.0: 0.00078630447382788734, 34.0: 0.00023356425173093681, 33.75: 0.00078630447382788734, 36.0: 9.9291536762516564e-05, 37.0: 0.00011021337629958886, 31.5: 0.00078630447382788734, 39.0: 0.00078630447382788734, 40.0: 0.00078630447382788734, 34.25: 0.00023205856515855363, 34.5: 0.00078630447382788734, 35.0: 0.97730663604856971, 31.25: 0.00078630447382788734, 38.25: 0.00023111520241063721, 31.75: 0.00078630447382788734, 34.75: 0.00023528761992412555, 39.25: 0.00078630447382788734, 38.5: 0.00078630447382788734, 38.75: 0.00078630447382788734, 35.25: 0.00078630447382788734, 37.75: 0.00035521710665308703, 35.5: 0.00024133881827717783, 32.75: 0.00078630447382788734, 33.5: 0.00026066161274657297, 35.75: 0.0002260161882444159, 38.0: 0.00022627068359066388, 39.5: 0.00078630447382788734, 36.25: 0.00014472356676670901, 30.75: 0.00078630447382788734, 32.5: 0.00078630447382788734}, {30.25: 0.00076317430134553764, 30.5: 0.00076317430134553764, 36.75: 0.00076317430134553764, 37.25: 0.00010563826901766538, 32.25: 0.00076317430134553764, 36.5: 0.00010631719731534701, 33.25: 0.00080320271896266028, 39.75: 0.00076317430134553764, 37.5: 0.00011313030838398623, 30.0: 0.00076317430134553764, 31.0: 0.00076317430134553764, 32.0: 0.00076317430134553764, 33.0: 0.00076317430134553764, 34.0: 0.00022926549926309859, 33.75: 0.00076317430134553764, 36.0: 6.1499280069389747e-05, 37.0: 0.0001068061215052666, 31.5: 0.00076317430134553764, 39.0: 0.00076317430134553764, 40.0: 0.00076317430134553764, 34.25: 0.00022692021965622607, 34.5: 0.00076317430134553764, 35.0: 0.00022745363599958396, 31.25: 0.00076317430134553764, 38.25: 0.00023169752942915582, 31.75: 0.00076317430134553764, 34.75: 0.97821599890554978, 39.25: 0.00076317430134553764, 38.5: 0.00076317430134553764, 38.75: 0.00076317430134553764, 35.25: 0.00076317430134553764, 37.75: 0.00022042492995680342, 35.5: 0.00022607454424891418, 32.75: 0.00076317430134553764, 33.5: 0.00025947283167603486, 35.75: 0.00022196366607155223, 38.0: 0.00021935501687010047, 39.5: 0.00076317430134553764, 36.25: 0.00010859609373144254, 30.75: 0.00076317430134553764, 32.5: 0.00076317430134553764}, {30.25: 0.00096813838217038703, 30.5: 0.00096813838217038703, 36.75: 0.00096813838217038703, 37.25: 0.00013854450617575094, 32.25: 0.00096813838217038703, 36.5: 0.00013841966335645329, 33.25: 0.0010149400533283842, 39.75: 0.00096813838217038703, 37.5: 0.00014854437803758319, 30.0: 0.00096813838217038703, 31.0: 0.00096813838217038703, 32.0: 0.00096813838217038703, 33.0: 0.00096813838217038703, 34.0: 0.00030547125297885209, 33.75: 0.00096813838217038703, 36.0: 7.9771241095571261e-05, 37.0: 0.00013801297545516591, 31.5: 0.00096813838217038703, 39.0: 0.00096813838217038703, 40.0: 0.00096813838217038703, 34.25: 0.97223629109584797, 34.5: 0.00096813838217038703, 35.0: 0.00029686966783807971, 31.25: 0.00096813838217038703, 38.25: 0.00029459969420320695, 31.75: 0.00096813838217038703, 34.75: 0.00031066648648421356, 39.25: 0.00096813838217038703, 38.5: 0.00096813838217038703, 38.75: 0.00096813838217038703, 35.25: 0.00096813838217038703, 37.75: 0.00028959773337946848, 35.5: 0.00029662104309620592, 32.75: 0.00096813838217038703, 33.5: 0.00035986477211839401, 35.75: 0.00028958399999217278, 38.0: 0.00028320277652154149, 39.5: 0.00096813838217038703, 36.25: 0.0001436774880014326, 30.75: 0.00096813838217038703, 32.5: 0.00096813838217038703}, {30.25: 0.0019326763375100142, 30.5: 0.0019326763375100142, 36.75: 0.0019326763375100142, 37.25: 0.00029276193869793958, 32.25: 0.0019326763375100142, 36.5: 0.00029255454275519706, 33.25: 0.0020238063620113727, 39.75: 0.0019326763375100142, 37.5: 0.0003202532670041137, 30.0: 0.0019326763375100142, 31.0: 0.0019326763375100142, 32.0: 0.0019326763375100142, 33.0: 0.0019326763375100142, 34.0: 0.94387264277869387, 33.75: 0.0019326763375100142, 36.0: 0.00016983952402585981, 37.0: 0.00029135400901806588, 31.5: 0.0019326763375100142, 39.0: 0.0019326763375100142, 40.0: 0.0019326763375100142, 34.25: 0.00093057767449862279, 34.5: 0.0019326763375100142, 35.0: 0.00062517755389495202, 31.25: 0.0019326763375100142, 38.25: 0.00061878001991915799, 31.75: 0.0019326763375100142, 34.75: 0.0006252011297017922, 39.25: 0.0019326763375100142, 38.5: 0.0019326763375100142, 38.75: 0.0019326763375100142, 35.25: 0.0019326763375100142, 37.75: 0.00061053596148487853, 35.5: 0.00062451026725366624, 32.75: 0.0019326763375100142, 33.5: 0.00081561637101946463, 35.75: 0.00061009412560044296, 38.0: 0.00058218031310249029, 39.5: 0.0019326763375100142, 36.25: 0.00030988206107662595, 30.75: 0.0019326763375100142, 32.5: 0.0019326763375100142}, {30.25: 0.0059696125311530226, 30.5: 0.0059696125311530226, 36.75: 0.0059696125311530226, 37.25: 0.00097271531183672406, 32.25: 0.0059696125311530226, 36.5: 0.00097203849729916348, 33.25: 0.0062493668032309498, 39.75: 0.0059696125311530226, 37.5: 0.0010570882896897723, 30.0: 0.0059696125311530226, 31.0: 0.0059696125311530226, 32.0: 0.0059696125311530226, 33.0: 0.0059696125311530226, 34.0: 0.0088174061655727151, 33.75: 0.0059696125311530226, 36.0: 0.00058157328039730438, 37.0: 0.00097222926152925682, 31.5: 0.0059696125311530226, 39.0: 0.0059696125311530226, 40.0: 0.0059696125311530226, 34.25: 0.0019957814917949315, 34.5: 0.0059696125311530226, 35.0: 0.0019956827675495941, 31.25: 0.0059696125311530226, 38.25: 0.0019936858392248869, 31.75: 0.0059696125311530226, 34.75: 0.0019957781228120836, 39.25: 0.0059696125311530226, 38.5: 0.0059696125311530226, 38.75: 0.0059696125311530226, 35.25: 0.0059696125311530226, 37.75: 0.0019492179160676853, 35.5: 0.0019936227008760412, 32.75: 0.0059696125311530226, 33.5: 0.82034518293589764, 35.75: 0.0019478325875170121, 38.0: 0.0018669826706935642, 39.5: 0.0059696125311530226, 36.25: 0.0010231146103369, 30.75: 0.0059696125311530226, 32.5: 0.0059696125311530226}, {30.25: 0.018502159286547363, 30.5: 0.018502159286547363, 36.75: 0.018502159286547363, 37.25: 0.0047392247072616219, 32.25: 0.018502159286547363, 36.5: 0.0047359572554112805, 33.25: 0.30029791157967056, 39.75: 0.018502159286547363, 37.5: 0.0048499689767036907, 30.0: 0.018502159286547363, 31.0: 0.018502159286547363, 32.0: 0.018502159286547363, 33.0: 0.018502159286547363, 34.0: 0.0076298105149594179, 33.75: 0.018502159286547363, 36.0: 0.0033773444741808942, 37.0: 0.0047368810854377507, 31.5: 0.018502159286547363, 39.0: 0.018502159286547363, 40.0: 0.018502159286547363, 34.25: 0.0076298099391968015, 34.5: 0.018502159286547363, 35.0: 0.0076294415753824871, 31.25: 0.018502159286547363, 38.25: 0.00762185275222342, 31.75: 0.018502159286547363, 34.75: 0.0076297936428848748, 39.25: 0.018502159286547363, 38.5: 0.018502159286547363, 38.75: 0.018502159286547363, 35.25: 0.018502159286547363, 37.75: 0.0074520119772840971, 35.5: 0.0076216159981566311, 32.75: 0.018502159286547363, 33.5: 0.16022602300164249, 35.75: 0.0074467642515850634, 38.0: 0.0076294523657909081, 39.5: 0.018502159286547363, 36.25: 0.0046943130250907345, 30.75: 0.018502159286547363, 32.5: 0.018502159286547363}]\n"
     ]
    }
   ],
   "source": [
    "fwd2, bkw2, posterior2 = FWBW(train_ratio, discrete_states, starting_prob, transition_f, emission_f, obs_states)\n",
    "print len(posterior2)\n",
    "print posterior2"
   ]
  },
  {
   "cell_type": "code",
   "execution_count": 195,
   "metadata": {
    "collapsed": false
   },
   "outputs": [
    {
     "name": "stdout",
     "output_type": "stream",
     "text": [
      "[  0.    36.    36.    36.25  36.5   37.    37.25  37.5   37.75  38.25  38.\n",
      "  37.5   37.25  37.    36.5   36.25  35.75  35.5   35.    34.75  34.25  34.\n",
      "  33.5   33.25]\n"
     ]
    },
    {
     "data": {
      "text/plain": [
       "array([ 0.        ,  0.93276081,  0.84099918,  0.71630551,  0.71181753,\n",
       "        0.40120868,  0.29855491,  0.41824033,  0.17403195,  0.31711098,\n",
       "        0.35120578,  0.47553533,  0.80068325,  0.82990397,  0.76486375,\n",
       "        0.84940516,  0.94247662,  0.96790041,  0.97730664,  0.978216  ,\n",
       "        0.97223629,  0.94387264,  0.82034518,  0.30029791])"
      ]
     },
     "execution_count": 195,
     "metadata": {},
     "output_type": "execute_result"
    }
   ],
   "source": [
    "results2=np.zeros(len(posterior2))\n",
    "prob2=np.zeros(len(posterior2))\n",
    "\n",
    "for i in range(len(posterior2)):\n",
    "    year=posterior2[i]\n",
    "    if i==0:\n",
    "        results[i]=0\n",
    "    else:\n",
    "        tresh=0\n",
    "        state=0\n",
    "        for st in discrete_states:\n",
    "            if year[st]>tresh:\n",
    "                tresh=year[st]\n",
    "                state=st\n",
    "        results2[i]=state\n",
    "        prob2[i]=tresh\n",
    "        \n",
    "print results2\n",
    "prob2"
   ]
  },
  {
   "cell_type": "code",
   "execution_count": 196,
   "metadata": {
    "collapsed": false
   },
   "outputs": [
    {
     "data": {
      "text/plain": [
       "<matplotlib.text.Text at 0x1108c58d0>"
      ]
     },
     "execution_count": 196,
     "metadata": {},
     "output_type": "execute_result"
    },
    {
     "data": {
      "image/png": "[encoded data removed]",
      "text/plain": [
       "<matplotlib.figure.Figure at 0x115db2810>"
      ]
     },
     "metadata": {},
     "output_type": "display_data"
    }
   ],
   "source": [
    "plt.figure(figsize=(8,6))\n",
    "plt.plot(years[0:],results2[0:],'-o',label=\"Estimation\")\n",
    "plt.plot(years[0:],actual_deer[0:],'-o',label=\"Actual\")\n",
    "plt.legend()\n",
    "plt.xlabel(\"Years\")\n",
    "plt.ylabel(\"Number of deer in Millions\")\n",
    "plt.title(\"Forward Backward algorithm\")"
   ]
  },
  {
   "cell_type": "code",
   "execution_count": 197,
   "metadata": {
    "collapsed": false
   },
   "outputs": [
    {
     "data": {
      "text/plain": [
       "<matplotlib.text.Text at 0x112fa93d0>"
      ]
     },
     "execution_count": 197,
     "metadata": {},
     "output_type": "execute_result"
    },
    {
     "data": {
      "image/png": "[encoded data removed]",
      "text/plain": [
       "<matplotlib.figure.Figure at 0x10fd80a10>"
      ]
     },
     "metadata": {},
     "output_type": "display_data"
    }
   ],
   "source": [
    "plt.figure(figsize=(8,6))\n",
    "plt.plot(years[1:],results2[1:],'-o',label=\"Estimation\")\n",
    "plt.plot(years[1:],actual_deer[1:],'-o',label=\"Actual\")\n",
    "plt.legend()\n",
    "plt.xlabel(\"Years\")\n",
    "plt.ylabel(\"Number of deer in Millions\")\n",
    "plt.title(\"Forward Backward algorithm\")"
   ]
  },
  {
   "cell_type": "markdown",
   "metadata": {},
   "source": [
    "## Test Data"
   ]
  },
  {
   "cell_type": "code",
   "execution_count": 198,
   "metadata": {
    "collapsed": false
   },
   "outputs": [
    {
     "name": "stdout",
     "output_type": "stream",
     "text": [
      "12\n"
     ]
    }
   ],
   "source": [
    "fwd3, bkw3, posterior3 = FWBW(test_ratio, discrete_states, starting_prob2, transition_f, emission_f, obs_states)\n",
    "print len(posterior3)"
   ]
  },
  {
   "cell_type": "code",
   "execution_count": 199,
   "metadata": {
    "collapsed": false
   },
   "outputs": [
    {
     "name": "stdout",
     "output_type": "stream",
     "text": [
      "[  0.    35.5   34.25  37.75  34.25  35.    34.25  35.75  34.75  35.75  35.\n",
      "  35.5 ]\n"
     ]
    },
    {
     "data": {
      "text/plain": [
       "array([ 0.        ,  0.16172144,  0.1886929 ,  0.17853313,  0.20198525,\n",
       "        0.19202296,  0.19300876,  0.16269076,  0.18540009,  0.1571099 ,\n",
       "        0.18170962,  0.21196645])"
      ]
     },
     "execution_count": 199,
     "metadata": {},
     "output_type": "execute_result"
    }
   ],
   "source": [
    "results3=np.zeros(len(posterior3))\n",
    "prob3=np.zeros(len(posterior3))\n",
    "\n",
    "for i in range(len(posterior3)):\n",
    "    year=posterior3[i]\n",
    "    if i==0:\n",
    "        results[i]=0\n",
    "    else:\n",
    "        tresh=0\n",
    "        state=0\n",
    "        for st in discrete_states:\n",
    "            if year[st]>tresh:\n",
    "                tresh=year[st]\n",
    "                state=st\n",
    "        results3[i]=state\n",
    "        prob3[i]=tresh\n",
    "        \n",
    "print results3\n",
    "prob3"
   ]
  },
  {
   "cell_type": "code",
   "execution_count": 200,
   "metadata": {
    "collapsed": false
   },
   "outputs": [
    {
     "data": {
      "text/plain": [
       "<matplotlib.text.Text at 0x113199c50>"
      ]
     },
     "execution_count": 200,
     "metadata": {},
     "output_type": "execute_result"
    },
    {
     "data": {
      "image/png": "[encoded data removed]",
      "text/plain": [
       "<matplotlib.figure.Figure at 0x10fd80a50>"
      ]
     },
     "metadata": {},
     "output_type": "display_data"
    }
   ],
   "source": [
    "plt.figure(figsize=(8,6))\n",
    "plt.plot(years_test,results3,'-o',label=\"Estimation\")\n",
    "plt.plot(years_test,actual_deer_test,'o-',label=\"Actual\")\n",
    "plt.legend()\n",
    "plt.xlabel(\"Years\")\n",
    "plt.ylabel(\"Number of deer in Millions\")\n",
    "plt.title(\"Forward Backward algorithm\")"
   ]
  },
  {
   "cell_type": "code",
   "execution_count": 201,
   "metadata": {
    "collapsed": false
   },
   "outputs": [
    {
     "data": {
      "text/plain": [
       "<matplotlib.text.Text at 0x1132c8c10>"
      ]
     },
     "execution_count": 201,
     "metadata": {},
     "output_type": "execute_result"
    },
    {
     "data": {
      "image/png": "[encoded data removed]",
      "text/plain": [
       "<matplotlib.figure.Figure at 0x10fd5fad0>"
      ]
     },
     "metadata": {},
     "output_type": "display_data"
    }
   ],
   "source": [
    "plt.figure(figsize=(8,6))\n",
    "plt.plot(years_test[1:],results3[1:],'-o',label=\"Estimation\")\n",
    "plt.plot(years_test[1:],actual_deer_test[1:],'-o',label=\"Actual\")\n",
    "plt.legend(loc=\"lower right\")\n",
    "plt.xlabel(\"Years\")\n",
    "plt.ylabel(\"Number of deer in Millions\")\n",
    "plt.title(\"Forward Backward algorithm\")"
   ]
  },
  {
   "cell_type": "code",
   "execution_count": 202,
   "metadata": {
    "collapsed": false
   },
   "outputs": [
    {
     "data": {
      "text/plain": [
       "<matplotlib.text.Text at 0x11768a2d0>"
      ]
     },
     "execution_count": 202,
     "metadata": {},
     "output_type": "execute_result"
    },
    {
     "data": {
      "image/png": "[encoded data removed]",
      "text/plain": [
       "<matplotlib.figure.Figure at 0x1132c8110>"
      ]
     },
     "metadata": {},
     "output_type": "display_data"
    }
   ],
   "source": [
    "### Combine test and training on one plot\n",
    "estimated=np.append(results3[1:],results[1:])\n",
    "plt.figure(figsize=(8,6))\n",
    "plt.plot(all_years[1:],estimated,'-o',label=\"Estimation\")\n",
    "plt.plot(all_years[1:],ACTUAL_TOT[\"Deer Population (In Millions)\"][1:],'-o',label=\"Actual\")\n",
    "plt.legend()\n",
    "plt.xlabel(\"Years\")\n",
    "plt.ylabel(\"Number of deer in Millions\")\n",
    "plt.title(\"Forward Backward algorithm\")"
   ]
  },
  {
   "cell_type": "code",
   "execution_count": 203,
   "metadata": {
    "collapsed": false
   },
   "outputs": [
    {
     "ename": "ValueError",
     "evalue": "could not convert string to float: g",
     "output_type": "error",
     "traceback": [
      "\u001b[0;31m---------------------------------------------------------------------------\u001b[0m",
      "\u001b[0;31mValueError\u001b[0m                                Traceback (most recent call last)",
      "\u001b[0;32m<ipython-input-203-4379c5fc539e>\u001b[0m in \u001b[0;36m<module>\u001b[0;34m()\u001b[0m\n\u001b[1;32m      2\u001b[0m \u001b[0mt\u001b[0m \u001b[0;34m=\u001b[0m \u001b[0mnp\u001b[0m\u001b[0;34m.\u001b[0m\u001b[0marange\u001b[0m\u001b[0;34m(\u001b[0m\u001b[0;36m0.01\u001b[0m\u001b[0;34m,\u001b[0m \u001b[0;36m10.0\u001b[0m\u001b[0;34m,\u001b[0m \u001b[0;36m0.01\u001b[0m\u001b[0;34m)\u001b[0m\u001b[0;34m\u001b[0m\u001b[0m\n\u001b[1;32m      3\u001b[0m \u001b[0ms1\u001b[0m \u001b[0;34m=\u001b[0m \u001b[0mnp\u001b[0m\u001b[0;34m.\u001b[0m\u001b[0mexp\u001b[0m\u001b[0;34m(\u001b[0m\u001b[0mt\u001b[0m\u001b[0;34m)\u001b[0m\u001b[0;34m\u001b[0m\u001b[0m\n\u001b[0;32m----> 4\u001b[0;31m \u001b[0max1\u001b[0m\u001b[0;34m.\u001b[0m\u001b[0mplot\u001b[0m\u001b[0;34m(\u001b[0m\u001b[0mall_years\u001b[0m\u001b[0;34m[\u001b[0m\u001b[0;36m1\u001b[0m\u001b[0;34m:\u001b[0m\u001b[0;34m]\u001b[0m\u001b[0;34m,\u001b[0m \u001b[0mestimated\u001b[0m\u001b[0;34m,\u001b[0m\u001b[0;34m'-o'\u001b[0m\u001b[0;34m,\u001b[0m\u001b[0;34m'g'\u001b[0m\u001b[0;34m)\u001b[0m\u001b[0;34m\u001b[0m\u001b[0m\n\u001b[0m\u001b[1;32m      5\u001b[0m \u001b[0max1\u001b[0m\u001b[0;34m.\u001b[0m\u001b[0mplot\u001b[0m\u001b[0;34m(\u001b[0m\u001b[0mall_years\u001b[0m\u001b[0;34m[\u001b[0m\u001b[0;36m1\u001b[0m\u001b[0;34m:\u001b[0m\u001b[0;34m]\u001b[0m\u001b[0;34m,\u001b[0m\u001b[0mACTUAL_TOT\u001b[0m\u001b[0;34m[\u001b[0m\u001b[0;34m\"Deer Population (In Millions)\"\u001b[0m\u001b[0;34m]\u001b[0m\u001b[0;34m[\u001b[0m\u001b[0;36m1\u001b[0m\u001b[0;34m:\u001b[0m\u001b[0;34m]\u001b[0m\u001b[0;34m,\u001b[0m\u001b[0;34m'-o'\u001b[0m\u001b[0;34m,\u001b[0m \u001b[0;34m'b'\u001b[0m\u001b[0;34m)\u001b[0m\u001b[0;34m\u001b[0m\u001b[0m\n\u001b[1;32m      6\u001b[0m \u001b[0max1\u001b[0m\u001b[0;34m.\u001b[0m\u001b[0mset_xlabel\u001b[0m\u001b[0;34m(\u001b[0m\u001b[0;34m'Number of deer in millions'\u001b[0m\u001b[0;34m)\u001b[0m\u001b[0;34m\u001b[0m\u001b[0m\n",
      "\u001b[0;32m//anaconda/lib/python2.7/site-packages/matplotlib/__init__.pyc\u001b[0m in \u001b[0;36minner\u001b[0;34m(ax, *args, **kwargs)\u001b[0m\n\u001b[1;32m   1810\u001b[0m                     warnings.warn(msg % (label_namer, func.__name__),\n\u001b[1;32m   1811\u001b[0m                                   RuntimeWarning, stacklevel=2)\n\u001b[0;32m-> 1812\u001b[0;31m             \u001b[0;32mreturn\u001b[0m \u001b[0mfunc\u001b[0m\u001b[0;34m(\u001b[0m\u001b[0max\u001b[0m\u001b[0;34m,\u001b[0m \u001b[0;34m*\u001b[0m\u001b[0margs\u001b[0m\u001b[0;34m,\u001b[0m \u001b[0;34m**\u001b[0m\u001b[0mkwargs\u001b[0m\u001b[0;34m)\u001b[0m\u001b[0;34m\u001b[0m\u001b[0m\n\u001b[0m\u001b[1;32m   1813\u001b[0m         \u001b[0mpre_doc\u001b[0m \u001b[0;34m=\u001b[0m \u001b[0minner\u001b[0m\u001b[0;34m.\u001b[0m\u001b[0m__doc__\u001b[0m\u001b[0;34m\u001b[0m\u001b[0m\n\u001b[1;32m   1814\u001b[0m         \u001b[0;32mif\u001b[0m \u001b[0mpre_doc\u001b[0m \u001b[0;32mis\u001b[0m \u001b[0mNone\u001b[0m\u001b[0;34m:\u001b[0m\u001b[0;34m\u001b[0m\u001b[0m\n",
      "\u001b[0;32m//anaconda/lib/python2.7/site-packages/matplotlib/axes/_axes.pyc\u001b[0m in \u001b[0;36mplot\u001b[0;34m(self, *args, **kwargs)\u001b[0m\n\u001b[1;32m   1423\u001b[0m \u001b[0;34m\u001b[0m\u001b[0m\n\u001b[1;32m   1424\u001b[0m         \u001b[0;32mfor\u001b[0m \u001b[0mline\u001b[0m \u001b[0;32min\u001b[0m \u001b[0mself\u001b[0m\u001b[0;34m.\u001b[0m\u001b[0m_get_lines\u001b[0m\u001b[0;34m(\u001b[0m\u001b[0;34m*\u001b[0m\u001b[0margs\u001b[0m\u001b[0;34m,\u001b[0m \u001b[0;34m**\u001b[0m\u001b[0mkwargs\u001b[0m\u001b[0;34m)\u001b[0m\u001b[0;34m:\u001b[0m\u001b[0;34m\u001b[0m\u001b[0m\n\u001b[0;32m-> 1425\u001b[0;31m             \u001b[0mself\u001b[0m\u001b[0;34m.\u001b[0m\u001b[0madd_line\u001b[0m\u001b[0;34m(\u001b[0m\u001b[0mline\u001b[0m\u001b[0;34m)\u001b[0m\u001b[0;34m\u001b[0m\u001b[0m\n\u001b[0m\u001b[1;32m   1426\u001b[0m             \u001b[0mlines\u001b[0m\u001b[0;34m.\u001b[0m\u001b[0mappend\u001b[0m\u001b[0;34m(\u001b[0m\u001b[0mline\u001b[0m\u001b[0;34m)\u001b[0m\u001b[0;34m\u001b[0m\u001b[0m\n\u001b[1;32m   1427\u001b[0m \u001b[0;34m\u001b[0m\u001b[0m\n",
      "\u001b[0;32m//anaconda/lib/python2.7/site-packages/matplotlib/axes/_base.pyc\u001b[0m in \u001b[0;36madd_line\u001b[0;34m(self, line)\u001b[0m\n\u001b[1;32m   1706\u001b[0m             \u001b[0mline\u001b[0m\u001b[0;34m.\u001b[0m\u001b[0mset_clip_path\u001b[0m\u001b[0;34m(\u001b[0m\u001b[0mself\u001b[0m\u001b[0;34m.\u001b[0m\u001b[0mpatch\u001b[0m\u001b[0;34m)\u001b[0m\u001b[0;34m\u001b[0m\u001b[0m\n\u001b[1;32m   1707\u001b[0m \u001b[0;34m\u001b[0m\u001b[0m\n\u001b[0;32m-> 1708\u001b[0;31m         \u001b[0mself\u001b[0m\u001b[0;34m.\u001b[0m\u001b[0m_update_line_limits\u001b[0m\u001b[0;34m(\u001b[0m\u001b[0mline\u001b[0m\u001b[0;34m)\u001b[0m\u001b[0;34m\u001b[0m\u001b[0m\n\u001b[0m\u001b[1;32m   1709\u001b[0m         \u001b[0;32mif\u001b[0m \u001b[0;32mnot\u001b[0m \u001b[0mline\u001b[0m\u001b[0;34m.\u001b[0m\u001b[0mget_label\u001b[0m\u001b[0;34m(\u001b[0m\u001b[0;34m)\u001b[0m\u001b[0;34m:\u001b[0m\u001b[0;34m\u001b[0m\u001b[0m\n\u001b[1;32m   1710\u001b[0m             \u001b[0mline\u001b[0m\u001b[0;34m.\u001b[0m\u001b[0mset_label\u001b[0m\u001b[0;34m(\u001b[0m\u001b[0;34m'_line%d'\u001b[0m \u001b[0;34m%\u001b[0m \u001b[0mlen\u001b[0m\u001b[0;34m(\u001b[0m\u001b[0mself\u001b[0m\u001b[0;34m.\u001b[0m\u001b[0mlines\u001b[0m\u001b[0;34m)\u001b[0m\u001b[0;34m)\u001b[0m\u001b[0;34m\u001b[0m\u001b[0m\n",
      "\u001b[0;32m//anaconda/lib/python2.7/site-packages/matplotlib/axes/_base.pyc\u001b[0m in \u001b[0;36m_update_line_limits\u001b[0;34m(self, line)\u001b[0m\n\u001b[1;32m   1728\u001b[0m         \u001b[0mFigures\u001b[0m \u001b[0mout\u001b[0m \u001b[0mthe\u001b[0m \u001b[0mdata\u001b[0m \u001b[0mlimit\u001b[0m \u001b[0mof\u001b[0m \u001b[0mthe\u001b[0m \u001b[0mgiven\u001b[0m \u001b[0mline\u001b[0m\u001b[0;34m,\u001b[0m \u001b[0mupdating\u001b[0m \u001b[0mself\u001b[0m\u001b[0;34m.\u001b[0m\u001b[0mdataLim\u001b[0m\u001b[0;34m.\u001b[0m\u001b[0;34m\u001b[0m\u001b[0m\n\u001b[1;32m   1729\u001b[0m         \"\"\"\n\u001b[0;32m-> 1730\u001b[0;31m         \u001b[0mpath\u001b[0m \u001b[0;34m=\u001b[0m \u001b[0mline\u001b[0m\u001b[0;34m.\u001b[0m\u001b[0mget_path\u001b[0m\u001b[0;34m(\u001b[0m\u001b[0;34m)\u001b[0m\u001b[0;34m\u001b[0m\u001b[0m\n\u001b[0m\u001b[1;32m   1731\u001b[0m         \u001b[0;32mif\u001b[0m \u001b[0mpath\u001b[0m\u001b[0;34m.\u001b[0m\u001b[0mvertices\u001b[0m\u001b[0;34m.\u001b[0m\u001b[0msize\u001b[0m \u001b[0;34m==\u001b[0m \u001b[0;36m0\u001b[0m\u001b[0;34m:\u001b[0m\u001b[0;34m\u001b[0m\u001b[0m\n\u001b[1;32m   1732\u001b[0m             \u001b[0;32mreturn\u001b[0m\u001b[0;34m\u001b[0m\u001b[0m\n",
      "\u001b[0;32m//anaconda/lib/python2.7/site-packages/matplotlib/lines.pyc\u001b[0m in \u001b[0;36mget_path\u001b[0;34m(self)\u001b[0m\n\u001b[1;32m    923\u001b[0m         \"\"\"\n\u001b[1;32m    924\u001b[0m         \u001b[0;32mif\u001b[0m \u001b[0mself\u001b[0m\u001b[0;34m.\u001b[0m\u001b[0m_invalidy\u001b[0m \u001b[0;32mor\u001b[0m \u001b[0mself\u001b[0m\u001b[0;34m.\u001b[0m\u001b[0m_invalidx\u001b[0m\u001b[0;34m:\u001b[0m\u001b[0;34m\u001b[0m\u001b[0m\n\u001b[0;32m--> 925\u001b[0;31m             \u001b[0mself\u001b[0m\u001b[0;34m.\u001b[0m\u001b[0mrecache\u001b[0m\u001b[0;34m(\u001b[0m\u001b[0;34m)\u001b[0m\u001b[0;34m\u001b[0m\u001b[0m\n\u001b[0m\u001b[1;32m    926\u001b[0m         \u001b[0;32mreturn\u001b[0m \u001b[0mself\u001b[0m\u001b[0;34m.\u001b[0m\u001b[0m_path\u001b[0m\u001b[0;34m\u001b[0m\u001b[0m\n\u001b[1;32m    927\u001b[0m \u001b[0;34m\u001b[0m\u001b[0m\n",
      "\u001b[0;32m//anaconda/lib/python2.7/site-packages/matplotlib/lines.pyc\u001b[0m in \u001b[0;36mrecache\u001b[0;34m(self, always)\u001b[0m\n\u001b[1;32m    619\u001b[0m                 \u001b[0my\u001b[0m \u001b[0;34m=\u001b[0m \u001b[0mma\u001b[0m\u001b[0;34m.\u001b[0m\u001b[0masarray\u001b[0m\u001b[0;34m(\u001b[0m\u001b[0myconv\u001b[0m\u001b[0;34m,\u001b[0m \u001b[0mnp\u001b[0m\u001b[0;34m.\u001b[0m\u001b[0mfloat_\u001b[0m\u001b[0;34m)\u001b[0m\u001b[0;34m.\u001b[0m\u001b[0mfilled\u001b[0m\u001b[0;34m(\u001b[0m\u001b[0mnp\u001b[0m\u001b[0;34m.\u001b[0m\u001b[0mnan\u001b[0m\u001b[0;34m)\u001b[0m\u001b[0;34m\u001b[0m\u001b[0m\n\u001b[1;32m    620\u001b[0m             \u001b[0;32melse\u001b[0m\u001b[0;34m:\u001b[0m\u001b[0;34m\u001b[0m\u001b[0m\n\u001b[0;32m--> 621\u001b[0;31m                 \u001b[0my\u001b[0m \u001b[0;34m=\u001b[0m \u001b[0mnp\u001b[0m\u001b[0;34m.\u001b[0m\u001b[0masarray\u001b[0m\u001b[0;34m(\u001b[0m\u001b[0myconv\u001b[0m\u001b[0;34m,\u001b[0m \u001b[0mnp\u001b[0m\u001b[0;34m.\u001b[0m\u001b[0mfloat_\u001b[0m\u001b[0;34m)\u001b[0m\u001b[0;34m\u001b[0m\u001b[0m\n\u001b[0m\u001b[1;32m    622\u001b[0m             \u001b[0my\u001b[0m \u001b[0;34m=\u001b[0m \u001b[0my\u001b[0m\u001b[0;34m.\u001b[0m\u001b[0mravel\u001b[0m\u001b[0;34m(\u001b[0m\u001b[0;34m)\u001b[0m\u001b[0;34m\u001b[0m\u001b[0m\n\u001b[1;32m    623\u001b[0m         \u001b[0;32melse\u001b[0m\u001b[0;34m:\u001b[0m\u001b[0;34m\u001b[0m\u001b[0m\n",
      "\u001b[0;32m/usr/local/lib/python2.7/site-packages/numpy/core/numeric.pyc\u001b[0m in \u001b[0;36masarray\u001b[0;34m(a, dtype, order)\u001b[0m\n\u001b[1;32m    472\u001b[0m \u001b[0;34m\u001b[0m\u001b[0m\n\u001b[1;32m    473\u001b[0m     \"\"\"\n\u001b[0;32m--> 474\u001b[0;31m     \u001b[0;32mreturn\u001b[0m \u001b[0marray\u001b[0m\u001b[0;34m(\u001b[0m\u001b[0ma\u001b[0m\u001b[0;34m,\u001b[0m \u001b[0mdtype\u001b[0m\u001b[0;34m,\u001b[0m \u001b[0mcopy\u001b[0m\u001b[0;34m=\u001b[0m\u001b[0mFalse\u001b[0m\u001b[0;34m,\u001b[0m \u001b[0morder\u001b[0m\u001b[0;34m=\u001b[0m\u001b[0morder\u001b[0m\u001b[0;34m)\u001b[0m\u001b[0;34m\u001b[0m\u001b[0m\n\u001b[0m\u001b[1;32m    475\u001b[0m \u001b[0;34m\u001b[0m\u001b[0m\n\u001b[1;32m    476\u001b[0m \u001b[0;32mdef\u001b[0m \u001b[0masanyarray\u001b[0m\u001b[0;34m(\u001b[0m\u001b[0ma\u001b[0m\u001b[0;34m,\u001b[0m \u001b[0mdtype\u001b[0m\u001b[0;34m=\u001b[0m\u001b[0mNone\u001b[0m\u001b[0;34m,\u001b[0m \u001b[0morder\u001b[0m\u001b[0;34m=\u001b[0m\u001b[0mNone\u001b[0m\u001b[0;34m)\u001b[0m\u001b[0;34m:\u001b[0m\u001b[0;34m\u001b[0m\u001b[0m\n",
      "\u001b[0;31mValueError\u001b[0m: could not convert string to float: g"
     ]
    },
    {
     "data": {
      "image/png": "[encoded data removed]",
      "text/plain": [
       "<matplotlib.figure.Figure at 0x112f96a90>"
      ]
     },
     "metadata": {},
     "output_type": "display_data"
    }
   ],
   "source": [
    "fig, ax1 = plt.subplots()\n",
    "t = np.arange(0.01, 10.0, 0.01)\n",
    "s1 = np.exp(t)\n",
    "ax1.plot(all_years[1:], estimated,'-o','g')\n",
    "ax1.plot(all_years[1:],ACTUAL_TOT[\"Deer Population (In Millions)\"][1:],'-o', 'b')\n",
    "ax1.set_xlabel('Number of deer in millions')\n",
    "# Make the y-axis label and tick labels match the line color.\n",
    "ax1.set_ylabel('exp', color='b')\n",
    "for tl in ax1.get_yticklabels():\n",
    "    tl.set_color('b')\n",
    "\n",
    "\n",
    "ax2 = ax1.twinx()\n",
    "\n",
    "ax2.plot(all_years, all_obs, 'r.')\n",
    "ax2.set_ylabel('Observations', color='r')\n",
    "for tl in ax2.get_yticklabels():\n",
    "    tl.set_color('r')\n",
    "plt.show()\n"
   ]
  },
  {
   "cell_type": "markdown",
   "metadata": {},
   "source": [
    "## Kalman Filter"
   ]
  },
  {
   "cell_type": "code",
   "execution_count": null,
   "metadata": {
    "collapsed": true
   },
   "outputs": [],
   "source": [
    "## Compare later with built in function"
   ]
  },
  {
   "cell_type": "code",
   "execution_count": null,
   "metadata": {
    "collapsed": true
   },
   "outputs": [],
   "source": [
    "from pykalman import KalmanFilter\n",
    "\n",
    "kf = KalmanFilter(transition_matrices = [[1, 1], [0, 1]], observation_matrices = [[0.1, 0.5], [-0.3, 0.0]])\n",
    "measurements = np.asarray([[1,0], [0,0], [0,1]])  # 3 observations\n",
    "kf = kf.em(measurements, n_iter=5)\n",
    "(filtered_state_means, filtered_state_covariances) = kf.filter(measurements)\n",
    "(smoothed_state_means, smoothed_state_covariances) = kf.smooth(measurements)"
   ]
  },
  {
   "cell_type": "code",
   "execution_count": 558,
   "metadata": {
    "collapsed": true
   },
   "outputs": [],
   "source": [
    "def kf_predict(X, P, A, Q, B, U):\n",
    "    X = np.dot(A, X) + np.dot(B, U)\n",
    "    P = np.dot(A, np.dot(P, A.T)) + Q\n",
    "    return(X,P)\n",
    " \n",
    "def gauss_pdf(X, M, S):\n",
    "    if np.shape(M)[1] == 1:\n",
    "        DX=X - np.tile(M, np.shape(X)[1])\n",
    "        E=0.5 * np.sum(DX * (np.dot(inv(S), DX)), axis=0)\n",
    "        E=E + 0.5 * np.shape(M)[0] * np.log(2 * np.pi) + 0.5 * np.log(det(S))\n",
    "        P=np.exp(-E)\n",
    "    elif np.shape(X)[1] == 1:\n",
    "        DX=np.tile(X, np.shape(M)[1])- M\n",
    "        E=0.5 * np.sum(DX * (np.dot(inv(S), DX)), axis=0)\n",
    "        E=E + 0.5 * np.shape(M)[0] * np.log(2 * np.pi) + 0.5 * np.log(det(S))\n",
    "        P=np.exp(-E)\n",
    "    else:\n",
    "        DX=X-M\n",
    "        E=0.5 * np.dot(DX.T, np.dot(inv(S), DX))\n",
    "        E=E + 0.5 * np.shape(M)[0] * np.log(2 * np.pi) + 0.5 * np.log(det(S))\n",
    "        P=np.exp(-E)\n",
    "        \n",
    "    return (P[0],E[0]) \n",
    "\n",
    "def kf_update(X, P, Y, H, R):\n",
    "    IM=np.dot(H, X)\n",
    "    IS=R + np.dot(H, np.dot(P, H.T))\n",
    "    K=np.dot(P, np.dot(H.T, inv(IS)))\n",
    "    X=X + np.dot(K, (Y-IM))\n",
    "    P=P-np.dot(K, np.dot(IS, K.T))\n",
    "    LH=gauss_pdf(Y, IM, IS)\n",
    "    return (X,P,K,IM,IS,LH)\n",
    "    \n"
   ]
  },
  {
   "cell_type": "code",
   "execution_count": 559,
   "metadata": {
    "collapsed": false
   },
   "outputs": [
    {
     "data": {
      "text/plain": [
       "4"
      ]
     },
     "execution_count": 559,
     "metadata": {},
     "output_type": "execute_result"
    }
   ],
   "source": [
    "X =([[0.0], [0.0], [0.1], [0.1]])\n",
    "np.shape(X)[0]"
   ]
  },
  {
   "cell_type": "code",
   "execution_count": 584,
   "metadata": {
    "collapsed": false
   },
   "outputs": [
    {
     "ename": "ValueError",
     "evalue": "shapes (41,9) and (41,1) not aligned: 9 (dim 1) != 41 (dim 0)",
     "output_type": "error",
     "traceback": [
      "\u001b[0;31m---------------------------------------------------------------------------\u001b[0m",
      "\u001b[0;31mValueError\u001b[0m                                Traceback (most recent call last)",
      "\u001b[0;32m<ipython-input-584-138b62eba163>\u001b[0m in \u001b[0;36m<module>\u001b[0;34m()\u001b[0m\n\u001b[1;32m     21\u001b[0m \u001b[0;31m# Applying the Kalman Filter\u001b[0m\u001b[0;34m\u001b[0m\u001b[0;34m\u001b[0m\u001b[0m\n\u001b[1;32m     22\u001b[0m \u001b[0;32mfor\u001b[0m \u001b[0mi\u001b[0m \u001b[0;32min\u001b[0m \u001b[0mnp\u001b[0m\u001b[0;34m.\u001b[0m\u001b[0marange\u001b[0m\u001b[0;34m(\u001b[0m\u001b[0;36m0\u001b[0m\u001b[0;34m,\u001b[0m \u001b[0mN_iter\u001b[0m\u001b[0;34m)\u001b[0m\u001b[0;34m:\u001b[0m\u001b[0;34m\u001b[0m\u001b[0m\n\u001b[0;32m---> 23\u001b[0;31m     \u001b[0;34m(\u001b[0m\u001b[0mX\u001b[0m\u001b[0;34m,\u001b[0m \u001b[0mP\u001b[0m\u001b[0;34m)\u001b[0m \u001b[0;34m=\u001b[0m \u001b[0mkf_predict\u001b[0m\u001b[0;34m(\u001b[0m\u001b[0mX\u001b[0m\u001b[0;34m,\u001b[0m \u001b[0mP\u001b[0m\u001b[0;34m,\u001b[0m \u001b[0mA\u001b[0m\u001b[0;34m,\u001b[0m \u001b[0mQ\u001b[0m\u001b[0;34m,\u001b[0m \u001b[0mB\u001b[0m\u001b[0;34m,\u001b[0m \u001b[0mU\u001b[0m\u001b[0;34m)\u001b[0m\u001b[0;34m\u001b[0m\u001b[0m\n\u001b[0m\u001b[1;32m     24\u001b[0m     \u001b[0;34m(\u001b[0m\u001b[0mX\u001b[0m\u001b[0;34m,\u001b[0m \u001b[0mP\u001b[0m\u001b[0;34m,\u001b[0m \u001b[0mK\u001b[0m\u001b[0;34m,\u001b[0m \u001b[0mIM\u001b[0m\u001b[0;34m,\u001b[0m \u001b[0mIS\u001b[0m\u001b[0;34m,\u001b[0m \u001b[0mLH\u001b[0m\u001b[0;34m)\u001b[0m \u001b[0;34m=\u001b[0m \u001b[0mkf_update\u001b[0m\u001b[0;34m(\u001b[0m\u001b[0mX\u001b[0m\u001b[0;34m,\u001b[0m \u001b[0mP\u001b[0m\u001b[0;34m,\u001b[0m \u001b[0mY\u001b[0m\u001b[0;34m,\u001b[0m \u001b[0mH\u001b[0m\u001b[0;34m,\u001b[0m \u001b[0mR\u001b[0m\u001b[0;34m)\u001b[0m\u001b[0;34m\u001b[0m\u001b[0m\n\u001b[1;32m     25\u001b[0m     \u001b[0mY\u001b[0m \u001b[0;34m=\u001b[0m \u001b[0mnp\u001b[0m\u001b[0;34m.\u001b[0m\u001b[0marray\u001b[0m\u001b[0;34m(\u001b[0m\u001b[0;34m[\u001b[0m\u001b[0;34m[\u001b[0m\u001b[0mX\u001b[0m\u001b[0;34m[\u001b[0m\u001b[0;36m0\u001b[0m\u001b[0;34m,\u001b[0m\u001b[0;36m0\u001b[0m\u001b[0;34m]\u001b[0m \u001b[0;34m+\u001b[0m \u001b[0mabs\u001b[0m\u001b[0;34m(\u001b[0m\u001b[0;36m0.1\u001b[0m \u001b[0;34m*\u001b[0m \u001b[0mnp\u001b[0m\u001b[0;34m.\u001b[0m\u001b[0mrandom\u001b[0m\u001b[0;34m.\u001b[0m\u001b[0mrandn\u001b[0m\u001b[0;34m(\u001b[0m\u001b[0;36m1\u001b[0m\u001b[0;34m)\u001b[0m\u001b[0;34m[\u001b[0m\u001b[0;36m0\u001b[0m\u001b[0;34m]\u001b[0m\u001b[0;34m)\u001b[0m\u001b[0;34m]\u001b[0m\u001b[0;34m,\u001b[0m\u001b[0;34m[\u001b[0m\u001b[0mX\u001b[0m\u001b[0;34m[\u001b[0m\u001b[0;36m1\u001b[0m\u001b[0;34m,\u001b[0m \u001b[0;36m0\u001b[0m\u001b[0;34m]\u001b[0m \u001b[0;34m+\u001b[0m    \u001b[0mabs\u001b[0m\u001b[0;34m(\u001b[0m\u001b[0;36m0.1\u001b[0m \u001b[0;34m*\u001b[0m \u001b[0mnp\u001b[0m\u001b[0;34m.\u001b[0m\u001b[0mrandom\u001b[0m\u001b[0;34m.\u001b[0m\u001b[0mrandn\u001b[0m\u001b[0;34m(\u001b[0m\u001b[0;36m1\u001b[0m\u001b[0;34m)\u001b[0m\u001b[0;34m[\u001b[0m\u001b[0;36m0\u001b[0m\u001b[0;34m]\u001b[0m\u001b[0;34m)\u001b[0m\u001b[0;34m]\u001b[0m\u001b[0;34m]\u001b[0m\u001b[0;34m)\u001b[0m\u001b[0;34m\u001b[0m\u001b[0m\n",
      "\u001b[0;32m<ipython-input-558-96eec2b67e67>\u001b[0m in \u001b[0;36mkf_predict\u001b[0;34m(X, P, A, Q, B, U)\u001b[0m\n\u001b[1;32m      1\u001b[0m \u001b[0;32mdef\u001b[0m \u001b[0mkf_predict\u001b[0m\u001b[0;34m(\u001b[0m\u001b[0mX\u001b[0m\u001b[0;34m,\u001b[0m \u001b[0mP\u001b[0m\u001b[0;34m,\u001b[0m \u001b[0mA\u001b[0m\u001b[0;34m,\u001b[0m \u001b[0mQ\u001b[0m\u001b[0;34m,\u001b[0m \u001b[0mB\u001b[0m\u001b[0;34m,\u001b[0m \u001b[0mU\u001b[0m\u001b[0;34m)\u001b[0m\u001b[0;34m:\u001b[0m\u001b[0;34m\u001b[0m\u001b[0m\n\u001b[0;32m----> 2\u001b[0;31m     \u001b[0mX\u001b[0m \u001b[0;34m=\u001b[0m \u001b[0mnp\u001b[0m\u001b[0;34m.\u001b[0m\u001b[0mdot\u001b[0m\u001b[0;34m(\u001b[0m\u001b[0mA\u001b[0m\u001b[0;34m,\u001b[0m \u001b[0mX\u001b[0m\u001b[0;34m)\u001b[0m \u001b[0;34m+\u001b[0m \u001b[0mnp\u001b[0m\u001b[0;34m.\u001b[0m\u001b[0mdot\u001b[0m\u001b[0;34m(\u001b[0m\u001b[0mB\u001b[0m\u001b[0;34m,\u001b[0m \u001b[0mU\u001b[0m\u001b[0;34m)\u001b[0m\u001b[0;34m\u001b[0m\u001b[0m\n\u001b[0m\u001b[1;32m      3\u001b[0m     \u001b[0mP\u001b[0m \u001b[0;34m=\u001b[0m \u001b[0mnp\u001b[0m\u001b[0;34m.\u001b[0m\u001b[0mdot\u001b[0m\u001b[0;34m(\u001b[0m\u001b[0mA\u001b[0m\u001b[0;34m,\u001b[0m \u001b[0mnp\u001b[0m\u001b[0;34m.\u001b[0m\u001b[0mdot\u001b[0m\u001b[0;34m(\u001b[0m\u001b[0mP\u001b[0m\u001b[0;34m,\u001b[0m \u001b[0mA\u001b[0m\u001b[0;34m.\u001b[0m\u001b[0mT\u001b[0m\u001b[0;34m)\u001b[0m\u001b[0;34m)\u001b[0m \u001b[0;34m+\u001b[0m \u001b[0mQ\u001b[0m\u001b[0;34m\u001b[0m\u001b[0m\n\u001b[1;32m      4\u001b[0m     \u001b[0;32mreturn\u001b[0m\u001b[0;34m(\u001b[0m\u001b[0mX\u001b[0m\u001b[0;34m,\u001b[0m\u001b[0mP\u001b[0m\u001b[0;34m)\u001b[0m\u001b[0;34m\u001b[0m\u001b[0m\n\u001b[1;32m      5\u001b[0m \u001b[0;34m\u001b[0m\u001b[0m\n",
      "\u001b[0;31mValueError\u001b[0m: shapes (41,9) and (41,1) not aligned: 9 (dim 1) != 41 (dim 0)"
     ]
    }
   ],
   "source": [
    "from numpy.linalg import *\n",
    "from numpy.linalg import inv \n",
    "#time step of observations\n",
    "dt = 1\n",
    "# Initialization of state matrices\n",
    "X = np.array(np.zeros((41,1)))\n",
    "X[0]=actual_deer[0]\n",
    "P = np.diag(np.zeros(41)*0.1)\n",
    "A = transition_f\n",
    "Q = np.eye(np.shape(X)[0])\n",
    "B = emission_f\n",
    "U = np.zeros((np.shape(X)[0],1)) \n",
    " \n",
    "    \n",
    "# Measurement matrices\n",
    "Y = np.array([[X[0,0] + abs(np.random.randn(1)[0])], [X[1,0] + abs(np.random.randn(1)[0])]])\n",
    "H = np.diag(np.zeros(41)*1)\n",
    "R = np.eye(np.shape(Y)[0])\n",
    "# Number of iterations in Kalman Filter\n",
    "N_iter = 50\n",
    "# Applying the Kalman Filter\n",
    "for i in np.arange(0, N_iter):\n",
    "    (X, P) = kf_predict(X, P, A, Q, B, U)\n",
    "    (X, P, K, IM, IS, LH) = kf_update(X, P, Y, H, R)\n",
    "    Y = np.array([[X[0,0] + abs(0.1 * np.random.randn(1)[0])],[X[1, 0] +\\\n",
    "    abs(0.1 * np.random.randn(1)[0])]])"
   ]
  },
  {
   "cell_type": "code",
   "execution_count": 585,
   "metadata": {
    "collapsed": false
   },
   "outputs": [],
   "source": [
    "# Initialization of state matrices\n",
    "X = np.array([[0.0], [0.0], [0.1], [0.1]])\n",
    "P = np.diag((0.01, 0.01, 0.01, 0.01))\n",
    "A = np.array([[1, 0, dt , 0], [0, 1, 0, dt], [0, 0, 1, 0], [0, 0, 0,1]])\n",
    "Q = np.eye(np.shape(X)[0])\n",
    "B = np.eye(np.shape(X)[0])\n",
    "U = np.zeros((np.shape(X)[0],1)) \n",
    " \n",
    "Y = np.array([[X[0,0] + abs(np.random.randn(1)[0])], [X[1,0] + abs(np.random.randn(1)[0])]])\n",
    "H = np.array([[1, 0, 0, 0], [0, 1, 0, 0]])\n",
    "R = np.eye(np.shape(Y)[0])\n",
    "\n",
    "# Number of iterations in Kalman Filter\n",
    "N_iter = 50\n",
    "# Applying the Kalman Filter\n",
    "for i in np.arange(0, N_iter):\n",
    "    (X, P) = kf_predict(X, P, A, Q, B, U)\n",
    "    (X, P, K, IM, IS, LH) = kf_update(X, P, Y, H, R)\n",
    "    Y = np.array([[X[0,0] + abs(0.1 * np.random.randn(1)[0])],[X[1, 0] +\\\n",
    "    abs(0.1 * np.random.randn(1)[0])]])"
   ]
  },
  {
   "cell_type": "code",
   "execution_count": 586,
   "metadata": {
    "collapsed": false
   },
   "outputs": [
    {
     "data": {
      "text/plain": [
       "array([[ 1.,  0.,  0.,  0.],\n",
       "       [ 0.,  1.,  0.,  0.],\n",
       "       [ 0.,  0.,  1.,  0.],\n",
       "       [ 0.,  0.,  0.,  1.]])"
      ]
     },
     "execution_count": 586,
     "metadata": {},
     "output_type": "execute_result"
    }
   ],
   "source": [
    "B"
   ]
  },
  {
   "cell_type": "code",
   "execution_count": 441,
   "metadata": {
    "collapsed": false
   },
   "outputs": [],
   "source": [
    "import pylab\n",
    "\n",
    "Q = 1e-5 # process variance\n",
    "\n",
    "n_iter=50\n",
    "\n",
    "# intial parameters\n",
    "sz=50\n",
    "\n",
    "xhat=numpy.zeros(sz)      # a posteri estimate of x\n",
    "P=numpy.zeros(sz)         # a posteri error estimate\n",
    "xhatminus=numpy.zeros(sz) # a priori estimate of x\n",
    "Pminus=numpy.zeros(sz)    # a priori error estimate\n",
    "K=numpy.zeros(sz)         # gain or blending factor\n",
    "\n",
    "R = 0.1**2 # estimate of measurement variance, change to see effect\n",
    "\n",
    "# intial guesses\n",
    "xhat[0] = 0.0\n",
    "P[0] = 1.0\n",
    "\n",
    "for k in range(1,sz):\n",
    "    # time update\n",
    "    xhatminus[k] = xhat[k-1]\n",
    "    Pminus[k] = P[k-1]+Q\n",
    "\n",
    "    # measurement update\n",
    "    K[k] = Pminus[k]/( Pminus[k]+R )\n",
    "    xhat[k] = xhatminus[k]+K[k]*(z[k]-xhatminus[k])\n",
    "    P[k] = (1-K[k])*Pminus[k]\n",
    "\n",
    "\n"
   ]
  }
 ],
 "metadata": {
  "kernelspec": {
   "display_name": "Python 2",
   "language": "python",
   "name": "python2"
  },
  "language_info": {
   "codemirror_mode": {
    "name": "ipython",
    "version": 2
   },
   "file_extension": ".py",
   "mimetype": "text/x-python",
   "name": "python",
   "nbconvert_exporter": "python",
   "pygments_lexer": "ipython2",
   "version": "2.7.11"
  }
 },
 "nbformat": 4,
 "nbformat_minor": 0
}

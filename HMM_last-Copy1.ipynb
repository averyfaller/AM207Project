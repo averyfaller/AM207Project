{
 "cells": [
  {
   "cell_type": "markdown",
   "metadata": {},
   "source": [
    "## Hidden Markov Model\n",
    "In this section of our project we are trying to estimate the number of animal of a certain specie basing ourselves on observations of this specie. We are specifically focusing on deer but if the method reveals to be efficient, we can generalize our results to any specie.\n",
    "\n",
    "It is important to note that by looking at counts from different years, we found that there are more data points as years go on. We have theorized that this may be due to scientists using the gbif website to record more as they may have found this site to be more useful, and also due to the fact that it has become much more easier in the past ten years to record data that it was in the nineties."
   ]
  },
  {
   "cell_type": "code",
   "execution_count": 263,
   "metadata": {
    "collapsed": true
   },
   "outputs": [],
   "source": [
    "%matplotlib inline\n",
    "\n",
    "# Imports\n",
    "import pandas as pd\n",
    "import numpy as np \n",
    "import matplotlib.pyplot as plt\n",
    "import matplotlib.image as mpimg\n",
    "from scipy.misc import *\n",
    "from scipy.sparse import *\n",
    "import itertools"
   ]
  },
  {
   "cell_type": "code",
   "execution_count": 264,
   "metadata": {
    "collapsed": false
   },
   "outputs": [],
   "source": [
    "# http://www.gbif.org/occurrence/search?TAXON_KEY=359&YEAR=2014#\n",
    "# This is data for all Mammals in 2014 across the whole planet\n",
    "mammals = pd.read_csv('/Users/macuser/Desktop/Jupyter/AM207/Data_Project/Mammalia_US_to2015.csv', sep='\\t', usecols=['year','species'], nrows=554000)\n"
   ]
  },
  {
   "cell_type": "code",
   "execution_count": 265,
   "metadata": {
    "collapsed": false
   },
   "outputs": [
    {
     "data": {
      "text/html": [
       "<div>\n",
       "<table border=\"1\" class=\"dataframe\">\n",
       "  <thead>\n",
       "    <tr style=\"text-align: right;\">\n",
       "      <th></th>\n",
       "      <th>species</th>\n",
       "      <th>year</th>\n",
       "    </tr>\n",
       "  </thead>\n",
       "  <tbody>\n",
       "    <tr>\n",
       "      <th>0</th>\n",
       "      <td>Procyon lotor</td>\n",
       "      <td>2014</td>\n",
       "    </tr>\n",
       "    <tr>\n",
       "      <th>1</th>\n",
       "      <td>Zalophus californianus</td>\n",
       "      <td>2014</td>\n",
       "    </tr>\n",
       "    <tr>\n",
       "      <th>2</th>\n",
       "      <td>Vulpes vulpes</td>\n",
       "      <td>2014</td>\n",
       "    </tr>\n",
       "    <tr>\n",
       "      <th>3</th>\n",
       "      <td>Odocoileus hemionus</td>\n",
       "      <td>2014</td>\n",
       "    </tr>\n",
       "    <tr>\n",
       "      <th>4</th>\n",
       "      <td>Lepus californicus</td>\n",
       "      <td>2014</td>\n",
       "    </tr>\n",
       "  </tbody>\n",
       "</table>\n",
       "</div>"
      ],
      "text/plain": [
       "                  species  year\n",
       "0           Procyon lotor  2014\n",
       "1  Zalophus californianus  2014\n",
       "2           Vulpes vulpes  2014\n",
       "3     Odocoileus hemionus  2014\n",
       "4      Lepus californicus  2014"
      ]
     },
     "execution_count": 265,
     "metadata": {},
     "output_type": "execute_result"
    }
   ],
   "source": [
    "mammals.head()"
   ]
  },
  {
   "cell_type": "code",
   "execution_count": 266,
   "metadata": {
    "collapsed": false
   },
   "outputs": [
    {
     "data": {
      "text/plain": [
       "array(['gbifid', 'datasetkey', 'occurrenceid', 'kingdom', 'phylum',\n",
       "       'class', 'order', 'family', 'genus', 'species',\n",
       "       'infraspecificepithet', 'taxonrank', 'scientificname',\n",
       "       'countrycode', 'locality', 'publishingorgkey', 'decimallatitude',\n",
       "       'decimallongitude', 'coordinateuncertaintyinmeters',\n",
       "       'coordinateprecision', 'elevation', 'elevationaccuracy', 'depth',\n",
       "       'depthaccuracy', 'eventdate', 'day', 'month', 'year', 'taxonkey',\n",
       "       'specieskey', 'basisofrecord', 'institutioncode', 'collectioncode',\n",
       "       'catalognumber', 'recordnumber', 'identifiedby', 'rights',\n",
       "       'rightsholder', 'recordedby', 'typestatus', 'establishmentmeans',\n",
       "       'lastinterpreted', 'mediatype', 'issue'], dtype=object)"
      ]
     },
     "execution_count": 266,
     "metadata": {},
     "output_type": "execute_result"
    }
   ],
   "source": [
    "deer=pd.read_csv('/Users/macuser/Desktop/Jupyter/AM207/Data_Project/Deer_2015.csv', sep='\\t')\n",
    "deer.columns.values"
   ]
  },
  {
   "cell_type": "markdown",
   "metadata": {},
   "source": [
    "##### Actual estimated deer number US: http://www.deerfriendly.com/decline-of-deer-populations"
   ]
  },
  {
   "cell_type": "code",
   "execution_count": 267,
   "metadata": {
    "collapsed": true
   },
   "outputs": [],
   "source": [
    "ACTUAL_TOT=pd.read_csv('/Users/macuser/Desktop/Jupyter/AM207/Data_Project/deer_pop.csv')"
   ]
  },
  {
   "cell_type": "markdown",
   "metadata": {},
   "source": [
    "## Training data Setup"
   ]
  },
  {
   "cell_type": "code",
   "execution_count": 268,
   "metadata": {
    "collapsed": false
   },
   "outputs": [],
   "source": [
    "# Create a subset data frame that just contains the columns that we need\n",
    "occurences_mammals = mammals['year'].value_counts()\n",
    "occurences = deer[deer.year>=1991]\n",
    "occurences_deer=occurences['year'].value_counts()"
   ]
  },
  {
   "cell_type": "code",
   "execution_count": 269,
   "metadata": {
    "collapsed": false
   },
   "outputs": [
    {
     "name": "stdout",
     "output_type": "stream",
     "text": [
      "1994    41074\n",
      "1996    36055\n",
      "1992    34914\n",
      "1995    32592\n",
      "1993    31040\n",
      "1998    28435\n",
      "2002    28118\n",
      "1991    27979\n",
      "1999    25883\n",
      "1997    24650\n",
      "2001    24205\n",
      "2003    23305\n",
      "2000    23029\n",
      "2004    22297\n",
      "2005    18330\n",
      "2006    16221\n",
      "2014    16203\n",
      "2007    15170\n",
      "2009    13662\n",
      "2013    12960\n",
      "2015    12676\n",
      "2011    12589\n",
      "2010    11101\n",
      "2008    11089\n",
      "2012    10423\n",
      "dtype: int64\n"
     ]
    }
   ],
   "source": [
    "print occurences_mammals"
   ]
  },
  {
   "cell_type": "code",
   "execution_count": 270,
   "metadata": {
    "collapsed": false
   },
   "outputs": [
    {
     "data": {
      "text/plain": [
       "array([ 0.70767361,  0.48118233,  0.22551546,  0.28972099,  0.69648994,\n",
       "        0.2884482 ,  0.2474645 ,  0.76314401,  1.0199745 ,  0.30746579,\n",
       "        0.35942987,  0.34853119,  1.44604162,  0.5426739 ,  0.29459902,\n",
       "        1.02952962,  1.1404087 ,  0.75750744,  1.83721271,  2.1349428 ,\n",
       "        2.29565494,  5.20963254,  6.06481481,  6.07912115])"
      ]
     },
     "execution_count": 270,
     "metadata": {},
     "output_type": "execute_result"
    }
   ],
   "source": [
    "deer_obs=[198.,168.,70.,119.,227.,104.,61.,217.,264.,71.,87.,98.,337.,121.,54.,167.,173.,84.,251.,237.,289.,543.,786.,\\\n",
    "          985.]\n",
    "mammal_obs=[27979,34914,31040,41074,32592,36055,24650,28435,25883,23092,24205,28118,23305,22297,18330,16221,15170,\\\n",
    "            11089,13662,11101,12589,10423,12960,16203]\n",
    "\n",
    "# What percentages are the deer observations out of all mammals\n",
    "percentage=np.divide(deer_obs,mammal_obs)*100\n",
    "percentage\n"
   ]
  },
  {
   "cell_type": "markdown",
   "metadata": {},
   "source": [
    "As the number of deer observations increases in the past few years (since 2005, although the actual number of deer is decreasing) we normalize the data counts using the average number of mammals observation over the years.\n",
    "Indeed, we assume the number of observed mammal should be the same over the years and use that ratio (average observation of mammals divided by observations on that year) as a factor to normalize the observations of deer."
   ]
  },
  {
   "cell_type": "code",
   "execution_count": 271,
   "metadata": {
    "collapsed": false
   },
   "outputs": [
    {
     "data": {
      "text/plain": [
       "array([ 0.8062401 ,  0.64609588,  0.72673298,  0.5491988 ,  0.69212665,\n",
       "        0.62564947,  0.91512339,  0.79331077,  0.87152925,  0.97686609,\n",
       "        0.9319476 ,  0.80225449,  0.96793785,  1.01169627,  1.23064875,\n",
       "        1.39065358,  1.48700011,  2.03424941,  1.65113392,  2.03205042,\n",
       "        1.79186525,  2.16423215,  1.74057034,  1.39219846])"
      ]
     },
     "execution_count": 271,
     "metadata": {},
     "output_type": "execute_result"
    }
   ],
   "source": [
    "# Normalize by the relative number of observations\n",
    "average_norm=np.divide(np.mean(mammal_obs),mammal_obs)\n",
    "average_norm"
   ]
  },
  {
   "cell_type": "code",
   "execution_count": 272,
   "metadata": {
    "collapsed": false
   },
   "outputs": [
    {
     "data": {
      "text/plain": [
       "array([  159.63553915,   108.54410838,    50.87130853,    65.35465765,\n",
       "         157.11274878,    65.06754495,    55.82252705,   172.14843649,\n",
       "         230.08372291,    69.35749213,    81.07944123,    78.62093973,\n",
       "         326.1950565 ,   122.41524831,    66.45503273,   232.2391473 ,\n",
       "         257.25101901,   170.87695013,   414.43461487,   481.59594856,\n",
       "         517.84905804,  1175.17805574,  1368.0882909 ,  1371.31548427])"
      ]
     },
     "execution_count": 272,
     "metadata": {},
     "output_type": "execute_result"
    }
   ],
   "source": [
    "# Normalize the data using the observation of mammals \n",
    "norm_obs=np.multiply(average_norm,deer_obs)\n",
    "norm_obs"
   ]
  },
  {
   "cell_type": "code",
   "execution_count": 273,
   "metadata": {
    "collapsed": false
   },
   "outputs": [
    {
     "data": {
      "text/plain": [
       "array([ 1991.,  1992.,  1993.,  1994.,  1995.,  1996.,  1997.,  1998.,\n",
       "        1999.,  2000.,  2001.,  2002.,  2003.,  2004.,  2005.,  2006.,\n",
       "        2007.,  2008.,  2009.,  2010.,  2011.,  2012.,  2013.,  2014.])"
      ]
     },
     "execution_count": 273,
     "metadata": {},
     "output_type": "execute_result"
    }
   ],
   "source": [
    "years=np.linspace(1991,2014,24)\n",
    "years"
   ]
  },
  {
   "cell_type": "code",
   "execution_count": 274,
   "metadata": {
    "collapsed": true
   },
   "outputs": [],
   "source": [
    "## Actual estimated deer number US: http://www.deerfriendly.com/decline-of-deer-populations"
   ]
  },
  {
   "cell_type": "code",
   "execution_count": 275,
   "metadata": {
    "collapsed": false
   },
   "outputs": [],
   "source": [
    "# In Millions\n",
    "actual_deer=np.array(ACTUAL_TOT[\"Deer Population (In Millions)\"][11:35])\n",
    "act_deer=np.multiply(actual_deer,10**6)"
   ]
  },
  {
   "cell_type": "markdown",
   "metadata": {},
   "source": [
    "We caculate the range of ratios of observed to use in the emission probabilities."
   ]
  },
  {
   "cell_type": "code",
   "execution_count": 276,
   "metadata": {
    "collapsed": false
   },
   "outputs": [
    {
     "name": "stdout",
     "output_type": "stream",
     "text": [
      "[  4.43432053   3.01511412   1.4130919    1.80537728   4.30445887\n",
      "   1.76813981   1.50465032   4.60289937   6.10301652   1.82040662\n",
      "   2.14212526   2.09655839   8.79231958   3.32650131   1.82568771\n",
      "   6.43321738   7.1958327    4.82703249  11.840989    13.91895805\n",
      "  15.14178532  34.76858153  40.83845644  41.30468326]\n",
      "[  4.   3.   1.   2.   4.   2.   2.   5.   6.   2.   2.   2.   9.   3.   2.\n",
      "   6.   7.   5.  12.  14.  15.  35.  41.  41.]\n"
     ]
    },
    {
     "data": {
      "text/plain": [
       "array([  1.,   2.,   3.,   4.,   5.,   6.,   7.,   9.,  12.,  14.,  15.,\n",
       "        35.,  41.])"
      ]
     },
     "execution_count": 276,
     "metadata": {},
     "output_type": "execute_result"
    }
   ],
   "source": [
    "ratio=np.divide(norm_obs,actual_deer)  \n",
    "# This has to be divided by 10^6 but for simplicity purposes, I will keep it this way\n",
    "print ratio\n",
    "# Divide ratios in bins of 3\n",
    "discretized_r=np.linspace(1,55,55)\n",
    "\n",
    "discrete_ratio=np.zeros(len(actual_deer))\n",
    "for i in range(len(ratio)):\n",
    "    for j in range(len(discretized_r)-1):\n",
    "        if ratio[i]>discretized_r[j] and ratio[i]<discretized_r[j]+0.5:\n",
    "            discrete_ratio[i]=discretized_r[j]\n",
    "        elif ratio[i]<discretized_r[j+1] and ratio[i]>=discretized_r[j]+0.5:\n",
    "            discrete_ratio[i]=discretized_r[j+1]\n",
    "        elif ratio[i]==discretized_r[j]:\n",
    "            discrete_ratio[i]=discretized_r[j]\n",
    "print discrete_ratio\n",
    "obs_len=len(np.unique(discrete_ratio))\n",
    "obs_states=(np.unique(discrete_ratio))\n",
    "obs_states"
   ]
  },
  {
   "cell_type": "markdown",
   "metadata": {},
   "source": [
    "We calculate the osberved ratios by dividing the normalized observations by the average number of deer between 1991 and 2014. We therefore become able to have a vector of observed state and an emission matrix in the same format."
   ]
  },
  {
   "cell_type": "code",
   "execution_count": 277,
   "metadata": {
    "collapsed": false
   },
   "outputs": [
    {
     "name": "stdout",
     "output_type": "stream",
     "text": [
      "[  4.45909327   3.03195833   1.42098627   1.8255491    4.38862427\n",
      "   1.81752919   1.55928846   4.80861554   6.42691963   1.93736012\n",
      "   2.26478886   2.19611563   9.11159376   3.41942034   1.85628583\n",
      "   6.48712702   7.18578265   4.77309917  11.57638589  13.4524008\n",
      "  14.46505749  32.82620267  38.21475673  38.3049018 ]\n"
     ]
    },
    {
     "data": {
      "text/plain": [
       "array([  4.,   3.,   1.,   2.,   4.,   2.,   2.,   5.,   6.,   2.,   2.,\n",
       "         2.,   9.,   3.,   2.,   6.,   7.,   5.,  12.,  14.,  14.,  35.,\n",
       "        41.,  41.])"
      ]
     },
     "execution_count": 277,
     "metadata": {},
     "output_type": "execute_result"
    }
   ],
   "source": [
    "ratio=np.divide(norm_obs,np.average(ACTUAL_TOT[\"Deer Population (In Millions)\"]))  \n",
    "# This has to be divided by 10^6 but for simplicity purposes, I will keep it this way\n",
    "print ratio\n",
    "\n",
    "train_ratio=np.zeros(len(actual_deer))\n",
    "for i in range(len(ratio)):\n",
    "    for j in range(len(obs_states)-1):\n",
    "        if ratio[i]>obs_states[j] and ratio[i]<obs_states[j]+(obs_states[j+1]-obs_states[j])/2:\n",
    "            train_ratio[i]=obs_states[j]\n",
    "        elif ratio[i]<obs_states[j+1] and ratio[i]>=obs_states[j]+(obs_states[j+1]-obs_states[j])/2:\n",
    "            train_ratio[i]=obs_states[j+1]\n",
    "        elif ratio[i]==obs_states[j]:\n",
    "            train_ratio[i]=obs_states[j]\n",
    "train_ratio"
   ]
  },
  {
   "cell_type": "code",
   "execution_count": 278,
   "metadata": {
    "collapsed": false
   },
   "outputs": [],
   "source": [
    "# For discretization\n",
    "discrete_states=np.linspace(30,40,41)\n",
    "\n",
    "discrete=np.zeros(len(actual_deer))\n",
    "for i in range(len(actual_deer)):\n",
    "    for j in range(len(discrete_states)-1):\n",
    "        if actual_deer[i]>discrete_states[j] and actual_deer[i]<discrete_states[j+1]:\n",
    "            discrete[i]=discrete_states[j+1]\n",
    "        elif actual_deer[i]==discrete_states[j]:\n",
    "            discrete[i]=discrete_states[j]\n",
    "    "
   ]
  },
  {
   "cell_type": "code",
   "execution_count": 279,
   "metadata": {
    "collapsed": true
   },
   "outputs": [],
   "source": [
    "## Deer number actual California (up to 2013 only) http://www.deerfriendly.com/deer/california"
   ]
  },
  {
   "cell_type": "code",
   "execution_count": 280,
   "metadata": {
    "collapsed": true
   },
   "outputs": [],
   "source": [
    "cali_estimated=[850000,800000,700000,670000,690000,580000,580000,580000,550000,500000,500000,680000,550000,500000,\\\n",
    "                     600000,405000,420000,500000,500000,490000,460000,480000,480000]"
   ]
  },
  {
   "cell_type": "code",
   "execution_count": 281,
   "metadata": {
    "collapsed": false
   },
   "outputs": [
    {
     "data": {
      "text/html": [
       "<div>\n",
       "<table border=\"1\" class=\"dataframe\">\n",
       "  <thead>\n",
       "    <tr style=\"text-align: right;\">\n",
       "      <th></th>\n",
       "      <th>Actual_deer (Mi)</th>\n",
       "      <th>Comparison_average</th>\n",
       "      <th>Deer_obs</th>\n",
       "      <th>Discrete Ratio</th>\n",
       "      <th>Discretized_actual</th>\n",
       "      <th>Mammals_obs</th>\n",
       "      <th>Normalized_obs</th>\n",
       "      <th>Percentage_deer</th>\n",
       "      <th>Ratio</th>\n",
       "      <th>years</th>\n",
       "    </tr>\n",
       "  </thead>\n",
       "  <tbody>\n",
       "    <tr>\n",
       "      <th>0</th>\n",
       "      <td>36.00</td>\n",
       "      <td>0.806240</td>\n",
       "      <td>198</td>\n",
       "      <td>4</td>\n",
       "      <td>36.00</td>\n",
       "      <td>27979</td>\n",
       "      <td>159.635539</td>\n",
       "      <td>0.707674</td>\n",
       "      <td>4.459093</td>\n",
       "      <td>1991</td>\n",
       "    </tr>\n",
       "    <tr>\n",
       "      <th>1</th>\n",
       "      <td>36.00</td>\n",
       "      <td>0.646096</td>\n",
       "      <td>168</td>\n",
       "      <td>3</td>\n",
       "      <td>36.00</td>\n",
       "      <td>34914</td>\n",
       "      <td>108.544108</td>\n",
       "      <td>0.481182</td>\n",
       "      <td>3.031958</td>\n",
       "      <td>1992</td>\n",
       "    </tr>\n",
       "    <tr>\n",
       "      <th>2</th>\n",
       "      <td>36.00</td>\n",
       "      <td>0.726733</td>\n",
       "      <td>70</td>\n",
       "      <td>1</td>\n",
       "      <td>36.00</td>\n",
       "      <td>31040</td>\n",
       "      <td>50.871309</td>\n",
       "      <td>0.225515</td>\n",
       "      <td>1.420986</td>\n",
       "      <td>1993</td>\n",
       "    </tr>\n",
       "    <tr>\n",
       "      <th>3</th>\n",
       "      <td>36.20</td>\n",
       "      <td>0.549199</td>\n",
       "      <td>119</td>\n",
       "      <td>2</td>\n",
       "      <td>36.25</td>\n",
       "      <td>41074</td>\n",
       "      <td>65.354658</td>\n",
       "      <td>0.289721</td>\n",
       "      <td>1.825549</td>\n",
       "      <td>1994</td>\n",
       "    </tr>\n",
       "    <tr>\n",
       "      <th>4</th>\n",
       "      <td>36.50</td>\n",
       "      <td>0.692127</td>\n",
       "      <td>227</td>\n",
       "      <td>4</td>\n",
       "      <td>36.50</td>\n",
       "      <td>32592</td>\n",
       "      <td>157.112749</td>\n",
       "      <td>0.696490</td>\n",
       "      <td>4.388624</td>\n",
       "      <td>1995</td>\n",
       "    </tr>\n",
       "    <tr>\n",
       "      <th>5</th>\n",
       "      <td>36.80</td>\n",
       "      <td>0.625649</td>\n",
       "      <td>104</td>\n",
       "      <td>2</td>\n",
       "      <td>37.00</td>\n",
       "      <td>36055</td>\n",
       "      <td>65.067545</td>\n",
       "      <td>0.288448</td>\n",
       "      <td>1.817529</td>\n",
       "      <td>1996</td>\n",
       "    </tr>\n",
       "    <tr>\n",
       "      <th>6</th>\n",
       "      <td>37.10</td>\n",
       "      <td>0.915123</td>\n",
       "      <td>61</td>\n",
       "      <td>2</td>\n",
       "      <td>37.25</td>\n",
       "      <td>24650</td>\n",
       "      <td>55.822527</td>\n",
       "      <td>0.247465</td>\n",
       "      <td>1.559288</td>\n",
       "      <td>1997</td>\n",
       "    </tr>\n",
       "    <tr>\n",
       "      <th>7</th>\n",
       "      <td>37.40</td>\n",
       "      <td>0.793311</td>\n",
       "      <td>217</td>\n",
       "      <td>5</td>\n",
       "      <td>37.50</td>\n",
       "      <td>28435</td>\n",
       "      <td>172.148436</td>\n",
       "      <td>0.763144</td>\n",
       "      <td>4.808616</td>\n",
       "      <td>1998</td>\n",
       "    </tr>\n",
       "    <tr>\n",
       "      <th>8</th>\n",
       "      <td>37.70</td>\n",
       "      <td>0.871529</td>\n",
       "      <td>264</td>\n",
       "      <td>6</td>\n",
       "      <td>37.75</td>\n",
       "      <td>25883</td>\n",
       "      <td>230.083723</td>\n",
       "      <td>1.019975</td>\n",
       "      <td>6.426920</td>\n",
       "      <td>1999</td>\n",
       "    </tr>\n",
       "    <tr>\n",
       "      <th>9</th>\n",
       "      <td>38.10</td>\n",
       "      <td>0.976866</td>\n",
       "      <td>71</td>\n",
       "      <td>2</td>\n",
       "      <td>38.25</td>\n",
       "      <td>23092</td>\n",
       "      <td>69.357492</td>\n",
       "      <td>0.307466</td>\n",
       "      <td>1.937360</td>\n",
       "      <td>2000</td>\n",
       "    </tr>\n",
       "    <tr>\n",
       "      <th>10</th>\n",
       "      <td>37.85</td>\n",
       "      <td>0.931948</td>\n",
       "      <td>87</td>\n",
       "      <td>2</td>\n",
       "      <td>38.00</td>\n",
       "      <td>24205</td>\n",
       "      <td>81.079441</td>\n",
       "      <td>0.359430</td>\n",
       "      <td>2.264789</td>\n",
       "      <td>2001</td>\n",
       "    </tr>\n",
       "    <tr>\n",
       "      <th>11</th>\n",
       "      <td>37.50</td>\n",
       "      <td>0.802254</td>\n",
       "      <td>98</td>\n",
       "      <td>2</td>\n",
       "      <td>37.50</td>\n",
       "      <td>28118</td>\n",
       "      <td>78.620940</td>\n",
       "      <td>0.348531</td>\n",
       "      <td>2.196116</td>\n",
       "      <td>2002</td>\n",
       "    </tr>\n",
       "    <tr>\n",
       "      <th>12</th>\n",
       "      <td>37.10</td>\n",
       "      <td>0.967938</td>\n",
       "      <td>337</td>\n",
       "      <td>9</td>\n",
       "      <td>37.25</td>\n",
       "      <td>23305</td>\n",
       "      <td>326.195056</td>\n",
       "      <td>1.446042</td>\n",
       "      <td>9.111594</td>\n",
       "      <td>2003</td>\n",
       "    </tr>\n",
       "    <tr>\n",
       "      <th>13</th>\n",
       "      <td>36.80</td>\n",
       "      <td>1.011696</td>\n",
       "      <td>121</td>\n",
       "      <td>3</td>\n",
       "      <td>37.00</td>\n",
       "      <td>22297</td>\n",
       "      <td>122.415248</td>\n",
       "      <td>0.542674</td>\n",
       "      <td>3.419420</td>\n",
       "      <td>2004</td>\n",
       "    </tr>\n",
       "    <tr>\n",
       "      <th>14</th>\n",
       "      <td>36.40</td>\n",
       "      <td>1.230649</td>\n",
       "      <td>54</td>\n",
       "      <td>2</td>\n",
       "      <td>36.50</td>\n",
       "      <td>18330</td>\n",
       "      <td>66.455033</td>\n",
       "      <td>0.294599</td>\n",
       "      <td>1.856286</td>\n",
       "      <td>2005</td>\n",
       "    </tr>\n",
       "    <tr>\n",
       "      <th>15</th>\n",
       "      <td>36.10</td>\n",
       "      <td>1.390654</td>\n",
       "      <td>167</td>\n",
       "      <td>6</td>\n",
       "      <td>36.25</td>\n",
       "      <td>16221</td>\n",
       "      <td>232.239147</td>\n",
       "      <td>1.029530</td>\n",
       "      <td>6.487127</td>\n",
       "      <td>2006</td>\n",
       "    </tr>\n",
       "    <tr>\n",
       "      <th>16</th>\n",
       "      <td>35.75</td>\n",
       "      <td>1.487000</td>\n",
       "      <td>173</td>\n",
       "      <td>7</td>\n",
       "      <td>35.75</td>\n",
       "      <td>15170</td>\n",
       "      <td>257.251019</td>\n",
       "      <td>1.140409</td>\n",
       "      <td>7.185783</td>\n",
       "      <td>2007</td>\n",
       "    </tr>\n",
       "    <tr>\n",
       "      <th>17</th>\n",
       "      <td>35.40</td>\n",
       "      <td>2.034249</td>\n",
       "      <td>84</td>\n",
       "      <td>5</td>\n",
       "      <td>35.50</td>\n",
       "      <td>11089</td>\n",
       "      <td>170.876950</td>\n",
       "      <td>0.757507</td>\n",
       "      <td>4.773099</td>\n",
       "      <td>2008</td>\n",
       "    </tr>\n",
       "    <tr>\n",
       "      <th>18</th>\n",
       "      <td>35.00</td>\n",
       "      <td>1.651134</td>\n",
       "      <td>251</td>\n",
       "      <td>12</td>\n",
       "      <td>35.00</td>\n",
       "      <td>13662</td>\n",
       "      <td>414.434615</td>\n",
       "      <td>1.837213</td>\n",
       "      <td>11.576386</td>\n",
       "      <td>2009</td>\n",
       "    </tr>\n",
       "    <tr>\n",
       "      <th>19</th>\n",
       "      <td>34.60</td>\n",
       "      <td>2.032050</td>\n",
       "      <td>237</td>\n",
       "      <td>14</td>\n",
       "      <td>34.75</td>\n",
       "      <td>11101</td>\n",
       "      <td>481.595949</td>\n",
       "      <td>2.134943</td>\n",
       "      <td>13.452401</td>\n",
       "      <td>2010</td>\n",
       "    </tr>\n",
       "    <tr>\n",
       "      <th>20</th>\n",
       "      <td>34.20</td>\n",
       "      <td>1.791865</td>\n",
       "      <td>289</td>\n",
       "      <td>15</td>\n",
       "      <td>34.25</td>\n",
       "      <td>12589</td>\n",
       "      <td>517.849058</td>\n",
       "      <td>2.295655</td>\n",
       "      <td>14.465057</td>\n",
       "      <td>2011</td>\n",
       "    </tr>\n",
       "    <tr>\n",
       "      <th>21</th>\n",
       "      <td>33.80</td>\n",
       "      <td>2.164232</td>\n",
       "      <td>543</td>\n",
       "      <td>35</td>\n",
       "      <td>34.00</td>\n",
       "      <td>10423</td>\n",
       "      <td>1175.178056</td>\n",
       "      <td>5.209633</td>\n",
       "      <td>32.826203</td>\n",
       "      <td>2012</td>\n",
       "    </tr>\n",
       "    <tr>\n",
       "      <th>22</th>\n",
       "      <td>33.50</td>\n",
       "      <td>1.740570</td>\n",
       "      <td>786</td>\n",
       "      <td>41</td>\n",
       "      <td>33.50</td>\n",
       "      <td>12960</td>\n",
       "      <td>1368.088291</td>\n",
       "      <td>6.064815</td>\n",
       "      <td>38.214757</td>\n",
       "      <td>2013</td>\n",
       "    </tr>\n",
       "    <tr>\n",
       "      <th>23</th>\n",
       "      <td>33.20</td>\n",
       "      <td>1.392198</td>\n",
       "      <td>985</td>\n",
       "      <td>41</td>\n",
       "      <td>33.25</td>\n",
       "      <td>16203</td>\n",
       "      <td>1371.315484</td>\n",
       "      <td>6.079121</td>\n",
       "      <td>38.304902</td>\n",
       "      <td>2014</td>\n",
       "    </tr>\n",
       "  </tbody>\n",
       "</table>\n",
       "</div>"
      ],
      "text/plain": [
       "    Actual_deer (Mi)  Comparison_average  Deer_obs  Discrete Ratio  \\\n",
       "0              36.00            0.806240       198               4   \n",
       "1              36.00            0.646096       168               3   \n",
       "2              36.00            0.726733        70               1   \n",
       "3              36.20            0.549199       119               2   \n",
       "4              36.50            0.692127       227               4   \n",
       "5              36.80            0.625649       104               2   \n",
       "6              37.10            0.915123        61               2   \n",
       "7              37.40            0.793311       217               5   \n",
       "8              37.70            0.871529       264               6   \n",
       "9              38.10            0.976866        71               2   \n",
       "10             37.85            0.931948        87               2   \n",
       "11             37.50            0.802254        98               2   \n",
       "12             37.10            0.967938       337               9   \n",
       "13             36.80            1.011696       121               3   \n",
       "14             36.40            1.230649        54               2   \n",
       "15             36.10            1.390654       167               6   \n",
       "16             35.75            1.487000       173               7   \n",
       "17             35.40            2.034249        84               5   \n",
       "18             35.00            1.651134       251              12   \n",
       "19             34.60            2.032050       237              14   \n",
       "20             34.20            1.791865       289              15   \n",
       "21             33.80            2.164232       543              35   \n",
       "22             33.50            1.740570       786              41   \n",
       "23             33.20            1.392198       985              41   \n",
       "\n",
       "    Discretized_actual  Mammals_obs  Normalized_obs  Percentage_deer  \\\n",
       "0                36.00        27979      159.635539         0.707674   \n",
       "1                36.00        34914      108.544108         0.481182   \n",
       "2                36.00        31040       50.871309         0.225515   \n",
       "3                36.25        41074       65.354658         0.289721   \n",
       "4                36.50        32592      157.112749         0.696490   \n",
       "5                37.00        36055       65.067545         0.288448   \n",
       "6                37.25        24650       55.822527         0.247465   \n",
       "7                37.50        28435      172.148436         0.763144   \n",
       "8                37.75        25883      230.083723         1.019975   \n",
       "9                38.25        23092       69.357492         0.307466   \n",
       "10               38.00        24205       81.079441         0.359430   \n",
       "11               37.50        28118       78.620940         0.348531   \n",
       "12               37.25        23305      326.195056         1.446042   \n",
       "13               37.00        22297      122.415248         0.542674   \n",
       "14               36.50        18330       66.455033         0.294599   \n",
       "15               36.25        16221      232.239147         1.029530   \n",
       "16               35.75        15170      257.251019         1.140409   \n",
       "17               35.50        11089      170.876950         0.757507   \n",
       "18               35.00        13662      414.434615         1.837213   \n",
       "19               34.75        11101      481.595949         2.134943   \n",
       "20               34.25        12589      517.849058         2.295655   \n",
       "21               34.00        10423     1175.178056         5.209633   \n",
       "22               33.50        12960     1368.088291         6.064815   \n",
       "23               33.25        16203     1371.315484         6.079121   \n",
       "\n",
       "        Ratio  years  \n",
       "0    4.459093   1991  \n",
       "1    3.031958   1992  \n",
       "2    1.420986   1993  \n",
       "3    1.825549   1994  \n",
       "4    4.388624   1995  \n",
       "5    1.817529   1996  \n",
       "6    1.559288   1997  \n",
       "7    4.808616   1998  \n",
       "8    6.426920   1999  \n",
       "9    1.937360   2000  \n",
       "10   2.264789   2001  \n",
       "11   2.196116   2002  \n",
       "12   9.111594   2003  \n",
       "13   3.419420   2004  \n",
       "14   1.856286   2005  \n",
       "15   6.487127   2006  \n",
       "16   7.185783   2007  \n",
       "17   4.773099   2008  \n",
       "18  11.576386   2009  \n",
       "19  13.452401   2010  \n",
       "20  14.465057   2011  \n",
       "21  32.826203   2012  \n",
       "22  38.214757   2013  \n",
       "23  38.304902   2014  "
      ]
     },
     "execution_count": 281,
     "metadata": {},
     "output_type": "execute_result"
    }
   ],
   "source": [
    "# Create a Dataframe with all the data\n",
    "data_dict={\"years\": years, \"Mammals_obs\":mammal_obs, \"Deer_obs\":deer_obs, \"Percentage_deer\":percentage, \\\n",
    "           \"Comparison_average\":average_norm, \"Actual_deer (Mi)\": actual_deer, \"Discretized_actual\": discrete, \\\n",
    "          \"Normalized_obs\":norm_obs, \"Ratio\":ratio, \"Discrete Ratio\": discrete_ratio}\n",
    "Data_summary=pd.DataFrame(data_dict)\n",
    "\n",
    "Data_summary"
   ]
  },
  {
   "cell_type": "markdown",
   "metadata": {},
   "source": [
    "### Test Data Setup"
   ]
  },
  {
   "cell_type": "code",
   "execution_count": 282,
   "metadata": {
    "collapsed": true
   },
   "outputs": [],
   "source": [
    "actual_deer_test=np.array(ACTUAL_TOT[\"Deer Population (In Millions)\"][0:12])\n",
    "years_test=np.linspace(1980,1991,12)"
   ]
  },
  {
   "cell_type": "code",
   "execution_count": 283,
   "metadata": {
    "collapsed": false
   },
   "outputs": [
    {
     "data": {
      "text/plain": [
       "1984    838\n",
       "1982    609\n",
       "1981    583\n",
       "1986    497\n",
       "1985    452\n",
       "1980    430\n",
       "1988    410\n",
       "1990    372\n",
       "1983    297\n",
       "1989    260\n",
       "1991    198\n",
       "1987    183\n",
       "dtype: int64"
      ]
     },
     "execution_count": 283,
     "metadata": {},
     "output_type": "execute_result"
    }
   ],
   "source": [
    "test=deer[deer.year<=1991]\n",
    "test=test[test.year>=1980]\n",
    "occurences_test=test['year'].value_counts()\n",
    "occurences_test"
   ]
  },
  {
   "cell_type": "code",
   "execution_count": 284,
   "metadata": {
    "collapsed": true
   },
   "outputs": [],
   "source": [
    "obs_test=[430,583,609,297,838,452,497,183,410,260,371,198]"
   ]
  },
  {
   "cell_type": "code",
   "execution_count": 285,
   "metadata": {
    "collapsed": false
   },
   "outputs": [],
   "source": [
    "mammals_test=pd.read_csv('/Users/macuser/Desktop/Jupyter/AM207/Data_Project/test_Mammalia.csv', sep='\\t', usecols=['year','species'])"
   ]
  },
  {
   "cell_type": "code",
   "execution_count": 286,
   "metadata": {
    "collapsed": false
   },
   "outputs": [
    {
     "data": {
      "text/plain": [
       "1984    37560\n",
       "1983    32946\n",
       "1980    31507\n",
       "1981    30461\n",
       "1991    28080\n",
       "1982    26348\n",
       "1985    24824\n",
       "1989    24066\n",
       "1990    23260\n",
       "1988    20489\n",
       "1986    19633\n",
       "1987    17841\n",
       "dtype: int64"
      ]
     },
     "execution_count": 286,
     "metadata": {},
     "output_type": "execute_result"
    }
   ],
   "source": [
    "mam_test = mammals_test['year'].value_counts()\n",
    "mam_test"
   ]
  },
  {
   "cell_type": "code",
   "execution_count": 287,
   "metadata": {
    "collapsed": false
   },
   "outputs": [],
   "source": [
    "mammal_test=[31507,30461,26348,32946,37560,24824,19663,17841,20489,24066,23620]\n",
    "tot_mammal=np.append(mammal_test,mammal_obs)"
   ]
  },
  {
   "cell_type": "code",
   "execution_count": 288,
   "metadata": {
    "collapsed": false
   },
   "outputs": [
    {
     "data": {
      "text/plain": [
       "array([ 0.75331287,  0.77918087,  0.90081329,  0.72041002,  0.63191237,\n",
       "        0.9561162 ,  1.20707057,  1.33034183,  1.15840834,  0.98623072,\n",
       "        1.00485303,  0.84830153,  0.67980262,  0.76464654,  0.57785043,\n",
       "        0.7282348 ,  0.65828952,  0.96286526,  0.83469768,  0.91699682,\n",
       "        1.02782906,  0.98056718,  0.84410799,  1.01843504,  1.06447632,\n",
       "        1.29485153,  1.46320378,  1.5645767 ,  2.14037592,  1.73727335,\n",
       "        2.13806221,  1.88534662,  2.27713984,  1.83137566,  1.46482926])"
      ]
     },
     "execution_count": 288,
     "metadata": {},
     "output_type": "execute_result"
    }
   ],
   "source": [
    "average_test=np.divide(float(np.sum(tot_mammal))/len(tot_mammal),tot_mammal)\n",
    "average_test"
   ]
  },
  {
   "cell_type": "code",
   "execution_count": 289,
   "metadata": {
    "collapsed": false
   },
   "outputs": [
    {
     "data": {
      "text/plain": [
       "array([ 323.92453378,  454.26244894,  548.59529376,  213.96177641,\n",
       "        529.54256504,  432.16452281,  599.91407212,  243.45255471,\n",
       "        474.94742126,  256.41998789,  372.80047417,  167.96370339])"
      ]
     },
     "execution_count": 289,
     "metadata": {},
     "output_type": "execute_result"
    }
   ],
   "source": [
    "norm_test=np.multiply(average_test[0:12],obs_test)\n",
    "norm_test"
   ]
  },
  {
   "cell_type": "code",
   "execution_count": 290,
   "metadata": {
    "collapsed": false
   },
   "outputs": [
    {
     "name": "stdout",
     "output_type": "stream",
     "text": [
      "[  9.04817133  12.68889522  15.32389089   5.97658593  14.79169176\n",
      "  12.07163472  16.75737632   6.80035069  13.26668774   7.16256949\n",
      "  10.41342107   4.69172356]\n"
     ]
    },
    {
     "data": {
      "text/plain": [
       "array([  9.,  12.,  15.,   6.,  15.,  12.,  15.,   7.,  14.,   7.,   9.,\n",
       "         5.])"
      ]
     },
     "execution_count": 290,
     "metadata": {},
     "output_type": "execute_result"
    }
   ],
   "source": [
    "ratio=np.divide(norm_test,np.average(ACTUAL_TOT[\"Deer Population (In Millions)\"]))  \n",
    "# This has to be divided by 10^6 but for simplicity purposes, I will keep it this way\n",
    "print ratio\n",
    "\n",
    "test_ratio=np.zeros(len(norm_test))\n",
    "for i in range(len(ratio)):\n",
    "    for j in range(len(obs_states)-1):\n",
    "        if ratio[i]>obs_states[j] and ratio[i]<obs_states[j]+(obs_states[j+1]-obs_states[j])/2:\n",
    "            test_ratio[i]=obs_states[j]\n",
    "        elif ratio[i]<obs_states[j+1] and ratio[i]>=obs_states[j]+(obs_states[j+1]-obs_states[j])/2:\n",
    "            test_ratio[i]=obs_states[j+1]\n",
    "        elif ratio[i]==obs_states[j]:\n",
    "            test_ratio[i]=obs_states[j]\n",
    "test_ratio"
   ]
  },
  {
   "cell_type": "markdown",
   "metadata": {},
   "source": [
    "### Plots of observations and normalized obs"
   ]
  },
  {
   "cell_type": "code",
   "execution_count": 291,
   "metadata": {
    "collapsed": false
   },
   "outputs": [],
   "source": [
    "all_obs=obs_test[0:11]+deer_obs\n",
    "all_norm=np.append(norm_test[0:11],norm_obs)\n",
    "all_years=np.append(years_test[0:11],years)"
   ]
  },
  {
   "cell_type": "code",
   "execution_count": 292,
   "metadata": {
    "collapsed": false
   },
   "outputs": [
    {
     "data": {
      "text/plain": [
       "<matplotlib.text.Text at 0x117864fd0>"
      ]
     },
     "execution_count": 292,
     "metadata": {},
     "output_type": "execute_result"
    },
    {
     "data": {
      "image/png": "[encoded data removed]",
      "text/plain": [
       "<matplotlib.figure.Figure at 0x111f6eb50>"
      ]
     },
     "metadata": {},
     "output_type": "display_data"
    }
   ],
   "source": [
    "plt.plot(all_years,all_obs,'-o',label=\"Actual\")\n",
    "plt.plot(all_years,all_norm,'-o',label=\"Normalized\")\n",
    "plt.fill_between(range(1980,1991),[1400]*11,alpha=0.2,label=\"Test Set\")\n",
    "plt.legend()\n",
    "plt.xlabel(\"Years\")\n",
    "plt.ylabel(\"Number of Observed Deer\")\n"
   ]
  },
  {
   "cell_type": "markdown",
   "metadata": {},
   "source": [
    "### Transition Matrix\n",
    "We calculate the transition matrix by counting the occurences of going from hidden state m to hidden state n (in other words, to go from a number m of deer in year i to a number n of dear in year i+1, and dividing the values of each row by the sum of the row: we check that the obtained probabilities on each row sum up to 1. "
   ]
  },
  {
   "cell_type": "code",
   "execution_count": 293,
   "metadata": {
    "collapsed": false
   },
   "outputs": [],
   "source": [
    "# For the transition matrix, we create a 41 by 41 matrix and calculate the probability of a certain current letter\n",
    "# knowing the previous letter. The rows of this matrix should sum up to 1 \n",
    "# The columns correspond to the current letter and the rows to the previous letter\n",
    "\n",
    "#Emission is probability from hidden to observed\n",
    "\n",
    "#Transition is from hidden to next hidden\n",
    "n=len(discrete_states)\n",
    "transition=np.zeros((n,n))\n",
    "# Add a pseudocount\n",
    "transition=transition+0.05\n",
    "\n",
    "for j in xrange(len(discrete)-1):\n",
    "    for i in xrange(len(discrete_states)):\n",
    "        if discrete[j+1]==discrete_states[i]:\n",
    "            for k in xrange(len(discrete_states)):\n",
    "                if discrete[j]==discrete_states[k]:\n",
    "                    transition[k,i]+=1"
   ]
  },
  {
   "cell_type": "code",
   "execution_count": 294,
   "metadata": {
    "collapsed": true
   },
   "outputs": [],
   "source": [
    "SUMS=np.zeros(n)\n",
    "for i in xrange(len(SUMS)):\n",
    "    SUMS[i]=np.sum(transition[i,:])\n",
    "    "
   ]
  },
  {
   "cell_type": "code",
   "execution_count": 295,
   "metadata": {
    "collapsed": false
   },
   "outputs": [],
   "source": [
    "transition_f=np.zeros((n,n))\n",
    "for i in xrange(len(SUMS)):\n",
    "    transition_f[i,:]=transition[i,:]/SUMS[i]"
   ]
  },
  {
   "cell_type": "code",
   "execution_count": 296,
   "metadata": {
    "collapsed": false
   },
   "outputs": [
    {
     "data": {
      "text/plain": [
       "array([ 1.,  1.,  1.,  1.,  1.,  1.,  1.,  1.,  1.,  1.,  1.,  1.,  1.,\n",
       "        1.,  1.,  1.,  1.,  1.,  1.,  1.,  1.,  1.,  1.,  1.,  1.,  1.,\n",
       "        1.,  1.,  1.,  1.,  1.,  1.,  1.,  1.,  1.,  1.,  1.,  1.,  1.,\n",
       "        1.,  1.])"
      ]
     },
     "execution_count": 296,
     "metadata": {},
     "output_type": "execute_result"
    }
   ],
   "source": [
    "# Check to verify my calculations, the sum of the rows should be zero\n",
    "SUM2=np.zeros(n)\n",
    "for i in xrange(len(SUM2)):\n",
    "    SUM2[i]=np.sum(transition_f[i,:])\n",
    "SUM2"
   ]
  },
  {
   "cell_type": "markdown",
   "metadata": {},
   "source": [
    "### Emission Matrix"
   ]
  },
  {
   "cell_type": "markdown",
   "metadata": {},
   "source": [
    "We calculate the transition matrix by counting the occurences of going from hidden state m to observed state n (in other words, to go from a number m of deer in year i to a ratio of observed to actual of m in the same year i, and dividing the values of each row by the sum of the row: we check that the obtained probabilities on each row sum up to 1. "
   ]
  },
  {
   "cell_type": "code",
   "execution_count": 297,
   "metadata": {
    "collapsed": false
   },
   "outputs": [],
   "source": [
    "# Emission probability\n",
    "emission=np.zeros((n,obs_len))\n",
    "# Add a pseudocount\n",
    "emission=emission+0.05\n",
    "for j in xrange(len(discrete_ratio)-1):\n",
    "    for i in xrange(obs_len):\n",
    "        if discrete_ratio[j]==obs_states[i]:\n",
    "            for k in xrange(len(discrete_states)):\n",
    "                if discrete[j]==discrete_states[k]:\n",
    "                    emission[k,i]+=1"
   ]
  },
  {
   "cell_type": "code",
   "execution_count": 298,
   "metadata": {
    "collapsed": false
   },
   "outputs": [],
   "source": [
    "SUMS=np.zeros(n)\n",
    "for i in xrange(len(SUMS)):\n",
    "    SUMS[i]=np.sum(emission[i,:])"
   ]
  },
  {
   "cell_type": "code",
   "execution_count": 299,
   "metadata": {
    "collapsed": false
   },
   "outputs": [],
   "source": [
    "emission_f=np.zeros((n,obs_len))\n",
    "for i in xrange(len(SUMS)):\n",
    "    emission_f[i,:]=emission[i,:]/SUMS[i]"
   ]
  },
  {
   "cell_type": "code",
   "execution_count": 300,
   "metadata": {
    "collapsed": false
   },
   "outputs": [
    {
     "data": {
      "text/plain": [
       "array([ 1.,  1.,  1.,  1.,  1.,  1.,  1.,  1.,  1.,  1.,  1.,  1.,  1.,\n",
       "        1.,  1.,  1.,  1.,  1.,  1.,  1.,  1.,  1.,  1.,  1.,  1.,  1.,\n",
       "        1.,  1.,  1.,  1.,  1.,  1.,  1.,  1.,  1.,  1.,  1.,  1.,  1.,\n",
       "        1.,  1.])"
      ]
     },
     "execution_count": 300,
     "metadata": {},
     "output_type": "execute_result"
    }
   ],
   "source": [
    "# Check to verify my calculations, the sum of the rows should be zero\n",
    "SUM2=np.zeros(n)\n",
    "for i in xrange(len(SUM2)):\n",
    "    SUM2[i]=np.sum(emission_f[i,:])\n",
    "SUM2"
   ]
  },
  {
   "cell_type": "code",
   "execution_count": 301,
   "metadata": {
    "collapsed": true
   },
   "outputs": [],
   "source": [
    "emission_log=np.log(emission_f)\n",
    "transition_log=np.log(transition_f)"
   ]
  },
  {
   "cell_type": "markdown",
   "metadata": {},
   "source": [
    "### Starting Probability"
   ]
  },
  {
   "cell_type": "code",
   "execution_count": 302,
   "metadata": {
    "collapsed": false
   },
   "outputs": [
    {
     "data": {
      "text/plain": [
       "(41,)"
      ]
     },
     "execution_count": 302,
     "metadata": {},
     "output_type": "execute_result"
    }
   ],
   "source": [
    "## Starting Probability\n",
    "itemindex= np.where(discrete_states==discrete[0])[0][0]\n",
    "\n",
    "starting_prob=np.zeros(n)\n",
    "starting_prob[itemindex]=1\n",
    "np.shape(starting_prob)"
   ]
  },
  {
   "cell_type": "code",
   "execution_count": 303,
   "metadata": {
    "collapsed": false
   },
   "outputs": [
    {
     "data": {
      "text/plain": [
       "array([  4.,   3.,   1.,   2.,   4.,   2.,   2.,   5.,   6.,   2.,   2.,\n",
       "         2.,   9.,   3.,   2.,   6.,   7.,   5.,  12.,  14.,  15.,  35.,\n",
       "        41.,  41.])"
      ]
     },
     "execution_count": 303,
     "metadata": {},
     "output_type": "execute_result"
    }
   ],
   "source": [
    "discrete_ratio"
   ]
  },
  {
   "cell_type": "code",
   "execution_count": 304,
   "metadata": {
    "collapsed": true
   },
   "outputs": [],
   "source": [
    "# The function takes as input the observed and hiddent states. \n",
    "# It takes the starting probability, the transition and emission matrix and the test data Y.\n",
    "\n",
    "# The function returns Z, which corresponds to the array of the indexes of the corrected letter (which we can \n",
    "# extract later from the state space)\n",
    "\n",
    "def viterbi(hidden, observed, starting_prob, Y, transition_log, emission_log):   \n",
    "    size_test=len(Y)\n",
    "    T1=np.zeros((len(hidden),size_test))\n",
    "    T2=np.zeros((len(hidden),size_test))\n",
    "    index= np.where(observed==Y[0])[0][0]\n",
    "    for i in xrange(len(hidden)):\n",
    "        T1[i,1]=np.log(starting_prob[i])+emission_log[i,index]\n",
    "    for i in range(1,len(Y)):\n",
    "        index= np.where(observed==Y[i])[0][0]\n",
    "        for j in xrange(len(hidden)):\n",
    "            list_val=T1[:,i-1]+transition_log[:,j]+emission_log[j,index]\n",
    "            T1[j,i]=np.max(list_val) \n",
    "            T2[j,i]=np.argmax(list_val) \n",
    "    Z=np.zeros(size_test)  \n",
    "    T_ind=size_test-1\n",
    "    Z[T_ind]=np.argmax(T1[:,T_ind])\n",
    "    \n",
    "    for i in range(T_ind, 1, -1):\n",
    "        Z[i-1]=T2[Z[i], i]\n",
    "    \n",
    "    return Z\n",
    "    "
   ]
  },
  {
   "cell_type": "code",
   "execution_count": 305,
   "metadata": {
    "collapsed": false
   },
   "outputs": [
    {
     "data": {
      "text/plain": [
       "array([  0.,  24.,  24.,  25.,  26.,  28.,  29.,  30.,  31.,  33.,  32.,\n",
       "        30.,  29.,  28.,  26.,  25.,  23.,  22.,  20.,  19.,  17.,  16.,\n",
       "        14.,  13.])"
      ]
     },
     "execution_count": 305,
     "metadata": {},
     "output_type": "execute_result"
    }
   ],
   "source": [
    "Z=viterbi(discrete_states, obs_states, starting_prob, discrete_ratio, transition_log, emission_log)\n",
    "Z"
   ]
  },
  {
   "cell_type": "code",
   "execution_count": 306,
   "metadata": {
    "collapsed": false
   },
   "outputs": [
    {
     "data": {
      "text/plain": [
       "<matplotlib.text.Text at 0x11771b050>"
      ]
     },
     "execution_count": 306,
     "metadata": {},
     "output_type": "execute_result"
    },
    {
     "data": {
      "image/png": "[encoded data removed]",
      "text/plain": [
       "<matplotlib.figure.Figure at 0x1088c6c10>"
      ]
     },
     "metadata": {},
     "output_type": "display_data"
    }
   ],
   "source": [
    "plt.figure(figsize=(8,6))\n",
    "plt.plot(years,Z,'-o',label=\"Estimation\")\n",
    "plt.plot(years,actual_deer,'-o',label=\"Actual\")\n",
    "plt.legend()\n",
    "plt.xlabel(\"Years\")\n",
    "plt.ylabel(\"Number of deer in Millions\")"
   ]
  },
  {
   "cell_type": "code",
   "execution_count": 307,
   "metadata": {
    "collapsed": false
   },
   "outputs": [
    {
     "data": {
      "text/plain": [
       "array([  0.,  24.,  24.,  25.,  26.,  28.,  29.,  30.,  31.,  33.,  32.,\n",
       "        30.,  29.,  28.,  26.,  25.,  23.,  22.,  20.,  19.,  17.,  16.,\n",
       "        14.,  13.])"
      ]
     },
     "execution_count": 307,
     "metadata": {},
     "output_type": "execute_result"
    }
   ],
   "source": [
    "Z2=viterbi(discrete_states, obs_states, starting_prob, train_ratio, transition_log, emission_log)\n",
    "Z2"
   ]
  },
  {
   "cell_type": "code",
   "execution_count": 308,
   "metadata": {
    "collapsed": false
   },
   "outputs": [
    {
     "data": {
      "text/plain": [
       "<matplotlib.text.Text at 0x10cf3e910>"
      ]
     },
     "execution_count": 308,
     "metadata": {},
     "output_type": "execute_result"
    },
    {
     "data": {
      "image/png": "[encoded data removed]",
      "text/plain": [
       "<matplotlib.figure.Figure at 0x117c88f50>"
      ]
     },
     "metadata": {},
     "output_type": "display_data"
    }
   ],
   "source": [
    "plt.figure(figsize=(8,6))\n",
    "plt.plot(years,Z2,'-o',label=\"Estimation\")\n",
    "plt.plot(years,actual_deer,'-o',label=\"Actual\")\n",
    "plt.legend()\n",
    "plt.xlabel(\"Years\")\n",
    "plt.ylabel(\"Number of deer in Millions\")"
   ]
  },
  {
   "cell_type": "code",
   "execution_count": 309,
   "metadata": {
    "collapsed": false
   },
   "outputs": [
    {
     "data": {
      "text/plain": [
       "(41,)"
      ]
     },
     "execution_count": 309,
     "metadata": {},
     "output_type": "execute_result"
    }
   ],
   "source": [
    "## Starting Probability\n",
    "itemindex= np.where(discrete_states==actual_deer_test[0])[0][0]\n",
    "\n",
    "starting_prob2=np.zeros(n)\n",
    "starting_prob2[itemindex]=1\n",
    "np.shape(starting_prob2)"
   ]
  },
  {
   "cell_type": "code",
   "execution_count": 310,
   "metadata": {
    "collapsed": false
   },
   "outputs": [
    {
     "data": {
      "text/plain": [
       "array([  0.,  19.,  17.,  16.,  14.,  13.,  17.,  16.,  14.,  13.,  29.,\n",
       "        30.])"
      ]
     },
     "execution_count": 310,
     "metadata": {},
     "output_type": "execute_result"
    }
   ],
   "source": [
    "Z3=viterbi(discrete_states, obs_states, starting_prob2, test_ratio, transition_log, emission_log)\n",
    "Z3"
   ]
  },
  {
   "cell_type": "code",
   "execution_count": 311,
   "metadata": {
    "collapsed": false
   },
   "outputs": [
    {
     "data": {
      "text/plain": [
       "<matplotlib.text.Text at 0x108506550>"
      ]
     },
     "execution_count": 311,
     "metadata": {},
     "output_type": "execute_result"
    },
    {
     "data": {
      "image/png": "[encoded data removed]",
      "text/plain": [
       "<matplotlib.figure.Figure at 0x10fafc3d0>"
      ]
     },
     "metadata": {},
     "output_type": "display_data"
    }
   ],
   "source": [
    "plt.figure(figsize=(8,6))\n",
    "plt.plot(years_test,Z3,'-o',label=\"Estimation\")\n",
    "plt.plot(years_test,actual_deer_test,'-o',label=\"Actual\")\n",
    "plt.legend()\n",
    "plt.xlabel(\"Years\")\n",
    "plt.ylabel(\"Number of deer in Millions\")"
   ]
  },
  {
   "cell_type": "markdown",
   "metadata": {},
   "source": [
    "We can see that even though the number of observations of deer increase since 2005, Viterbi algorithm manages to translate the decrease that occured in the actual values since 2000.  While it is not close to the actual values, it did capture their trend which is interesting. However, we do not extend this algorithm to the test data as we have seen that even on the training data, the results are not accurate.\n",
    "\n",
    "Note: We note an increase in number of deer counts after 2005. This raises the question as to whether this is reliable data. This could be due to an increase in the number of deer studies. Sightings may also depend on where the scientists decided to look for these animals, as it is unlikely there are people sweeping the entirety of the US to look for deer. Much of the data probably depends on scientific study patterns and may not reflect actual deer population. Also, it has become easier to digitally record sightings."
   ]
  },
  {
   "cell_type": "markdown",
   "metadata": {},
   "source": [
    "### Viterbi Second order"
   ]
  },
  {
   "cell_type": "code",
   "execution_count": 312,
   "metadata": {
    "collapsed": false
   },
   "outputs": [],
   "source": [
    "transition_2=np.zeros((n**2,n**2))\n",
    "transition_2=transition_2+0.05\n",
    "\n",
    "for j in xrange(len(discrete)-2):\n",
    "    # Find the index of data_correct[j],[j+1],[j+2]\n",
    "    for i in xrange(len(discrete_states)):\n",
    "        if discrete[j+1]==discrete_states[i]:\n",
    "            for m in xrange(len(discrete_states)):\n",
    "                if discrete[j+2]==discrete_states[m]:\n",
    "                    for k in xrange(len(discrete_states)):\n",
    "                        if discrete[j]==discrete_states[k]:\n",
    "                            transition_2[k*n+i,i*n+m]+=1"
   ]
  },
  {
   "cell_type": "code",
   "execution_count": 313,
   "metadata": {
    "collapsed": false
   },
   "outputs": [],
   "source": [
    "transition_f_2=transition_2/np.sum(transition_2, axis=1).reshape(n**2,1)"
   ]
  },
  {
   "cell_type": "code",
   "execution_count": 314,
   "metadata": {
    "collapsed": false
   },
   "outputs": [
    {
     "data": {
      "text/plain": [
       "array([ 1.,  1.,  1.,  1.,  1.,  1.,  1.,  1.,  1.,  1.,  1.,  1.,  1.,\n",
       "        1.,  1.,  1.,  1.,  1.,  1.])"
      ]
     },
     "execution_count": 314,
     "metadata": {},
     "output_type": "execute_result"
    }
   ],
   "source": [
    "SUMS=np.zeros(n**2)\n",
    "for i in xrange(len(SUMS)):\n",
    "    SUMS[i]=np.sum(transition_f_2[i,:])\n",
    "SUMS[1:20]"
   ]
  },
  {
   "cell_type": "code",
   "execution_count": 315,
   "metadata": {
    "collapsed": false
   },
   "outputs": [],
   "source": [
    "emission_2=np.zeros((n**2,obs_len))\n",
    "emission_2=emission_2+0.05\n",
    "\n",
    "for j in xrange(len(discrete_ratio)-2):\n",
    "    for i in xrange(obs_len):\n",
    "        if discrete_ratio[j+1]==obs_states[i]:\n",
    "            for m in xrange(obs_len):\n",
    "                if discrete[j]==discrete_states[m]:\n",
    "                    for k in xrange(len(discrete_states)):\n",
    "                        if discrete[j+1]==discrete_states[k]:\n",
    "                            emission_2[n*m+k,i]+=1\n",
    "                                    \n",
    "emission_f_2=emission_2/np.sum(emission_2, axis=1).reshape(n**2,1)"
   ]
  },
  {
   "cell_type": "code",
   "execution_count": 316,
   "metadata": {
    "collapsed": false
   },
   "outputs": [
    {
     "data": {
      "text/plain": [
       "array([ 1.,  1.,  1.,  1.,  1.,  1.,  1.,  1.,  1.,  1.,  1.,  1.,  1.,\n",
       "        1.,  1.,  1.,  1.,  1.,  1.])"
      ]
     },
     "execution_count": 316,
     "metadata": {},
     "output_type": "execute_result"
    }
   ],
   "source": [
    "SUMS=np.zeros(27**2)\n",
    "for i in xrange(len(SUMS)):\n",
    "    SUMS[i]=np.sum(emission_f_2[i,:])\n",
    "SUMS[1:20]"
   ]
  },
  {
   "cell_type": "code",
   "execution_count": 317,
   "metadata": {
    "collapsed": true
   },
   "outputs": [],
   "source": [
    "transition_log_2=np.log(transition_f_2)\n",
    "emission_log_2=np.log(emission_f_2)"
   ]
  },
  {
   "cell_type": "code",
   "execution_count": 318,
   "metadata": {
    "collapsed": false
   },
   "outputs": [],
   "source": [
    "## Starting Probability\n",
    "itemindex= np.where(discrete_states==discrete[0])[0][0]\n",
    "itemindex2= np.where(discrete_states==discrete[1])[0][0]\n",
    "\n",
    "starting_prob_2=np.zeros(n*n)\n",
    "starting_prob_2[itemindex*n+itemindex2]=1"
   ]
  },
  {
   "cell_type": "code",
   "execution_count": 319,
   "metadata": {
    "collapsed": true
   },
   "outputs": [],
   "source": [
    "def viterbi2(hidden, observed, starting_prob, Y, transition_log, emission_log):   \n",
    "    size_test=len(Y)\n",
    "    length=np.shape(transition_log)[0]\n",
    "    T1=np.zeros((length,size_test))\n",
    "    T2=np.zeros((length,size_test))\n",
    "    ind1=np.where(observed==Y[0])[0][0]\n",
    "    for i in xrange(length):\n",
    "        T1[i,1]=np.log(starting_prob[i])+emission_log[i,ind1]\n",
    "    for i in range(1,len(Y)-1):\n",
    "        ind2= np.where(observed==Y[i])[0][0]\n",
    "        for j in xrange(length):\n",
    "            list_val=T1[:,i-1]+transition_log[:,j]+emission_log[j,ind2]\n",
    "            T1[j,i]=np.max(list_val) \n",
    "            T2[j,i]=np.argmax(list_val) \n",
    "    Z=np.zeros(size_test)  \n",
    "    T_ind=size_test-1\n",
    "    Z[T_ind]=np.argmax(T1[:,T_ind])\n",
    "    \n",
    "    for i in range(T_ind, 1, -1):\n",
    "        Z[i-1]=T2[Z[i], i]\n",
    "    \n",
    "    return Z"
   ]
  },
  {
   "cell_type": "code",
   "execution_count": 320,
   "metadata": {
    "collapsed": false
   },
   "outputs": [],
   "source": [
    "Z=viterbi2(discrete_states, obs_states, starting_prob_2, discrete_ratio, transition_log_2, emission_log_2)"
   ]
  },
  {
   "cell_type": "code",
   "execution_count": 321,
   "metadata": {
    "collapsed": false
   },
   "outputs": [
    {
     "data": {
      "text/plain": [
       "array([    0.,  1009.,  1051.,  1094.,  1177.,  1219.,  1261.,  1304.,\n",
       "        1385.,  1342.,  1259.,  1217.,  1174.,  1091.,  1048.,   965.,\n",
       "         922.,   839.,   796.,   713.,   670.,   587.,     0.,     0.])"
      ]
     },
     "execution_count": 321,
     "metadata": {},
     "output_type": "execute_result"
    }
   ],
   "source": [
    "Z"
   ]
  },
  {
   "cell_type": "markdown",
   "metadata": {},
   "source": [
    "This method does not seem to work properly. Need to rework it."
   ]
  },
  {
   "cell_type": "markdown",
   "metadata": {},
   "source": [
    "## Forward Backward Algorithm\n",
    "\n",
    "Now that we have looked at decoding a sequence over the years, we use the forward–backward algorithm to find the most likely discreteized state for any point in time, in our case any year.\n",
    "The algorithm involves three steps as detailed below:\n",
    "\n",
    "1. computing forward probabilities\n",
    "\n",
    "2. computing backward probabilities\n",
    "\n",
    "3. computing smoothed values."
   ]
  },
  {
   "cell_type": "code",
   "execution_count": 322,
   "metadata": {
    "collapsed": false
   },
   "outputs": [],
   "source": [
    "def FWBW(y, states, starting_prob, transition, emission, obs_states):\n",
    "    L=len(y)\n",
    "    fwd=[]\n",
    "    f_prev={}\n",
    "    \n",
    "    # Forward part of the algorithm\n",
    "    for i in range(L):\n",
    "        f_curr = {}\n",
    "        ind1=np.where(obs_states==y[i])[0][0] \n",
    "        for j in range(len(states)):\n",
    "            st=states[j]\n",
    "            if i == 0:\n",
    "                # base case for the forward part\n",
    "                prev_f_sum = starting_prob[j]\n",
    "            else:\n",
    "                prev_f_sum = sum(f_prev[states[k]]*transition[k,j] for k in range(len(states)))\n",
    " \n",
    "            f_curr[st] = emission[j,ind1] * prev_f_sum\n",
    " \n",
    "        fwd.append(f_curr)\n",
    "        f_prev = f_curr\n",
    " \n",
    "    bkw = []\n",
    "    b_prev = {}\n",
    "    # Backward part of the algorithm\n",
    "    y2=np.append(y,None)\n",
    "    y2=np.delete(y2,[0])\n",
    "    y2=reversed(y2)\n",
    "    for i, y_val in enumerate(y2):\n",
    "        b_curr = {}\n",
    "        for j in range(len(states)):\n",
    "            st=states[j]\n",
    "            if i == 0:\n",
    "                # base case for backward part\n",
    "                b_curr[st] = 1.0\n",
    "            else:\n",
    "                ind2=np.where(obs_states==y_val)[0][0] \n",
    "                b_curr[st] = sum(transition[j,l]*emission[l,ind2]*b_prev[states[l]] for l in range(len(states)))\n",
    " \n",
    "        bkw.insert(0,b_curr)\n",
    "        b_prev = b_curr\n",
    "     \n",
    "    ind3=np.where(obs_states==y[0])[0][0] \n",
    "    p_bkw = sum(starting_prob[l] * emission[l,ind3] * b_curr[states[l]] for l in range(len(states)))\n",
    " \n",
    "    # Smooth the values\n",
    "    posterior = []\n",
    "    for i in range(L):\n",
    "        posterior.append({st: fwd[i][st]*bkw[i][st]/p_bkw for st in states})\n",
    " \n",
    "    return fwd, bkw, posterior"
   ]
  },
  {
   "cell_type": "markdown",
   "metadata": {},
   "source": [
    "### Training Data"
   ]
  },
  {
   "cell_type": "code",
   "execution_count": 327,
   "metadata": {
    "collapsed": false
   },
   "outputs": [
    {
     "name": "stdout",
     "output_type": "stream",
     "text": [
      "24\n",
      "[{30.25: 0.0, 30.5: 0.0, 36.75: 0.0, 37.25: 0.0, 32.25: 0.0, 36.5: 0.0, 33.25: 0.0, 39.75: 0.0, 37.5: 0.0, 30.0: 0.0, 31.0: 0.0, 32.0: 0.0, 33.0: 0.0, 34.0: 0.0, 33.75: 0.0, 36.0: 1.0, 37.0: 0.0, 31.5: 0.0, 39.0: 0.0, 40.0: 0.0, 34.25: 0.0, 34.5: 0.0, 35.0: 0.0, 31.25: 0.0, 38.25: 0.0, 31.75: 0.0, 34.75: 0.0, 39.25: 0.0, 38.5: 0.0, 38.75: 0.0, 35.25: 0.0, 37.75: 0.0, 35.5: 0.0, 32.75: 0.0, 33.5: 0.0, 35.75: 0.0, 38.0: 0.0, 39.5: 0.0, 36.25: 0.0, 30.75: 0.0, 32.5: 0.0}, {30.25: 0.001793351605479325, 30.5: 0.001793351605479325, 36.75: 0.001793351605479325, 37.25: 0.00028574441850479928, 32.25: 0.001793351605479325, 36.5: 0.00028560201436227123, 33.25: 0.001793351605479325, 39.75: 0.001793351605479325, 37.5: 0.00039534655550366524, 30.0: 0.001793351605479325, 31.0: 0.001793351605479325, 32.0: 0.001793351605479325, 33.0: 0.001793351605479325, 34.0: 0.00055557446921562792, 33.75: 0.001793351605479325, 36.0: 0.93168130539141292, 37.0: 0.0089256236379009427, 31.5: 0.001793351605479325, 39.0: 0.001793351605479325, 40.0: 0.001793351605479325, 34.25: 0.00054596875303494958, 34.5: 0.001793351605479325, 35.0: 0.00054463392992234376, 31.25: 0.001793351605479325, 38.25: 0.00063667587961359394, 31.75: 0.001793351605479325, 34.75: 0.00054468535198945098, 39.25: 0.001793351605479325, 38.5: 0.001793351605479325, 38.75: 0.001793351605479325, 35.25: 0.001793351605479325, 37.75: 0.00063547501002884704, 35.5: 0.00054463193572296511, 32.75: 0.001793351605479325, 33.5: 0.00072091994108843503, 35.75: 0.00054463176689433554, 38.0: 0.00053151585222142915, 39.5: 0.001793351605479325, 36.25: 0.007787874955600016, 30.75: 0.001793351605479325, 32.5: 0.001793351605479325}, {30.25: 0.0044366914933110175, 30.5: 0.0044366914933110175, 36.75: 0.0044366914933110175, 37.25: 0.0052533541041626013, 32.25: 0.0044366914933110175, 36.5: 0.0092897761531265527, 33.25: 0.0046827697027946426, 39.75: 0.0044366914933110175, 37.5: 0.0011050604589114815, 30.0: 0.0044366914933110175, 31.0: 0.0044366914933110175, 32.0: 0.0044366914933110175, 33.0: 0.0044366914933110175, 34.0: 0.0013535187113967063, 33.75: 0.0044366914933110175, 36.0: 0.83774790784038, 37.0: 0.0014770584223803025, 31.5: 0.0044366914933110175, 39.0: 0.0044366914933110175, 40.0: 0.0044366914933110175, 34.25: 0.0013290961038647053, 34.5: 0.0044366914933110175, 35.0: 0.001328079613721752, 31.25: 0.0044366914933110175, 38.25: 0.0030567869095077817, 31.75: 0.0044366914933110175, 34.75: 0.0013281175625366873, 39.25: 0.0044366914933110175, 38.5: 0.0044366914933110175, 38.75: 0.0044366914933110175, 35.25: 0.0044366914933110175, 37.75: 0.0033844144927961204, 35.5: 0.0013280764009805947, 32.75: 0.0044366914933110175, 33.5: 0.0015363116405183628, 35.75: 0.0019455056926430834, 38.0: 0.0030796389764187896, 39.5: 0.0044366914933110175, 36.25: 0.014293931374395549, 30.75: 0.0044366914933110175, 32.5: 0.0044366914933110175}, {30.25: 0.0037940861833495585, 30.5: 0.0037940861833495585, 36.75: 0.0037940861833495585, 37.25: 0.013209500303718818, 32.25: 0.0037940861833495585, 36.5: 0.018727490190988856, 33.25: 0.0040904990401672047, 39.75: 0.0037940861833495585, 37.5: 0.026673395567399508, 30.0: 0.0037940861833495585, 31.0: 0.0037940861833495585, 32.0: 0.0037940861833495585, 33.0: 0.0037940861833495585, 34.0: 0.001230923504579113, 33.75: 0.0037940861833495585, 36.0: 0.022022640283396476, 37.0: 0.064085993477342493, 31.5: 0.0037940861833495585, 39.0: 0.0037940861833495585, 40.0: 0.0037940861833495585, 34.25: 0.0012174196289173221, 34.5: 0.0037940861833495585, 35.0: 0.0012168515992188264, 31.25: 0.0037940861833495585, 38.25: 0.030872677096231389, 31.75: 0.0037940861833495585, 34.75: 0.0012168959350643154, 39.25: 0.0037940861833495585, 38.5: 0.0037940861833495585, 38.75: 0.0037940861833495585, 35.25: 0.0037940861833495585, 37.75: 0.0013184641936890144, 35.5: 0.0012578422252265123, 32.75: 0.0037940861833495585, 33.5: 0.0015679556216761446, 35.75: 0.0016796187170091826, 38.0: 0.025073066042061595, 39.5: 0.0037940861833495585, 36.25: 0.69348069817292368, 30.75: 0.0037940861833495585, 32.5: 0.0037940861833495585}, {30.25: 0.0073551240512306016, 30.5: 0.0073551240512306016, 36.75: 0.0073551240512306016, 37.25: 0.011286782204844734, 32.25: 0.0073551240512306016, 36.5: 0.6767562501183787, 33.25: 0.0078400016856195517, 39.75: 0.0073551240512306016, 37.5: 0.0050980121610566054, 30.0: 0.0073551240512306016, 31.0: 0.0073551240512306016, 32.0: 0.0073551240512306016, 33.0: 0.0073551240512306016, 34.0: 0.0021721742190819191, 33.75: 0.0073551240512306016, 36.0: 0.033242686650286082, 37.0: 0.0059373549797658255, 31.5: 0.0073551240512306016, 39.0: 0.0073551240512306016, 40.0: 0.0073551240512306016, 34.25: 0.0021637065967394409, 34.5: 0.0073551240512306016, 35.0: 0.0021674398234663313, 31.25: 0.0073551240512306016, 38.25: 0.0046291529395516735, 31.75: 0.0073551240512306016, 34.75: 0.0021629897290624985, 39.25: 0.0073551240512306016, 38.5: 0.0073551240512306016, 38.75: 0.0073551240512306016, 35.25: 0.0073551240512306016, 37.75: 0.030107787006739946, 35.5: 0.0022138040327381184, 32.75: 0.0073551240512306016, 33.5: 0.0023905188084013605, 35.75: 0.017379004573280992, 38.0: 0.014090395355468204, 39.5: 0.0073551240512306016, 36.25: 0.0038389618859834256, 30.75: 0.0073551240512306016, 32.5: 0.0073551240512306016}, {30.25: 0.0032610202565603163, 30.5: 0.0032610202565603163, 36.75: 0.0032610202565603163, 37.25: 0.020334089631635025, 32.25: 0.0032610202565603163, 36.5: 0.020035211225492327, 33.25: 0.0035756717532700608, 39.75: 0.0032610202565603163, 37.5: 0.057690285919846089, 30.0: 0.0032610202565603163, 31.0: 0.0032610202565603163, 32.0: 0.0032610202565603163, 33.0: 0.0032610202565603163, 34.0: 0.00099819785908305072, 33.75: 0.0032610202565603163, 36.0: 0.0010221661471465592, 37.0: 0.44158532234805165, 31.5: 0.0032610202565603163, 39.0: 0.0032610202565603163, 40.0: 0.0032610202565603163, 34.25: 0.00099005143826484416, 34.5: 0.0032610202565603163, 35.0: 0.00099143101695523613, 31.25: 0.0032610202565603163, 38.25: 0.2030612632094789, 31.75: 0.0032610202565603163, 34.75: 0.00098959127569172179, 39.25: 0.0032610202565603163, 38.5: 0.0032610202565603163, 38.75: 0.0032610202565603163, 35.25: 0.0032610202565603163, 37.75: 0.0018955267389957899, 35.5: 0.0016018683119899829, 32.75: 0.0032610202565603163, 33.5: 0.0010944231697647508, 35.75: 0.00099111108476697364, 38.0: 0.029132113801047479, 39.5: 0.0032610202565603163, 36.25: 0.13574718891107235, 30.75: 0.0032610202565603163, 32.5: 0.0032610202565603163}, {30.25: 0.0025684066924349012, 30.5: 0.0025684066924349012, 36.75: 0.0025684066924349012, 37.25: 0.44015017284821573, 32.25: 0.0025684066924349012, 36.5: 0.082051239570886156, 33.25: 0.0027160672966293868, 39.75: 0.0025684066924349012, 37.5: 0.021819265237996825, 30.0: 0.0025684066924349012, 31.0: 0.0025684066924349012, 32.0: 0.0025684066924349012, 33.0: 0.0025684066924349012, 34.0: 0.00079625497995958162, 33.75: 0.0025684066924349012, 36.0: 0.00023494779105087064, 37.0: 0.017398404684184094, 31.5: 0.0025684066924349012, 39.0: 0.0025684066924349012, 40.0: 0.0025684066924349012, 34.25: 0.00078446181093722782, 34.5: 0.0025684066924349012, 35.0: 0.000810329482730336, 31.25: 0.0025684066924349012, 38.25: 0.016484074808114646, 31.75: 0.0025684066924349012, 34.75: 0.00078405239492427485, 39.25: 0.0025684066924349012, 38.5: 0.0025684066924349012, 38.75: 0.0025684066924349012, 35.25: 0.0025684066924349012, 37.75: 0.0012605054975168249, 35.5: 0.00078401896779512891, 32.75: 0.0025684066924349012, 33.5: 0.00094610014204335696, 35.75: 0.012296564769660559, 38.0: 0.3257522943829505, 39.5: 0.0025684066924349012, 36.25: 0.013289484715967362, 30.75: 0.0025684066924349012, 32.5: 0.0025684066924349012}, {30.25: 0.0044947482459613075, 30.5: 0.0044947482459613075, 36.75: 0.0044947482459613075, 37.25: 0.0022388302860438924, 32.25: 0.0044947482459613075, 36.5: 0.0041458353598871327, 33.25: 0.0047216909766268885, 39.75: 0.0044947482459613075, 37.5: 0.81648250365654584, 30.0: 0.0044947482459613075, 31.0: 0.0044947482459613075, 32.0: 0.0044947482459613075, 33.0: 0.0044947482459613075, 34.0: 0.0013585384333346209, 33.75: 0.0044947482459613075, 36.0: 0.00087201489567523228, 37.0: 0.0074083747707246106, 31.5: 0.0044947482459613075, 39.0: 0.0044947482459613075, 40.0: 0.0044947482459613075, 34.25: 0.001348354241104481, 34.5: 0.0044947482459613075, 35.0: 0.0013479434529048749, 31.25: 0.0044947482459613075, 38.25: 0.0015958220829113828, 31.75: 0.0044947482459613075, 34.75: 0.0013501366012817226, 39.25: 0.0044947482459613075, 38.5: 0.0044947482459613075, 38.75: 0.0044947482459613075, 35.25: 0.0044947482459613075, 37.75: 0.0032856720760260243, 35.5: 0.03499051448053344, 32.75: 0.0044947482459613075, 33.5: 0.0016040650115778051, 35.75: 0.0022872214994593453, 38.0: 0.0026361081808406656, 39.5: 0.0044947482459613075, 36.25: 0.0044524160914513359, 30.75: 0.0044947482459613075, 32.5: 0.0044947482459613075}, {30.25: 0.0034899616657840032, 30.5: 0.0034899616657840032, 36.75: 0.0034899616657840032, 37.25: 0.02097559083438336, 32.25: 0.0034899616657840032, 36.5: 0.0042863362917595045, 33.25: 0.0038438223601526033, 39.75: 0.0034899616657840032, 37.5: 0.0012379106159827429, 30.0: 0.0034899616657840032, 31.0: 0.0034899616657840032, 32.0: 0.0034899616657840032, 33.0: 0.0034899616657840032, 34.0: 0.0010660777978052898, 33.75: 0.0034899616657840032, 36.0: 0.0006822068334737685, 37.0: 0.0016639008556338149, 31.5: 0.0034899616657840032, 39.0: 0.0034899616657840032, 40.0: 0.0034899616657840032, 34.25: 0.0010619900914848326, 34.5: 0.0034899616657840032, 35.0: 0.0035008387591021119, 31.25: 0.0034899616657840032, 38.25: 0.002732651321408239, 31.75: 0.0034899616657840032, 34.75: 0.0010616278687141148, 39.25: 0.0034899616657840032, 38.5: 0.0034899616657840032, 38.75: 0.0034899616657840032, 35.25: 0.0034899616657840032, 37.75: 0.84584835287759474, 35.5: 0.0011297073479660936, 32.75: 0.0034899616657840032, 33.5: 0.0011767755535753402, 35.75: 0.0012352474455177079, 38.0: 0.0032863428119124451, 39.5: 0.0034899616657840032, 36.25: 0.021451540354718274, 30.75: 0.0034899616657840032, 32.5: 0.0034899616657840032}, {30.25: 0.0019647804185459507, 30.5: 0.0019647804185459507, 36.75: 0.0019647804185459507, 37.25: 0.01367858617543523, 32.25: 0.0019647804185459507, 36.5: 0.023565414670753852, 33.25: 0.0021237927290407013, 39.75: 0.0019647804185459507, 37.5: 0.03734695143796081, 30.0: 0.0019647804185459507, 31.0: 0.0019647804185459507, 32.0: 0.0019647804185459507, 33.0: 0.0019647804185459507, 34.0: 0.00058859579694701698, 33.75: 0.0019647804185459507, 36.0: 0.00024624319201123265, 37.0: 0.05438130818565462, 31.5: 0.0019647804185459507, 39.0: 0.0019647804185459507, 40.0: 0.0019647804185459507, 34.25: 0.00058585732754839733, 34.5: 0.0019647804185459507, 35.0: 0.00058837262385588404, 31.25: 0.0019647804185459507, 38.25: 0.77520802873177297, 31.75: 0.0019647804185459507, 34.75: 0.000686325716415771, 39.25: 0.0019647804185459507, 38.5: 0.0019647804185459507, 38.75: 0.0019647804185459507, 35.25: 0.0019647804185459507, 37.75: 0.0015063866627119361, 35.5: 0.0005927295972924366, 32.75: 0.0019647804185459507, 33.5: 0.00064529013999256991, 35.75: 0.00099479262425631069, 38.0: 0.019365905050971549, 39.5: 0.0019647804185459507, 36.25: 0.02074068929227706, 30.75: 0.0019647804185459507, 32.5: 0.0019647804185459507}, {30.25: 0.0016955791223058599, 30.5: 0.0016955791223058599, 36.75: 0.0016955791223058599, 37.25: 0.10948612000190187, 32.25: 0.0016955791223058599, 36.5: 0.064354642472638474, 33.25: 0.0017785336621800798, 39.75: 0.0016955791223058599, 37.5: 0.01815354307125476, 30.0: 0.0016955791223058599, 31.0: 0.0016955791223058599, 32.0: 0.0016955791223058599, 33.0: 0.0016955791223058599, 34.0: 0.00050430259907630699, 33.75: 0.0016955791223058599, 36.0: 0.00022901378668344682, 37.0: 0.021952153338341131, 31.5: 0.0016955791223058599, 39.0: 0.0016955791223058599, 40.0: 0.0016955791223058599, 34.25: 0.00050249510643215003, 34.5: 0.0016955791223058599, 35.0: 0.00049818195270756127, 31.25: 0.0016955791223058599, 38.25: 0.021267653588961551, 31.75: 0.0016955791223058599, 34.75: 0.00049804315659164773, 39.25: 0.0016955791223058599, 38.5: 0.0016955791223058599, 38.75: 0.0016955791223058599, 35.25: 0.0016955791223058599, 37.75: 0.0015766925516220076, 35.5: 0.00051412504476239609, 32.75: 0.0016955791223058599, 33.5: 0.00056287498614903547, 35.75: 0.00070309687868721701, 38.0: 0.70343860017120718, 39.5: 0.0016955791223058599, 36.25: 0.01328602869546374, 30.75: 0.0016955791223058599, 32.5: 0.0016955791223058599}, {30.25: 0.0021530490143360837, 30.5: 0.0021530490143360837, 36.75: 0.0021530490143360837, 37.25: 0.018499925060995827, 32.25: 0.0021530490143360837, 36.5: 0.01669761341558984, 33.25: 0.0022450055040745503, 39.75: 0.0021530490143360837, 37.5: 0.69332334807742535, 30.0: 0.0021530490143360837, 31.0: 0.0021530490143360837, 32.0: 0.0021530490143360837, 33.0: 0.0021530490143360837, 34.0: 0.00067347982898218113, 33.75: 0.0021530490143360837, 36.0: 0.00019838591733955103, 37.0: 0.15667665759622487, 31.5: 0.0021530490143360837, 39.0: 0.0021530490143360837, 40.0: 0.0021530490143360837, 34.25: 0.00065950451985351505, 34.5: 0.0021530490143360837, 35.0: 0.0006594860907617585, 31.25: 0.0021530490143360837, 38.25: 0.014095645924165033, 31.75: 0.0021530490143360837, 34.75: 0.00065868246398724723, 39.25: 0.0021530490143360837, 38.5: 0.0021530490143360837, 38.75: 0.0021530490143360837, 35.25: 0.0021530490143360837, 37.75: 0.001285928007770264, 35.5: 0.0006697220293009887, 32.75: 0.0021530490143360837, 33.5: 0.00081503850317920308, 35.75: 0.001100394745498962, 38.0: 0.024114402672453676, 39.5: 0.0021530490143360837, 36.25: 0.015953603298332203, 30.75: 0.0021530490143360837, 32.5: 0.0021530490143360837}, {30.25: 0.0041115118207325184, 30.5: 0.0041115118207325184, 36.75: 0.0041115118207325184, 37.25: 0.84907910425029554, 32.25: 0.0041115118207325184, 36.5: 0.015965594118811741, 33.25: 0.0043321201658119458, 39.75: 0.0041115118207325184, 37.5: 0.0031493843476108172, 30.0: 0.0041115118207325184, 31.0: 0.0041115118207325184, 32.0: 0.0041115118207325184, 33.0: 0.0041115118207325184, 34.0: 0.0012777570593896454, 33.75: 0.0041115118207325184, 36.0: 0.0010880196477962482, 37.0: 0.0024332230392679196, 31.5: 0.0041115118207325184, 39.0: 0.0041115118207325184, 40.0: 0.0041115118207325184, 34.25: 0.0012614313434231596, 34.5: 0.0041115118207325184, 35.0: 0.0012612725319898282, 31.25: 0.0041115118207325184, 38.25: 0.0014855568505400406, 31.75: 0.0041115118207325184, 34.75: 0.0012603308090052634, 39.25: 0.0041115118207325184, 38.5: 0.0041115118207325184, 38.75: 0.0041115118207325184, 35.25: 0.0041115118207325184, 37.75: 0.0096018907013321764, 35.5: 0.0013032340049102982, 32.75: 0.0041115118207325184, 33.5: 0.0015479912995589615, 35.75: 0.0023112615079181396, 38.0: 0.0025153993472014522, 39.5: 0.0041115118207325184, 36.25: 0.001450145277557537, 30.75: 0.0041115118207325184, 32.5: 0.0041115118207325184}, {30.25: 0.0039042542800032864, 30.5: 0.0039042542800032864, 36.75: 0.0039042542800032864, 37.25: 0.0021464459785388332, 32.25: 0.0039042542800032864, 36.5: 0.0014394842143254931, 33.25: 0.0043051722094951143, 39.75: 0.0039042542800032864, 37.5: 0.0078693662946389686, 30.0: 0.0039042542800032864, 31.0: 0.0039042542800032864, 32.0: 0.0039042542800032864, 33.0: 0.0039042542800032864, 34.0: 0.0012282176510536483, 33.75: 0.0039042542800032864, 36.0: 0.012944498816703533, 37.0: 0.85401916066908534, 31.5: 0.0039042542800032864, 39.0: 0.0039042542800032864, 40.0: 0.0039042542800032864, 34.25: 0.001215503156855391, 34.5: 0.0039042542800032864, 35.0: 0.0012187295300352561, 31.25: 0.0039042542800032864, 38.25: 0.0041148777961560919, 31.75: 0.0039042542800032864, 34.75: 0.0012149921073503539, 39.25: 0.0039042542800032864, 38.5: 0.0039042542800032864, 38.75: 0.0039042542800032864, 35.25: 0.0039042542800032864, 37.75: 0.0029686847253613514, 35.5: 0.0013092221846217171, 32.75: 0.0039042542800032864, 33.5: 0.0014035402048220298, 35.75: 0.0012210191639039499, 38.0: 0.0029273073628151682, 39.5: 0.0039042542800032864, 36.25: 0.0047516752141598369, 30.75: 0.0039042542800032864, 32.5: 0.0039042542800032864}, {30.25: 0.0025314598154705307, 30.5: 0.0025314598154705307, 36.75: 0.0025314598154705307, 37.25: 0.071982442277241404, 32.25: 0.0025314598154705307, 36.5: 0.77964681397207947, 33.25: 0.0027950828265015664, 39.75: 0.0025314598154705307, 37.5: 0.01986642652921038, 30.0: 0.0025314598154705307, 31.0: 0.0025314598154705307, 32.0: 0.0025314598154705307, 33.0: 0.0025314598154705307, 34.0: 0.00080132530164084845, 33.75: 0.0025314598154705307, 36.0: 0.0047182212463838932, 37.0: 0.0078885085593378094, 31.5: 0.0025314598154705307, 39.0: 0.0025314598154705307, 40.0: 0.0025314598154705307, 34.25: 0.0007949627950595557, 34.5: 0.0025314598154705307, 35.0: 0.00080043894290169704, 31.25: 0.0025314598154705307, 38.25: 0.016807786243663685, 31.75: 0.0025314598154705307, 34.75: 0.00079487837081970594, 39.25: 0.0025314598154705307, 38.5: 0.0025314598154705307, 38.75: 0.0025314598154705307, 35.25: 0.0025314598154705307, 37.75: 0.0010236230691402426, 35.5: 0.00079499507111637966, 32.75: 0.0025314598154705307, 33.5: 0.00093621137534045506, 35.75: 0.00075722097860943846, 38.0: 0.016928886710207744, 39.5: 0.0025314598154705307, 36.25: 0.011907140159454321, 30.75: 0.0025314598154705307, 32.5: 0.0025314598154705307}, {30.25: 0.0034443826169011467, 30.5: 0.0034443826169011467, 36.75: 0.0034443826169011467, 37.25: 0.00096753889693580839, 32.25: 0.0034443826169011467, 36.5: 0.0010727034805070898, 33.25: 0.0036405149281576754, 39.75: 0.0034443826169011467, 37.5: 0.0034500780954210435, 30.0: 0.0034443826169011467, 31.0: 0.0034443826169011467, 32.0: 0.0034443826169011467, 33.0: 0.0034443826169011467, 34.0: 0.0010186149364858773, 33.75: 0.0034443826169011467, 36.0: 0.00027763099921500025, 37.0: 0.0050540386952505987, 31.5: 0.0034443826169011467, 39.0: 0.0034443826169011467, 40.0: 0.0034443826169011467, 34.25: 0.001012749936634716, 34.5: 0.0034443826169011467, 35.0: 0.0010123014409503257, 31.25: 0.0034443826169011467, 38.25: 0.0010518069812522509, 31.75: 0.0034443826169011467, 34.75: 0.0010127227930049219, 39.25: 0.0034443826169011467, 38.5: 0.0034443826169011467, 38.75: 0.0034443826169011467, 35.25: 0.0034443826169011467, 37.75: 0.032016706416786105, 35.5: 0.0010097016345416978, 32.75: 0.0034443826169011467, 33.5: 0.0011368149190803735, 35.75: 0.00174952086332478, 38.0: 0.0020608241997110417, 39.5: 0.0034443826169011467, 36.25: 0.85979054797711363, 30.75: 0.0034443826169011467, 32.5: 0.0034443826169011467}, {30.25: 0.0017166653629095442, 30.5: 0.0017166653629095442, 36.75: 0.0017166653629095442, 37.25: 0.0006230660472552618, 32.25: 0.0017166653629095442, 36.5: 0.0016036804343989857, 33.25: 0.0018895485790373606, 39.75: 0.0017166653629095442, 37.5: 0.00030135545860266778, 30.0: 0.0017166653629095442, 31.0: 0.0017166653629095442, 32.0: 0.0017166653629095442, 33.0: 0.0017166653629095442, 34.0: 0.00053338717512655591, 33.75: 0.0017166653629095442, 36.0: 0.00013851768286587062, 37.0: 0.00026991306884233568, 31.5: 0.0017166653629095442, 39.0: 0.0017166653629095442, 40.0: 0.0017166653629095442, 34.25: 0.00052892099544458852, 34.5: 0.0017166653629095442, 35.0: 0.00052817584591911772, 31.25: 0.0017166653629095442, 38.25: 0.0020046801766276695, 31.75: 0.0017166653629095442, 34.75: 0.00052837976052028893, 39.25: 0.0017166653629095442, 38.5: 0.0017166653629095442, 38.75: 0.0017166653629095442, 35.25: 0.0017166653629095442, 37.75: 0.00063913848998502015, 35.5: 0.00056349558538609822, 32.75: 0.0017166653629095442, 33.5: 0.00059766304130741616, 35.75: 0.94700105963743941, 38.0: 0.00078702285507686745, 39.5: 0.0017166653629095442, 36.25: 0.00026202645633627839, 30.75: 0.0017166653629095442, 32.5: 0.0017166653629095442}, {30.25: 0.0011225640948526617, 30.5: 0.0011225640948526617, 36.75: 0.0011225640948526617, 37.25: 0.00016479385548660879, 32.25: 0.0011225640948526617, 36.5: 0.0001638352608126452, 33.25: 0.0012199144550145301, 39.75: 0.0011225640948526617, 37.5: 0.0038020518040452157, 30.0: 0.0011225640948526617, 31.0: 0.0011225640948526617, 32.0: 0.0011225640948526617, 33.0: 0.0011225640948526617, 34.0: 0.0003582577588907056, 33.75: 0.0011225640948526617, 36.0: 9.2406227064892058e-05, 37.0: 0.0002003794120058816, 31.5: 0.0011225640948526617, 39.0: 0.0011225640948526617, 40.0: 0.0011225640948526617, 34.25: 0.00035169821123574814, 34.5: 0.0011225640948526617, 35.0: 0.00035247518077570901, 31.25: 0.0011225640948526617, 38.25: 0.00035475422782286646, 31.75: 0.0011225640948526617, 34.75: 0.00035068762745229913, 39.25: 0.0011225640948526617, 38.5: 0.0011225640948526617, 38.75: 0.0011225640948526617, 35.25: 0.0011225640948526617, 37.75: 0.00033797023506119397, 35.5: 0.9639357265298627, 32.75: 0.0011225640948526617, 33.5: 0.00041445270243827388, 35.75: 0.00034529191161209122, 38.0: 0.00041198154016568129, 39.5: 0.0011225640948526617, 36.25: 0.00020178478379050772, 30.75: 0.0011225640948526617, 32.5: 0.0011225640948526617}, {30.25: 0.0015588295373125084, 30.5: 0.0015588295373125084, 36.75: 0.0015588295373125084, 37.25: 0.0003616602302768117, 32.25: 0.0015588295373125084, 36.5: 0.00023408908700027031, 33.25: 0.0016502745500692419, 39.75: 0.0015588295373125084, 37.5: 0.00025627063488073599, 30.0: 0.0015588295373125084, 31.0: 0.0015588295373125084, 32.0: 0.0015588295373125084, 33.0: 0.0015588295373125084, 34.0: 0.00051776685989886263, 33.75: 0.0015588295373125084, 36.0: 0.00013313084737577466, 37.0: 0.00023076634589084237, 31.5: 0.0015588295373125084, 39.0: 0.0015588295373125084, 40.0: 0.0015588295373125084, 34.25: 0.00049964705324211133, 34.5: 0.0015588295373125084, 35.0: 0.95445386619018036, 31.25: 0.0015588295373125084, 38.25: 0.0004927478485690285, 31.75: 0.0015588295373125084, 34.75: 0.00049828955311396735, 39.25: 0.0015588295373125084, 38.5: 0.0015588295373125084, 38.75: 0.0015588295373125084, 35.25: 0.0015588295373125084, 37.75: 0.00075833884230351763, 35.5: 0.00066859872954419595, 32.75: 0.0015588295373125084, 33.5: 0.00063612727870014901, 35.75: 0.00048563229017788303, 38.0: 0.00046776758786860173, 39.5: 0.0015588295373125084, 36.25: 0.00024311717540954035, 30.75: 0.0015588295373125084, 32.5: 0.0015588295373125084}, {30.25: 0.0038970425368881263, 30.5: 0.0038970425368881263, 36.75: 0.0038970425368881263, 37.25: 0.000582974292012724, 32.25: 0.0038970425368881263, 36.5: 0.00058226289878139333, 33.25: 0.0040962118076971121, 39.75: 0.0038970425368881263, 37.5: 0.00064690710713691507, 30.0: 0.0038970425368881263, 31.0: 0.0038970425368881263, 32.0: 0.0038970425368881263, 33.0: 0.0038970425368881263, 34.0: 0.001289305413835347, 33.75: 0.0038970425368881263, 36.0: 0.0003361822312183559, 37.0: 0.00058833677739000725, 31.5: 0.0038970425368881263, 39.0: 0.0038970425368881263, 40.0: 0.0038970425368881263, 34.25: 0.0012583751018160662, 34.5: 0.0038970425368881263, 35.0: 0.0047949929576673071, 31.25: 0.0038970425368881263, 38.25: 0.0012772464807587719, 31.75: 0.0038970425368881263, 34.75: 0.88387840304272591, 39.25: 0.0038970425368881263, 38.5: 0.0038970425368881263, 38.75: 0.0038970425368881263, 35.25: 0.0038970425368881263, 37.75: 0.0012211375015203233, 35.5: 0.0012519772136424503, 32.75: 0.0038970425368881263, 33.5: 0.001661955614797588, 35.75: 0.0012206850706394127, 38.0: 0.0011671967453990816, 39.5: 0.0038970425368881263, 36.25: 0.00061682885764731648, 30.75: 0.0038970425368881263, 32.5: 0.0038970425368881263}, {30.25: 0.012045098825569362, 30.5: 0.012045098825569362, 36.75: 0.012045098825569362, 37.25: 0.0017230019705990792, 32.25: 0.012045098825569362, 36.5: 0.0017212152994473245, 33.25: 0.012622463840437602, 39.75: 0.012045098825569362, 37.5: 0.0018470761869737479, 30.0: 0.012045098825569362, 31.0: 0.012045098825569362, 32.0: 0.012045098825569362, 33.0: 0.012045098825569362, 34.0: 0.003798918205019436, 33.75: 0.012045098825569362, 36.0: 0.00099186668823614981, 37.0: 0.0017161675646961885, 31.5: 0.012045098825569362, 39.0: 0.012045098825569362, 40.0: 0.012045098825569362, 34.25: 0.57733656587327931, 34.5: 0.012045098825569362, 35.0: 0.0036920803387059751, 31.25: 0.012045098825569362, 38.25: 0.0036640217206358495, 31.75: 0.012045098825569362, 34.75: 0.081128756878442995, 39.25: 0.012045098825569362, 38.5: 0.012045098825569362, 38.75: 0.012045098825569362, 35.25: 0.012045098825569362, 37.75: 0.0036022487607219921, 35.5: 0.003687864156909759, 32.75: 0.012045098825569362, 33.5: 0.0044755156331636866, 35.75: 0.0036015779046639652, 38.0: 0.0035218982108420186, 39.5: 0.012045098825569362, 36.25: 0.0017863889535606381, 30.75: 0.012045098825569362, 32.5: 0.012045098825569362}, {30.25: 0.0077763376405990845, 30.5: 0.0077763376405990845, 36.75: 0.0077763376405990845, 37.25: 0.0012831731223661524, 32.25: 0.0077763376405990845, 36.5: 0.0012805870179149201, 33.25: 0.0089096907246076461, 39.75: 0.0077763376405990845, 37.5: 0.001463127643772366, 30.0: 0.0077763376405990845, 31.0: 0.0077763376405990845, 32.0: 0.0077763376405990845, 33.0: 0.0077763376405990845, 34.0: 0.76032843526249005, 33.75: 0.0077763376405990845, 36.0: 0.00071848396221316896, 37.0: 0.0012758531231353996, 31.5: 0.0077763376405990845, 39.0: 0.0077763376405990845, 40.0: 0.0077763376405990845, 34.25: 0.014519365952867814, 34.5: 0.0077763376405990845, 35.0: 0.0027520001466042874, 31.25: 0.0077763376405990845, 38.25: 0.0027188907421963528, 31.75: 0.0077763376405990845, 34.75: 0.0027523999454613156, 39.25: 0.0077763376405990845, 38.5: 0.0077763376405990845, 38.75: 0.0077763376405990845, 35.25: 0.0077763376405990845, 37.75: 0.0025699839542810271, 35.5: 0.0027438180646418759, 32.75: 0.0077763376405990845, 33.5: 0.0035906989351391048, 35.75: 0.0025644745227446967, 38.0: 0.0025627807437681592, 39.5: 0.0077763376405990845, 36.25: 0.0013341327614179669, 30.75: 0.0077763376405990845, 32.5: 0.0077763376405990845}, {30.25: 0.0096273256131493741, 30.5: 0.0096273256131493741, 36.75: 0.0096273256131493741, 37.25: 0.001686950868948101, 32.25: 0.0096273256131493741, 36.5: 0.0016785327917969199, 33.25: 0.010858925912681436, 39.75: 0.0096273256131493741, 37.5: 0.0018941318312996145, 30.0: 0.0096273256131493741, 31.0: 0.0096273256131493741, 32.0: 0.0096273256131493741, 33.0: 0.0096273256131493741, 34.0: 0.019741999984716492, 33.75: 0.0096273256131493741, 36.0: 0.0009751234189604006, 37.0: 0.001680903718752599, 31.5: 0.0096273256131493741, 39.0: 0.0096273256131493741, 40.0: 0.0096273256131493741, 34.25: 0.0034678761381965722, 34.5: 0.0096273256131493741, 35.0: 0.0034666497874088361, 31.25: 0.0096273256131493741, 38.25: 0.0034418088926607597, 31.75: 0.0096273256131493741, 34.75: 0.0034678190069390344, 39.25: 0.0096273256131493741, 38.5: 0.0096273256131493741, 38.75: 0.0096273256131493741, 35.25: 0.0096273256131493741, 37.75: 0.0032699947099949084, 35.5: 0.0034410215948822535, 32.75: 0.0096273256131493741, 33.5: 0.70163422411020104, 35.75: 0.0032527642842695142, 38.0: 0.0032431306860958354, 39.5: 0.0096273256131493741, 36.25: 0.0017423275466106969, 30.75: 0.0096273256131493741, 32.5: 0.0096273256131493741}, {30.25: 0.019264270372709287, 30.5: 0.019264270372709287, 36.75: 0.019264270372709287, 37.25: 0.0050790372514468718, 32.25: 0.019264270372709287, 36.5: 0.0050644373258472751, 33.25: 0.26028176901899019, 39.75: 0.019264270372709287, 37.5: 0.0052663768188436176, 30.0: 0.019264270372709287, 31.0: 0.019264270372709287, 32.0: 0.019264270372709287, 33.0: 0.019264270372709287, 34.0: 0.0081816185756852147, 33.75: 0.019264270372709287, 36.0: 0.0035688495549761165, 37.0: 0.005068911594239168, 31.5: 0.019264270372709287, 39.0: 0.019264270372709287, 40.0: 0.019264270372709287, 34.25: 0.0081816088118948464, 34.5: 0.019264270372709287, 35.0: 0.0081770291067550203, 31.25: 0.019264270372709287, 38.25: 0.0081478004371317407, 31.75: 0.019264270372709287, 34.75: 0.0081814089910807793, 39.25: 0.019264270372709287, 38.5: 0.019264270372709287, 38.75: 0.019264270372709287, 35.25: 0.019264270372709287, 37.75: 0.0078815310270436978, 35.5: 0.0081448557397449661, 32.75: 0.019264270372709287, 33.5: 0.1754052119322411, 35.75: 0.0078580826616867702, 38.0: 0.0081771636567509361, 39.5: 0.019264270372709287, 36.25: 0.0049918185506184886, 30.75: 0.019264270372709287, 32.5: 0.019264270372709287}]\n"
     ]
    }
   ],
   "source": [
    "fwd2, bkw2, posterior2 = FWBW(train_ratio, discrete_states, starting_prob, transition_f, emission_f, obs_states)\n",
    "print len(posterior2)\n",
    "print posterior2"
   ]
  },
  {
   "cell_type": "code",
   "execution_count": 328,
   "metadata": {
    "collapsed": false
   },
   "outputs": [
    {
     "name": "stdout",
     "output_type": "stream",
     "text": [
      "[  0.    36.    36.    36.25  36.5   37.    37.25  37.5   37.75  38.25  38.\n",
      "  37.5   37.25  37.    36.5   36.25  35.75  35.5   35.    34.75  34.25  34.\n",
      "  33.5   33.25]\n"
     ]
    },
    {
     "data": {
      "text/plain": [
       "array([ 0.        ,  0.93168131,  0.83774791,  0.6934807 ,  0.67675625,\n",
       "        0.44158532,  0.44015017,  0.8164825 ,  0.84584835,  0.77520803,\n",
       "        0.7034386 ,  0.69332335,  0.8490791 ,  0.85401916,  0.77964681,\n",
       "        0.85979055,  0.94700106,  0.96393573,  0.95445387,  0.8838784 ,\n",
       "        0.57733657,  0.76032844,  0.70163422,  0.26028177])"
      ]
     },
     "execution_count": 328,
     "metadata": {},
     "output_type": "execute_result"
    }
   ],
   "source": [
    "results2=np.zeros(len(posterior2))\n",
    "prob2=np.zeros(len(posterior2))\n",
    "\n",
    "for i in range(len(posterior2)):\n",
    "    year=posterior2[i]\n",
    "    if i==0:\n",
    "        results[i]=0\n",
    "    else:\n",
    "        tresh=0\n",
    "        state=0\n",
    "        for st in discrete_states:\n",
    "            if year[st]>tresh:\n",
    "                tresh=year[st]\n",
    "                state=st\n",
    "        results2[i]=state\n",
    "        prob2[i]=tresh\n",
    "        \n",
    "print results2\n",
    "prob2"
   ]
  },
  {
   "cell_type": "code",
   "execution_count": 329,
   "metadata": {
    "collapsed": false
   },
   "outputs": [
    {
     "data": {
      "text/plain": [
       "<matplotlib.text.Text at 0x109846b10>"
      ]
     },
     "execution_count": 329,
     "metadata": {},
     "output_type": "execute_result"
    },
    {
     "data": {
      "image/png": "[encoded data removed]",
      "text/plain": [
       "<matplotlib.figure.Figure at 0x1088de5d0>"
      ]
     },
     "metadata": {},
     "output_type": "display_data"
    }
   ],
   "source": [
    "plt.figure(figsize=(8,6))\n",
    "plt.plot(years[0:],results2[0:],'-o',label=\"Estimation\")\n",
    "plt.plot(years[0:],actual_deer[0:],'-o',label=\"Actual\")\n",
    "plt.legend()\n",
    "plt.xlabel(\"Years\")\n",
    "plt.ylabel(\"Number of deer in Millions\")\n",
    "plt.title(\"Forward Backward algorithm\")"
   ]
  },
  {
   "cell_type": "markdown",
   "metadata": {},
   "source": [
    "This method gives the highest likelihood of each state for each consecutive year during the 24 years span. We extract the highest probability each year to plot the results."
   ]
  },
  {
   "cell_type": "markdown",
   "metadata": {},
   "source": [
    "The actual results and the estimation match perfectly. This is due to the fact that we have used our training data to in our model (from which we calculated transition and emission probabilities). Therefore, we test our data on the number of deer obserevd before 1991."
   ]
  },
  {
   "cell_type": "code",
   "execution_count": 330,
   "metadata": {
    "collapsed": false
   },
   "outputs": [
    {
     "data": {
      "text/plain": [
       "<matplotlib.text.Text at 0x109d0a610>"
      ]
     },
     "execution_count": 330,
     "metadata": {},
     "output_type": "execute_result"
    },
    {
     "data": {
      "image/png": "[encoded data removed]",
      "text/plain": [
       "<matplotlib.figure.Figure at 0x1029cea10>"
      ]
     },
     "metadata": {},
     "output_type": "display_data"
    }
   ],
   "source": [
    "plt.figure(figsize=(8,6))\n",
    "plt.plot(years[1:],results2[1:],'-o',label=\"Estimation\")\n",
    "plt.plot(years[1:],actual_deer[1:],'-o',label=\"Actual\")\n",
    "plt.legend()\n",
    "plt.xlabel(\"Years\")\n",
    "plt.ylabel(\"Number of deer in Millions\")\n",
    "plt.title(\"Forward Backward algorithm\")"
   ]
  },
  {
   "cell_type": "markdown",
   "metadata": {},
   "source": [
    "## Test Data"
   ]
  },
  {
   "cell_type": "code",
   "execution_count": 331,
   "metadata": {
    "collapsed": false
   },
   "outputs": [
    {
     "name": "stdout",
     "output_type": "stream",
     "text": [
      "12\n"
     ]
    }
   ],
   "source": [
    "fwd3, bkw3, posterior3 = FWBW(test_ratio, discrete_states, starting_prob2, transition_f, emission_f, obs_states)\n",
    "print len(posterior3)"
   ]
  },
  {
   "cell_type": "code",
   "execution_count": 332,
   "metadata": {
    "collapsed": false
   },
   "outputs": [
    {
     "name": "stdout",
     "output_type": "stream",
     "text": [
      "[  0.    34.75  34.25  37.75  34.25  35.    34.25  35.75  34.75  35.75\n",
      "  37.25  37.5 ]\n"
     ]
    },
    {
     "data": {
      "text/plain": [
       "array([ 0.        ,  0.42197604,  0.44589574,  0.15831048,  0.18830215,\n",
       "        0.19172886,  0.19657418,  0.18004349,  0.19539152,  0.17718345,\n",
       "        0.24631091,  0.27599081])"
      ]
     },
     "execution_count": 332,
     "metadata": {},
     "output_type": "execute_result"
    }
   ],
   "source": [
    "results3=np.zeros(len(posterior3))\n",
    "prob3=np.zeros(len(posterior3))\n",
    "\n",
    "for i in range(len(posterior3)):\n",
    "    year=posterior3[i]\n",
    "    if i==0:\n",
    "        results[i]=0\n",
    "    else:\n",
    "        tresh=0\n",
    "        state=0\n",
    "        for st in discrete_states:\n",
    "            if year[st]>tresh:\n",
    "                tresh=year[st]\n",
    "                state=st\n",
    "        results3[i]=state\n",
    "        prob3[i]=tresh\n",
    "        \n",
    "print results3\n",
    "prob3"
   ]
  },
  {
   "cell_type": "code",
   "execution_count": 333,
   "metadata": {
    "collapsed": false
   },
   "outputs": [
    {
     "data": {
      "text/plain": [
       "<matplotlib.text.Text at 0x10b198ed0>"
      ]
     },
     "execution_count": 333,
     "metadata": {},
     "output_type": "execute_result"
    },
    {
     "data": {
      "image/png": "[encoded data removed]",
      "text/plain": [
       "<matplotlib.figure.Figure at 0x117dc40d0>"
      ]
     },
     "metadata": {},
     "output_type": "display_data"
    }
   ],
   "source": [
    "plt.figure(figsize=(8,6))\n",
    "plt.plot(years_test,results3,'-o',label=\"Estimation\")\n",
    "plt.plot(years_test,actual_deer_test,'o-',label=\"Actual\")\n",
    "plt.legend()\n",
    "plt.xlabel(\"Years\")\n",
    "plt.ylabel(\"Number of deer in Millions\")\n",
    "plt.title(\"Forward Backward algorithm\")"
   ]
  },
  {
   "cell_type": "code",
   "execution_count": 334,
   "metadata": {
    "collapsed": false
   },
   "outputs": [
    {
     "data": {
      "text/plain": [
       "<matplotlib.text.Text at 0x10b274450>"
      ]
     },
     "execution_count": 334,
     "metadata": {},
     "output_type": "execute_result"
    },
    {
     "data": {
      "image/png": "[encoded data removed]",
      "text/plain": [
       "<matplotlib.figure.Figure at 0x1085169d0>"
      ]
     },
     "metadata": {},
     "output_type": "display_data"
    }
   ],
   "source": [
    "plt.figure(figsize=(8,6))\n",
    "plt.plot(years_test[1:],results3[1:],'-o',label=\"Estimation\")\n",
    "plt.plot(years_test[1:],actual_deer_test[1:],'-o',label=\"Actual\")\n",
    "plt.legend(loc=\"lower right\")\n",
    "plt.xlabel(\"Years\")\n",
    "plt.ylabel(\"Number of deer in Millions\")\n",
    "plt.title(\"Forward Backward algorithm\")"
   ]
  },
  {
   "cell_type": "code",
   "execution_count": 202,
   "metadata": {
    "collapsed": false
   },
   "outputs": [
    {
     "data": {
      "text/plain": [
       "<matplotlib.text.Text at 0x11768a2d0>"
      ]
     },
     "execution_count": 202,
     "metadata": {},
     "output_type": "execute_result"
    },
    {
     "data": {
      "image/png": "[encoded data removed]",
      "text/plain": [
       "<matplotlib.figure.Figure at 0x1132c8110>"
      ]
     },
     "metadata": {},
     "output_type": "display_data"
    }
   ],
   "source": [
    "### Combine test and training on one plot\n",
    "estimated=np.append(results3[1:],results[1:])\n",
    "plt.figure(figsize=(8,6))\n",
    "plt.plot(all_years[1:],estimated,'-o',label=\"Estimation\")\n",
    "plt.plot(all_years[1:],ACTUAL_TOT[\"Deer Population (In Millions)\"][1:],'-o',label=\"Actual\")\n",
    "plt.legend()\n",
    "plt.xlabel(\"Years\")\n",
    "plt.ylabel(\"Number of deer in Millions\")\n",
    "plt.title(\"Forward Backward algorithm\")"
   ]
  },
  {
   "cell_type": "code",
   "execution_count": 335,
   "metadata": {
    "collapsed": false
   },
   "outputs": [
    {
     "data": {
      "image/png": "[encoded data removed]",
      "text/plain": [
       "<matplotlib.figure.Figure at 0x10a9d5790>"
      ]
     },
     "metadata": {},
     "output_type": "display_data"
    }
   ],
   "source": [
    "fig, ax1 = plt.subplots(figsize=(10,8))\n",
    "\n",
    "ax1.plot(all_years[1:], estimated,'-o',label=\"Estimated FB\")\n",
    "ax1.plot(all_years[1:],ACTUAL_TOT[\"Deer Population (In Millions)\"][1:],'-o',label=\"Actual\")\n",
    "ax1.set_xlabel('Years')\n",
    "# Make the y-axis label and tick labels match the line color.\n",
    "ax1.set_ylabel('Dear Population In Millions', color='b')\n",
    "for tl in ax1.get_yticklabels():\n",
    "    tl.set_color('b')\n",
    "plt.legend(loc=\"upper left\")\n",
    "\n",
    "\n",
    "ax2 = ax1.twinx()\n",
    "\n",
    "ax2.plot(all_years, all_obs, 'r.-',label=\"Observations\")\n",
    "ax2.set_ylabel('Number of Observations', color='r')\n",
    "ax2.fill_between(range(1991,2014),[1000]*23,alpha=0.05,label=\"Training Set\")\n",
    "for tl in ax2.get_yticklabels():\n",
    "    tl.set_color('r')\n",
    "  \n",
    "plt.legend()\n",
    "plt.show()\n"
   ]
  },
  {
   "cell_type": "markdown",
   "metadata": {},
   "source": [
    "## Kalman Filter"
   ]
  },
  {
   "cell_type": "code",
   "execution_count": null,
   "metadata": {
    "collapsed": true
   },
   "outputs": [],
   "source": [
    "## Compare later with built in function"
   ]
  },
  {
   "cell_type": "code",
   "execution_count": null,
   "metadata": {
    "collapsed": true
   },
   "outputs": [],
   "source": [
    "from pykalman import KalmanFilter\n",
    "\n",
    "kf = KalmanFilter(transition_matrices = [[1, 1], [0, 1]], observation_matrices = [[0.1, 0.5], [-0.3, 0.0]])\n",
    "measurements = np.asarray([[1,0], [0,0], [0,1]])  # 3 observations\n",
    "kf = kf.em(measurements, n_iter=5)\n",
    "(filtered_state_means, filtered_state_covariances) = kf.filter(measurements)\n",
    "(smoothed_state_means, smoothed_state_covariances) = kf.smooth(measurements)"
   ]
  },
  {
   "cell_type": "code",
   "execution_count": 558,
   "metadata": {
    "collapsed": true
   },
   "outputs": [],
   "source": [
    "def kf_predict(X, P, A, Q, B, U):\n",
    "    X = np.dot(A, X) + np.dot(B, U)\n",
    "    P = np.dot(A, np.dot(P, A.T)) + Q\n",
    "    return(X,P)\n",
    " \n",
    "def gauss_pdf(X, M, S):\n",
    "    if np.shape(M)[1] == 1:\n",
    "        DX=X - np.tile(M, np.shape(X)[1])\n",
    "        E=0.5 * np.sum(DX * (np.dot(inv(S), DX)), axis=0)\n",
    "        E=E + 0.5 * np.shape(M)[0] * np.log(2 * np.pi) + 0.5 * np.log(det(S))\n",
    "        P=np.exp(-E)\n",
    "    elif np.shape(X)[1] == 1:\n",
    "        DX=np.tile(X, np.shape(M)[1])- M\n",
    "        E=0.5 * np.sum(DX * (np.dot(inv(S), DX)), axis=0)\n",
    "        E=E + 0.5 * np.shape(M)[0] * np.log(2 * np.pi) + 0.5 * np.log(det(S))\n",
    "        P=np.exp(-E)\n",
    "    else:\n",
    "        DX=X-M\n",
    "        E=0.5 * np.dot(DX.T, np.dot(inv(S), DX))\n",
    "        E=E + 0.5 * np.shape(M)[0] * np.log(2 * np.pi) + 0.5 * np.log(det(S))\n",
    "        P=np.exp(-E)\n",
    "        \n",
    "    return (P[0],E[0]) \n",
    "\n",
    "def kf_update(X, P, Y, H, R):\n",
    "    IM=np.dot(H, X)\n",
    "    IS=R + np.dot(H, np.dot(P, H.T))\n",
    "    K=np.dot(P, np.dot(H.T, inv(IS)))\n",
    "    X=X + np.dot(K, (Y-IM))\n",
    "    P=P-np.dot(K, np.dot(IS, K.T))\n",
    "    LH=gauss_pdf(Y, IM, IS)\n",
    "    return (X,P,K,IM,IS,LH)\n",
    "    \n"
   ]
  },
  {
   "cell_type": "code",
   "execution_count": 559,
   "metadata": {
    "collapsed": false
   },
   "outputs": [
    {
     "data": {
      "text/plain": [
       "4"
      ]
     },
     "execution_count": 559,
     "metadata": {},
     "output_type": "execute_result"
    }
   ],
   "source": [
    "X =([[0.0], [0.0], [0.1], [0.1]])\n",
    "np.shape(X)[0]"
   ]
  },
  {
   "cell_type": "code",
   "execution_count": 584,
   "metadata": {
    "collapsed": false
   },
   "outputs": [
    {
     "ename": "ValueError",
     "evalue": "shapes (41,9) and (41,1) not aligned: 9 (dim 1) != 41 (dim 0)",
     "output_type": "error",
     "traceback": [
      "\u001b[0;31m---------------------------------------------------------------------------\u001b[0m",
      "\u001b[0;31mValueError\u001b[0m                                Traceback (most recent call last)",
      "\u001b[0;32m<ipython-input-584-138b62eba163>\u001b[0m in \u001b[0;36m<module>\u001b[0;34m()\u001b[0m\n\u001b[1;32m     21\u001b[0m \u001b[0;31m# Applying the Kalman Filter\u001b[0m\u001b[0;34m\u001b[0m\u001b[0;34m\u001b[0m\u001b[0m\n\u001b[1;32m     22\u001b[0m \u001b[0;32mfor\u001b[0m \u001b[0mi\u001b[0m \u001b[0;32min\u001b[0m \u001b[0mnp\u001b[0m\u001b[0;34m.\u001b[0m\u001b[0marange\u001b[0m\u001b[0;34m(\u001b[0m\u001b[0;36m0\u001b[0m\u001b[0;34m,\u001b[0m \u001b[0mN_iter\u001b[0m\u001b[0;34m)\u001b[0m\u001b[0;34m:\u001b[0m\u001b[0;34m\u001b[0m\u001b[0m\n\u001b[0;32m---> 23\u001b[0;31m     \u001b[0;34m(\u001b[0m\u001b[0mX\u001b[0m\u001b[0;34m,\u001b[0m \u001b[0mP\u001b[0m\u001b[0;34m)\u001b[0m \u001b[0;34m=\u001b[0m \u001b[0mkf_predict\u001b[0m\u001b[0;34m(\u001b[0m\u001b[0mX\u001b[0m\u001b[0;34m,\u001b[0m \u001b[0mP\u001b[0m\u001b[0;34m,\u001b[0m \u001b[0mA\u001b[0m\u001b[0;34m,\u001b[0m \u001b[0mQ\u001b[0m\u001b[0;34m,\u001b[0m \u001b[0mB\u001b[0m\u001b[0;34m,\u001b[0m \u001b[0mU\u001b[0m\u001b[0;34m)\u001b[0m\u001b[0;34m\u001b[0m\u001b[0m\n\u001b[0m\u001b[1;32m     24\u001b[0m     \u001b[0;34m(\u001b[0m\u001b[0mX\u001b[0m\u001b[0;34m,\u001b[0m \u001b[0mP\u001b[0m\u001b[0;34m,\u001b[0m \u001b[0mK\u001b[0m\u001b[0;34m,\u001b[0m \u001b[0mIM\u001b[0m\u001b[0;34m,\u001b[0m \u001b[0mIS\u001b[0m\u001b[0;34m,\u001b[0m \u001b[0mLH\u001b[0m\u001b[0;34m)\u001b[0m \u001b[0;34m=\u001b[0m \u001b[0mkf_update\u001b[0m\u001b[0;34m(\u001b[0m\u001b[0mX\u001b[0m\u001b[0;34m,\u001b[0m \u001b[0mP\u001b[0m\u001b[0;34m,\u001b[0m \u001b[0mY\u001b[0m\u001b[0;34m,\u001b[0m \u001b[0mH\u001b[0m\u001b[0;34m,\u001b[0m \u001b[0mR\u001b[0m\u001b[0;34m)\u001b[0m\u001b[0;34m\u001b[0m\u001b[0m\n\u001b[1;32m     25\u001b[0m     \u001b[0mY\u001b[0m \u001b[0;34m=\u001b[0m \u001b[0mnp\u001b[0m\u001b[0;34m.\u001b[0m\u001b[0marray\u001b[0m\u001b[0;34m(\u001b[0m\u001b[0;34m[\u001b[0m\u001b[0;34m[\u001b[0m\u001b[0mX\u001b[0m\u001b[0;34m[\u001b[0m\u001b[0;36m0\u001b[0m\u001b[0;34m,\u001b[0m\u001b[0;36m0\u001b[0m\u001b[0;34m]\u001b[0m \u001b[0;34m+\u001b[0m \u001b[0mabs\u001b[0m\u001b[0;34m(\u001b[0m\u001b[0;36m0.1\u001b[0m \u001b[0;34m*\u001b[0m \u001b[0mnp\u001b[0m\u001b[0;34m.\u001b[0m\u001b[0mrandom\u001b[0m\u001b[0;34m.\u001b[0m\u001b[0mrandn\u001b[0m\u001b[0;34m(\u001b[0m\u001b[0;36m1\u001b[0m\u001b[0;34m)\u001b[0m\u001b[0;34m[\u001b[0m\u001b[0;36m0\u001b[0m\u001b[0;34m]\u001b[0m\u001b[0;34m)\u001b[0m\u001b[0;34m]\u001b[0m\u001b[0;34m,\u001b[0m\u001b[0;34m[\u001b[0m\u001b[0mX\u001b[0m\u001b[0;34m[\u001b[0m\u001b[0;36m1\u001b[0m\u001b[0;34m,\u001b[0m \u001b[0;36m0\u001b[0m\u001b[0;34m]\u001b[0m \u001b[0;34m+\u001b[0m    \u001b[0mabs\u001b[0m\u001b[0;34m(\u001b[0m\u001b[0;36m0.1\u001b[0m \u001b[0;34m*\u001b[0m \u001b[0mnp\u001b[0m\u001b[0;34m.\u001b[0m\u001b[0mrandom\u001b[0m\u001b[0;34m.\u001b[0m\u001b[0mrandn\u001b[0m\u001b[0;34m(\u001b[0m\u001b[0;36m1\u001b[0m\u001b[0;34m)\u001b[0m\u001b[0;34m[\u001b[0m\u001b[0;36m0\u001b[0m\u001b[0;34m]\u001b[0m\u001b[0;34m)\u001b[0m\u001b[0;34m]\u001b[0m\u001b[0;34m]\u001b[0m\u001b[0;34m)\u001b[0m\u001b[0;34m\u001b[0m\u001b[0m\n",
      "\u001b[0;32m<ipython-input-558-96eec2b67e67>\u001b[0m in \u001b[0;36mkf_predict\u001b[0;34m(X, P, A, Q, B, U)\u001b[0m\n\u001b[1;32m      1\u001b[0m \u001b[0;32mdef\u001b[0m \u001b[0mkf_predict\u001b[0m\u001b[0;34m(\u001b[0m\u001b[0mX\u001b[0m\u001b[0;34m,\u001b[0m \u001b[0mP\u001b[0m\u001b[0;34m,\u001b[0m \u001b[0mA\u001b[0m\u001b[0;34m,\u001b[0m \u001b[0mQ\u001b[0m\u001b[0;34m,\u001b[0m \u001b[0mB\u001b[0m\u001b[0;34m,\u001b[0m \u001b[0mU\u001b[0m\u001b[0;34m)\u001b[0m\u001b[0;34m:\u001b[0m\u001b[0;34m\u001b[0m\u001b[0m\n\u001b[0;32m----> 2\u001b[0;31m     \u001b[0mX\u001b[0m \u001b[0;34m=\u001b[0m \u001b[0mnp\u001b[0m\u001b[0;34m.\u001b[0m\u001b[0mdot\u001b[0m\u001b[0;34m(\u001b[0m\u001b[0mA\u001b[0m\u001b[0;34m,\u001b[0m \u001b[0mX\u001b[0m\u001b[0;34m)\u001b[0m \u001b[0;34m+\u001b[0m \u001b[0mnp\u001b[0m\u001b[0;34m.\u001b[0m\u001b[0mdot\u001b[0m\u001b[0;34m(\u001b[0m\u001b[0mB\u001b[0m\u001b[0;34m,\u001b[0m \u001b[0mU\u001b[0m\u001b[0;34m)\u001b[0m\u001b[0;34m\u001b[0m\u001b[0m\n\u001b[0m\u001b[1;32m      3\u001b[0m     \u001b[0mP\u001b[0m \u001b[0;34m=\u001b[0m \u001b[0mnp\u001b[0m\u001b[0;34m.\u001b[0m\u001b[0mdot\u001b[0m\u001b[0;34m(\u001b[0m\u001b[0mA\u001b[0m\u001b[0;34m,\u001b[0m \u001b[0mnp\u001b[0m\u001b[0;34m.\u001b[0m\u001b[0mdot\u001b[0m\u001b[0;34m(\u001b[0m\u001b[0mP\u001b[0m\u001b[0;34m,\u001b[0m \u001b[0mA\u001b[0m\u001b[0;34m.\u001b[0m\u001b[0mT\u001b[0m\u001b[0;34m)\u001b[0m\u001b[0;34m)\u001b[0m \u001b[0;34m+\u001b[0m \u001b[0mQ\u001b[0m\u001b[0;34m\u001b[0m\u001b[0m\n\u001b[1;32m      4\u001b[0m     \u001b[0;32mreturn\u001b[0m\u001b[0;34m(\u001b[0m\u001b[0mX\u001b[0m\u001b[0;34m,\u001b[0m\u001b[0mP\u001b[0m\u001b[0;34m)\u001b[0m\u001b[0;34m\u001b[0m\u001b[0m\n\u001b[1;32m      5\u001b[0m \u001b[0;34m\u001b[0m\u001b[0m\n",
      "\u001b[0;31mValueError\u001b[0m: shapes (41,9) and (41,1) not aligned: 9 (dim 1) != 41 (dim 0)"
     ]
    }
   ],
   "source": [
    "from numpy.linalg import *\n",
    "from numpy.linalg import inv \n",
    "#time step of observations\n",
    "dt = 1\n",
    "# Initialization of state matrices\n",
    "X = np.array(np.zeros((41,1)))\n",
    "X[0]=actual_deer[0]\n",
    "P = np.diag(np.zeros(41)*0.1)\n",
    "A = transition_f\n",
    "Q = np.eye(np.shape(X)[0])\n",
    "B = emission_f\n",
    "U = np.zeros((np.shape(X)[0],1)) \n",
    " \n",
    "    \n",
    "# Measurement matrices\n",
    "Y = np.array([[X[0,0] + abs(np.random.randn(1)[0])], [X[1,0] + abs(np.random.randn(1)[0])]])\n",
    "H = np.diag(np.zeros(41)*1)\n",
    "R = np.eye(np.shape(Y)[0])\n",
    "# Number of iterations in Kalman Filter\n",
    "N_iter = 50\n",
    "# Applying the Kalman Filter\n",
    "for i in np.arange(0, N_iter):\n",
    "    (X, P) = kf_predict(X, P, A, Q, B, U)\n",
    "    (X, P, K, IM, IS, LH) = kf_update(X, P, Y, H, R)\n",
    "    Y = np.array([[X[0,0] + abs(0.1 * np.random.randn(1)[0])],[X[1, 0] +\\\n",
    "    abs(0.1 * np.random.randn(1)[0])]])"
   ]
  },
  {
   "cell_type": "code",
   "execution_count": 585,
   "metadata": {
    "collapsed": false
   },
   "outputs": [],
   "source": [
    "# Initialization of state matrices\n",
    "X = np.array([[0.0], [0.0], [0.1], [0.1]])\n",
    "P = np.diag((0.01, 0.01, 0.01, 0.01))\n",
    "A = np.array([[1, 0, dt , 0], [0, 1, 0, dt], [0, 0, 1, 0], [0, 0, 0,1]])\n",
    "Q = np.eye(np.shape(X)[0])\n",
    "B = np.eye(np.shape(X)[0])\n",
    "U = np.zeros((np.shape(X)[0],1)) \n",
    " \n",
    "Y = np.array([[X[0,0] + abs(np.random.randn(1)[0])], [X[1,0] + abs(np.random.randn(1)[0])]])\n",
    "H = np.array([[1, 0, 0, 0], [0, 1, 0, 0]])\n",
    "R = np.eye(np.shape(Y)[0])\n",
    "\n",
    "# Number of iterations in Kalman Filter\n",
    "N_iter = 50\n",
    "# Applying the Kalman Filter\n",
    "for i in np.arange(0, N_iter):\n",
    "    (X, P) = kf_predict(X, P, A, Q, B, U)\n",
    "    (X, P, K, IM, IS, LH) = kf_update(X, P, Y, H, R)\n",
    "    Y = np.array([[X[0,0] + abs(0.1 * np.random.randn(1)[0])],[X[1, 0] +\\\n",
    "    abs(0.1 * np.random.randn(1)[0])]])"
   ]
  },
  {
   "cell_type": "code",
   "execution_count": 586,
   "metadata": {
    "collapsed": false
   },
   "outputs": [
    {
     "data": {
      "text/plain": [
       "array([[ 1.,  0.,  0.,  0.],\n",
       "       [ 0.,  1.,  0.,  0.],\n",
       "       [ 0.,  0.,  1.,  0.],\n",
       "       [ 0.,  0.,  0.,  1.]])"
      ]
     },
     "execution_count": 586,
     "metadata": {},
     "output_type": "execute_result"
    }
   ],
   "source": [
    "B"
   ]
  },
  {
   "cell_type": "code",
   "execution_count": 441,
   "metadata": {
    "collapsed": false
   },
   "outputs": [],
   "source": [
    "import pylab\n",
    "\n",
    "Q = 1e-5 # process variance\n",
    "\n",
    "n_iter=50\n",
    "\n",
    "# intial parameters\n",
    "sz=50\n",
    "\n",
    "xhat=numpy.zeros(sz)      # a posteri estimate of x\n",
    "P=numpy.zeros(sz)         # a posteri error estimate\n",
    "xhatminus=numpy.zeros(sz) # a priori estimate of x\n",
    "Pminus=numpy.zeros(sz)    # a priori error estimate\n",
    "K=numpy.zeros(sz)         # gain or blending factor\n",
    "\n",
    "R = 0.1**2 # estimate of measurement variance, change to see effect\n",
    "\n",
    "# intial guesses\n",
    "xhat[0] = 0.0\n",
    "P[0] = 1.0\n",
    "\n",
    "for k in range(1,sz):\n",
    "    # time update\n",
    "    xhatminus[k] = xhat[k-1]\n",
    "    Pminus[k] = P[k-1]+Q\n",
    "\n",
    "    # measurement update\n",
    "    K[k] = Pminus[k]/( Pminus[k]+R )\n",
    "    xhat[k] = xhatminus[k]+K[k]*(z[k]-xhatminus[k])\n",
    "    P[k] = (1-K[k])*Pminus[k]\n",
    "\n",
    "\n"
   ]
  }
 ],
 "metadata": {
  "kernelspec": {
   "display_name": "Python 2",
   "language": "python",
   "name": "python2"
  },
  "language_info": {
   "codemirror_mode": {
    "name": "ipython",
    "version": 2
   },
   "file_extension": ".py",
   "mimetype": "text/x-python",
   "name": "python",
   "nbconvert_exporter": "python",
   "pygments_lexer": "ipython2",
   "version": "2.7.11"
  }
 },
 "nbformat": 4,
 "nbformat_minor": 0
}

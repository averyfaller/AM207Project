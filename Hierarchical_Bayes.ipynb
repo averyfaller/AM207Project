{
 "cells": [
  {
   "cell_type": "markdown",
   "metadata": {},
   "source": [
    "# Hierarchical_Bayes"
   ]
  },
  {
   "cell_type": "markdown",
   "metadata": {},
   "source": [
    "In this section of our project we are trying to create an intensity map to display at what locations a particular animal in the US is likely to be found.  Specifically, we are focusing on deer, though this could easily be applied to other animals as well.  \n",
    "\n",
    "It is important to note that by looking at counts from different years (in the time series notebook), we found that there are more data points as years go on.  We have theorized that this may be due to scientists using the gbif website to record more as they may have found this site to be more useful.  There could also be an increase in the number of deer studies.  This raises the question as to whether this is reliable data. Sightings may also depend on where the scientists decided to look for these animals, as it is unlikely there are people sweeping the entirety of the US to look for deer.  Much of the data probably depends on scientific study patterns and may not reflect actual deer population."
   ]
  },
  {
   "cell_type": "code",
   "execution_count": 1,
   "metadata": {
    "collapsed": true
   },
   "outputs": [],
   "source": [
    "import numpy as np\n",
    "import matplotlib\n",
    "import matplotlib.pyplot as plt\n",
    "%matplotlib inline\n",
    "\n",
    "import seaborn as sns\n",
    "sns.set_style(\"white\")\n",
    "\n",
    "import time\n",
    "import timeit\n",
    "\n",
    "import scipy.stats \n",
    "import pandas as pd\n",
    "import pymc as pm\n",
    "\n",
    "import re\n",
    "import numpy as np\n",
    "\n",
    "import itertools"
   ]
  },
  {
   "cell_type": "markdown",
   "metadata": {},
   "source": [
    "## Downloading Data"
   ]
  },
  {
   "cell_type": "markdown",
   "metadata": {},
   "source": [
    "This is all US deer data uploaded to gbif up through the year 2015.  "
   ]
  },
  {
   "cell_type": "code",
   "execution_count": 2,
   "metadata": {
    "collapsed": false
   },
   "outputs": [
    {
     "data": {
      "text/html": [
       "<div>\n",
       "<table border=\"1\" class=\"dataframe\">\n",
       "  <thead>\n",
       "    <tr style=\"text-align: right;\">\n",
       "      <th></th>\n",
       "      <th>gbifid</th>\n",
       "      <th>datasetkey</th>\n",
       "      <th>occurrenceid</th>\n",
       "      <th>kingdom</th>\n",
       "      <th>phylum</th>\n",
       "      <th>class</th>\n",
       "      <th>order</th>\n",
       "      <th>family</th>\n",
       "      <th>genus</th>\n",
       "      <th>species</th>\n",
       "      <th>...</th>\n",
       "      <th>recordnumber</th>\n",
       "      <th>identifiedby</th>\n",
       "      <th>rights</th>\n",
       "      <th>rightsholder</th>\n",
       "      <th>recordedby</th>\n",
       "      <th>typestatus</th>\n",
       "      <th>establishmentmeans</th>\n",
       "      <th>lastinterpreted</th>\n",
       "      <th>mediatype</th>\n",
       "      <th>issue</th>\n",
       "    </tr>\n",
       "  </thead>\n",
       "  <tbody>\n",
       "    <tr>\n",
       "      <th>0</th>\n",
       "      <td>1088894118</td>\n",
       "      <td>50c9509d-22c7-4a22-a47d-8c48425ef4a7</td>\n",
       "      <td>http://www.inaturalist.org/observations/849723</td>\n",
       "      <td>Animalia</td>\n",
       "      <td>Chordata</td>\n",
       "      <td>Mammalia</td>\n",
       "      <td>Artiodactyla</td>\n",
       "      <td>Cervidae</td>\n",
       "      <td>Alces</td>\n",
       "      <td>Alces americanus</td>\n",
       "      <td>...</td>\n",
       "      <td>NaN</td>\n",
       "      <td>NaN</td>\n",
       "      <td>© Charlie Hohn some rights reserved</td>\n",
       "      <td>Charlie Hohn</td>\n",
       "      <td>Charlie Hohn</td>\n",
       "      <td>NaN</td>\n",
       "      <td>NaN</td>\n",
       "      <td>2016-04-17T11:31Z</td>\n",
       "      <td>STILLIMAGE</td>\n",
       "      <td>COORDINATE_ROUNDED;GEODETIC_DATUM_ASSUMED_WGS84</td>\n",
       "    </tr>\n",
       "    <tr>\n",
       "      <th>1</th>\n",
       "      <td>1088900045</td>\n",
       "      <td>50c9509d-22c7-4a22-a47d-8c48425ef4a7</td>\n",
       "      <td>http://www.inaturalist.org/observations/1247846</td>\n",
       "      <td>Animalia</td>\n",
       "      <td>Chordata</td>\n",
       "      <td>Mammalia</td>\n",
       "      <td>Artiodactyla</td>\n",
       "      <td>Cervidae</td>\n",
       "      <td>Cervus</td>\n",
       "      <td>Cervus elaphus</td>\n",
       "      <td>...</td>\n",
       "      <td>NaN</td>\n",
       "      <td>NaN</td>\n",
       "      <td>© dwest some rights reserved</td>\n",
       "      <td>dwest</td>\n",
       "      <td>dwest</td>\n",
       "      <td>NaN</td>\n",
       "      <td>NaN</td>\n",
       "      <td>2016-04-17T11:31Z</td>\n",
       "      <td>STILLIMAGE</td>\n",
       "      <td>COORDINATE_ROUNDED;GEODETIC_DATUM_ASSUMED_WGS84</td>\n",
       "    </tr>\n",
       "    <tr>\n",
       "      <th>2</th>\n",
       "      <td>1088904736</td>\n",
       "      <td>50c9509d-22c7-4a22-a47d-8c48425ef4a7</td>\n",
       "      <td>http://www.inaturalist.org/observations/1257570</td>\n",
       "      <td>Animalia</td>\n",
       "      <td>Chordata</td>\n",
       "      <td>Mammalia</td>\n",
       "      <td>Artiodactyla</td>\n",
       "      <td>Cervidae</td>\n",
       "      <td>Odocoileus</td>\n",
       "      <td>Odocoileus virginianus</td>\n",
       "      <td>...</td>\n",
       "      <td>NaN</td>\n",
       "      <td>NaN</td>\n",
       "      <td>© byzantinenature some rights reserved</td>\n",
       "      <td>byzantinenature</td>\n",
       "      <td>byzantinenature</td>\n",
       "      <td>NaN</td>\n",
       "      <td>NaN</td>\n",
       "      <td>2016-04-17T11:31Z</td>\n",
       "      <td>STILLIMAGE</td>\n",
       "      <td>COORDINATE_ROUNDED;GEODETIC_DATUM_ASSUMED_WGS84</td>\n",
       "    </tr>\n",
       "    <tr>\n",
       "      <th>3</th>\n",
       "      <td>1088905648</td>\n",
       "      <td>50c9509d-22c7-4a22-a47d-8c48425ef4a7</td>\n",
       "      <td>http://www.inaturalist.org/observations/1259468</td>\n",
       "      <td>Animalia</td>\n",
       "      <td>Chordata</td>\n",
       "      <td>Mammalia</td>\n",
       "      <td>Artiodactyla</td>\n",
       "      <td>Cervidae</td>\n",
       "      <td>Cervus</td>\n",
       "      <td>Cervus elaphus</td>\n",
       "      <td>...</td>\n",
       "      <td>NaN</td>\n",
       "      <td>NaN</td>\n",
       "      <td>© pdatema some rights reserved</td>\n",
       "      <td>pdatema</td>\n",
       "      <td>pdatema</td>\n",
       "      <td>NaN</td>\n",
       "      <td>NaN</td>\n",
       "      <td>2016-04-17T11:31Z</td>\n",
       "      <td>STILLIMAGE</td>\n",
       "      <td>COORDINATE_ROUNDED;GEODETIC_DATUM_ASSUMED_WGS84</td>\n",
       "    </tr>\n",
       "    <tr>\n",
       "      <th>4</th>\n",
       "      <td>1088920945</td>\n",
       "      <td>50c9509d-22c7-4a22-a47d-8c48425ef4a7</td>\n",
       "      <td>http://www.inaturalist.org/observations/1299029</td>\n",
       "      <td>Animalia</td>\n",
       "      <td>Chordata</td>\n",
       "      <td>Mammalia</td>\n",
       "      <td>Artiodactyla</td>\n",
       "      <td>Cervidae</td>\n",
       "      <td>Cervus</td>\n",
       "      <td>Cervus elaphus</td>\n",
       "      <td>...</td>\n",
       "      <td>NaN</td>\n",
       "      <td>NaN</td>\n",
       "      <td>© BJ Stacey some rights reserved</td>\n",
       "      <td>BJ Stacey</td>\n",
       "      <td>BJ Stacey</td>\n",
       "      <td>NaN</td>\n",
       "      <td>NaN</td>\n",
       "      <td>2016-04-17T11:31Z</td>\n",
       "      <td>STILLIMAGE</td>\n",
       "      <td>COORDINATE_ROUNDED;TAXON_MATCH_HIGHERRANK;GEOD...</td>\n",
       "    </tr>\n",
       "  </tbody>\n",
       "</table>\n",
       "<p>5 rows × 44 columns</p>\n",
       "</div>"
      ],
      "text/plain": [
       "       gbifid                            datasetkey  \\\n",
       "0  1088894118  50c9509d-22c7-4a22-a47d-8c48425ef4a7   \n",
       "1  1088900045  50c9509d-22c7-4a22-a47d-8c48425ef4a7   \n",
       "2  1088904736  50c9509d-22c7-4a22-a47d-8c48425ef4a7   \n",
       "3  1088905648  50c9509d-22c7-4a22-a47d-8c48425ef4a7   \n",
       "4  1088920945  50c9509d-22c7-4a22-a47d-8c48425ef4a7   \n",
       "\n",
       "                                      occurrenceid   kingdom    phylum  \\\n",
       "0   http://www.inaturalist.org/observations/849723  Animalia  Chordata   \n",
       "1  http://www.inaturalist.org/observations/1247846  Animalia  Chordata   \n",
       "2  http://www.inaturalist.org/observations/1257570  Animalia  Chordata   \n",
       "3  http://www.inaturalist.org/observations/1259468  Animalia  Chordata   \n",
       "4  http://www.inaturalist.org/observations/1299029  Animalia  Chordata   \n",
       "\n",
       "      class         order    family       genus                 species  \\\n",
       "0  Mammalia  Artiodactyla  Cervidae       Alces        Alces americanus   \n",
       "1  Mammalia  Artiodactyla  Cervidae      Cervus          Cervus elaphus   \n",
       "2  Mammalia  Artiodactyla  Cervidae  Odocoileus  Odocoileus virginianus   \n",
       "3  Mammalia  Artiodactyla  Cervidae      Cervus          Cervus elaphus   \n",
       "4  Mammalia  Artiodactyla  Cervidae      Cervus          Cervus elaphus   \n",
       "\n",
       "                         ...                         recordnumber  \\\n",
       "0                        ...                                  NaN   \n",
       "1                        ...                                  NaN   \n",
       "2                        ...                                  NaN   \n",
       "3                        ...                                  NaN   \n",
       "4                        ...                                  NaN   \n",
       "\n",
       "  identifiedby                                  rights     rightsholder  \\\n",
       "0          NaN     © Charlie Hohn some rights reserved     Charlie Hohn   \n",
       "1          NaN            © dwest some rights reserved            dwest   \n",
       "2          NaN  © byzantinenature some rights reserved  byzantinenature   \n",
       "3          NaN          © pdatema some rights reserved          pdatema   \n",
       "4          NaN        © BJ Stacey some rights reserved        BJ Stacey   \n",
       "\n",
       "        recordedby typestatus  establishmentmeans    lastinterpreted  \\\n",
       "0     Charlie Hohn        NaN                 NaN  2016-04-17T11:31Z   \n",
       "1            dwest        NaN                 NaN  2016-04-17T11:31Z   \n",
       "2  byzantinenature        NaN                 NaN  2016-04-17T11:31Z   \n",
       "3          pdatema        NaN                 NaN  2016-04-17T11:31Z   \n",
       "4        BJ Stacey        NaN                 NaN  2016-04-17T11:31Z   \n",
       "\n",
       "    mediatype                                              issue  \n",
       "0  STILLIMAGE    COORDINATE_ROUNDED;GEODETIC_DATUM_ASSUMED_WGS84  \n",
       "1  STILLIMAGE    COORDINATE_ROUNDED;GEODETIC_DATUM_ASSUMED_WGS84  \n",
       "2  STILLIMAGE    COORDINATE_ROUNDED;GEODETIC_DATUM_ASSUMED_WGS84  \n",
       "3  STILLIMAGE    COORDINATE_ROUNDED;GEODETIC_DATUM_ASSUMED_WGS84  \n",
       "4  STILLIMAGE  COORDINATE_ROUNDED;TAXON_MATCH_HIGHERRANK;GEOD...  \n",
       "\n",
       "[5 rows x 44 columns]"
      ]
     },
     "execution_count": 2,
     "metadata": {},
     "output_type": "execute_result"
    }
   ],
   "source": [
    "# Load Data\n",
    "\n",
    "full = pd.read_csv('deer.csv',sep='\\t')\n",
    "full.head()"
   ]
  },
  {
   "cell_type": "code",
   "execution_count": 3,
   "metadata": {
    "collapsed": false
   },
   "outputs": [
    {
     "data": {
      "text/plain": [
       "array(['gbifid', 'datasetkey', 'occurrenceid', 'kingdom', 'phylum',\n",
       "       'class', 'order', 'family', 'genus', 'species',\n",
       "       'infraspecificepithet', 'taxonrank', 'scientificname',\n",
       "       'countrycode', 'locality', 'publishingorgkey', 'decimallatitude',\n",
       "       'decimallongitude', 'coordinateuncertaintyinmeters',\n",
       "       'coordinateprecision', 'elevation', 'elevationaccuracy', 'depth',\n",
       "       'depthaccuracy', 'eventdate', 'day', 'month', 'year', 'taxonkey',\n",
       "       'specieskey', 'basisofrecord', 'institutioncode', 'collectioncode',\n",
       "       'catalognumber', 'recordnumber', 'identifiedby', 'rights',\n",
       "       'rightsholder', 'recordedby', 'typestatus', 'establishmentmeans',\n",
       "       'lastinterpreted', 'mediatype', 'issue'], dtype=object)"
      ]
     },
     "execution_count": 3,
     "metadata": {},
     "output_type": "execute_result"
    }
   ],
   "source": [
    "full.columns.values"
   ]
  },
  {
   "cell_type": "code",
   "execution_count": 4,
   "metadata": {
    "collapsed": false
   },
   "outputs": [
    {
     "data": {
      "text/html": [
       "<div>\n",
       "<table border=\"1\" class=\"dataframe\">\n",
       "  <thead>\n",
       "    <tr style=\"text-align: right;\">\n",
       "      <th></th>\n",
       "      <th>locality</th>\n",
       "      <th>decimallatitude</th>\n",
       "      <th>decimallongitude</th>\n",
       "      <th>eventdate</th>\n",
       "      <th>day</th>\n",
       "      <th>month</th>\n",
       "      <th>year</th>\n",
       "    </tr>\n",
       "  </thead>\n",
       "  <tbody>\n",
       "    <tr>\n",
       "      <th>0</th>\n",
       "      <td>NaN</td>\n",
       "      <td>43.16769</td>\n",
       "      <td>-72.64119</td>\n",
       "      <td>2014-08-26T19:59Z</td>\n",
       "      <td>26</td>\n",
       "      <td>8</td>\n",
       "      <td>2014</td>\n",
       "    </tr>\n",
       "    <tr>\n",
       "      <th>1</th>\n",
       "      <td>NaN</td>\n",
       "      <td>38.12045</td>\n",
       "      <td>-121.93823</td>\n",
       "      <td>2015-02-19T17:50Z</td>\n",
       "      <td>19</td>\n",
       "      <td>2</td>\n",
       "      <td>2015</td>\n",
       "    </tr>\n",
       "    <tr>\n",
       "      <th>2</th>\n",
       "      <td>NaN</td>\n",
       "      <td>40.09893</td>\n",
       "      <td>-85.61851</td>\n",
       "      <td>2015-02-25T00:00Z</td>\n",
       "      <td>25</td>\n",
       "      <td>2</td>\n",
       "      <td>2015</td>\n",
       "    </tr>\n",
       "    <tr>\n",
       "      <th>3</th>\n",
       "      <td>NaN</td>\n",
       "      <td>45.18113</td>\n",
       "      <td>-84.34583</td>\n",
       "      <td>2015-02-25T19:10Z</td>\n",
       "      <td>25</td>\n",
       "      <td>2</td>\n",
       "      <td>2015</td>\n",
       "    </tr>\n",
       "    <tr>\n",
       "      <th>4</th>\n",
       "      <td>NaN</td>\n",
       "      <td>41.22412</td>\n",
       "      <td>-124.09071</td>\n",
       "      <td>2015-02-14T00:00Z</td>\n",
       "      <td>14</td>\n",
       "      <td>2</td>\n",
       "      <td>2015</td>\n",
       "    </tr>\n",
       "    <tr>\n",
       "      <th>5</th>\n",
       "      <td>NaN</td>\n",
       "      <td>44.24394</td>\n",
       "      <td>-72.78249</td>\n",
       "      <td>2015-03-23T00:00Z</td>\n",
       "      <td>23</td>\n",
       "      <td>3</td>\n",
       "      <td>2015</td>\n",
       "    </tr>\n",
       "    <tr>\n",
       "      <th>6</th>\n",
       "      <td>NaN</td>\n",
       "      <td>38.16600</td>\n",
       "      <td>-122.93700</td>\n",
       "      <td>2015-03-31T20:00Z</td>\n",
       "      <td>31</td>\n",
       "      <td>3</td>\n",
       "      <td>2015</td>\n",
       "    </tr>\n",
       "    <tr>\n",
       "      <th>7</th>\n",
       "      <td>Anchorage, Anchorage International Airport</td>\n",
       "      <td>NaN</td>\n",
       "      <td>NaN</td>\n",
       "      <td>1961-02-18T00:00Z</td>\n",
       "      <td>18</td>\n",
       "      <td>2</td>\n",
       "      <td>1961</td>\n",
       "    </tr>\n",
       "    <tr>\n",
       "      <th>8</th>\n",
       "      <td>specific locality not recorded</td>\n",
       "      <td>NaN</td>\n",
       "      <td>NaN</td>\n",
       "      <td>1961-08-22T00:00Z</td>\n",
       "      <td>22</td>\n",
       "      <td>8</td>\n",
       "      <td>1961</td>\n",
       "    </tr>\n",
       "    <tr>\n",
       "      <th>9</th>\n",
       "      <td>4 mi S of Anaktuvuk Pass</td>\n",
       "      <td>NaN</td>\n",
       "      <td>NaN</td>\n",
       "      <td>1962-10-08T00:00Z</td>\n",
       "      <td>8</td>\n",
       "      <td>10</td>\n",
       "      <td>1962</td>\n",
       "    </tr>\n",
       "    <tr>\n",
       "      <th>10</th>\n",
       "      <td>4 mi S of Anaktuvuk Pass</td>\n",
       "      <td>NaN</td>\n",
       "      <td>NaN</td>\n",
       "      <td>1962-10-09T00:00Z</td>\n",
       "      <td>9</td>\n",
       "      <td>10</td>\n",
       "      <td>1962</td>\n",
       "    </tr>\n",
       "    <tr>\n",
       "      <th>11</th>\n",
       "      <td>4 mi S of Anaktuvuk Pass</td>\n",
       "      <td>NaN</td>\n",
       "      <td>NaN</td>\n",
       "      <td>1962-10-09T00:00Z</td>\n",
       "      <td>9</td>\n",
       "      <td>10</td>\n",
       "      <td>1962</td>\n",
       "    </tr>\n",
       "    <tr>\n",
       "      <th>12</th>\n",
       "      <td>Aiyanituk, John River, Anaktuvuk Pass area</td>\n",
       "      <td>NaN</td>\n",
       "      <td>NaN</td>\n",
       "      <td>1963-04-19T00:00Z</td>\n",
       "      <td>19</td>\n",
       "      <td>4</td>\n",
       "      <td>1963</td>\n",
       "    </tr>\n",
       "    <tr>\n",
       "      <th>13</th>\n",
       "      <td>Aiyanituk, John River, Anaktuvuk Pass area</td>\n",
       "      <td>NaN</td>\n",
       "      <td>NaN</td>\n",
       "      <td>1963-04-19T00:00Z</td>\n",
       "      <td>19</td>\n",
       "      <td>4</td>\n",
       "      <td>1963</td>\n",
       "    </tr>\n",
       "    <tr>\n",
       "      <th>14</th>\n",
       "      <td>Mile 10, Glenn Highway</td>\n",
       "      <td>NaN</td>\n",
       "      <td>NaN</td>\n",
       "      <td>1963-07-24T00:00Z</td>\n",
       "      <td>24</td>\n",
       "      <td>7</td>\n",
       "      <td>1963</td>\n",
       "    </tr>\n",
       "    <tr>\n",
       "      <th>15</th>\n",
       "      <td>T28S R3E (see Gen. Loc.)***; Rio Grande</td>\n",
       "      <td>NaN</td>\n",
       "      <td>NaN</td>\n",
       "      <td>1983-10-30T00:00Z</td>\n",
       "      <td>30</td>\n",
       "      <td>10</td>\n",
       "      <td>1983</td>\n",
       "    </tr>\n",
       "    <tr>\n",
       "      <th>16</th>\n",
       "      <td>4 mi N, 5 mi W San Angelo, Management, Instruc...</td>\n",
       "      <td>31.52817</td>\n",
       "      <td>-100.51177</td>\n",
       "      <td>1995-02-26T00:00Z</td>\n",
       "      <td>26</td>\n",
       "      <td>2</td>\n",
       "      <td>1995</td>\n",
       "    </tr>\n",
       "    <tr>\n",
       "      <th>17</th>\n",
       "      <td>4 mi N, 5 mi W San Angelo, Management, Instruc...</td>\n",
       "      <td>31.52817</td>\n",
       "      <td>-100.51177</td>\n",
       "      <td>1995-10-15T00:00Z</td>\n",
       "      <td>15</td>\n",
       "      <td>10</td>\n",
       "      <td>1995</td>\n",
       "    </tr>\n",
       "    <tr>\n",
       "      <th>18</th>\n",
       "      <td>Pierpont, Stateline Rd</td>\n",
       "      <td>41.74917</td>\n",
       "      <td>-80.56861</td>\n",
       "      <td>1996-12-26T00:00Z</td>\n",
       "      <td>26</td>\n",
       "      <td>12</td>\n",
       "      <td>1996</td>\n",
       "    </tr>\n",
       "    <tr>\n",
       "      <th>19</th>\n",
       "      <td>Bear Creek, E of Salida</td>\n",
       "      <td>NaN</td>\n",
       "      <td>NaN</td>\n",
       "      <td>1908-10-04T00:00Z</td>\n",
       "      <td>4</td>\n",
       "      <td>10</td>\n",
       "      <td>1908</td>\n",
       "    </tr>\n",
       "    <tr>\n",
       "      <th>20</th>\n",
       "      <td>Cosmic Waterway; 11-21; E-39; S</td>\n",
       "      <td>27.09809</td>\n",
       "      <td>-82.17993</td>\n",
       "      <td>NaN</td>\n",
       "      <td>NaN</td>\n",
       "      <td>NaN</td>\n",
       "      <td>1982</td>\n",
       "    </tr>\n",
       "    <tr>\n",
       "      <th>21</th>\n",
       "      <td>Grassy Point, a canal now flows along the Sout...</td>\n",
       "      <td>NaN</td>\n",
       "      <td>NaN</td>\n",
       "      <td>NaN</td>\n",
       "      <td>NaN</td>\n",
       "      <td>NaN</td>\n",
       "      <td>1976</td>\n",
       "    </tr>\n",
       "    <tr>\n",
       "      <th>22</th>\n",
       "      <td>Grassy Point, a canal now flows along the Sout...</td>\n",
       "      <td>NaN</td>\n",
       "      <td>NaN</td>\n",
       "      <td>NaN</td>\n",
       "      <td>NaN</td>\n",
       "      <td>NaN</td>\n",
       "      <td>1976</td>\n",
       "    </tr>\n",
       "    <tr>\n",
       "      <th>23</th>\n",
       "      <td>North Port, Blueridge Waterway at Snover Water...</td>\n",
       "      <td>NaN</td>\n",
       "      <td>NaN</td>\n",
       "      <td>NaN</td>\n",
       "      <td>NaN</td>\n",
       "      <td>6</td>\n",
       "      <td>1975</td>\n",
       "    </tr>\n",
       "    <tr>\n",
       "      <th>24</th>\n",
       "      <td>North Port, Blueridge Waterway at Snover Water...</td>\n",
       "      <td>NaN</td>\n",
       "      <td>NaN</td>\n",
       "      <td>NaN</td>\n",
       "      <td>NaN</td>\n",
       "      <td>6</td>\n",
       "      <td>1975</td>\n",
       "    </tr>\n",
       "    <tr>\n",
       "      <th>25</th>\n",
       "      <td>North Port, Coco Plum Waterway; SE 1/4; 33-22-39</td>\n",
       "      <td>NaN</td>\n",
       "      <td>NaN</td>\n",
       "      <td>NaN</td>\n",
       "      <td>NaN</td>\n",
       "      <td>NaN</td>\n",
       "      <td>1976</td>\n",
       "    </tr>\n",
       "    <tr>\n",
       "      <th>26</th>\n",
       "      <td>Santa Fe River, ca 2.5 mi from confluence with...</td>\n",
       "      <td>NaN</td>\n",
       "      <td>NaN</td>\n",
       "      <td>NaN</td>\n",
       "      <td>NaN</td>\n",
       "      <td>3</td>\n",
       "      <td>1991</td>\n",
       "    </tr>\n",
       "    <tr>\n",
       "      <th>27</th>\n",
       "      <td>NaN</td>\n",
       "      <td>NaN</td>\n",
       "      <td>NaN</td>\n",
       "      <td>NaN</td>\n",
       "      <td>NaN</td>\n",
       "      <td>NaN</td>\n",
       "      <td>1974</td>\n",
       "    </tr>\n",
       "    <tr>\n",
       "      <th>28</th>\n",
       "      <td>Bass Point Waterway, W side of Waterway; 30-22...</td>\n",
       "      <td>NaN</td>\n",
       "      <td>NaN</td>\n",
       "      <td>1975-10-26T00:00Z</td>\n",
       "      <td>26</td>\n",
       "      <td>10</td>\n",
       "      <td>1975</td>\n",
       "    </tr>\n",
       "    <tr>\n",
       "      <th>29</th>\n",
       "      <td>NaN</td>\n",
       "      <td>NaN</td>\n",
       "      <td>NaN</td>\n",
       "      <td>NaN</td>\n",
       "      <td>NaN</td>\n",
       "      <td>NaN</td>\n",
       "      <td>1980</td>\n",
       "    </tr>\n",
       "  </tbody>\n",
       "</table>\n",
       "</div>"
      ],
      "text/plain": [
       "                                             locality  decimallatitude  \\\n",
       "0                                                 NaN         43.16769   \n",
       "1                                                 NaN         38.12045   \n",
       "2                                                 NaN         40.09893   \n",
       "3                                                 NaN         45.18113   \n",
       "4                                                 NaN         41.22412   \n",
       "5                                                 NaN         44.24394   \n",
       "6                                                 NaN         38.16600   \n",
       "7          Anchorage, Anchorage International Airport              NaN   \n",
       "8                      specific locality not recorded              NaN   \n",
       "9                            4 mi S of Anaktuvuk Pass              NaN   \n",
       "10                           4 mi S of Anaktuvuk Pass              NaN   \n",
       "11                           4 mi S of Anaktuvuk Pass              NaN   \n",
       "12         Aiyanituk, John River, Anaktuvuk Pass area              NaN   \n",
       "13         Aiyanituk, John River, Anaktuvuk Pass area              NaN   \n",
       "14                             Mile 10, Glenn Highway              NaN   \n",
       "15            T28S R3E (see Gen. Loc.)***; Rio Grande              NaN   \n",
       "16  4 mi N, 5 mi W San Angelo, Management, Instruc...         31.52817   \n",
       "17  4 mi N, 5 mi W San Angelo, Management, Instruc...         31.52817   \n",
       "18                             Pierpont, Stateline Rd         41.74917   \n",
       "19                            Bear Creek, E of Salida              NaN   \n",
       "20                    Cosmic Waterway; 11-21; E-39; S         27.09809   \n",
       "21  Grassy Point, a canal now flows along the Sout...              NaN   \n",
       "22  Grassy Point, a canal now flows along the Sout...              NaN   \n",
       "23  North Port, Blueridge Waterway at Snover Water...              NaN   \n",
       "24  North Port, Blueridge Waterway at Snover Water...              NaN   \n",
       "25   North Port, Coco Plum Waterway; SE 1/4; 33-22-39              NaN   \n",
       "26  Santa Fe River, ca 2.5 mi from confluence with...              NaN   \n",
       "27                                                NaN              NaN   \n",
       "28  Bass Point Waterway, W side of Waterway; 30-22...              NaN   \n",
       "29                                                NaN              NaN   \n",
       "\n",
       "    decimallongitude          eventdate  day  month  year  \n",
       "0          -72.64119  2014-08-26T19:59Z   26      8  2014  \n",
       "1         -121.93823  2015-02-19T17:50Z   19      2  2015  \n",
       "2          -85.61851  2015-02-25T00:00Z   25      2  2015  \n",
       "3          -84.34583  2015-02-25T19:10Z   25      2  2015  \n",
       "4         -124.09071  2015-02-14T00:00Z   14      2  2015  \n",
       "5          -72.78249  2015-03-23T00:00Z   23      3  2015  \n",
       "6         -122.93700  2015-03-31T20:00Z   31      3  2015  \n",
       "7                NaN  1961-02-18T00:00Z   18      2  1961  \n",
       "8                NaN  1961-08-22T00:00Z   22      8  1961  \n",
       "9                NaN  1962-10-08T00:00Z    8     10  1962  \n",
       "10               NaN  1962-10-09T00:00Z    9     10  1962  \n",
       "11               NaN  1962-10-09T00:00Z    9     10  1962  \n",
       "12               NaN  1963-04-19T00:00Z   19      4  1963  \n",
       "13               NaN  1963-04-19T00:00Z   19      4  1963  \n",
       "14               NaN  1963-07-24T00:00Z   24      7  1963  \n",
       "15               NaN  1983-10-30T00:00Z   30     10  1983  \n",
       "16        -100.51177  1995-02-26T00:00Z   26      2  1995  \n",
       "17        -100.51177  1995-10-15T00:00Z   15     10  1995  \n",
       "18         -80.56861  1996-12-26T00:00Z   26     12  1996  \n",
       "19               NaN  1908-10-04T00:00Z    4     10  1908  \n",
       "20         -82.17993                NaN  NaN    NaN  1982  \n",
       "21               NaN                NaN  NaN    NaN  1976  \n",
       "22               NaN                NaN  NaN    NaN  1976  \n",
       "23               NaN                NaN  NaN      6  1975  \n",
       "24               NaN                NaN  NaN      6  1975  \n",
       "25               NaN                NaN  NaN    NaN  1976  \n",
       "26               NaN                NaN  NaN      3  1991  \n",
       "27               NaN                NaN  NaN    NaN  1974  \n",
       "28               NaN  1975-10-26T00:00Z   26     10  1975  \n",
       "29               NaN                NaN  NaN    NaN  1980  "
      ]
     },
     "execution_count": 4,
     "metadata": {},
     "output_type": "execute_result"
    }
   ],
   "source": [
    "full[['locality','decimallatitude','decimallongitude','eventdate','day','month','year']].head(30)"
   ]
  },
  {
   "cell_type": "code",
   "execution_count": 19,
   "metadata": {
    "collapsed": false
   },
   "outputs": [
    {
     "data": {
      "text/html": [
       "<div>\n",
       "<table border=\"1\" class=\"dataframe\">\n",
       "  <thead>\n",
       "    <tr style=\"text-align: right;\">\n",
       "      <th></th>\n",
       "      <th>decimallatitude</th>\n",
       "      <th>decimallongitude</th>\n",
       "      <th>year</th>\n",
       "    </tr>\n",
       "  </thead>\n",
       "  <tbody>\n",
       "    <tr>\n",
       "      <th>0</th>\n",
       "      <td>43.16769</td>\n",
       "      <td>-72.64119</td>\n",
       "      <td>2014</td>\n",
       "    </tr>\n",
       "    <tr>\n",
       "      <th>1</th>\n",
       "      <td>38.12045</td>\n",
       "      <td>-121.93823</td>\n",
       "      <td>2015</td>\n",
       "    </tr>\n",
       "    <tr>\n",
       "      <th>2</th>\n",
       "      <td>40.09893</td>\n",
       "      <td>-85.61851</td>\n",
       "      <td>2015</td>\n",
       "    </tr>\n",
       "    <tr>\n",
       "      <th>3</th>\n",
       "      <td>45.18113</td>\n",
       "      <td>-84.34583</td>\n",
       "      <td>2015</td>\n",
       "    </tr>\n",
       "    <tr>\n",
       "      <th>4</th>\n",
       "      <td>41.22412</td>\n",
       "      <td>-124.09071</td>\n",
       "      <td>2015</td>\n",
       "    </tr>\n",
       "  </tbody>\n",
       "</table>\n",
       "</div>"
      ],
      "text/plain": [
       "   decimallatitude  decimallongitude  year\n",
       "0         43.16769         -72.64119  2014\n",
       "1         38.12045        -121.93823  2015\n",
       "2         40.09893         -85.61851  2015\n",
       "3         45.18113         -84.34583  2015\n",
       "4         41.22412        -124.09071  2015"
      ]
     },
     "execution_count": 19,
     "metadata": {},
     "output_type": "execute_result"
    }
   ],
   "source": [
    "data = full[['decimallatitude','decimallongitude','year']]\n",
    "data = data.dropna()\n",
    "data.head()"
   ]
  },
  {
   "cell_type": "markdown",
   "metadata": {},
   "source": [
    "__Notes:__  \n",
    "\n",
    "Data may be affected by number of year we include.  If we use multiple years, the areas with more dear could increase total sightings for the area more quickly than areas with less dear.  So we could be artificially widening the gap in deer counts between more highly populated areas and less populated areas.  For now I would like to look at just 2015 to be safe. This year also has the most data points to study."
   ]
  },
  {
   "cell_type": "code",
   "execution_count": 20,
   "metadata": {
    "collapsed": false
   },
   "outputs": [
    {
     "data": {
      "text/plain": [
       "(1280, 3)"
      ]
     },
     "execution_count": 20,
     "metadata": {},
     "output_type": "execute_result"
    }
   ],
   "source": [
    "data[data['year']==2015].values.shape"
   ]
  },
  {
   "cell_type": "code",
   "execution_count": 21,
   "metadata": {
    "collapsed": false
   },
   "outputs": [
    {
     "data": {
      "text/html": [
       "<div>\n",
       "<table border=\"1\" class=\"dataframe\">\n",
       "  <thead>\n",
       "    <tr style=\"text-align: right;\">\n",
       "      <th></th>\n",
       "      <th>decimallatitude</th>\n",
       "      <th>decimallongitude</th>\n",
       "    </tr>\n",
       "  </thead>\n",
       "  <tbody>\n",
       "    <tr>\n",
       "      <th>1</th>\n",
       "      <td>38.12045</td>\n",
       "      <td>-121.93823</td>\n",
       "    </tr>\n",
       "    <tr>\n",
       "      <th>2</th>\n",
       "      <td>40.09893</td>\n",
       "      <td>-85.61851</td>\n",
       "    </tr>\n",
       "    <tr>\n",
       "      <th>3</th>\n",
       "      <td>45.18113</td>\n",
       "      <td>-84.34583</td>\n",
       "    </tr>\n",
       "    <tr>\n",
       "      <th>4</th>\n",
       "      <td>41.22412</td>\n",
       "      <td>-124.09071</td>\n",
       "    </tr>\n",
       "    <tr>\n",
       "      <th>5</th>\n",
       "      <td>44.24394</td>\n",
       "      <td>-72.78249</td>\n",
       "    </tr>\n",
       "  </tbody>\n",
       "</table>\n",
       "</div>"
      ],
      "text/plain": [
       "   decimallatitude  decimallongitude\n",
       "1         38.12045        -121.93823\n",
       "2         40.09893         -85.61851\n",
       "3         45.18113         -84.34583\n",
       "4         41.22412        -124.09071\n",
       "5         44.24394         -72.78249"
      ]
     },
     "execution_count": 21,
     "metadata": {},
     "output_type": "execute_result"
    }
   ],
   "source": [
    "data2015 = data[data['year']==2015]\n",
    "data2015 = data2015[['decimallatitude','decimallongitude']]\n",
    "data2015.head()"
   ]
  },
  {
   "cell_type": "markdown",
   "metadata": {},
   "source": [
    "## Data Exploration"
   ]
  },
  {
   "cell_type": "code",
   "execution_count": 22,
   "metadata": {
    "collapsed": false
   },
   "outputs": [
    {
     "data": {
      "text/plain": [
       "(1280, 2)"
      ]
     },
     "execution_count": 22,
     "metadata": {},
     "output_type": "execute_result"
    }
   ],
   "source": [
    "data2015.shape"
   ]
  },
  {
   "cell_type": "markdown",
   "metadata": {},
   "source": [
    "#### Grids"
   ]
  },
  {
   "cell_type": "markdown",
   "metadata": {},
   "source": [
    "We create grids to bin our deer counts.  This will allow us to keep track of how many deer there are in a given space, of a size which we set.  To keep this consistent with our other studies, the number of grid squares and corresponding real-life latitude/longitude coordinates were kept the same."
   ]
  },
  {
   "cell_type": "code",
   "execution_count": 23,
   "metadata": {
    "collapsed": false
   },
   "outputs": [
    {
     "name": "stdout",
     "output_type": "stream",
     "text": [
      "Using these lat-long settings, there are 2812 grid squares\n"
     ]
    }
   ],
   "source": [
    "# Create the 10.0 x 10.0 lat-long grid squares\n",
    "# Changing the size of the lat-long grid squares will have a large effect on the results\n",
    "lats = np.arange(-90, 100, 5)\n",
    "longs = np.arange(-180, 190, 5)\n",
    "\n",
    "# Generate the grid\n",
    "grids = list(itertools.product(lats, longs))\n",
    "\n",
    "num_grids = len(grids)\n",
    "print \"Using these lat-long settings, there are %d grid squares\" % num_grids"
   ]
  },
  {
   "cell_type": "code",
   "execution_count": 39,
   "metadata": {
    "collapsed": true
   },
   "outputs": [],
   "source": [
    "# Generate the grid indexes\n",
    "lat_ids = np.digitize(lats, lats)\n",
    "long_ids = np.digitize(longs, longs)\n",
    "\n",
    "grid_ids = list(itertools.product(lat_ids, long_ids))"
   ]
  },
  {
   "cell_type": "code",
   "execution_count": 40,
   "metadata": {
    "collapsed": true
   },
   "outputs": [],
   "source": [
    "# returns grid_id index\n",
    "def get_grid_id_from_lat_long(a_lat, a_long):\n",
    "    a_lat_id = np.digitize(a_lat, lats).item(0)\n",
    "    a_long_id = np.digitize(a_long, longs).item(0)\n",
    "    return grid_ids.index((a_lat_id, a_long_id))"
   ]
  },
  {
   "cell_type": "code",
   "execution_count": 41,
   "metadata": {
    "collapsed": false
   },
   "outputs": [
    {
     "name": "stdout",
     "output_type": "stream",
     "text": [
      "lat ids:  [ 1  1  1 ..., 38 38 38]\n",
      "long ids:  [ 1  2  3 ..., 72 73 74]\n"
     ]
    }
   ],
   "source": [
    "print 'lat ids: ', np.array(grid_ids)[:,0]\n",
    "print 'long ids: ', np.array(grid_ids)[:,1]"
   ]
  },
  {
   "cell_type": "code",
   "execution_count": 42,
   "metadata": {
    "collapsed": true
   },
   "outputs": [],
   "source": [
    "def make_grid_counts(data):\n",
    "    # create store for grid id indexes\n",
    "    grid_counts = np.zeros(len(grid_ids))\n",
    "\n",
    "    # Build grid counts\n",
    "    for i in range(0, len(data)):\n",
    "        # get grid id index\n",
    "        idx = get_grid_id_from_lat_long(data.iloc[i,0],data.iloc[i,1])\n",
    "\n",
    "        # add to grid_counts\n",
    "        grid_counts[idx] += 1\n",
    "    \n",
    "    return grid_counts"
   ]
  },
  {
   "cell_type": "code",
   "execution_count": 46,
   "metadata": {
    "collapsed": false
   },
   "outputs": [],
   "source": [
    "def plot_grid(grid_counts):\n",
    "    pos = np.array(grid_ids)\n",
    "    colors = grid_counts / np.double(np.max(grid_counts))\n",
    "    plt.scatter(pos[:,0], pos[:,1], s=10, c=colors, cmap='gray_r', edgecolors='none')\n",
    "    plt.show()"
   ]
  },
  {
   "cell_type": "code",
   "execution_count": 53,
   "metadata": {
    "collapsed": false
   },
   "outputs": [
    {
     "data": {
      "image/png": "[encoded data removed]",
      "text/plain": [
       "<matplotlib.figure.Figure at 0x10eaaf7d0>"
      ]
     },
     "metadata": {},
     "output_type": "display_data"
    }
   ],
   "source": [
    "grid_counts = make_grid_counts(data2015)\n",
    "plot_grid(grid_counts)"
   ]
  },
  {
   "cell_type": "code",
   "execution_count": 54,
   "metadata": {
    "collapsed": false
   },
   "outputs": [
    {
     "data": {
      "text/plain": [
       "1280.0"
      ]
     },
     "execution_count": 54,
     "metadata": {},
     "output_type": "execute_result"
    }
   ],
   "source": [
    "sum(grid_counts)"
   ]
  },
  {
   "cell_type": "markdown",
   "metadata": {},
   "source": [
    "The deer counts appear to be located in a particular region, and from this view do not seem to be in high number.  We will add more years to add to this dataset."
   ]
  },
  {
   "cell_type": "code",
   "execution_count": 56,
   "metadata": {
    "collapsed": false
   },
   "outputs": [
    {
     "data": {
      "image/png": "[encoded data removed]",
      "text/plain": [
       "<matplotlib.figure.Figure at 0x10ea24450>"
      ]
     },
     "metadata": {},
     "output_type": "display_data"
    }
   ],
   "source": [
    "# look at more years\n",
    "data_trial = data[data['year'] > 1992]\n",
    "grid_counts = make_grid_counts(data_trial)\n",
    "plot_grid(grid_counts)"
   ]
  },
  {
   "cell_type": "code",
   "execution_count": 57,
   "metadata": {
    "collapsed": false
   },
   "outputs": [
    {
     "data": {
      "text/plain": [
       "5818.0"
      ]
     },
     "execution_count": 57,
     "metadata": {},
     "output_type": "execute_result"
    }
   ],
   "source": [
    "sum(grid_counts)"
   ]
  },
  {
   "cell_type": "markdown",
   "metadata": {},
   "source": [
    "This seems to have created more counts, but mostly in the same region."
   ]
  },
  {
   "cell_type": "markdown",
   "metadata": {},
   "source": [
    "#### Playing with Grid Sizing"
   ]
  },
  {
   "cell_type": "markdown",
   "metadata": {},
   "source": [
    "Instead, the problem seems to be with our grid sizing.  We will \"zoom in\" to this region of sightings.  Looking at the ranges of original latitudes and longitudes we see that indeed the grid size was too large for the region in which the deer appear."
   ]
  },
  {
   "cell_type": "code",
   "execution_count": 107,
   "metadata": {
    "collapsed": false
   },
   "outputs": [
    {
     "name": "stdout",
     "output_type": "stream",
     "text": [
      "0.0 70.71133\n",
      "-164.08596 0.0\n"
     ]
    }
   ],
   "source": [
    "print min(data2015.decimallatitude.values), max(data2015.decimallatitude.values)\n",
    "print min(data2015.decimallongitude.values), max(data2015.decimallongitude.values)"
   ]
  },
  {
   "cell_type": "code",
   "execution_count": 108,
   "metadata": {
    "collapsed": false
   },
   "outputs": [
    {
     "name": "stdout",
     "output_type": "stream",
     "text": [
      "0.0 70.71133\n",
      "-165.3881 0.0\n"
     ]
    }
   ],
   "source": [
    "print min(data_2011_2015.decimallatitude.values), max(data_2011_2015.decimallatitude.values)\n",
    "print min(data_2011_2015.decimallongitude.values), max(data_2011_2015.decimallongitude.values)"
   ]
  },
  {
   "cell_type": "markdown",
   "metadata": {},
   "source": [
    "Using the 2015 data again, we will play with different grid shapes, adjusting the sizes and ranges to look in, based on the plot we saw previously.  The smaller search space seems to work better."
   ]
  },
  {
   "cell_type": "code",
   "execution_count": 109,
   "metadata": {
    "collapsed": false
   },
   "outputs": [
    {
     "name": "stdout",
     "output_type": "stream",
     "text": [
      "Using these lat-long settings, there are 4500 grid squares\n"
     ]
    }
   ],
   "source": [
    "# try again with different grids\n",
    "lats = np.arange(0, 100, 2)\n",
    "longs = np.arange(-180, 0, 2)\n",
    "\n",
    "# Generate the grid\n",
    "grids = list(itertools.product(lats, longs))\n",
    "\n",
    "num_grids = len(grids)\n",
    "print \"Using these lat-long settings, there are %d grid squares\" % num_grids\n",
    "\n",
    "\n",
    "\n",
    "# Generate the grid indexes\n",
    "lat_ids = np.digitize(lats, lats)\n",
    "long_ids = np.digitize(longs, longs)\n",
    "\n",
    "grid_ids = list(itertools.product(lat_ids, long_ids))\n",
    "\n",
    "# returns grid_id index\n",
    "def get_grid_id_from_lat_long(a_lat, a_long):\n",
    "    a_lat_id = np.digitize(a_lat, lats).item(0)\n",
    "    a_long_id = np.digitize(a_long, longs).item(0)\n",
    "    return grid_ids.index((a_lat_id, a_long_id))\n",
    "\n",
    "\n",
    "def make_grid_counts(data):\n",
    "    # create store for grid id indexes\n",
    "    grid_counts = np.zeros(len(grid_ids))\n",
    "\n",
    "    # Build grid counts\n",
    "    for i in range(0, len(data)):\n",
    "        # get grid id index\n",
    "        idx = get_grid_id_from_lat_long(data.iloc[i,0],data.iloc[i,1])\n",
    "\n",
    "        # add to grid_counts\n",
    "        grid_counts[idx] += 1\n",
    "    \n",
    "    return grid_counts\n",
    "\n",
    "def plot_grid(grid_counts):\n",
    "    pos = np.array(grid_ids)\n",
    "    colors = grid_counts / np.double(np.max(grid_counts))\n",
    "    plt.scatter(pos[:,0], pos[:,1], s=20, c=colors, cmap='gray_r', edgecolors='none')\n",
    "    plt.show()"
   ]
  },
  {
   "cell_type": "code",
   "execution_count": 110,
   "metadata": {
    "collapsed": false
   },
   "outputs": [
    {
     "data": {
      "image/png": "[encoded data removed]",
      "text/plain": [
       "<matplotlib.figure.Figure at 0x10d52ba50>"
      ]
     },
     "metadata": {},
     "output_type": "display_data"
    }
   ],
   "source": [
    "grid_counts = make_grid_counts(data2015)\n",
    "plot_grid(grid_counts)"
   ]
  },
  {
   "cell_type": "markdown",
   "metadata": {},
   "source": [
    "The results look good, though we can still take a closer look."
   ]
  },
  {
   "cell_type": "code",
   "execution_count": 154,
   "metadata": {
    "collapsed": false
   },
   "outputs": [
    {
     "data": {
      "image/png": "[encoded data removed]",
      "text/plain": [
       "<matplotlib.figure.Figure at 0x1140696d0>"
      ]
     },
     "metadata": {},
     "output_type": "display_data"
    }
   ],
   "source": [
    "# settings zoomed in for 2015 data\n",
    "def plot_grid(grid_counts):\n",
    "    pos = np.array(grid_ids)\n",
    "    colors = grid_counts / np.double(np.max(grid_counts))\n",
    "    plt.scatter(pos[:,0], pos[:,1], s=20, c=colors, cmap='gray_r', edgecolors='none')\n",
    "    plt.xlim(10,40)\n",
    "    plt.ylim(0,70)\n",
    "    plt.show()\n",
    "\n",
    "grid_counts = make_grid_counts(data2015)\n",
    "plot_grid(grid_counts)"
   ]
  },
  {
   "cell_type": "markdown",
   "metadata": {},
   "source": [
    "Focus on this area:  \n",
    "\n",
    "\n",
    "x: [10, 40]  \n",
    "y: [0, 70]  \n",
    "\n",
    "\n",
    "Looking at this region we can see that the distribution in number of deer can be related to number of deer in close proximity.  In other words, having a large number of deer in one area signifies a large number of deer in its surrounding regions.  We can therefore use a Poisson distribution to model it and create an intensity surface."
   ]
  },
  {
   "cell_type": "markdown",
   "metadata": {
    "collapsed": true
   },
   "source": [
    "## Start Modeling"
   ]
  },
  {
   "cell_type": "markdown",
   "metadata": {},
   "source": [
    "Preliminary run using HW4 as starting code"
   ]
  },
  {
   "cell_type": "code",
   "execution_count": 112,
   "metadata": {
    "collapsed": true
   },
   "outputs": [],
   "source": [
    "#elliptical slice sampler (Murray, Adams, and MacKay JMLR 2010)\n",
    "# Inputs:\n",
    "# Y: observed data\n",
    "# Sig: covariance matrix of the prior\n",
    "# log_lik: the log likelihood function\n",
    "# N_mcmc: number of desired samples\n",
    "# burn_in: number of burn in iterations\n",
    "# N: dimensionality of the input, this should be M+1 because alpha is part of Sigma\n",
    "\n",
    "# returns an array of samples of size N_mcmc x N\n",
    "\n",
    "    \n",
    "def ess(Y, Sig,log_lik, N_mcmc, burn_in, N):\n",
    "    print 'running elliptical slice sampling...'\n",
    "    mcmc_samples = np.zeros((N_mcmc+burn_in, N))\n",
    "    norm_samples = np.random.multivariate_normal(np.zeros(N), Sig, N_mcmc+burn_in)\n",
    "    unif_samples = np.random.uniform(0,1,N_mcmc+burn_in)\n",
    "    theta = np.random.uniform(0,2*np.pi,N_mcmc+burn_in)\n",
    "    theta_min = theta-2*np.pi\n",
    "    theta_max = theta+2*np.pi\n",
    "    for i in range(1,N_mcmc+burn_in):\n",
    "        \n",
    "        if i%100 == 0:\n",
    "            print i\n",
    "        f = mcmc_samples[i-1,:]\n",
    "        #print f, Y\n",
    "        llh_thresh = log_lik(f,Y) + np.log(unif_samples[i])\n",
    "        f_star = f*np.cos(theta[i])+norm_samples[i,:]*np.sin(theta[i])\n",
    "        while log_lik(f_star,Y) < llh_thresh:\n",
    "            if theta[i] < 0:\n",
    "                theta_min[i] = theta[i]\n",
    "            else:\n",
    "                theta_max[i] = theta[i]\n",
    "            theta[i] = np.random.uniform(theta_min[i],theta_max[i],1)  \n",
    "            f_star = f*np.cos(theta[i])+norm_samples[i,:]*np.sin(theta[i]) \t\t\n",
    "        mcmc_samples[i,:] = f_star\n",
    "    return mcmc_samples[(burn_in+1):(burn_in+N_mcmc),]"
   ]
  },
  {
   "cell_type": "code",
   "execution_count": 165,
   "metadata": {
    "collapsed": false
   },
   "outputs": [],
   "source": [
    "X = np.array(grid_ids)\n",
    "M = grid_counts.size\n",
    "w = 1\n"
   ]
  },
  {
   "cell_type": "code",
   "execution_count": 166,
   "metadata": {
    "collapsed": false
   },
   "outputs": [],
   "source": [
    "#Calculate Sigma\n",
    "phi = 0.00001\n",
    "sigma = np.zeros((M+1, M+1))\n",
    "sigma[0,0] = 1\n",
    "small_offset = 0.00001\n",
    "\n",
    "for x in range (M):\n",
    "    for y in range (M):\n",
    "        if x == y:\n",
    "            sigma[x+1,y+1] = np.exp( -( (X[x:x+1,0] - X[y:y+1,0])**2 + (X[x:x+1,1] - X[y:y+1,1])**2   )/phi  )+small_offset\n",
    "        else:\n",
    "            sigma[x+1,y+1] = np.exp( -( (X[x:x+1,0] - X[y:y+1,0])**2 + (X[x:x+1,1] - X[y:y+1,1])**2   )/phi  )\n",
    "        "
   ]
  },
  {
   "cell_type": "code",
   "execution_count": 167,
   "metadata": {
    "collapsed": true
   },
   "outputs": [],
   "source": [
    "# log likelihood for poisson\n",
    "#lambda_x = f[0] + f[x+1]\n",
    "#do the poisson pmf = (w^2 * lambda_x)\n",
    "\n",
    "def log_likelihood_func (f, Y):\n",
    "    result = 0\n",
    "    for x in range(M):\n",
    "        result = result + scipy.stats.poisson.logpmf(Y[x],w**2 * np.exp(f[0] + f[x+1]))\n",
    "    return result"
   ]
  },
  {
   "cell_type": "code",
   "execution_count": 168,
   "metadata": {
    "collapsed": false
   },
   "outputs": [
    {
     "name": "stdout",
     "output_type": "stream",
     "text": [
      "running elliptical slice sampling...\n",
      "100\n",
      "200\n",
      "300\n",
      "400\n",
      "500\n",
      "600\n",
      "700\n",
      "800\n",
      "900\n",
      "1000\n",
      "1100\n",
      "1200\n",
      "1300\n",
      "1400\n"
     ]
    }
   ],
   "source": [
    "N_mcmc = 1000\n",
    "burn_in = 500\n",
    "\n",
    "results = ess(grid_counts, sigma,log_likelihood_func, N_mcmc, burn_in, M+1)"
   ]
  },
  {
   "cell_type": "code",
   "execution_count": 171,
   "metadata": {
    "collapsed": true
   },
   "outputs": [],
   "source": [
    "# plot comparison\n",
    "# Create a new plotting function to show side by side comparisons\n",
    "def plot_compare(counts, counts2):\n",
    "\n",
    "    plt.figure(num=None, figsize=(16, 8), dpi=80, facecolor='w', edgecolor='k')\n",
    "\n",
    "    plt.subplot(121)\n",
    "    colors = counts / np.double(np.max(counts))\n",
    "    plt.scatter(X[:,0], X[:,1], s=10, c=colors, cmap='gray_r', edgecolors='none')\n",
    "    plt.xlim(10,40)\n",
    "    plt.ylim(0,70)\n",
    "    plt.title(\"Original Data Intensity Map\")\n",
    "    \n",
    "    plt.subplot(122)    \n",
    "    colors2 = counts2 / np.double(np.max(counts2))\n",
    "    plt.scatter(X[:,0], X[:,1], s=10, c=colors2, marker = 'o', edgecolors='none')\n",
    "    plt.xlim(10,40)\n",
    "    plt.ylim(0,70)\n",
    "    plt.title(\"Posterior Mean Intensity Map\")\n",
    "    plt.show()"
   ]
  },
  {
   "cell_type": "code",
   "execution_count": 172,
   "metadata": {
    "collapsed": false
   },
   "outputs": [
    {
     "data": {
      "image/png": "[encoded data removed]",
      "text/plain": [
       "<matplotlib.figure.Figure at 0x10eaab350>"
      ]
     },
     "metadata": {},
     "output_type": "display_data"
    }
   ],
   "source": [
    "final_results = results.mean(axis=0)\n",
    "\n",
    "non_conjugate_lambdas = []\n",
    "for x in range(M):\n",
    "    non_conjugate_lambdas.append(np.exp(final_results[0] + final_results[x+1])) \n",
    "\n",
    "plot_compare(grid_counts, np.array(non_conjugate_lambdas))"
   ]
  },
  {
   "cell_type": "code",
   "execution_count": 173,
   "metadata": {
    "collapsed": false
   },
   "outputs": [
    {
     "name": "stdout",
     "output_type": "stream",
     "text": [
      "The MAP value is: -2.02376470754\n"
     ]
    },
    {
     "data": {
      "image/png": "[encoded data removed]",
      "text/plain": [
       "<matplotlib.figure.Figure at 0x10e6f7210>"
      ]
     },
     "metadata": {},
     "output_type": "display_data"
    }
   ],
   "source": [
    "# did it converge\n",
    "p_hist = plt.hist(results[100:,0], bins=100)\n",
    "xx= np.linspace(-3,7,101)\n",
    "plt.xlabel(\"alpha\")\n",
    "plt.ylabel(\"counts\")\n",
    "p_map_index = np.argmax(p_hist[0])\n",
    "p_hist_bin_middle = 0.5*p_hist[1][:-1] + 0.5*p_hist[1][1:]\n",
    "p_map = p_hist_bin_middle[p_map_index]\n",
    "print \"The MAP value is:\",p_map"
   ]
  },
  {
   "cell_type": "markdown",
   "metadata": {
    "collapsed": true
   },
   "source": [
    "__TO DO__  \n",
    "- play around with phi\n",
    "- try more animal types, to get more spread out data points\n",
    "- try a pymc implementation"
   ]
  },
  {
   "cell_type": "code",
   "execution_count": null,
   "metadata": {
    "collapsed": true
   },
   "outputs": [],
   "source": []
  },
  {
   "cell_type": "code",
   "execution_count": null,
   "metadata": {
    "collapsed": true
   },
   "outputs": [],
   "source": []
  },
  {
   "cell_type": "code",
   "execution_count": null,
   "metadata": {
    "collapsed": true
   },
   "outputs": [],
   "source": []
  },
  {
   "cell_type": "code",
   "execution_count": null,
   "metadata": {
    "collapsed": true
   },
   "outputs": [],
   "source": []
  },
  {
   "cell_type": "code",
   "execution_count": null,
   "metadata": {
    "collapsed": true
   },
   "outputs": [],
   "source": []
  }
 ],
 "metadata": {
  "kernelspec": {
   "display_name": "Python 2",
   "language": "python",
   "name": "python2"
  },
  "language_info": {
   "codemirror_mode": {
    "name": "ipython",
    "version": 2
   },
   "file_extension": ".py",
   "mimetype": "text/x-python",
   "name": "python",
   "nbconvert_exporter": "python",
   "pygments_lexer": "ipython2",
   "version": "2.7.11"
  }
 },
 "nbformat": 4,
 "nbformat_minor": 0
}
